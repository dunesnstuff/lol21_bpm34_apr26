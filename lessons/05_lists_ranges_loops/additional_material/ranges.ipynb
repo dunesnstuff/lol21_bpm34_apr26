{
 "cells": [
  {
   "cell_type": "markdown",
   "metadata": {},
   "source": [
    "# Ranges"
   ]
  },
  {
   "cell_type": "markdown",
   "metadata": {},
   "source": [
    "__Purpose:__\n",
    "The purpose of this lecture is to understand how to work with ranges.\n",
    "\n",
    "__At the end of this lecture you will be able to:__\n",
    "1. Understand how to create, access and work with various range operations\n",
    "2. Work with miscellaneous actions such as len, min, max, index and count\n",
    "3. Sort the range"
   ]
  },
  {
   "cell_type": "markdown",
   "metadata": {},
   "source": [
    "## 1.1 Overview of Sequence Type 4 - Range"
   ]
  },
  {
   "cell_type": "markdown",
   "metadata": {},
   "source": [
    "__Overview:__\n",
    "- __[Range](https://docs.python.org/3/library/stdtypes.html#range):__ Range type is an immutable sequence of numbers \n",
    "- The range type has 3 arguments (similar to a slice): `start`, `stop`, and `step`\n",
    "\n",
    "__Helpful Points:__\n",
    "1. Range types are most commonly used for looping a specific number of times in `for` loops \n",
    "2. Range types are advantageous over a regular `list` or `tuple` since a `range` object will always take the same, small amount of memory in your computer, no matter the size of the range it represents (i.e. a range of 5 numbers will take the same amount of memory as a range of 5M numbers)\n",
    "3. The range object only stores the `start`, `stop`, and `step` values in memory and then calculates the individual items as needed "
   ]
  },
  {
   "cell_type": "markdown",
   "metadata": {},
   "source": [
    "### 1.1.1 Creating Ranges"
   ]
  },
  {
   "cell_type": "markdown",
   "metadata": {},
   "source": [
    "__Overview:__\n",
    "- A `range` object can be created only one way with the general format of `start`, `stop`, and `step`\n",
    "\n",
    "__Helpful Points:__\n",
    "1. Similar to slices, some of the arguments in the range may be ommitted (i.e. `start` defaults to 0, if not provided)\n",
    "2. We will see below that when printing a range, we are unable to see the actual numbers. To see the sequence of numbers, we have to convert the `range` type to a `list`\n",
    "\n",
    "__Practice:__ Examples of creating ranges in Python "
   ]
  },
  {
   "cell_type": "markdown",
   "metadata": {},
   "source": [
    "### Example 1 (Creating `range` with `stop` only):"
   ]
  },
  {
   "cell_type": "code",
   "execution_count": null,
   "metadata": {},
   "outputs": [],
   "source": [
    "print(range(10))\n",
    "print(type(range(10)))"
   ]
  },
  {
   "cell_type": "code",
   "execution_count": null,
   "metadata": {},
   "outputs": [],
   "source": [
    "list(range(10))"
   ]
  },
  {
   "cell_type": "code",
   "execution_count": null,
   "metadata": {},
   "outputs": [],
   "source": [
    "print(range(10)) # this really means range(0, 10, 1)"
   ]
  },
  {
   "cell_type": "code",
   "execution_count": null,
   "metadata": {},
   "outputs": [],
   "source": [
    "list(range(3,10))"
   ]
  },
  {
   "cell_type": "code",
   "execution_count": null,
   "metadata": {},
   "outputs": [],
   "source": [
    "# perform an action 10 times \n",
    "for i in range(10):\n",
    "    print(i)"
   ]
  },
  {
   "cell_type": "markdown",
   "metadata": {},
   "source": [
    "### Example 2 (Creating `range` with `start` and `stop` only):"
   ]
  },
  {
   "cell_type": "code",
   "execution_count": null,
   "metadata": {},
   "outputs": [],
   "source": [
    "print(range(1,10)) # this really means range(1, 10, 1)"
   ]
  },
  {
   "cell_type": "code",
   "execution_count": null,
   "metadata": {},
   "outputs": [],
   "source": [
    "print(list(range(1,10)))"
   ]
  },
  {
   "cell_type": "markdown",
   "metadata": {},
   "source": [
    "### Example 3 (Creating `range` with `start`, `stop`, and `step`):"
   ]
  },
  {
   "cell_type": "code",
   "execution_count": null,
   "metadata": {},
   "outputs": [],
   "source": [
    "print(range(0, 50, 5))"
   ]
  },
  {
   "cell_type": "code",
   "execution_count": null,
   "metadata": {},
   "outputs": [],
   "source": [
    "print(list(range(0, 50, 5)))"
   ]
  },
  {
   "cell_type": "markdown",
   "metadata": {},
   "source": [
    "### Example 4 (Creating `range` with negative `stop` and `step`):"
   ]
  },
  {
   "cell_type": "code",
   "execution_count": null,
   "metadata": {},
   "outputs": [],
   "source": [
    "print(list(range(5, -5, -1))) # if a negative step is used, the start must be greater than the stop "
   ]
  },
  {
   "cell_type": "code",
   "execution_count": null,
   "metadata": {},
   "outputs": [],
   "source": [
    "print(list(range(5, -5, 1)))"
   ]
  },
  {
   "cell_type": "code",
   "execution_count": null,
   "metadata": {},
   "outputs": [],
   "source": [
    "print(list(range(-5, 5, -1)))"
   ]
  },
  {
   "cell_type": "markdown",
   "metadata": {},
   "source": [
    "### 1.1.2 Accessing Elements within Ranges"
   ]
  },
  {
   "cell_type": "markdown",
   "metadata": {},
   "source": [
    "__Overview:__\n",
    "- Each item within a range are referred to as __elements__ and they can easily be accessed (for example, if you want to extract the second element of a range)\n",
    "- Similar to lists, strings, and tuples, each element is assigned a number beginning with 0 \n",
    "- Both methods of indexing (single-indexing and multi-indexing by slicing) are also applicable for range \n",
    "\n",
    "__Helpful Points:__\n",
    "1. Similar to lists, strings, and tuples, range can only be indexed by `int` and not any other type (i.e. `bool`)\n",
    "2. The peculiar but helpful features of indexing-out-of-range are also present with range \n",
    "\n",
    "__Practice:__ Examples of accessing elements within ranges "
   ]
  },
  {
   "cell_type": "markdown",
   "metadata": {},
   "source": [
    "### Example 1 (Index Method 1):"
   ]
  },
  {
   "cell_type": "code",
   "execution_count": null,
   "metadata": {},
   "outputs": [],
   "source": [
    "my_range = range(10)\n",
    "print(my_range)\n",
    "print(list(my_range))"
   ]
  },
  {
   "cell_type": "code",
   "execution_count": null,
   "metadata": {},
   "outputs": [],
   "source": [
    "# 4th element from the left (with and without saving range as a variable)\n",
    "print(my_range[3])\n",
    "print(range(10)[3])\n",
    "type(range(10)[3])"
   ]
  },
  {
   "cell_type": "markdown",
   "metadata": {},
   "source": [
    "### Example 2 (Index Method 2):"
   ]
  },
  {
   "cell_type": "code",
   "execution_count": null,
   "metadata": {},
   "outputs": [],
   "source": [
    "# slice from 1st element to 4th element (5th element minus one) by step 1 \n",
    "print(my_range[1:5])\n",
    "print(list(my_range[1:5]))\n",
    "type(my_range[1:5])"
   ]
  },
  {
   "cell_type": "markdown",
   "metadata": {},
   "source": [
    "Note: not all types of examples are shown here with ranges since the process is identical to that of accessing elements within the other sequence types. "
   ]
  },
  {
   "cell_type": "markdown",
   "metadata": {},
   "source": [
    "### 1.1.3 More Range Operations"
   ]
  },
  {
   "cell_type": "markdown",
   "metadata": {},
   "source": [
    "__Overview:__\n",
    "- Recall the types of operations available for Sequence Types \n",
    "- Since the `range` type is immutable, we can only perform the Common Sequence Operations and NOT the Mutable Sequence Type Operations (like we did for lists)\n",
    "- Ranges implement all the Common Sequence Operations EXCEPT concatenation and repetition (unlike lists, strings, and tuples - the other sequence types). The reason being is that range objects can only represent sequences that follow a strict pattern and when reptition/concatenation is performed, this pattern is compromised\n",
    "\n",
    "__Helpful Points:__\n",
    "1. Below, we will cover the Common Sequence Type Operations (membership test operations and misc. actions, but NOT repetition and concatenation)\n",
    "\n",
    "__Practice:__ Examples of String Operations in Python "
   ]
  },
  {
   "cell_type": "markdown",
   "metadata": {},
   "source": [
    "### Example 1.1 (Membership Test Operations):"
   ]
  },
  {
   "cell_type": "code",
   "execution_count": null,
   "metadata": {},
   "outputs": [],
   "source": [
    "my_range = range(0, 21, 3)\n",
    "print(my_range)\n",
    "print(list(my_range))"
   ]
  },
  {
   "cell_type": "code",
   "execution_count": null,
   "metadata": {},
   "outputs": [],
   "source": [
    "6 in my_range"
   ]
  },
  {
   "cell_type": "code",
   "execution_count": null,
   "metadata": {},
   "outputs": [],
   "source": [
    "10 in my_range"
   ]
  },
  {
   "cell_type": "code",
   "execution_count": null,
   "metadata": {
    "scrolled": true
   },
   "outputs": [],
   "source": [
    "10 not in my_range"
   ]
  },
  {
   "cell_type": "markdown",
   "metadata": {},
   "source": [
    "### Example 1.2 (Value Comparisons with Ranges):"
   ]
  },
  {
   "cell_type": "markdown",
   "metadata": {},
   "source": [
    "It is possible to test range objects for equality with the operators `==` and `!=`, however the objects are compared based on their sequences and NOT based on their object identities. Note, that two range objects may be equal, but have different `start`, `stop`, and `step` attributes (see below for example). "
   ]
  },
  {
   "cell_type": "code",
   "execution_count": null,
   "metadata": {},
   "outputs": [],
   "source": [
    "range_1 = range(0, 3, 2)\n",
    "print(list(range_1))\n",
    "range_2 = range(0, 4, 2)\n",
    "print(list(range_2))"
   ]
  },
  {
   "cell_type": "code",
   "execution_count": null,
   "metadata": {
    "scrolled": true
   },
   "outputs": [],
   "source": [
    "print(range_1 == range_2)"
   ]
  },
  {
   "cell_type": "code",
   "execution_count": null,
   "metadata": {},
   "outputs": [],
   "source": [
    "print(id(range_1))\n",
    "print(id(range_2))"
   ]
  },
  {
   "cell_type": "code",
   "execution_count": null,
   "metadata": {},
   "outputs": [],
   "source": [
    "print(range_1 is range_2)"
   ]
  },
  {
   "cell_type": "markdown",
   "metadata": {},
   "source": [
    "### Example 1.3 (Misc. Actions on Ranges):"
   ]
  },
  {
   "cell_type": "markdown",
   "metadata": {},
   "source": [
    "### Example 1.3.1 (Simple Actions - `len`, `min`, `max`, `index`, `count`):"
   ]
  },
  {
   "cell_type": "code",
   "execution_count": null,
   "metadata": {},
   "outputs": [],
   "source": [
    "my_range_1 = range(-1000, 1000, 10)\n",
    "print(my_range_1)"
   ]
  },
  {
   "cell_type": "code",
   "execution_count": null,
   "metadata": {},
   "outputs": [],
   "source": [
    "# find the length of the range (number of elements in the range)\n",
    "len(my_range_1)"
   ]
  },
  {
   "cell_type": "code",
   "execution_count": null,
   "metadata": {},
   "outputs": [],
   "source": [
    "# find the minimum value of the range (smallest number in the range)\n",
    "min(my_range_1)"
   ]
  },
  {
   "cell_type": "code",
   "execution_count": null,
   "metadata": {},
   "outputs": [],
   "source": [
    "# find the maximum value of the range (largest number in the range)\n",
    "max(my_range_1)"
   ]
  },
  {
   "cell_type": "code",
   "execution_count": null,
   "metadata": {},
   "outputs": [],
   "source": [
    "# find the index of the first occurrence of 100 in my_range_1\n",
    "my_range_1.index(100)"
   ]
  },
  {
   "cell_type": "code",
   "execution_count": null,
   "metadata": {},
   "outputs": [],
   "source": [
    "# find the total number of occurrences of 10 in my_string \n",
    "my_range_1.count(10)"
   ]
  },
  {
   "cell_type": "markdown",
   "metadata": {},
   "source": [
    "### Example 1.3.2 (Advanced Actions - `sort`):"
   ]
  },
  {
   "cell_type": "markdown",
   "metadata": {},
   "source": [
    "Since ranges are immutable, sorting ranges in Python can only be done 1 way - with the generic `sorted()` function which simply returns a copy of the object and does not attempty to modify the original range. "
   ]
  },
  {
   "cell_type": "code",
   "execution_count": null,
   "metadata": {},
   "outputs": [],
   "source": [
    "my_range = range(77, -77, -11)\n",
    "print(my_range)"
   ]
  },
  {
   "cell_type": "code",
   "execution_count": null,
   "metadata": {},
   "outputs": [],
   "source": [
    "# sort the range\n",
    "print(sorted(my_range))\n",
    "print(my_range)"
   ]
  },
  {
   "cell_type": "markdown",
   "metadata": {},
   "source": [
    "We can see that the `sorted()` function simply returned a copy of the original range, but in `list` form, but when we print the original range, it has not changed. This is an example of not in-place. "
   ]
  },
  {
   "cell_type": "markdown",
   "metadata": {},
   "source": [
    "### Problem 1:\n",
    "\n",
    "Create a `range` that goes from `500` to `5000` by steps of `250`. Check if `7550` is in our range. \n",
    "\n",
    "Notes\n",
    "- Convert your range to a list and print it to see all elements of your range "
   ]
  },
  {
   "cell_type": "code",
   "execution_count": null,
   "metadata": {},
   "outputs": [],
   "source": [
    "# Write your code here\n",
    "\n",
    "\n"
   ]
  },
  {
   "cell_type": "markdown",
   "metadata": {},
   "source": [
    "# ANSWERS"
   ]
  },
  {
   "cell_type": "markdown",
   "metadata": {},
   "source": [
    "### Problem 1:\n",
    "\n",
    "Create a `range` that goes from `500` to `5000` by steps of `250`. Check if `7550` is in our range. \n",
    "\n",
    "Notes\n",
    "- Convert your range to a list and print it to see all elements of your range "
   ]
  },
  {
   "cell_type": "code",
   "execution_count": null,
   "metadata": {},
   "outputs": [],
   "source": [
    "my_range = range(500,5000,250)\n",
    "print(7750 in my_range)\n",
    "print(list(my_range))"
   ]
  },
  {
   "cell_type": "code",
   "execution_count": null,
   "metadata": {},
   "outputs": [],
   "source": []
  }
 ],
 "metadata": {
  "kernelspec": {
   "display_name": "Python 3",
   "language": "python",
   "name": "python3"
  },
  "language_info": {
   "codemirror_mode": {
    "name": "ipython",
    "version": 3
   },
   "file_extension": ".py",
   "mimetype": "text/x-python",
   "name": "python",
   "nbconvert_exporter": "python",
   "pygments_lexer": "ipython3",
   "version": "3.7.3"
  },
  "toc": {
   "base_numbering": 1,
   "nav_menu": {},
   "number_sections": false,
   "sideBar": true,
   "skip_h1_title": false,
   "title_cell": "Table of Contents",
   "title_sidebar": "Contents",
   "toc_cell": false,
   "toc_position": {},
   "toc_section_display": true,
   "toc_window_display": true
  }
 },
 "nbformat": 4,
 "nbformat_minor": 2
}
