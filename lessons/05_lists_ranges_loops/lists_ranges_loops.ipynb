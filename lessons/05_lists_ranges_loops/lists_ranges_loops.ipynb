{
 "cells": [
  {
   "cell_type": "markdown",
   "metadata": {},
   "source": [
    "# Lists, Ranges, and Loops\n",
    "\n",
    "In this notebook we will: \n",
    "- Understand how to work with `Lists`\n",
    "- Understand how to work with `Range`\n",
    "- Get an introduction to `Loops`, specifically `for loops`"
   ]
  },
  {
   "cell_type": "markdown",
   "metadata": {},
   "source": [
    "### Lists"
   ]
  },
  {
   "cell_type": "markdown",
   "metadata": {},
   "source": [
    "`Lists` are a data type in Python that stores collections of items.  They are defined by using square brackets `[...]`"
   ]
  },
  {
   "cell_type": "code",
   "execution_count": null,
   "metadata": {},
   "outputs": [],
   "source": [
    "# lists can store strings\n",
    "x = ['apples','pears','bananas']\n",
    "print(x)"
   ]
  },
  {
   "cell_type": "code",
   "execution_count": null,
   "metadata": {},
   "outputs": [],
   "source": [
    "# lists can store integers\n",
    "x = [1, 2, 3]\n",
    "print(x)"
   ]
  },
  {
   "cell_type": "markdown",
   "metadata": {},
   "source": [
    "The elements of the list can be of different types."
   ]
  },
  {
   "cell_type": "code",
   "execution_count": null,
   "metadata": {},
   "outputs": [],
   "source": [
    "x = ['apples', 3, 5.2, True]\n",
    "print(x)"
   ]
  },
  {
   "cell_type": "markdown",
   "metadata": {},
   "source": [
    "Every element in a list has an index that starts at `0` to represent the first element. What do you think the following lines of code will do?"
   ]
  },
  {
   "cell_type": "code",
   "execution_count": null,
   "metadata": {},
   "outputs": [],
   "source": [
    "x = [\"a\", \"b\", \"c\", \"d\", \"e\", \"f\", \"g\", \"h\"] \n",
    "#     0,   1,   2,   3,   4,   5,   6,   7 are the indices\n",
    "x[0]"
   ]
  },
  {
   "cell_type": "code",
   "execution_count": null,
   "metadata": {},
   "outputs": [],
   "source": [
    "x[8] # errors when the index is out of range"
   ]
  },
  {
   "cell_type": "code",
   "execution_count": null,
   "metadata": {},
   "outputs": [],
   "source": [
    "x[-1] # same as x[7]; however, the -1 is more elegant if you do not know the length of the list "
   ]
  },
  {
   "cell_type": "code",
   "execution_count": null,
   "metadata": {},
   "outputs": [],
   "source": [
    "x = [\"a\", \"b\", \"c\", \"d\", \"e\", \"f\", \"g\", \"h\"] \n",
    "#     0,   1,   2,   3,   4,   5,   6,   7 are the indices\n",
    "#    -8,  -7,  -6,  -5,  -4,  -3,  -2,  -1 are the indices in reverse\n",
    "\n",
    "x[-8]"
   ]
  },
  {
   "cell_type": "markdown",
   "metadata": {},
   "source": [
    "### Exercise\n",
    "\n",
    "Given a list, \n",
    "- if the second element (index of 1) is greater than the first element (index of 0), and\n",
    "- if the third element is the letter 'a', and\n",
    "- the last element is of type `float`, \n",
    "- then print `This is a valid list`; \n",
    "- otherwise, print `This is NOT a valid list`"
   ]
  },
  {
   "cell_type": "code",
   "execution_count": null,
   "metadata": {},
   "outputs": [],
   "source": [
    "# These examples should print `This is a valid list`\n",
    "test_list = [1, 2, 'a', 3.3] \n",
    "# test_list = [1, 2, 'a', 5, 3.3] \n",
    "\n",
    "# These examples should print `This is NOT a valid list`\n",
    "# test_list = [2, 1, 'a', 3.3] \n",
    "# test_list = [1, 2, 'b', 5, 3.3]\n",
    "# test_list = [2, 1, 'a']\n",
    "# test_list = [1, 2, 'b', 5]"
   ]
  },
  {
   "cell_type": "code",
   "execution_count": null,
   "metadata": {},
   "outputs": [],
   "source": [
    "# Your code should go here\n",
    "\n",
    " \n",
    "\n"
   ]
  },
  {
   "cell_type": "code",
   "execution_count": null,
   "metadata": {},
   "outputs": [],
   "source": [
    "# ANSWER\n",
    "if test_list[1]>test_list[0] and test_list[2] == 'a' and type(test_list[-1]) == float:\n",
    "    print('This is a valid list')\n",
    "else:\n",
    "    print('This is NOT a valid list')"
   ]
  },
  {
   "cell_type": "markdown",
   "metadata": {},
   "source": [
    "### Slicing\n",
    "\n",
    "One of the fundamental things you can do with `lists` is extract subsets of the list.  To do this we use a concept known as `slicing`.  For slices we indicate the start and end (non-inclusive) index as well as the steps to skip.  The format looks like this:\n",
    "```python\n",
    "list_name[start (inclusive) : end (non-inclusive) : step] # note the colons\n",
    "```\n",
    "\n",
    "When we do not specify the values, Python has the following defaults:\n",
    "> start = first\n",
    "\n",
    "> end = last element of the list + 1\n",
    "\n",
    "> step = 1\n",
    "\n",
    "Let's look at the examples below.  "
   ]
  },
  {
   "cell_type": "code",
   "execution_count": null,
   "metadata": {},
   "outputs": [],
   "source": [
    "x = [\"a\", \"b\", \"c\", \"d\", \"e\", \"f\", \"g\", \"h\"]\n",
    "#     0    1    2    3    4    5    6    7\n",
    "\n",
    "x[1:6:1] #  gets the second element (index 1) up to the third element (index 2).  Remember that the fourth element (index 3) is non-inclusive\n",
    "\n",
    "# x[1:6] # this code does the same as above given that the default step is 1"
   ]
  },
  {
   "cell_type": "code",
   "execution_count": null,
   "metadata": {},
   "outputs": [],
   "source": [
    "x[1:6:2] "
   ]
  },
  {
   "cell_type": "code",
   "execution_count": null,
   "metadata": {},
   "outputs": [],
   "source": [
    "x[::-2]\n",
    "\n",
    "# x[-1::-2] # this code does the same as above"
   ]
  },
  {
   "cell_type": "markdown",
   "metadata": {},
   "source": [
    "\n",
    "\n",
    "### Range\n",
    "\n",
    "`Range` is a function in Python that returns a range object.  We can use this to create lists that contain values between a start and end point.\n",
    "\n",
    "The syntax is:\n",
    "```python\n",
    "range(start (inclusive), end (non-inclusive), step)\n",
    "```\n",
    "\n",
    "When we do not specify the values, Python has the following defaults:\n",
    "> start = 0\n",
    "\n",
    "> end = last element of the list + 1\n",
    "\n",
    "> step = 1\n",
    "\n",
    "Let's look at the examples below.  "
   ]
  },
  {
   "cell_type": "code",
   "execution_count": null,
   "metadata": {},
   "outputs": [],
   "source": [
    "list(range(10)) \n",
    "# list(range(0,10,1)) # the line above is equivalent to this line"
   ]
  },
  {
   "cell_type": "code",
   "execution_count": null,
   "metadata": {},
   "outputs": [],
   "source": [
    "list(range(5,21,2)) # range has a start, stop (non-inclusive), step.  The default start and step is 0 and 1, respectively"
   ]
  },
  {
   "cell_type": "markdown",
   "metadata": {},
   "source": [
    "### Exercise\n",
    "\n",
    "Create a list that contains the values from 0 to 100 (inclusive) using `range`.  Then use list `slicing` to extract:\n",
    "- Every fifth element (ie. `[0, 5, 10, ..., 100]`)\n",
    "- Every fifth element in reverse (ie. `[100, 95, 90, ..., 0]`)"
   ]
  },
  {
   "cell_type": "code",
   "execution_count": null,
   "metadata": {},
   "outputs": [],
   "source": [
    "### Your code should go here\n",
    "\n",
    "\n",
    "\n"
   ]
  },
  {
   "cell_type": "code",
   "execution_count": null,
   "metadata": {},
   "outputs": [],
   "source": [
    "### ANSWER\n",
    "my_list = list(range(101))\n",
    "print(my_list[::5])\n",
    "print(my_list[::-5])"
   ]
  },
  {
   "cell_type": "markdown",
   "metadata": {},
   "source": [
    "### Loop Motivation\n",
    "\n",
    "Let's say we want to print the numbers from `0` to `9`.  We could write the code below."
   ]
  },
  {
   "cell_type": "code",
   "execution_count": null,
   "metadata": {},
   "outputs": [],
   "source": [
    "# print 0 to 9\n",
    "print(0)\n",
    "print(1)\n",
    "print(2)\n",
    "print(3)\n",
    "print(4)\n",
    "print(5)\n",
    "print(6)\n",
    "print(7)\n",
    "print(8)\n",
    "print(9)"
   ]
  },
  {
   "cell_type": "markdown",
   "metadata": {},
   "source": [
    "Now let's assume we actually wanted to print the numbers from `0` to `99` or `999`.  All we need to do is go back and add the print statement many more times.  This seems like a very time consuming and painful process.\n",
    "\n",
    "Thankfully, there is a simpler way we can do this using `for loops` in Python.\n",
    "\n",
    "What do you think the code below does?"
   ]
  },
  {
   "cell_type": "code",
   "execution_count": null,
   "metadata": {},
   "outputs": [],
   "source": [
    "my_list = list(range(10)) \n",
    "print(my_list)\n",
    "for i in my_list:\n",
    "    print(i)"
   ]
  },
  {
   "cell_type": "markdown",
   "metadata": {},
   "source": [
    "This is much more convenient and compact.  Let's formalize this below!"
   ]
  },
  {
   "cell_type": "markdown",
   "metadata": {},
   "source": [
    "### for loops\n",
    "\n",
    "Often we will want to go through a list of items one at a time and \"do something\" to them. For example:\n",
    "- we might want to see if they are the item that we are looking for (search)\n",
    "- we might want to do the same operation to each one (e.g. take the square of each number)\n",
    "- we might want to process each one (e.g. take a list of transactions and process them)\n",
    "\n",
    "The way we do this is using a _loop_. There are a few different types of loops, we will start with a `for loop` and we will later learn the `while loop`."
   ]
  },
  {
   "cell_type": "code",
   "execution_count": null,
   "metadata": {},
   "outputs": [],
   "source": [
    "list_of_ints = [1, 10, 100, 500, 1000]\n",
    "\n",
    "for current in list_of_ints:\n",
    "    print(current)"
   ]
  },
  {
   "cell_type": "markdown",
   "metadata": {},
   "source": [
    "What is happening here? We have the following pattern\n",
    "\n",
    "```python\n",
    "for variable in list_of_variables:\n",
    "    # we run this block many times\n",
    "    # the first time, variable is set to list_of_variables[0]\n",
    "    # the second time, variable is set to list_of_variables[1]\n",
    "    # ....\n",
    "    # the last time variable is set to the last element of list_of_variables.\n",
    "    ... do stuff ....\n",
    "```\n",
    "\n",
    "For example, we could get the squares of each number `[1, 2, 3, 5, 7, 11]` in the following way:"
   ]
  },
  {
   "cell_type": "code",
   "execution_count": null,
   "metadata": {},
   "outputs": [],
   "source": [
    "for number in [1, 2, 3, 5, 7, 11]:\n",
    "    print(f'The square of {number} is {number**2}')"
   ]
  },
  {
   "cell_type": "markdown",
   "metadata": {},
   "source": [
    "### Exercise\n",
    "\n",
    "Write a `for loop` that calculates the sum of all the elements in the list. The result should be `45`."
   ]
  },
  {
   "cell_type": "code",
   "execution_count": null,
   "metadata": {},
   "outputs": [],
   "source": [
    "my_list = [10, 11, 8, 5, 2, 9]\n",
    "\n",
    "# Write your code here\n",
    "\n",
    "\n",
    "\n"
   ]
  },
  {
   "cell_type": "code",
   "execution_count": null,
   "metadata": {},
   "outputs": [],
   "source": [
    "### ANSWER\n",
    "my_list = [10, 11, 8, 5, 2, 9]\n",
    "\n",
    "sum_res = 0\n",
    "for val in my_list:\n",
    "    sum_res += val\n",
    "print(sum_res)"
   ]
  },
  {
   "cell_type": "markdown",
   "metadata": {},
   "source": [
    "There are two ways of doing `for loops`. We can loop by _content_ or loop by _index_.\n",
    "\n",
    "The example below is a loop by _content_."
   ]
  },
  {
   "cell_type": "code",
   "execution_count": null,
   "metadata": {},
   "outputs": [],
   "source": [
    "original_list = ['a','b','c']\n",
    "for val in original_list:\n",
    "    print(val)"
   ]
  },
  {
   "cell_type": "markdown",
   "metadata": {},
   "source": [
    "The example below is a loop by _index_."
   ]
  },
  {
   "cell_type": "code",
   "execution_count": null,
   "metadata": {},
   "outputs": [],
   "source": [
    "original_list = ['a','b','c']\n",
    "for idx in range(len(original_list)):\n",
    "    print(f\"For index {idx} the value is {original_list[idx]}\")"
   ]
  },
  {
   "cell_type": "markdown",
   "metadata": {},
   "source": [
    "The built-in *enumerate* function introduces a third way of doing `for loops` -- looping both by *content* and by *index*."
   ]
  },
  {
   "cell_type": "code",
   "execution_count": null,
   "metadata": {},
   "outputs": [],
   "source": [
    "original_list = ['a','b','c']\n",
    "for idx, val in enumerate(original_list):\n",
    "    print(f\"For index {idx} the value is {val}\")"
   ]
  },
  {
   "cell_type": "markdown",
   "metadata": {},
   "source": [
    "Depending on the problem you are trying to solve, you may prefer one over the other."
   ]
  },
  {
   "cell_type": "markdown",
   "metadata": {},
   "source": [
    "### Exercise\n",
    "Below is a solution to our previous bank problem.  Let's say we have a list of transfers.  Use a `for loop` to determine the final balance.  The solution should be `-40`."
   ]
  },
  {
   "cell_type": "code",
   "execution_count": null,
   "metadata": {},
   "outputs": [],
   "source": [
    "balance = 50\n",
    "list_transfers = [10, -100, -15, 30, 25]"
   ]
  },
  {
   "cell_type": "code",
   "execution_count": null,
   "metadata": {},
   "outputs": [],
   "source": [
    "### Modify this block of code!\n",
    "balance += transfer\n",
    "if balance < 0 and transfer < 0:\n",
    "    balance -= 20\n",
    "\n",
    "print(f'The final balance is {balance}')"
   ]
  },
  {
   "cell_type": "code",
   "execution_count": null,
   "metadata": {},
   "outputs": [],
   "source": [
    "### ANSWER\n",
    "for transfer in list_transfers:\n",
    "    balance += transfer\n",
    "    if balance < 0 and transfer < 0:\n",
    "        balance -= 20\n",
    "    print(f\"The balance after transfer {transfer} is {balance}\")\n",
    "\n",
    "print(f'The final balance is {balance}')"
   ]
  },
  {
   "cell_type": "markdown",
   "metadata": {},
   "source": [
    "### Append, Insert and Changing values in lists\n",
    "\n",
    "Below we discuss a few manipulations we can do to lists.\n",
    "\n",
    "Let's start by changing the value of a list."
   ]
  },
  {
   "cell_type": "code",
   "execution_count": null,
   "metadata": {},
   "outputs": [],
   "source": [
    "x = [\"a\", \"b\", \"c\"]\n",
    "x"
   ]
  },
  {
   "cell_type": "code",
   "execution_count": null,
   "metadata": {},
   "outputs": [],
   "source": [
    "x[1] = \"Change\"\n",
    "x"
   ]
  },
  {
   "cell_type": "markdown",
   "metadata": {},
   "source": [
    "We can also add values to the end of the list with `append`.  \n",
    "\n",
    "__Note__ that this is a method which means we have the list name, then add a period `.` and when we press `TAB` we get a few options of things we can do with lists."
   ]
  },
  {
   "cell_type": "code",
   "execution_count": null,
   "metadata": {},
   "outputs": [],
   "source": [
    "x = [\"a\", \"b\", \"c\"]\n",
    "print(x)\n",
    "x.append(\"d\")\n",
    "print(x)"
   ]
  },
  {
   "cell_type": "markdown",
   "metadata": {},
   "source": [
    "Also we can `insert` elements at any point in the list by indicating the index."
   ]
  },
  {
   "cell_type": "code",
   "execution_count": null,
   "metadata": {
    "scrolled": true
   },
   "outputs": [],
   "source": [
    "x = [\"a\", \"b\", \"c\"]\n",
    "print(x)\n",
    "x.insert(1,\"a2\")\n",
    "print(x)"
   ]
  },
  {
   "cell_type": "markdown",
   "metadata": {},
   "source": [
    "### Exercise: \n",
    "\n",
    "Write code that receives a list and returns a new list that contains the elements of the original list to the power 3."
   ]
  },
  {
   "cell_type": "code",
   "execution_count": null,
   "metadata": {},
   "outputs": [],
   "source": [
    "orig_list = list(range(5,33,4))\n",
    "orig_list # Your code should print [125, 729, 2197, 4913, 9261, 15625, 24389]"
   ]
  },
  {
   "cell_type": "code",
   "execution_count": null,
   "metadata": {},
   "outputs": [],
   "source": [
    "### Write code here\n",
    "\n"
   ]
  },
  {
   "cell_type": "code",
   "execution_count": null,
   "metadata": {},
   "outputs": [],
   "source": [
    "### ANSWER\n",
    "new_list = []\n",
    "for i in orig_list:\n",
    "    new_list.append(i**3)\n",
    "    \n",
    "print(new_list)"
   ]
  },
  {
   "cell_type": "code",
   "execution_count": null,
   "metadata": {},
   "outputs": [],
   "source": []
  }
 ],
 "metadata": {
  "kernelspec": {
   "display_name": "Python 3",
   "language": "python",
   "name": "python3"
  },
  "language_info": {
   "codemirror_mode": {
    "name": "ipython",
    "version": 3
   },
   "file_extension": ".py",
   "mimetype": "text/x-python",
   "name": "python",
   "nbconvert_exporter": "python",
   "pygments_lexer": "ipython3",
   "version": "3.8.6"
  },
  "toc": {
   "base_numbering": 1,
   "nav_menu": {},
   "number_sections": false,
   "sideBar": true,
   "skip_h1_title": false,
   "title_cell": "Table of Contents",
   "title_sidebar": "Contents",
   "toc_cell": false,
   "toc_position": {},
   "toc_section_display": true,
   "toc_window_display": true
  }
 },
 "nbformat": 4,
 "nbformat_minor": 2
}
