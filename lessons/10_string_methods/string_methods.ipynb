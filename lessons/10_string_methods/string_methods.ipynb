{
 "cells": [
  {
   "cell_type": "markdown",
   "metadata": {},
   "source": [
    "# String Methods\n",
    "\n",
    "In this notebook we will: \n",
    "- Learn advanced functionalities of `Strings` and its `Methods`"
   ]
  },
  {
   "cell_type": "markdown",
   "metadata": {},
   "source": [
    "### Strings\n",
    "\n",
    "Strings have a lot of behaviors that are similar to lists.  Here we will briefly overview a few of them."
   ]
  },
  {
   "cell_type": "markdown",
   "metadata": {},
   "source": [
    "### Indexing and Slicing\n",
    "\n",
    "We can use `[...]` to select either individual values in a string (remember the first element has an index of 0) or a slice."
   ]
  },
  {
   "cell_type": "code",
   "execution_count": null,
   "metadata": {},
   "outputs": [],
   "source": [
    "text = \"Hello World\"\n",
    "\n",
    "text[6]"
   ]
  },
  {
   "cell_type": "code",
   "execution_count": null,
   "metadata": {},
   "outputs": [],
   "source": [
    "text = \"Hello World\"\n",
    "\n",
    "text[1:9:1]"
   ]
  },
  {
   "cell_type": "markdown",
   "metadata": {},
   "source": [
    "### _in_ and _not in_\n",
    "\n",
    "We can also determine if a sub-string is _in_ or _not in_ a string."
   ]
  },
  {
   "cell_type": "code",
   "execution_count": null,
   "metadata": {},
   "outputs": [],
   "source": [
    "text = \"Hello World\"\n",
    "\n",
    "\"Wo\" in text"
   ]
  },
  {
   "cell_type": "code",
   "execution_count": null,
   "metadata": {},
   "outputs": [],
   "source": [
    "text = \"Hello World\"\n",
    "\n",
    "\"oW\" not in text"
   ]
  },
  {
   "cell_type": "markdown",
   "metadata": {},
   "source": [
    "### Concatenation and Repetition\n",
    "\n",
    "We can concatenate two strings with the `+` symbol as well as repeat a string wit the `*` symbol"
   ]
  },
  {
   "cell_type": "code",
   "execution_count": null,
   "metadata": {},
   "outputs": [],
   "source": [
    "text = \"Hello World\"\n",
    "text2 = \" and Universe\"\n",
    "\n",
    "text+text2"
   ]
  },
  {
   "cell_type": "code",
   "execution_count": null,
   "metadata": {},
   "outputs": [],
   "source": [
    "text = \"Hello World\"\n",
    "\n",
    "text*3"
   ]
  },
  {
   "cell_type": "markdown",
   "metadata": {},
   "source": [
    "### Functions\n",
    "\n",
    "Strings also have useful functions."
   ]
  },
  {
   "cell_type": "code",
   "execution_count": null,
   "metadata": {},
   "outputs": [],
   "source": [
    "text = \"Hello World\"\n",
    "\n",
    "len(text)"
   ]
  },
  {
   "cell_type": "markdown",
   "metadata": {},
   "source": [
    "### Methods\n",
    "\n",
    "`Methods` are a specific type of functions that belong to an object.  If we type a string followed by a `.` and then a `TAB` we can observe the existing methods."
   ]
  },
  {
   "cell_type": "code",
   "execution_count": null,
   "metadata": {},
   "outputs": [],
   "source": [
    "text = \"Hello World\"\n",
    "\n",
    "text.index('o') # index where the first \"o\" occurs"
   ]
  },
  {
   "cell_type": "code",
   "execution_count": null,
   "metadata": {},
   "outputs": [],
   "source": [
    "dir(text)"
   ]
  },
  {
   "cell_type": "code",
   "execution_count": null,
   "metadata": {},
   "outputs": [],
   "source": [
    "text = \"Hello World\"\n",
    "\n",
    "text.count('l') # counts the number of lowercase 'l'"
   ]
  },
  {
   "cell_type": "code",
   "execution_count": null,
   "metadata": {},
   "outputs": [],
   "source": [
    "text = \"Hello World\"\n",
    "\n",
    "text.upper() # what do you think text.lower() will do. Also, it is not in-place!"
   ]
  },
  {
   "cell_type": "markdown",
   "metadata": {},
   "source": [
    "We can also split a string into a list."
   ]
  },
  {
   "cell_type": "code",
   "execution_count": null,
   "metadata": {},
   "outputs": [],
   "source": [
    "text = \"Hello World\"\n",
    "text.split() # the default is to split by the empty space"
   ]
  },
  {
   "cell_type": "markdown",
   "metadata": {},
   "source": [
    "We can also split by any character."
   ]
  },
  {
   "cell_type": "code",
   "execution_count": null,
   "metadata": {},
   "outputs": [],
   "source": [
    "text = \"Hello World\"\n",
    "text.split('o') "
   ]
  },
  {
   "cell_type": "markdown",
   "metadata": {},
   "source": [
    "### Join"
   ]
  },
  {
   "cell_type": "markdown",
   "metadata": {},
   "source": [
    "We can convert a list into a string using `\"\".join(list_name)`\n"
   ]
  },
  {
   "cell_type": "code",
   "execution_count": null,
   "metadata": {},
   "outputs": [],
   "source": [
    "text = [\"Hello \",\"World \",\"and \",\"Universe\"]\n",
    "text2 = \"\".join(text)\n",
    "text2"
   ]
  },
  {
   "cell_type": "markdown",
   "metadata": {},
   "source": [
    "### Exercise\n",
    "\n",
    "Write a function that receives a sentence, and returns a list with the number of characters for every word in the sentence.  For example `I like chocolate` would return `[1,4,9]`."
   ]
  },
  {
   "cell_type": "code",
   "execution_count": null,
   "metadata": {},
   "outputs": [],
   "source": [
    "text = \"I like chocolate\"\n",
    "### Write code here\n",
    "\n",
    "\n"
   ]
  },
  {
   "cell_type": "code",
   "execution_count": null,
   "metadata": {},
   "outputs": [],
   "source": [
    "### ANSWER\n",
    "text = \"I like chocolate\"\n",
    "\n",
    "def character_count(text):\n",
    "    words = text.split()\n",
    "    res = []\n",
    "    for word in words:\n",
    "        res.append(len(word))\n",
    "    return res"
   ]
  },
  {
   "cell_type": "code",
   "execution_count": null,
   "metadata": {},
   "outputs": [],
   "source": [
    "character_count(text)"
   ]
  },
  {
   "cell_type": "markdown",
   "metadata": {},
   "source": [
    "### Exercise\n",
    "\n",
    "Write a function that would receive the following phone number as a string `1-800-123-1234` and return `18001231234` as an `integer`. "
   ]
  },
  {
   "cell_type": "code",
   "execution_count": null,
   "metadata": {},
   "outputs": [],
   "source": [
    "text = \"1-800-123-1234\"\n",
    "\n",
    "### Write code here\n",
    "\n",
    "\n",
    "\n"
   ]
  },
  {
   "cell_type": "code",
   "execution_count": null,
   "metadata": {},
   "outputs": [],
   "source": [
    "text = \"1-800-123-1234\"\n",
    "def converter(text):\n",
    "    text = text.split('-')\n",
    "    return int(''.join(text))"
   ]
  },
  {
   "cell_type": "code",
   "execution_count": null,
   "metadata": {},
   "outputs": [],
   "source": [
    "converter(text)"
   ]
  },
  {
   "cell_type": "markdown",
   "metadata": {},
   "source": [
    "### _is..._ methods\n",
    "\n",
    "There are a few methods that allows us to determine if the string is an alphabet (`.isalpha`), number (`.isnumeric`), lowercase (`.islower`), etc."
   ]
  },
  {
   "cell_type": "code",
   "execution_count": null,
   "metadata": {},
   "outputs": [],
   "source": [
    "char = \"ab\"\n",
    "char.isalpha()"
   ]
  },
  {
   "cell_type": "markdown",
   "metadata": {},
   "source": [
    "### Exercise\n",
    "\n",
    "Write a function that receives a string and returns three strings.  One string has all the _lowercase alphabet_ characters, the other has all the _numerical_ characters, and the thirds string has all the rest.  __Note__ any other character or space is ignored.\n",
    "\n",
    "For example, `ab,c1K2H3de f456!` should return `abcdef`, `123456` and `,KH !`"
   ]
  },
  {
   "cell_type": "code",
   "execution_count": null,
   "metadata": {},
   "outputs": [],
   "source": [
    "text = \"ab,c1K2H3de f456!\"\n",
    "\n",
    "### Write code here\n",
    "\n",
    "\n",
    "\n"
   ]
  },
  {
   "cell_type": "code",
   "execution_count": null,
   "metadata": {},
   "outputs": [],
   "source": [
    "### ANSWER\n",
    "text = \"ab,c1K2H3de f456!\"\n",
    "\n",
    "def alpha_num_fun(text):\n",
    "    alpha = \"\"\n",
    "    num = \"\"\n",
    "    other = \"\"\n",
    "    for c in text:\n",
    "        if c.isalpha() and c.islower():\n",
    "            alpha +=c\n",
    "        elif c.isnumeric():\n",
    "            num +=c\n",
    "        else:\n",
    "            other += c\n",
    "    return alpha, num, other"
   ]
  },
  {
   "cell_type": "code",
   "execution_count": null,
   "metadata": {},
   "outputs": [],
   "source": [
    "alpha, num, other = alpha_num_fun(text)\n",
    "print(alpha, num, other)"
   ]
  },
  {
   "cell_type": "markdown",
   "metadata": {},
   "source": [
    "### Replace\n",
    "\n",
    "We can also replace sub-strings with `.replace()`"
   ]
  },
  {
   "cell_type": "code",
   "execution_count": null,
   "metadata": {},
   "outputs": [],
   "source": [
    "text = (\"How much wood could a woodchuck chuck \" \n",
    "        \"If a woodchuck could chuck wood? \"\n",
    "        \"As much wood as a woodchuck could chuck, \"\n",
    "        \"If a woodchuck could chuck wood.\")\n",
    "\n",
    "text = text.replace(\"wood\",\"cheese\")\n",
    "text"
   ]
  },
  {
   "cell_type": "markdown",
   "metadata": {},
   "source": [
    "### Exercise\n",
    "\n",
    "Write a function that would receive the following phone number as a string `1-800-123-1234` and return `18001231234` as an `integer`. Solve it using `.replace()`."
   ]
  },
  {
   "cell_type": "code",
   "execution_count": null,
   "metadata": {},
   "outputs": [],
   "source": [
    "text = \"1-800-123-1234\"\n",
    "\n",
    "### Write code here\n",
    "\n",
    "\n",
    "\n"
   ]
  },
  {
   "cell_type": "code",
   "execution_count": null,
   "metadata": {},
   "outputs": [],
   "source": [
    "text = \"1-800-123-1234\"\n",
    "def converter(text):\n",
    "    return int(text.replace('-',''))"
   ]
  },
  {
   "cell_type": "code",
   "execution_count": null,
   "metadata": {},
   "outputs": [],
   "source": [
    "converter(text)"
   ]
  },
  {
   "cell_type": "code",
   "execution_count": null,
   "metadata": {},
   "outputs": [],
   "source": []
  }
 ],
 "metadata": {
  "kernelspec": {
   "display_name": "Python 3",
   "language": "python",
   "name": "python3"
  },
  "language_info": {
   "codemirror_mode": {
    "name": "ipython",
    "version": 3
   },
   "file_extension": ".py",
   "mimetype": "text/x-python",
   "name": "python",
   "nbconvert_exporter": "python",
   "pygments_lexer": "ipython3",
   "version": "3.7.3"
  },
  "toc": {
   "base_numbering": 1,
   "nav_menu": {},
   "number_sections": false,
   "sideBar": true,
   "skip_h1_title": false,
   "title_cell": "Table of Contents",
   "title_sidebar": "Contents",
   "toc_cell": false,
   "toc_position": {},
   "toc_section_display": true,
   "toc_window_display": true
  }
 },
 "nbformat": 4,
 "nbformat_minor": 2
}
