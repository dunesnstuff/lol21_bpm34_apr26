{
 "cells": [
  {
   "cell_type": "markdown",
   "metadata": {},
   "source": [
    "# String Methods"
   ]
  },
  {
   "cell_type": "markdown",
   "metadata": {},
   "source": [
    "__Purpose:__\n",
    "The purpose of this lecture is to understand how to work with strings.\n",
    "\n",
    "__At the end of this lecture you will be able to:__\n",
    "1. Understand how to access values in a string using index and slicing\n",
    "2. Work with membership, concatenation and repetition\n",
    "3. Utilize actions such as len, min, max, index and count\n",
    "4. Sort strings\n",
    "5. Use various methods such as lower, upper, isalpha, find, replace, split and join\n",
    "6. Learn how to use string formats and literals"
   ]
  },
  {
   "cell_type": "markdown",
   "metadata": {},
   "source": [
    "## 1.1 Overview of Sequence Type 2 - Strings"
   ]
  },
  {
   "cell_type": "markdown",
   "metadata": {},
   "source": [
    "__Overview:__\n",
    "- __[Strings](https://docs.python.org/3/library/stdtypes.html#index-26)__ were previously introduced as a way of storing textual data in Python \n",
    "- Unlike lists, strings are __immutable__ (their contents can not be modified in any way) \n",
    "\n",
    "__Helpful Points:__\n",
    "1. Recall that strings can have single, double, or triple quotes \n",
    "2. Recall that strings and other numeric types can participate in __type conversion__ (`int` to `str`, `float` to `str`, etc.)\n",
    "3. Similar to lists, a nested string is possible and would consist of one type of quotes within another types of quotes"
   ]
  },
  {
   "cell_type": "markdown",
   "metadata": {},
   "source": [
    "### 1.1.1 Accessing Elements within Strings"
   ]
  },
  {
   "cell_type": "markdown",
   "metadata": {},
   "source": [
    "__Overview:__\n",
    "- Each item within a string are referred to as __elements__ and they can easily be accessed (for example, if you want to extract the second element of a string)\n",
    "- Similar to lists, each element is assigned a number beginning with 0 \n",
    "- Both methods of indexing (single-indexing and multi-indexing by slicing) are also applicable for strings \n",
    "\n",
    "__Helpful Points:__ \n",
    "1. Similar to lists, strings can only be indexed by `int` and not any other type (i.e. `bool`)\n",
    "2. The peculiar but helpful features of indexing-out-of-range are also present with strings \n",
    "\n",
    "__Practice:__ Examples of accessing elements within strings "
   ]
  },
  {
   "cell_type": "markdown",
   "metadata": {},
   "source": [
    "### Example 1 (Index Method 1 with Positive Index):"
   ]
  },
  {
   "cell_type": "code",
   "execution_count": null,
   "metadata": {},
   "outputs": [],
   "source": [
    "my_string = \"Clark\"\n",
    "# my_string_fwd_index = [0,1,2,3,4]"
   ]
  },
  {
   "cell_type": "code",
   "execution_count": null,
   "metadata": {},
   "outputs": [],
   "source": [
    "my_string[0] # simply accessing an element via its index"
   ]
  },
  {
   "cell_type": "code",
   "execution_count": null,
   "metadata": {},
   "outputs": [],
   "source": [
    "my_string[0] = \"J\" # str data types are immutable  (changing an element via its in index)"
   ]
  },
  {
   "cell_type": "code",
   "execution_count": null,
   "metadata": {},
   "outputs": [],
   "source": [
    "# oth element from the left (with and without saving string as a variable)\n",
    "print(my_string[0])\n",
    "print(\"Clark\"[0])\n",
    "type(\"Clark\"[0])"
   ]
  },
  {
   "cell_type": "markdown",
   "metadata": {},
   "source": [
    "### Example 2 (Index Method 2 with Positive Slice and Forward Direction):"
   ]
  },
  {
   "cell_type": "code",
   "execution_count": null,
   "metadata": {},
   "outputs": [],
   "source": [
    "my_string_1 = \"Bruce\""
   ]
  },
  {
   "cell_type": "code",
   "execution_count": null,
   "metadata": {},
   "outputs": [],
   "source": [
    "# slice from 1st element to 3rd element (4th element minus one) by step 1 \n",
    "print(my_string_1[1:4])\n",
    "type(my_string_1[1:4])"
   ]
  },
  {
   "cell_type": "code",
   "execution_count": null,
   "metadata": {},
   "outputs": [],
   "source": [
    "# slice from 1st element to 3rd element (4th element minus one) by step 2 \n",
    "print(my_string_1[1:4:2])"
   ]
  },
  {
   "cell_type": "markdown",
   "metadata": {},
   "source": [
    "### Example 3 (Index Method 2 with Positive Slice, Forward Direction and Ommitted Argument(s) ):"
   ]
  },
  {
   "cell_type": "code",
   "execution_count": null,
   "metadata": {},
   "outputs": [],
   "source": [
    "my_string_1 = \"Bruce\""
   ]
  },
  {
   "cell_type": "code",
   "execution_count": null,
   "metadata": {},
   "outputs": [],
   "source": [
    "# ommitting stop and step arguments\n",
    "# return 1st element to last element \n",
    "print(my_string_1[1:])"
   ]
  },
  {
   "cell_type": "code",
   "execution_count": null,
   "metadata": {},
   "outputs": [],
   "source": [
    "# ommitting start and step arguments\n",
    "# return 0th element to 2nd element (3rd element minus one)\n",
    "print(my_string_1[:3])"
   ]
  },
  {
   "cell_type": "markdown",
   "metadata": {},
   "source": [
    "Note: not all types of examples are shown here with strings since the process is identical to that of accessing elements within lists. "
   ]
  },
  {
   "cell_type": "markdown",
   "metadata": {},
   "source": [
    "### Example 4 (Indexing Out-of-Range - No Error):"
   ]
  },
  {
   "cell_type": "code",
   "execution_count": null,
   "metadata": {},
   "outputs": [],
   "source": [
    "# will not yield an error\n",
    "my_string_1[:10]"
   ]
  },
  {
   "cell_type": "code",
   "execution_count": null,
   "metadata": {},
   "outputs": [],
   "source": [
    "# will not yield an error\n",
    "my_string_1[10:]"
   ]
  },
  {
   "cell_type": "markdown",
   "metadata": {},
   "source": [
    "### 1.1.2 More String Operations "
   ]
  },
  {
   "cell_type": "markdown",
   "metadata": {},
   "source": [
    "__Overview:__\n",
    "- Since the `str` type is immutable, we can only perform the Common Sequence Operations and NOT the Mutable Sequence Type Operations (like we did for lists)\n",
    "\n",
    "__Helpful Points:__\n",
    "1. Below, Part 1 will cover the Common Sequence Type Operations (membership test operations, list concatenation and repetition, and misc. actions)\n",
    "2. Below, Part 2 will cover some helpful built-in Python functions for common string operations \n",
    "3. Below, Part 3 will cover some helpful built-in Python functions for common string formatting \n",
    "\n",
    "__Practice:__ Examples of String Operations in Python "
   ]
  },
  {
   "cell_type": "markdown",
   "metadata": {},
   "source": [
    "### Part 1: Common Sequence Type Operations "
   ]
  },
  {
   "cell_type": "markdown",
   "metadata": {},
   "source": [
    "### Example 1.1 (Membership Test Operations - `in` for strings):"
   ]
  },
  {
   "cell_type": "code",
   "execution_count": null,
   "metadata": {},
   "outputs": [],
   "source": [
    "'ar' in 'Clark'"
   ]
  },
  {
   "cell_type": "markdown",
   "metadata": {},
   "source": [
    "### Example 1.2 (Concatenation of Strings):"
   ]
  },
  {
   "cell_type": "code",
   "execution_count": null,
   "metadata": {},
   "outputs": [],
   "source": [
    "string_1 = \"Clark Kent\"\n",
    "string_2 = \" is a superhero\"\n",
    "string_3 = string_1 + string_2 # not vectorized addition \n",
    "print(string_3)"
   ]
  },
  {
   "cell_type": "code",
   "execution_count": null,
   "metadata": {},
   "outputs": [],
   "source": [
    "string_1 += string_2 # string_1 = string_1 + string_2\n",
    "print(string_1)"
   ]
  },
  {
   "cell_type": "markdown",
   "metadata": {},
   "source": [
    "### Example 1.3 (Repetition of Strings):"
   ]
  },
  {
   "cell_type": "code",
   "execution_count": null,
   "metadata": {},
   "outputs": [],
   "source": [
    "string_1 = \"Clark\"\n",
    "print(string_1 * 2)"
   ]
  },
  {
   "cell_type": "markdown",
   "metadata": {},
   "source": [
    "### Example 1.4 (Misc. Actions on Strings):"
   ]
  },
  {
   "cell_type": "markdown",
   "metadata": {},
   "source": [
    "- Within the Common Sequence Types, there exist a set of useful functions that can be used as operations on lists (len, min, max, index, count, and sort))"
   ]
  },
  {
   "cell_type": "markdown",
   "metadata": {},
   "source": [
    "### Example 1.4.1 (Simple Actions - `len`, `min`, `max`, `index`, `count`):"
   ]
  },
  {
   "cell_type": "code",
   "execution_count": null,
   "metadata": {},
   "outputs": [],
   "source": [
    "my_string = \"supercalifragilisticexpialidocious\""
   ]
  },
  {
   "cell_type": "code",
   "execution_count": null,
   "metadata": {},
   "outputs": [],
   "source": [
    "# find the length of the string (number of elements in the string)\n",
    "len(my_string)"
   ]
  },
  {
   "cell_type": "code",
   "execution_count": null,
   "metadata": {},
   "outputs": [],
   "source": [
    "# find the minimum value of the string (first in the alphabet)\n",
    "min(my_string)"
   ]
  },
  {
   "cell_type": "code",
   "execution_count": null,
   "metadata": {},
   "outputs": [],
   "source": [
    "# find the maximum value of the string (last in the alphabet)\n",
    "max(my_string)"
   ]
  },
  {
   "cell_type": "code",
   "execution_count": null,
   "metadata": {},
   "outputs": [],
   "source": [
    "# find the index of the first occurrence of a in my_string\n",
    "my_string.index(\"a\")"
   ]
  },
  {
   "cell_type": "code",
   "execution_count": null,
   "metadata": {},
   "outputs": [],
   "source": [
    "# find the total number of occurrences of a in my_string\n",
    "my_string.count(\"a\")"
   ]
  },
  {
   "cell_type": "markdown",
   "metadata": {},
   "source": [
    "### Example 1.4.2 (Advanced Actions - `sort`):"
   ]
  },
  {
   "cell_type": "markdown",
   "metadata": {},
   "source": [
    "Since strings are immutable, sorting strings in Python can only be done 1 way - with the generic `sorted()` function which simply returns a copy of the object and does not attempty to modify the original string. "
   ]
  },
  {
   "cell_type": "code",
   "execution_count": null,
   "metadata": {},
   "outputs": [],
   "source": [
    "my_string = \"supercalifragilisticexpialidocious\""
   ]
  },
  {
   "cell_type": "code",
   "execution_count": null,
   "metadata": {},
   "outputs": [],
   "source": [
    "# sort the string in alphabetical order\n",
    "print(sorted(my_string))\n",
    "print(my_string) # prints original, unchanged variable (not in-place algorithm)\n",
    "print(type(sorted(my_string)))"
   ]
  },
  {
   "cell_type": "markdown",
   "metadata": {},
   "source": [
    "We can see that the `sorted()` function simply returned a copy of the original string, but when we print the original string, it has not changed. This is an example of not in-place. "
   ]
  },
  {
   "cell_type": "markdown",
   "metadata": {},
   "source": [
    "### Part 2: Built-In Functions for Common String Operations"
   ]
  },
  {
   "cell_type": "markdown",
   "metadata": {},
   "source": [
    "Python provides an expansive list of built-in __[string methods](https://docs.python.org/3/library/stdtypes.html#string-methods)__ that are very helpful for operating on strings. You can review the entire list, but we will cover the most common methods below."
   ]
  },
  {
   "cell_type": "markdown",
   "metadata": {},
   "source": [
    "### Example 2.1 (Common String Method 1 )"
   ]
  },
  {
   "cell_type": "code",
   "execution_count": null,
   "metadata": {},
   "outputs": [],
   "source": [
    "my_string = \"\"\"\n",
    "O Romeo, Romeo! wherefore art thou Romeo? Deny thy father and refuse thy name;\n",
    "Or, if thou wilt not, be but sworn my love, And I'll no longer be a Capulet. \n",
    "\"\"\""
   ]
  },
  {
   "cell_type": "code",
   "execution_count": null,
   "metadata": {},
   "outputs": [],
   "source": [
    "print(my_string.lower()) # returns the lowercase version of the string (not in-place)\n",
    "print(my_string)  "
   ]
  },
  {
   "cell_type": "code",
   "execution_count": null,
   "metadata": {},
   "outputs": [],
   "source": [
    "my_string = \"\"\"\n",
    "O Romeo, Romeo! wherefore art thou Romeo? Deny thy father and refuse thy name;\n",
    "Or, if thou wilt not, be but sworn my love, And I'll no longer be a Capulet. \n",
    "\"\"\""
   ]
  },
  {
   "cell_type": "code",
   "execution_count": null,
   "metadata": {},
   "outputs": [],
   "source": [
    "print(my_string.upper()) # returns the uppercase version of the string (not in-place)\n",
    "print(my_string)  "
   ]
  },
  {
   "cell_type": "markdown",
   "metadata": {},
   "source": [
    "### Example 2.2 (Common String Method 2 )"
   ]
  },
  {
   "cell_type": "code",
   "execution_count": null,
   "metadata": {},
   "outputs": [],
   "source": [
    "my_string = \"\"\"\n",
    "O Romeo, Romeo! wherefore art thou Romeo? Deny thy father and refuse thy name;\n",
    "Or, if thou wilt not, be but sworn my love, And I'll no longer be a Capulet. \n",
    "\"\"\""
   ]
  },
  {
   "cell_type": "code",
   "execution_count": null,
   "metadata": {},
   "outputs": [],
   "source": [
    "print(my_string.isalpha()) # tests if all the string characters are in the alphabetic class "
   ]
  },
  {
   "cell_type": "code",
   "execution_count": null,
   "metadata": {},
   "outputs": [],
   "source": [
    "my_string = 'Romeo'\n",
    "print(my_string.isalpha()) # tests if all the string characters are in the alphabetic class "
   ]
  },
  {
   "cell_type": "markdown",
   "metadata": {},
   "source": [
    "### Example 2.3 (Common String Method 3)"
   ]
  },
  {
   "cell_type": "code",
   "execution_count": null,
   "metadata": {},
   "outputs": [],
   "source": [
    "print(my_string.find(\"Romeo\")) # searches for the string \"Romeo\" within my_string and returns the first index where it begins"
   ]
  },
  {
   "cell_type": "code",
   "execution_count": null,
   "metadata": {},
   "outputs": [],
   "source": [
    "my_string[3]"
   ]
  },
  {
   "cell_type": "markdown",
   "metadata": {},
   "source": [
    "### Example 2.4 (Common String Method 4)"
   ]
  },
  {
   "cell_type": "code",
   "execution_count": null,
   "metadata": {},
   "outputs": [],
   "source": [
    "print(my_string.replace(\"Romeo\", \"Clark\")) # replaces all occurrences of \"Romeo\" with \"Gordon\" (NOT in-place)\n",
    "print(my_string)"
   ]
  },
  {
   "cell_type": "markdown",
   "metadata": {},
   "source": [
    "### Example 2.5 (Common String Method 5)"
   ]
  },
  {
   "cell_type": "code",
   "execution_count": null,
   "metadata": {},
   "outputs": [],
   "source": [
    "print(my_string.split()) # returns a list of substrings separated by the default delimiter (whitespace)"
   ]
  },
  {
   "cell_type": "code",
   "execution_count": null,
   "metadata": {},
   "outputs": [],
   "source": [
    "print(my_string.split(\";\")) # returns a list of substrings separated by semi-colon"
   ]
  },
  {
   "cell_type": "markdown",
   "metadata": {},
   "source": [
    "### Example 2.6 (Common String Method 6)"
   ]
  },
  {
   "cell_type": "code",
   "execution_count": null,
   "metadata": {},
   "outputs": [],
   "source": [
    "split_string = my_string.split()\n",
    "print(split_string)\n",
    "print(\"\".join(split_string)) # joins the split_string (list) to a string (empty string) without spaces "
   ]
  },
  {
   "cell_type": "markdown",
   "metadata": {},
   "source": [
    "### Part 3: Built-In Functions for Common String Formatting "
   ]
  },
  {
   "cell_type": "markdown",
   "metadata": {},
   "source": [
    "__Overview:__\n",
    "- Python provides many useful ways of formatting strings for \"fancier ouput\"\n",
    "- There are 2 main methods of which these belong to:\n",
    "> 1. Using the `str.format()` function. The official documentation of this function can be found [here](https://docs.python.org/3/library/stdtypes.html#str.format) and [here](https://docs.python.org/3/library/string.html#formatstrings). Although the most helpful information on how it can be implemented can be found [here](https://docs.python.org/3/tutorial/inputoutput.html#fancier-output-formatting)\n",
    "> 2. (New in Python 3.6) Using __[Formatted String Literals](https://docs.python.org/3/reference/lexical_analysis.html#f-strings)__ otherwise known as __f-strings__\n",
    "\n",
    "__Helpful Points:__\n",
    "1. Within each method above, there are multiple ways of executing the functions \n",
    "2. Each of these ways will be explained below in the examples\n",
    "3. See [this](https://pyformat.info/) post for a comprehensive look at the various types of string formatting using the `str.format` function\n",
    "\n",
    "__Practice:__ Examples of string formatting in Python "
   ]
  },
  {
   "cell_type": "markdown",
   "metadata": {},
   "source": [
    "### Example 3.1 (Using `str.format()` function):"
   ]
  },
  {
   "cell_type": "markdown",
   "metadata": {},
   "source": [
    "### Example 3.1.2 (Empty {} in `str.format()` function):"
   ]
  },
  {
   "cell_type": "code",
   "execution_count": null,
   "metadata": {},
   "outputs": [],
   "source": [
    "superhero_1 = \"Clark\"\n",
    "superhero_2 = \"Bruce\""
   ]
  },
  {
   "cell_type": "code",
   "execution_count": null,
   "metadata": {},
   "outputs": [],
   "source": [
    "print(\"We, {} and {} are happy to be your superheros\".format(superhero_1, superhero_2))"
   ]
  },
  {
   "cell_type": "markdown",
   "metadata": {},
   "source": [
    "The \"curly\" brackets and characters within them (called format fields) are replaced with the objects passed into the `format()` method. "
   ]
  },
  {
   "cell_type": "markdown",
   "metadata": {},
   "source": [
    "### Example 3.1.3 (Positional Arguments in {} in `str.format()` function):"
   ]
  },
  {
   "cell_type": "code",
   "execution_count": null,
   "metadata": {},
   "outputs": [],
   "source": [
    "print(\"{0} and {1}\".format(\"Clark\", \"Bruce\"))\n",
    "print(\"{1} and {0}\".format(\"Clark\", \"Bruce\"))"
   ]
  },
  {
   "cell_type": "markdown",
   "metadata": {},
   "source": [
    "A number in the brackets can be used to refer to the position of the object passed into the `format()` method. "
   ]
  },
  {
   "cell_type": "markdown",
   "metadata": {},
   "source": [
    "### Example 3.1.4 (Keyword Arguments in {} in str.format() function):"
   ]
  },
  {
   "cell_type": "code",
   "execution_count": null,
   "metadata": {},
   "outputs": [],
   "source": [
    "print(\"{superhero_1} and {superhero_2} both are superheros.\".format(superhero_1=\"Clark\", superhero_2=\"Bruce\"))"
   ]
  },
  {
   "cell_type": "markdown",
   "metadata": {},
   "source": [
    "If keyword arguments are used in the `str.format()` method, their values are referred to by using the name of the argument. Note, we can also combine both keyword and positional arguments."
   ]
  },
  {
   "cell_type": "markdown",
   "metadata": {},
   "source": [
    "### Example 3.1.5 (Specifiers in {} in `str.format()` function):"
   ]
  },
  {
   "cell_type": "code",
   "execution_count": null,
   "metadata": {},
   "outputs": [],
   "source": [
    "print(\"The value of PI is approximately {0:0.3f} to 3 decimal places\".format(3.14159265359))"
   ]
  },
  {
   "cell_type": "markdown",
   "metadata": {},
   "source": [
    "An optional `:` and format specifier (0.3f - 3 decimal places for a float) can follow the field name. Note, the other format specifiers include `i` (int), and `s` (string)."
   ]
  },
  {
   "cell_type": "code",
   "execution_count": null,
   "metadata": {},
   "outputs": [],
   "source": [
    "print(\"The value of PI is {:.5}\".format(\"3.14159265359\"))"
   ]
  },
  {
   "cell_type": "markdown",
   "metadata": {},
   "source": [
    "Note, we can also use this format to truncate long strings. The above example simply truncates the string that is passed into the format parentheses. It does not know anything about the integer values and thus does not do any rounding - it is treated as a series of characters. "
   ]
  },
  {
   "cell_type": "markdown",
   "metadata": {},
   "source": [
    "### Example 3.2 (Using Formatted String Literals):"
   ]
  },
  {
   "cell_type": "code",
   "execution_count": null,
   "metadata": {},
   "outputs": [],
   "source": [
    "print(f\"The value of PI is approximately {3.14159265359:0.3f} to 3 decimal places\")"
   ]
  },
  {
   "cell_type": "markdown",
   "metadata": {},
   "source": [
    "See the table [here](https://docs.python.org/3/library/stdtypes.html#old-string-formatting) which will help you understand what values are appropriate to enter the `{}`.\n",
    "For string literals, the `f` at the beginning of the string, read [here](https://realpython.com/python-f-strings/#f-strings-a-new-and-improved-way-to-format-strings-in-python)."
   ]
  },
  {
   "cell_type": "markdown",
   "metadata": {},
   "source": [
    "### Problem 1\n",
    "\n",
    "Create two strings with you first and last name (in lower case). \n",
    "Notes:\n",
    "- Capitalize the first letter of each word using a built-in string method to capitalize the words (see [this link](https://docs.python.org/3/library/stdtypes.html#string-methods) to find the proper function to use)\n",
    "- Use string formatting to output your results"
   ]
  },
  {
   "cell_type": "code",
   "execution_count": null,
   "metadata": {},
   "outputs": [],
   "source": [
    "# write your code here\n",
    "\n",
    "\n",
    "\n"
   ]
  },
  {
   "cell_type": "markdown",
   "metadata": {},
   "source": [
    "### Problem 2\n",
    "\n",
    "Replace `\"Brussels Sprouts\"` with your favorite food in the string `\"My favorite food is Brussels Sprouts\"`.\n",
    "\n",
    "Notes:\n",
    "- Use the `replace` common string method"
   ]
  },
  {
   "cell_type": "code",
   "execution_count": null,
   "metadata": {},
   "outputs": [],
   "source": [
    "# write your code here\n",
    "\n",
    "\n",
    "\n"
   ]
  },
  {
   "cell_type": "markdown",
   "metadata": {},
   "source": [
    "# ANSWERS"
   ]
  },
  {
   "cell_type": "markdown",
   "metadata": {},
   "source": [
    "### Problem 1\n",
    "\n",
    "Create two strings with you first and last name (in lower case). \n",
    "Notes:\n",
    "- Capitalize the first letter of each word using a built-in string method to capitalize the words (see [this link](https://docs.python.org/3/library/stdtypes.html#string-methods) to find the proper function to use)\n",
    "- Use string formatting to output your results"
   ]
  },
  {
   "cell_type": "code",
   "execution_count": null,
   "metadata": {},
   "outputs": [],
   "source": [
    "first_name = \"clark\"\n",
    "last_name = \"kent\""
   ]
  },
  {
   "cell_type": "code",
   "execution_count": null,
   "metadata": {},
   "outputs": [],
   "source": [
    "first_name = first_name.capitalize()\n",
    "last_name = last_name.capitalize()"
   ]
  },
  {
   "cell_type": "code",
   "execution_count": null,
   "metadata": {},
   "outputs": [],
   "source": [
    "full_name = first_name + \" \" + last_name\n",
    "full_name"
   ]
  },
  {
   "cell_type": "code",
   "execution_count": null,
   "metadata": {},
   "outputs": [],
   "source": [
    "print(\"My full name is {}\".format(full_name))"
   ]
  },
  {
   "cell_type": "markdown",
   "metadata": {},
   "source": [
    "### Problem 2\n",
    "\n",
    "Replace `\"Brussels Sprouts\"` with your favorite food in the string `\"My favorite food is Brussels Sprouts\"`.\n",
    "\n",
    "Notes:\n",
    "- Use the `replace` commond string method"
   ]
  },
  {
   "cell_type": "code",
   "execution_count": null,
   "metadata": {},
   "outputs": [],
   "source": [
    "fav_food = \"My favorite food is Brussels Sprouts\"\n",
    "fav_food = fav_food.replace(\"Brussels Sprouts\", \"Pizza\")\n",
    "\n",
    "print(fav_food)"
   ]
  },
  {
   "cell_type": "code",
   "execution_count": null,
   "metadata": {},
   "outputs": [],
   "source": []
  }
 ],
 "metadata": {
  "kernelspec": {
   "display_name": "Python 3",
   "language": "python",
   "name": "python3"
  },
  "language_info": {
   "codemirror_mode": {
    "name": "ipython",
    "version": 3
   },
   "file_extension": ".py",
   "mimetype": "text/x-python",
   "name": "python",
   "nbconvert_exporter": "python",
   "pygments_lexer": "ipython3",
   "version": "3.7.3"
  },
  "toc": {
   "base_numbering": 1,
   "nav_menu": {},
   "number_sections": false,
   "sideBar": true,
   "skip_h1_title": false,
   "title_cell": "Table of Contents",
   "title_sidebar": "Contents",
   "toc_cell": false,
   "toc_position": {},
   "toc_section_display": true,
   "toc_window_display": true
  }
 },
 "nbformat": 4,
 "nbformat_minor": 2
}
