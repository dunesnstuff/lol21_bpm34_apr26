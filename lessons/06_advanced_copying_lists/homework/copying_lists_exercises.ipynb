{
 "cells": [
  {
   "cell_type": "markdown",
   "metadata": {},
   "source": [
    "# Exercises: Copying Lists\n",
    "\n",
    "## Aliases and Shallow Copies\n",
    "\n",
    "Create a list, `list_1`, with values `[1, 2, 3, 4]`.\n",
    "\n",
    "Make three copies of `list_1`, numbered 2 through 4, using the assignment operator `=`, a slice of `list_1`, and by calling the `.copy()` method on `list_1`. Print out all four lists."
   ]
  },
  {
   "cell_type": "code",
   "execution_count": null,
   "metadata": {
    "ExecuteTime": {
     "end_time": "2019-11-08T04:22:35.483034Z",
     "start_time": "2019-11-08T04:22:35.471847Z"
    }
   },
   "outputs": [],
   "source": [
    "list_1 = [1, 2, 3, 4]\n",
    "list_2 = \n",
    "list_3 = \n",
    "list_4 = \n",
    "\n",
    "print(list_1)\n",
    "print(list_2)\n",
    "print(list_3)\n",
    "print(list_4)"
   ]
  },
  {
   "cell_type": "markdown",
   "metadata": {},
   "source": [
    "Change the value of `list_1[0]` to 0. What happens to the other lists?"
   ]
  },
  {
   "cell_type": "code",
   "execution_count": null,
   "metadata": {
    "ExecuteTime": {
     "end_time": "2019-11-08T04:22:37.212852Z",
     "start_time": "2019-11-08T04:22:37.207049Z"
    }
   },
   "outputs": [],
   "source": [
    "\n",
    "print(list_1)\n",
    "print(list_2)\n",
    "print(list_3)\n",
    "print(list_4)"
   ]
  },
  {
   "cell_type": "markdown",
   "metadata": {},
   "source": [
    "Change the value of `list_2[1]` to 0. What happens to the other lists?"
   ]
  },
  {
   "cell_type": "code",
   "execution_count": null,
   "metadata": {
    "ExecuteTime": {
     "end_time": "2019-11-08T04:22:40.392765Z",
     "start_time": "2019-11-08T04:22:40.379225Z"
    }
   },
   "outputs": [],
   "source": [
    "\n",
    "print(list_1)\n",
    "print(list_2)\n",
    "print(list_3)\n",
    "print(list_4)"
   ]
  },
  {
   "cell_type": "markdown",
   "metadata": {},
   "source": [
    "Change the value of `list_3[2]` to 0. What happens to the other lists?"
   ]
  },
  {
   "cell_type": "code",
   "execution_count": null,
   "metadata": {
    "ExecuteTime": {
     "end_time": "2019-11-08T04:22:44.486603Z",
     "start_time": "2019-11-08T04:22:44.481671Z"
    }
   },
   "outputs": [],
   "source": [
    "\n",
    "print(list_1)\n",
    "print(list_2)\n",
    "print(list_3)\n",
    "print(list_4)"
   ]
  },
  {
   "cell_type": "markdown",
   "metadata": {},
   "source": [
    "Change the value of `list_4[3]` to 0. What happens to the other lists?"
   ]
  },
  {
   "cell_type": "code",
   "execution_count": null,
   "metadata": {
    "ExecuteTime": {
     "end_time": "2019-11-08T04:22:46.920906Z",
     "start_time": "2019-11-08T04:22:46.915698Z"
    }
   },
   "outputs": [],
   "source": [
    "\n",
    "print(list_1)\n",
    "print(list_2)\n",
    "print(list_3)\n",
    "print(list_4)"
   ]
  },
  {
   "cell_type": "markdown",
   "metadata": {},
   "source": [
    " Which lists point to the same objects? Call the `id()` function on each list to see where they are stored in memory."
   ]
  },
  {
   "cell_type": "code",
   "execution_count": null,
   "metadata": {
    "ExecuteTime": {
     "end_time": "2019-11-08T04:27:51.730611Z",
     "start_time": "2019-11-08T04:27:51.723095Z"
    }
   },
   "outputs": [],
   "source": [
    "print(id())\n",
    "print(id())\n",
    "print(id())\n",
    "print(id())"
   ]
  },
  {
   "cell_type": "markdown",
   "metadata": {},
   "source": [
    "## Aliases, Shallow Copies, and Deep Copies on Nested Lists\n",
    "\n",
    "Create a new list, `list_a`, with values `[[0, 1, 2], [3, 4, 5], 6, 7, 8]` (that includes two nested lists). Create copied lists, `list_b`, `list_c`, and `list_d` using the assignment operator, `list_a.copy`, and a `deepcopy` of `list_a`.\n",
    "\n",
    "Print out the `id` of each list.\n",
    "\n",
    "Print out the `id` of each list's first nested list."
   ]
  },
  {
   "cell_type": "code",
   "execution_count": null,
   "metadata": {
    "ExecuteTime": {
     "end_time": "2019-11-08T04:44:29.900233Z",
     "start_time": "2019-11-08T04:44:29.887402Z"
    }
   },
   "outputs": [],
   "source": [
    "import copy\n",
    "\n",
    "list_a = \n",
    "list_b = \n",
    "list_c = \n",
    "list_d = \n",
    "\n",
    "print(id(), )\n",
    "print(id(), )\n",
    "print(id(), )\n",
    "print(id(), )\n",
    "\n",
    "print(id())\n",
    "print(id())\n",
    "print(id())\n",
    "print(id())"
   ]
  },
  {
   "cell_type": "markdown",
   "metadata": {},
   "source": [
    "We're going to make some similar changes to what we saw in the previous exercise. Based on the id's you just printed, make some guesses about what relationships we'll see.\n",
    "\n",
    "First, change the first item in the first nested list in `list_a` to `'a'`. Print out the four lists."
   ]
  },
  {
   "cell_type": "code",
   "execution_count": null,
   "metadata": {
    "ExecuteTime": {
     "end_time": "2019-11-08T04:44:32.471062Z",
     "start_time": "2019-11-08T04:44:32.463055Z"
    }
   },
   "outputs": [],
   "source": [
    "\n",
    "print(list_a)\n",
    "print(list_b)\n",
    "print(list_c)\n",
    "print(list_d)"
   ]
  },
  {
   "cell_type": "markdown",
   "metadata": {},
   "source": [
    "Now change the second item in the second nested list in `list_c` to `c`. Print out the four lists."
   ]
  },
  {
   "cell_type": "code",
   "execution_count": null,
   "metadata": {
    "ExecuteTime": {
     "end_time": "2019-11-08T04:44:33.914287Z",
     "start_time": "2019-11-08T04:44:33.904595Z"
    }
   },
   "outputs": [],
   "source": [
    "\n",
    "print(list_a)\n",
    "print(list_b)\n",
    "print(list_c)\n",
    "print(list_d)"
   ]
  },
  {
   "cell_type": "markdown",
   "metadata": {},
   "source": [
    "Now change the third item in the first nested list in `list_d` to `d`. Print out the four lists."
   ]
  },
  {
   "cell_type": "code",
   "execution_count": null,
   "metadata": {
    "ExecuteTime": {
     "end_time": "2019-11-08T04:45:47.180694Z",
     "start_time": "2019-11-08T04:45:47.168850Z"
    }
   },
   "outputs": [],
   "source": [
    "\n",
    "print(list_a)\n",
    "print(list_b)\n",
    "print(list_c)\n",
    "print(list_d)"
   ]
  },
  {
   "cell_type": "markdown",
   "metadata": {},
   "source": [
    "Does this work for the integers? Change the last item in `list_a` to `A`. Print out the four lists."
   ]
  },
  {
   "cell_type": "code",
   "execution_count": null,
   "metadata": {
    "ExecuteTime": {
     "end_time": "2019-11-08T04:46:48.905466Z",
     "start_time": "2019-11-08T04:46:48.895113Z"
    }
   },
   "outputs": [],
   "source": [
    "\n",
    "print(list_a)\n",
    "print(list_b)\n",
    "print(list_c)\n",
    "print(list_d)"
   ]
  },
  {
   "cell_type": "markdown",
   "metadata": {},
   "source": [
    "Now change the second item in `list_a` (that is, the second nested list) to `asparagus`. Print out the four lists."
   ]
  },
  {
   "cell_type": "code",
   "execution_count": null,
   "metadata": {
    "ExecuteTime": {
     "end_time": "2019-11-08T04:47:46.699867Z",
     "start_time": "2019-11-08T04:47:46.692256Z"
    }
   },
   "outputs": [],
   "source": [
    "\n",
    "print(list_a)\n",
    "print(list_b)\n",
    "print(list_c)\n",
    "print(list_d)"
   ]
  },
  {
   "cell_type": "markdown",
   "metadata": {},
   "source": [
    "## Dictionary Copies\n",
    "\n",
    "Now let's play around with dictionaries. And just for fun, let's include nested lists and deep and shallow copies of lists in the dictionary values.\n",
    "\n",
    "Start with the following lists and dictionaries:"
   ]
  },
  {
   "cell_type": "code",
   "execution_count": null,
   "metadata": {
    "ExecuteTime": {
     "end_time": "2019-11-08T05:14:51.208902Z",
     "start_time": "2019-11-08T05:14:51.198139Z"
    }
   },
   "outputs": [],
   "source": [
    "list_x = [0, 1, [2, 3, 4]]\n",
    "list_y = list_x.copy()\n",
    "list_z = copy.deepcopy(list_x)\n",
    "\n",
    "dict_1 = {'a':1, 'b':2, 'c':list_x, 'd':list_y, 'e':list_z}\n",
    "dict_2 = dict_1\n",
    "dict_3 = dict_1.copy()\n",
    "dict_4 = copy.deepcopy(dict_1)"
   ]
  },
  {
   "cell_type": "markdown",
   "metadata": {},
   "source": [
    "Print out one or more of the dictionaries to see what we're working with.\n",
    "\n",
    "Print out the id's of the dictionaries and various elements within the dictionary keys (and items inside of the lists and nested lists). Which values are the same objects in memory?"
   ]
  },
  {
   "cell_type": "code",
   "execution_count": null,
   "metadata": {
    "ExecuteTime": {
     "end_time": "2019-11-08T05:14:53.572428Z",
     "start_time": "2019-11-08T05:14:53.563529Z"
    }
   },
   "outputs": [],
   "source": [
    "print(dict_1)\n",
    "print(dict_2)\n",
    "print(dict_3)\n",
    "print(dict_4)"
   ]
  },
  {
   "cell_type": "markdown",
   "metadata": {},
   "source": [
    "Which integer values are tied to `dict_1`? Change `dict_1['a']` to `0` and see what happens."
   ]
  },
  {
   "cell_type": "code",
   "execution_count": null,
   "metadata": {
    "ExecuteTime": {
     "end_time": "2019-11-08T05:14:57.078528Z",
     "start_time": "2019-11-08T05:14:57.070972Z"
    }
   },
   "outputs": [],
   "source": [
    "\n",
    "print(dict_1)\n",
    "print(dict_2)\n",
    "print(dict_3)\n",
    "print(dict_4)"
   ]
  },
  {
   "cell_type": "markdown",
   "metadata": {},
   "source": [
    "Which list values are tied to dict_1? Change `dict_1['c'][0]` to `'a'` and see what happens."
   ]
  },
  {
   "cell_type": "code",
   "execution_count": null,
   "metadata": {
    "ExecuteTime": {
     "end_time": "2019-11-08T05:15:01.606438Z",
     "start_time": "2019-11-08T05:15:01.596134Z"
    }
   },
   "outputs": [],
   "source": [
    "\n",
    "print(dict_1)\n",
    "print(dict_2)\n",
    "print(dict_3)\n",
    "print(dict_4)"
   ]
  },
  {
   "cell_type": "markdown",
   "metadata": {},
   "source": [
    "Which list values are tied to `list_x`? Change `list_x[2][0]` to `'b'` and see what happens."
   ]
  },
  {
   "cell_type": "code",
   "execution_count": null,
   "metadata": {
    "ExecuteTime": {
     "end_time": "2019-11-08T05:16:31.913239Z",
     "start_time": "2019-11-08T05:16:31.904385Z"
    }
   },
   "outputs": [],
   "source": [
    "\n",
    "print(dict_1)\n",
    "print(dict_2)\n",
    "print(dict_3)\n",
    "print(dict_4)"
   ]
  },
  {
   "cell_type": "markdown",
   "metadata": {},
   "source": [
    "Write down some observations about how lists and dictionaries created with `=`, `.copy()`, and `copy.deepcopy()` map to objects in memory from the original list and dictionary."
   ]
  },
  {
   "cell_type": "code",
   "execution_count": null,
   "metadata": {},
   "outputs": [],
   "source": []
  }
 ],
 "metadata": {
  "kernelspec": {
   "display_name": "Python 3",
   "language": "python",
   "name": "python3"
  },
  "language_info": {
   "codemirror_mode": {
    "name": "ipython",
    "version": 3
   },
   "file_extension": ".py",
   "mimetype": "text/x-python",
   "name": "python",
   "nbconvert_exporter": "python",
   "pygments_lexer": "ipython3",
   "version": "3.6.8"
  },
  "toc": {
   "base_numbering": 1,
   "nav_menu": {},
   "number_sections": true,
   "sideBar": true,
   "skip_h1_title": false,
   "title_cell": "Table of Contents",
   "title_sidebar": "Contents",
   "toc_cell": false,
   "toc_position": {},
   "toc_section_display": true,
   "toc_window_display": false
  }
 },
 "nbformat": 4,
 "nbformat_minor": 2
}
