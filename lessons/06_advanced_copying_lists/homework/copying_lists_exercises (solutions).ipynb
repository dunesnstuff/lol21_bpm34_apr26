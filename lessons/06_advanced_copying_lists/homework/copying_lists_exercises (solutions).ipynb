{
 "cells": [
  {
   "cell_type": "markdown",
   "metadata": {},
   "source": [
    "# Exercises: Copying Lists\n",
    "\n",
    "## Aliases and Shallow Copies\n",
    "\n",
    "Create a list, `list_1`, with values `[1, 2, 3, 4]`.\n",
    "\n",
    "Make three copies of `list_1`, numbered 2 through 4, using the assignment operator `=`, a slice of `list_1`, and by calling the `.copy()` method on `list_1`. Print out all four lists."
   ]
  },
  {
   "cell_type": "code",
   "execution_count": null,
   "metadata": {},
   "outputs": [],
   "source": [
    "list_1 = [1, 2, 3, 4]\n",
    "list_2 = list_1\n",
    "list_3 = list_1[:]\n",
    "list_4 = list_1.copy()\n",
    "\n",
    "print(list_1)\n",
    "print(list_2)\n",
    "print(list_3)\n",
    "print(list_4)"
   ]
  },
  {
   "cell_type": "markdown",
   "metadata": {},
   "source": [
    "Change the value of `list_1[0]` to 0. What happens to the other lists?"
   ]
  },
  {
   "cell_type": "code",
   "execution_count": null,
   "metadata": {},
   "outputs": [],
   "source": [
    "list_1[0] = 0\n",
    "print(list_1)\n",
    "print(list_2)\n",
    "print(list_3)\n",
    "print(list_4)"
   ]
  },
  {
   "cell_type": "markdown",
   "metadata": {},
   "source": [
    "Change the value of `list_2[1]` to 0. What happens to the other lists?"
   ]
  },
  {
   "cell_type": "code",
   "execution_count": null,
   "metadata": {},
   "outputs": [],
   "source": [
    "list_2[1] = 0\n",
    "print(list_1)\n",
    "print(list_2)\n",
    "print(list_3)\n",
    "print(list_4)"
   ]
  },
  {
   "cell_type": "markdown",
   "metadata": {},
   "source": [
    "Change the value of `list_3[2]` to 0. What happens to the other lists?"
   ]
  },
  {
   "cell_type": "code",
   "execution_count": null,
   "metadata": {},
   "outputs": [],
   "source": [
    "list_3[2] = 0\n",
    "print(list_1)\n",
    "print(list_2)\n",
    "print(list_3)\n",
    "print(list_4)"
   ]
  },
  {
   "cell_type": "markdown",
   "metadata": {},
   "source": [
    "Change the value of `list_4[3]` to 0. What happens to the other lists?"
   ]
  },
  {
   "cell_type": "code",
   "execution_count": null,
   "metadata": {},
   "outputs": [],
   "source": [
    "list_4[3] = 0\n",
    "print(list_1)\n",
    "print(list_2)\n",
    "print(list_3)\n",
    "print(list_4)"
   ]
  },
  {
   "cell_type": "markdown",
   "metadata": {},
   "source": [
    " Which lists point to the same objects? Call the `id()` function on each list to see where they are stored in memory."
   ]
  },
  {
   "cell_type": "code",
   "execution_count": null,
   "metadata": {},
   "outputs": [],
   "source": [
    "print(id(list_1))\n",
    "print(id(list_2))\n",
    "print(id(list_3))\n",
    "print(id(list_4))"
   ]
  },
  {
   "cell_type": "markdown",
   "metadata": {},
   "source": [
    "## Aliases, Shallow Copies, and Deep Copies on Nested Lists\n",
    "\n",
    "Create a new list, `list_a`, with values `[[0, 1, 2], [3, 4, 5], 6, 7, 8]` (that includes two nested lists). Create copied lists, `list_b`, `list_c`, and `list_d` using the assignment operator, `list_a.copy`, and a `deepcopy` of `list_a`.\n",
    "\n",
    "Print out the `id` of each list.\n",
    "\n",
    "Print out the `id` of each list's first nested list."
   ]
  },
  {
   "cell_type": "code",
   "execution_count": null,
   "metadata": {},
   "outputs": [],
   "source": [
    "import copy\n",
    "\n",
    "list_a = [[0, 1, 2], [3, 4, 5], 6, 7, 8]\n",
    "list_b = list_a\n",
    "list_c = list_a.copy()\n",
    "list_d = copy.deepcopy(list_a)\n",
    "\n",
    "print(id(list_a), list_a)\n",
    "print(id(list_b), list_b)\n",
    "print(id(list_c), list_c)\n",
    "print(id(list_d), list_d)\n",
    "\n",
    "print(id(list_a[0]))\n",
    "print(id(list_b[0]))\n",
    "print(id(list_c[0]))\n",
    "print(id(list_d[0]))"
   ]
  },
  {
   "cell_type": "markdown",
   "metadata": {},
   "source": [
    "We're going to make some similar changes to what we saw in the previous exercise. Based on the id's you just printed, make some guesses about what relationships we'll see.\n",
    "\n",
    "First, change the first item in the first nested list in `list_a` to `'a'`. Print out the four lists."
   ]
  },
  {
   "cell_type": "code",
   "execution_count": null,
   "metadata": {},
   "outputs": [],
   "source": [
    "list_a[0][0] = 'a'\n",
    "print(list_a)\n",
    "print(list_b)\n",
    "print(list_c)\n",
    "print(list_d)"
   ]
  },
  {
   "cell_type": "markdown",
   "metadata": {},
   "source": [
    "Now change the second item in the second nested list in `list_c` to `c`. Print out the four lists."
   ]
  },
  {
   "cell_type": "code",
   "execution_count": null,
   "metadata": {},
   "outputs": [],
   "source": [
    "list_c[1][1] = 'c'\n",
    "print(list_a)\n",
    "print(list_b)\n",
    "print(list_c)\n",
    "print(list_d)"
   ]
  },
  {
   "cell_type": "markdown",
   "metadata": {},
   "source": [
    "Now change the third item in the first nested list in `list_d` to `d`. Print out the four lists."
   ]
  },
  {
   "cell_type": "code",
   "execution_count": null,
   "metadata": {},
   "outputs": [],
   "source": [
    "list_d[0][2] = 'd'\n",
    "print(list_a)\n",
    "print(list_b)\n",
    "print(list_c)\n",
    "print(list_d)"
   ]
  },
  {
   "cell_type": "markdown",
   "metadata": {},
   "source": [
    "Does this work for the integers? Change the last item in `list_a` to `A`. Print out the four lists."
   ]
  },
  {
   "cell_type": "code",
   "execution_count": null,
   "metadata": {},
   "outputs": [],
   "source": [
    "list_a[-1] = 'A'\n",
    "print(list_a)\n",
    "print(list_b)\n",
    "print(list_c)\n",
    "print(list_d)"
   ]
  },
  {
   "cell_type": "markdown",
   "metadata": {},
   "source": [
    "Now change the second item in `list_a` (that is, the second nested list) to `asparagus`. Print out the four lists."
   ]
  },
  {
   "cell_type": "code",
   "execution_count": null,
   "metadata": {},
   "outputs": [],
   "source": [
    "list_a[1] = 'asparagus'\n",
    "print(list_a)\n",
    "print(list_b)\n",
    "print(list_c)\n",
    "print(list_d)"
   ]
  },
  {
   "cell_type": "markdown",
   "metadata": {},
   "source": [
    "## Dictionary Copies\n",
    "\n",
    "Now let's play around with dictionaries. And just for fun, let's include nested lists and deep and shallow copies of lists in the dictionary values.\n",
    "\n",
    "Start with the following lists and dictionaries:"
   ]
  },
  {
   "cell_type": "code",
   "execution_count": null,
   "metadata": {},
   "outputs": [],
   "source": [
    "list_x = [0, 1, [2, 3, 4]]\n",
    "list_y = list_x.copy()\n",
    "list_z = copy.deepcopy(list_x)\n",
    "\n",
    "dict_1 = {'a':1, 'b':2, 'c':list_x, 'd':list_y, 'e':list_z}\n",
    "dict_2 = dict_1\n",
    "dict_3 = dict_1.copy()\n",
    "dict_4 = copy.deepcopy(dict_1)"
   ]
  },
  {
   "cell_type": "markdown",
   "metadata": {},
   "source": [
    "Print out one or more of the dictionaries to see what we're working with.\n",
    "\n",
    "Print out the id's of the dictionaries and various elements within the dictionary keys (and items inside of the lists and nested lists). Which values are the same objects in memory?"
   ]
  },
  {
   "cell_type": "code",
   "execution_count": null,
   "metadata": {},
   "outputs": [],
   "source": [
    "print(dict_1)\n",
    "print(dict_2)\n",
    "print(dict_3)\n",
    "print(dict_4)"
   ]
  },
  {
   "cell_type": "markdown",
   "metadata": {},
   "source": [
    "Which integer values are tied to `dict_1`? Change `dict_1['a']` to `0` and see what happens."
   ]
  },
  {
   "cell_type": "code",
   "execution_count": null,
   "metadata": {},
   "outputs": [],
   "source": [
    "dict_1['a'] = 0\n",
    "print(dict_1)\n",
    "print(dict_2)\n",
    "print(dict_3)\n",
    "print(dict_4)"
   ]
  },
  {
   "cell_type": "markdown",
   "metadata": {},
   "source": [
    "Which list values are tied to dict_1? Change `dict_1['c'][0]` to `'a'` and see what happens."
   ]
  },
  {
   "cell_type": "code",
   "execution_count": null,
   "metadata": {},
   "outputs": [],
   "source": [
    "dict_1['c'][0] = 'a'\n",
    "print(dict_1)\n",
    "print(dict_2)\n",
    "print(dict_3)\n",
    "print(dict_4)"
   ]
  },
  {
   "cell_type": "markdown",
   "metadata": {},
   "source": [
    "Which list values are tied to `list_x`? Change `list_x[2][0]` to `'b'` and see what happens."
   ]
  },
  {
   "cell_type": "code",
   "execution_count": null,
   "metadata": {},
   "outputs": [],
   "source": [
    "list_x[2][0] = 'b'\n",
    "print(dict_1)\n",
    "print(dict_2)\n",
    "print(dict_3)\n",
    "print(dict_4)"
   ]
  },
  {
   "cell_type": "markdown",
   "metadata": {},
   "source": [
    "Write down some observations about how lists and dictionaries created with `=`, `.copy()`, and `copy.deepcopy()` map to objects in memory from the original list and dictionary."
   ]
  },
  {
   "cell_type": "code",
   "execution_count": null,
   "metadata": {},
   "outputs": [],
   "source": []
  }
 ],
 "metadata": {
  "kernelspec": {
   "display_name": "Python 3",
   "language": "python",
   "name": "python3"
  },
  "language_info": {
   "codemirror_mode": {
    "name": "ipython",
    "version": 3
   },
   "file_extension": ".py",
   "mimetype": "text/x-python",
   "name": "python",
   "nbconvert_exporter": "python",
   "pygments_lexer": "ipython3",
   "version": "3.7.3"
  },
  "toc": {
   "base_numbering": 1,
   "nav_menu": {},
   "number_sections": true,
   "sideBar": true,
   "skip_h1_title": false,
   "title_cell": "Table of Contents",
   "title_sidebar": "Contents",
   "toc_cell": false,
   "toc_position": {},
   "toc_section_display": true,
   "toc_window_display": true
  }
 },
 "nbformat": 4,
 "nbformat_minor": 2
}
