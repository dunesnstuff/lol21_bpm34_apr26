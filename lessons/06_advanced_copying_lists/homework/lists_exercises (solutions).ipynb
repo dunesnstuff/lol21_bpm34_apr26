{
 "cells": [
  {
   "cell_type": "markdown",
   "metadata": {},
   "source": [
    "# Exercises: Lists"
   ]
  },
  {
   "cell_type": "markdown",
   "metadata": {},
   "source": [
    "## Simple Slicing\n",
    "\n",
    "For the list `list1` below,\n",
    "\n",
    "A) Write a slice that returns [0,2,4,6,8] \n",
    "\n",
    "B) Write a slice that returns [1,3,5,7]\n",
    "\n",
    "C) Write a slice that returns [6,5,4,3]\n",
    "\n",
    "D) Write a slice that return [8,5,2]"
   ]
  },
  {
   "cell_type": "code",
   "execution_count": null,
   "metadata": {},
   "outputs": [],
   "source": [
    "# your solution here\n",
    "list1 = [0,1,2,3,4,5,6,7,8,9]\n",
    "\n",
    "# A\n",
    "list1[::2]"
   ]
  },
  {
   "cell_type": "code",
   "execution_count": null,
   "metadata": {},
   "outputs": [],
   "source": [
    "# B\n",
    "list1[1:-1:2]"
   ]
  },
  {
   "cell_type": "code",
   "execution_count": null,
   "metadata": {},
   "outputs": [],
   "source": [
    "# C\n",
    "list1[-4:-8:-1]"
   ]
  },
  {
   "cell_type": "code",
   "execution_count": null,
   "metadata": {},
   "outputs": [],
   "source": [
    "# D\n",
    "list1[-2::-3]"
   ]
  },
  {
   "cell_type": "markdown",
   "metadata": {},
   "source": [
    "## Slicing Nested Lists\n",
    "\n",
    "For the list `list2` below,\n",
    "\n",
    "A) Write a slice that returns [2,['a','b','c'],0] \n",
    "\n",
    "B) Write a slice that return ['a','b','c']\n",
    "\n",
    "C) Write a slice that returns ['b','c']\n",
    "\n",
    "D) Write a slice that returns ['c','a']\n",
    "\n",
    "E) Write a slice that returns [2,0]\n",
    "\n",
    "F) Write a slide that returns ['c','b','a']"
   ]
  },
  {
   "cell_type": "code",
   "execution_count": null,
   "metadata": {},
   "outputs": [],
   "source": [
    "list2 = [0,['a','b','c'],2]\n",
    "\n",
    "# A\n",
    "list2[::-1]"
   ]
  },
  {
   "cell_type": "code",
   "execution_count": null,
   "metadata": {},
   "outputs": [],
   "source": [
    "list2[1]"
   ]
  },
  {
   "cell_type": "code",
   "execution_count": null,
   "metadata": {},
   "outputs": [],
   "source": [
    "# C\n",
    "list2[1][1::]"
   ]
  },
  {
   "cell_type": "code",
   "execution_count": null,
   "metadata": {},
   "outputs": [],
   "source": [
    "# D\n",
    "list2[1][::-2]"
   ]
  },
  {
   "cell_type": "code",
   "execution_count": null,
   "metadata": {},
   "outputs": [],
   "source": [
    "# E\n",
    "list2[::-2]"
   ]
  },
  {
   "cell_type": "code",
   "execution_count": null,
   "metadata": {},
   "outputs": [],
   "source": [
    "# F\n",
    "list2[1][::-1]"
   ]
  },
  {
   "cell_type": "markdown",
   "metadata": {},
   "source": [
    "## List operations\n",
    "\n",
    "For the list `list3` below,\n",
    "\n",
    "A) Find the index ( i ) where a __7__ occurs and return the element from the next index ( i+1 ), in this example if would be 3.\n",
    "\n",
    "B) Calculate the average between the maximum and minimum value of the list\n",
    "\n",
    "C) Using code, determine how many times __3__ occurs in the list\n",
    "\n",
    "D) Replace the last three elements in the list with 'x','y' and 'z', respectively to get [1,8,7,3,'x','y','z']\n",
    "\n",
    "E) Replace the element with index 1 with ['a','b','c'] to get [1,['a','b','c'],7,3,'x','y','z']\n",
    "\n",
    "F) Replace the letter 'b' and 'c' with 'd' and ['e','f'], respectively to get [1,['a','d',['e','f']],7,3,'x','y','z']"
   ]
  },
  {
   "cell_type": "code",
   "execution_count": null,
   "metadata": {},
   "outputs": [],
   "source": [
    "list3 = [1,8,7,3,2,5,3]\n",
    "\n",
    "# A\n",
    "i = list3.index(7)\n",
    "list3[i+1]"
   ]
  },
  {
   "cell_type": "code",
   "execution_count": null,
   "metadata": {},
   "outputs": [],
   "source": [
    "# B\n",
    "(max(list3) + min(list3))/2"
   ]
  },
  {
   "cell_type": "code",
   "execution_count": null,
   "metadata": {},
   "outputs": [],
   "source": [
    "# C\n",
    "list3.count(3)"
   ]
  },
  {
   "cell_type": "code",
   "execution_count": null,
   "metadata": {},
   "outputs": [],
   "source": [
    "# D\n",
    "list3[-3:] = ['x','y','z']\n",
    "list3"
   ]
  },
  {
   "cell_type": "code",
   "execution_count": null,
   "metadata": {},
   "outputs": [],
   "source": [
    "# E\n",
    "list3[1] = ['a','b','c']\n",
    "list3"
   ]
  },
  {
   "cell_type": "code",
   "execution_count": null,
   "metadata": {},
   "outputs": [],
   "source": [
    "# F\n",
    "list3[1][1:] = ['d',['e','f']]\n",
    "list3"
   ]
  },
  {
   "cell_type": "markdown",
   "metadata": {},
   "source": [
    "## Appending, Indexing, Etc.\n",
    "\n",
    "For the list `list4` below,\n",
    "\n",
    "A) Add a __5__ at the end to get [1, 3, 4, 2, 7, 5]\n",
    "\n",
    "B) Add a __7__ at the beginning to get [7, 1, 3, 4, 2, 7, 5]\n",
    "\n",
    "C) Add a __3__ at the index 2 to get [7, 1, 3, 3, 4, 2, 7, 5]\n",
    "\n",
    "D) Remove the last two elements of the list to get [7, 1, 3, 3, 4, 2]\n",
    "\n",
    "E) Reverse the list to get [2, 4, 3, 3, 1, 7]\n",
    "\n",
    "F) Sort the list in place to get [1, 2, 3, 3, 4, 7]"
   ]
  },
  {
   "cell_type": "code",
   "execution_count": null,
   "metadata": {},
   "outputs": [],
   "source": [
    "list4 = [ 1, 3, 4, 2, 7]\n",
    "\n",
    "# A\n",
    "list4.append(5)\n",
    "print(list4)"
   ]
  },
  {
   "cell_type": "code",
   "execution_count": null,
   "metadata": {},
   "outputs": [],
   "source": [
    "# B\n",
    "list4.insert(0, 7)\n",
    "list4"
   ]
  },
  {
   "cell_type": "code",
   "execution_count": null,
   "metadata": {},
   "outputs": [],
   "source": [
    "# C\n",
    "list4.insert(2, 3)\n",
    "list4"
   ]
  },
  {
   "cell_type": "code",
   "execution_count": null,
   "metadata": {},
   "outputs": [],
   "source": [
    "# D\n",
    "del list4[-2::]\n",
    "list4"
   ]
  },
  {
   "cell_type": "code",
   "execution_count": null,
   "metadata": {},
   "outputs": [],
   "source": [
    "# E\n",
    "list4.reverse()\n",
    "list4"
   ]
  },
  {
   "cell_type": "code",
   "execution_count": null,
   "metadata": {},
   "outputs": [],
   "source": [
    "# F\n",
    "list4.sort()\n",
    "list4"
   ]
  },
  {
   "cell_type": "code",
   "execution_count": null,
   "metadata": {},
   "outputs": [],
   "source": []
  }
 ],
 "metadata": {
  "kernelspec": {
   "display_name": "Python 3",
   "language": "python",
   "name": "python3"
  },
  "language_info": {
   "codemirror_mode": {
    "name": "ipython",
    "version": 3
   },
   "file_extension": ".py",
   "mimetype": "text/x-python",
   "name": "python",
   "nbconvert_exporter": "python",
   "pygments_lexer": "ipython3",
   "version": "3.7.3"
  },
  "toc": {
   "base_numbering": 1,
   "nav_menu": {},
   "number_sections": true,
   "sideBar": true,
   "skip_h1_title": false,
   "title_cell": "Table of Contents",
   "title_sidebar": "Contents",
   "toc_cell": false,
   "toc_position": {
    "height": "calc(100% - 180px)",
    "left": "10px",
    "top": "150px",
    "width": "165px"
   },
   "toc_section_display": true,
   "toc_window_display": true
  }
 },
 "nbformat": 4,
 "nbformat_minor": 2
}
