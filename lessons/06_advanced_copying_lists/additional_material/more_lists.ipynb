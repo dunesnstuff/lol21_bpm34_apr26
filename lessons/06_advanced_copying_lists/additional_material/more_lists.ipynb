{
 "cells": [
  {
   "cell_type": "markdown",
   "metadata": {},
   "source": [
    "# Lists"
   ]
  },
  {
   "cell_type": "markdown",
   "metadata": {},
   "source": [
    "__Purpose:__\n",
    "The purpose of this lecture is to explore the List Data Types. We will learn the definition and characteristics of lists, how to create, access data and manipulate lists.  We will learn how indexing and slicing works.\n",
    "\n",
    "__At the end of this lecture you will be able to:__\n",
    "1. Understand the different sequence types in Python\n",
    "2. Create, access, and manipulate lists in Python\n",
    "3. Capable of using indexing and slicing\n",
    "4. Understand membership tests\n",
    "5. Learn how to do concatenation and repetition\n",
    "6. Work with list actions such as len, min, max, index and count\n",
    "7. Sort lists\n",
    "8. Reverse lists\n",
    "9. Add elements to a list with append, extend and insert\n",
    "10. Remove elements from a list with del, remove, pop and clear"
   ]
  },
  {
   "cell_type": "markdown",
   "metadata": {},
   "source": [
    "## 1.1 Sequence Types in Python "
   ]
  },
  {
   "cell_type": "markdown",
   "metadata": {},
   "source": [
    "### 1.1.1 What is a Sequence Type?"
   ]
  },
  {
   "cell_type": "markdown",
   "metadata": {},
   "source": [
    "__Overview:__\n",
    "- __[Sequence Type](https://docs.python.org/3/library/stdtypes.html#sequence-types-list-tuple-range):__ The main Sequence Types in Python refer to `list`, `str`, `tuple` and `range`\n",
    "- Sequence Types in Python have the following characteristics:\n",
    "> - Sequence Types are ordered (each element from left to right is assigned a number in increasing order - this allows us to index (find) elements within the sequence)\n",
    "> - Sequence Types do not have to contain only unique elements\n",
    "> - Sequence Types can be mutable or immutable \n",
    "\n",
    "__Helpful Points:__\n",
    "1. We will explore each Sequence Type individually in the subsequent sections"
   ]
  },
  {
   "cell_type": "markdown",
   "metadata": {},
   "source": [
    "### 1.1.2 Sequence Type Operations"
   ]
  },
  {
   "cell_type": "markdown",
   "metadata": {},
   "source": [
    "__Overview:__\n",
    "- Depending on if the Sequence Type is mutable or immutable, it is subject to a different set of operations:\n",
    ">1. __Mutable Sequence Types:__ Mutable Sequence Types can be operated on using the __[Common Sequence Operations](https://docs.python.org/3/library/stdtypes.html#common-sequence-operations)__  AND the __[Mutable Sequence Type Operations](https://docs.python.org/3/library/stdtypes.html#mutable-sequence-types)__ \n",
    ">2. __Immutable Sequence Types:__ Immutable Sequence Types can be operated on using ONLY the __Common Sequence Operations__"
   ]
  },
  {
   "cell_type": "markdown",
   "metadata": {},
   "source": [
    "- The __Common Sequence Operations__ can be grouped together in the following categories:\n",
    "> 1. Indexing and Slicing  \n",
    "> 2. Membership Test Operations\n",
    "> 3. Concatenation and Repetition\n",
    "> 4. Miscalleneous Actions such as length, max, min, index, count, and sort"
   ]
  },
  {
   "cell_type": "markdown",
   "metadata": {},
   "source": [
    "- The __Mutable Sequence Type Operations__ can be grouped together in the following categories:\n",
    "> 1. Changing elements\n",
    "> 2. Adding elements\n",
    "> 3. Removing elements\n",
    "> 4. Other operations (reverse, copy)"
   ]
  },
  {
   "cell_type": "markdown",
   "metadata": {},
   "source": [
    "__Helpful Points:__\n",
    "1. While exploring each Sequence Type below, we will also practice using the appropriate set of Sequence Type Operations based on the type's mutability "
   ]
  },
  {
   "cell_type": "markdown",
   "metadata": {},
   "source": [
    "### 1.1.3 Overview of Sequence Type 1 - Lists"
   ]
  },
  {
   "cell_type": "markdown",
   "metadata": {},
   "source": [
    "__Overview:__\n",
    "- __[Lists](https://docs.python.org/3/library/stdtypes.html#lists):__ Lists are mutable sequences that are typically used to store collections of __homogenous__ (similar) items, but are capable of storing possibly different types (`bool`, `str`, `int`, etc.)\n",
    "\n",
    "__Helpful Points:__\n",
    "1. Lists are defined by square brackets `[` and `]`\n",
    "2. Each element in a list is separated by a comma"
   ]
  },
  {
   "cell_type": "markdown",
   "metadata": {},
   "source": [
    "### 1.1.4 Creating Lists "
   ]
  },
  {
   "cell_type": "markdown",
   "metadata": {},
   "source": [
    "__Overview:__\n",
    "- There are multiple ways to create a List in Python:\n",
    "> 1. Method 1: Using a pair of square brackets to denote the empty list\n",
    "> 2. Method 2: Using square brackets, separating items with commas\n",
    "> 3.  Method 3: Using the __[Type Constructor](https://en.wikipedia.org/wiki/Type_constructor)__ \n",
    "\n",
    "__Helpful Points:__\n",
    "1. It is also possible to create a list within a list also known as a __[Nested](https://en.wikipedia.org/wiki/Nesting_(computing))__ List\n",
    "\n",
    "__Practice:__ Examples of creating lists in Python"
   ]
  },
  {
   "cell_type": "markdown",
   "metadata": {},
   "source": [
    "### Example 1 (Create List with Method 1)"
   ]
  },
  {
   "cell_type": "code",
   "execution_count": null,
   "metadata": {},
   "outputs": [],
   "source": [
    "empty_list = []\n",
    "print(empty_list)"
   ]
  },
  {
   "cell_type": "code",
   "execution_count": null,
   "metadata": {},
   "outputs": [],
   "source": [
    "type(empty_list)"
   ]
  },
  {
   "cell_type": "code",
   "execution_count": null,
   "metadata": {},
   "outputs": [],
   "source": [
    "isinstance(empty_list, list)"
   ]
  },
  {
   "cell_type": "markdown",
   "metadata": {},
   "source": [
    "### Example 2 (Create List with Method 2)"
   ]
  },
  {
   "cell_type": "code",
   "execution_count": null,
   "metadata": {},
   "outputs": [],
   "source": [
    "non_empty_list = [True, 1.0, \"Clark\"]\n",
    "print(non_empty_list)"
   ]
  },
  {
   "cell_type": "markdown",
   "metadata": {},
   "source": [
    "Notice that the list can contain objects of different types (here we have `bool`, `float`, and `str`)"
   ]
  },
  {
   "cell_type": "code",
   "execution_count": null,
   "metadata": {},
   "outputs": [],
   "source": [
    "type(non_empty_list)"
   ]
  },
  {
   "cell_type": "code",
   "execution_count": null,
   "metadata": {},
   "outputs": [],
   "source": [
    "isinstance(non_empty_list, list)"
   ]
  },
  {
   "cell_type": "markdown",
   "metadata": {},
   "source": [
    "### Example 3 (Create List with Method 3)"
   ]
  },
  {
   "cell_type": "code",
   "execution_count": null,
   "metadata": {},
   "outputs": [],
   "source": [
    "empty_list_1 = list()\n",
    "print(empty_list_1)"
   ]
  },
  {
   "cell_type": "code",
   "execution_count": null,
   "metadata": {},
   "outputs": [],
   "source": [
    "type(empty_list_1)"
   ]
  },
  {
   "cell_type": "code",
   "execution_count": null,
   "metadata": {},
   "outputs": [],
   "source": [
    "isinstance(empty_list_1, list)"
   ]
  },
  {
   "cell_type": "markdown",
   "metadata": {},
   "source": [
    "### Example 4 (Create Nested List with Method 2)"
   ]
  },
  {
   "cell_type": "code",
   "execution_count": null,
   "metadata": {},
   "outputs": [],
   "source": [
    "list_1 = [\"Clark\", 1.0]\n",
    "nested_list = [list_1, True]\n",
    "print(nested_list)\n",
    "print(len(nested_list))"
   ]
  },
  {
   "cell_type": "code",
   "execution_count": null,
   "metadata": {},
   "outputs": [],
   "source": [
    "type(nested_list)"
   ]
  },
  {
   "cell_type": "code",
   "execution_count": null,
   "metadata": {},
   "outputs": [],
   "source": [
    "isinstance(nested_list, list)"
   ]
  },
  {
   "cell_type": "markdown",
   "metadata": {},
   "source": [
    "### Problem 1\n",
    "\n",
    "Create a list that contains five elements which are:\n",
    "- First Name\n",
    "- Temperature in your location\n",
    "- C or F indicating if the temperature is in Celcius or Fahrenheit\n",
    "- Name of the City you are in\n",
    "- A list that contains two elements, the longitude and latitude of your city"
   ]
  },
  {
   "cell_type": "code",
   "execution_count": null,
   "metadata": {},
   "outputs": [],
   "source": [
    "### your code here\n"
   ]
  },
  {
   "cell_type": "markdown",
   "metadata": {},
   "source": [
    "### 1.1.5 Accessing Elements within Lists"
   ]
  },
  {
   "cell_type": "markdown",
   "metadata": {},
   "source": [
    "__Overview:__\n",
    "- Each item within a list (those separated by commas) are referred to as __elements__ and they can easily be accessed (for example, if you want to extract the second element of a list)\n",
    "- The reason why elements are so accessible is because each element is assigned a number beginning with 0 (since Python is __[Zero-Based](https://en.wikipedia.org/wiki/Zero-based_numbering)__)\n",
    "- The process of accessing elements within lists (or any sequence type and some other types) is known as __indexing__\n",
    "- Indexing is a type of __[Common Sequence Operations](https://docs.python.org/3/library/stdtypes.html#common-sequence-operations)__ (see the 5th through 7th row in the table)\n",
    "> 1. __Index Method 1__ (one element): Single-Indexing is done by `list_name[i]` where `i` refers to the index or element that you want to access<br>\n",
    "> \\- The type of the output of a one element index is whatever type that element is of (`int`, `str`, etc.)\n",
    "> 2. __Index Method 2__ (multiple elements): Multi-Indexing (__slicing__) is done by `list_name[i:j]` where `i` refers to the index or element that you want to start the slice at and `j` refers to the index that you want to end the slice at, but not including this element __([half-open interval to the right](https://en.wikipedia.org/wiki/Interval_(mathematics))__ otherwise written as `[i,j)`<br>\n",
    "> \\- The type of the output of a multiple element index is a `list`<br>\n",
    "> \\- The general form of a slice is `[start:stop:step]`<br>\n",
    "> \\- The `start`, `stop`, or `step` can be ommitted and Python will infer what to do (see examples)<br>\n",
    "> \\- The `step` defaults to 1 if not specified otherwise<br>\n",
    "> \\- The `step` can be positive or negative. If positive, the slicing moves left to right (forward). If negative, the slicing moves from right to left (backward)\n",
    "\n",
    "__Helpful Points:__\n",
    "1. It is possible to index both regular lists and nested lists, but the way you do it in both cases is a bit different so we will explore each scenario separately\n",
    "2. Lists can only be indexed by `int` and not any other type (i.e. `bool`)\n",
    "3. Python has some peculiar yet helpful characteristics with indexing out-of-range which are in the programmer's favor (see examples)\n",
    "\n",
    "__Practice:__ Examples of accessing elements within lists "
   ]
  },
  {
   "cell_type": "markdown",
   "metadata": {},
   "source": [
    "### Example 1 (Index Method 1 with Non-Nested Lists and Positive Index):"
   ]
  },
  {
   "cell_type": "code",
   "execution_count": null,
   "metadata": {},
   "outputs": [],
   "source": [
    "my_list = [4, 5, \"G\", 1]\n",
    "# my_list_fwd_index = [0, 1, 2, 3]"
   ]
  },
  {
   "cell_type": "code",
   "execution_count": null,
   "metadata": {},
   "outputs": [],
   "source": [
    "# oth element from the left (with and without saving list as a variable)\n",
    "print(my_list[0])\n",
    "print([4, 5, \"G\", 1][0])\n",
    "type(my_list[0])"
   ]
  },
  {
   "cell_type": "code",
   "execution_count": null,
   "metadata": {},
   "outputs": [],
   "source": [
    "# 1st element from the left (with and without saving list as a variable)\n",
    "print(my_list[1])\n",
    "print([4, 5, \"G\", 1][1])\n",
    "type(my_list[1])"
   ]
  },
  {
   "cell_type": "code",
   "execution_count": null,
   "metadata": {},
   "outputs": [],
   "source": [
    "# 2nd element from the left (with and without saving list as a variable)\n",
    "print(my_list[2])\n",
    "print([4, 5, \"G\", 1][2])\n",
    "type(my_list[2])"
   ]
  },
  {
   "cell_type": "code",
   "execution_count": null,
   "metadata": {},
   "outputs": [],
   "source": [
    "# 3rd element from the left (with and without saving list as a variable)\n",
    "print(my_list[3])\n",
    "print([4, 5, \"G\", 1][3])\n",
    "type(my_list[3])"
   ]
  },
  {
   "cell_type": "markdown",
   "metadata": {},
   "source": [
    "Note that if a list is not saved as a variable and then indexed, the first set of square brackets refer to the left and right bound of the list and the next set of the square brackets refer to the \"one-element index.\""
   ]
  },
  {
   "cell_type": "markdown",
   "metadata": {},
   "source": [
    "### Example 2 (Index Method 2 with Non-Nested List, Positive Slice and Forward Direction):"
   ]
  },
  {
   "cell_type": "code",
   "execution_count": null,
   "metadata": {},
   "outputs": [],
   "source": [
    "my_list_1 = [1, 4, 2, 5, 5, 1]"
   ]
  },
  {
   "cell_type": "code",
   "execution_count": null,
   "metadata": {},
   "outputs": [],
   "source": [
    "# slice from 1st element to 4th element (5th element minus one) by step 1 \n",
    "print(my_list_1[1:5])\n",
    "type(my_list_1[1:5])"
   ]
  },
  {
   "cell_type": "code",
   "execution_count": null,
   "metadata": {},
   "outputs": [],
   "source": [
    "# slice from 3rd element to 3rd element (4th element minus one) by step 1 \n",
    "print(my_list_1[3:4])\n",
    "type(my_list_1[3:4])"
   ]
  },
  {
   "cell_type": "code",
   "execution_count": null,
   "metadata": {},
   "outputs": [],
   "source": [
    "# slice from 3rd element to 2nd element (3rd element minus one) by step 1\n",
    "print(my_list_1[3:3])\n",
    "type(my_list_1[3:3])"
   ]
  },
  {
   "cell_type": "markdown",
   "metadata": {},
   "source": [
    "In the two cases above, the `step` argument of the slice was ommitted, therefore the slices were incremented by `1` as the default setting. We can override the default by inputting a number in the `step` argument. "
   ]
  },
  {
   "cell_type": "code",
   "execution_count": null,
   "metadata": {},
   "outputs": [],
   "source": [
    "# slice from 1st element to 4th element (5th element minus one) by step 2 \n",
    "print(my_list_1[1:5:2])"
   ]
  },
  {
   "cell_type": "markdown",
   "metadata": {},
   "source": [
    "### Example 3 (Index Method 2 with Non-Nested List, Positive Slice, Forward Direction and Ommitted Argument(s)):"
   ]
  },
  {
   "cell_type": "code",
   "execution_count": null,
   "metadata": {},
   "outputs": [],
   "source": [
    "my_list_1 = [1, 4, 2, 5, 5, 1]"
   ]
  },
  {
   "cell_type": "code",
   "execution_count": null,
   "metadata": {},
   "outputs": [],
   "source": [
    "# ommitting stop and step arguments\n",
    "# return 1st element to last element \n",
    "print(my_list_1[1:])"
   ]
  },
  {
   "cell_type": "markdown",
   "metadata": {},
   "source": [
    "If the stop argument is ommitted, all the remaining elements will be returned from the start element "
   ]
  },
  {
   "cell_type": "code",
   "execution_count": null,
   "metadata": {},
   "outputs": [],
   "source": [
    "# ommitting start and step arguments\n",
    "# return 0th element to 2nd element (3rd element minus one)\n",
    "print(my_list_1[:3])"
   ]
  },
  {
   "cell_type": "markdown",
   "metadata": {},
   "source": [
    "If the start argument is ommitted, the slice begins at the 0th element and returns all elements to the stop element minus one"
   ]
  },
  {
   "cell_type": "code",
   "execution_count": null,
   "metadata": {},
   "outputs": [],
   "source": [
    "# ommitting start and stop arguments\n",
    "# return all elements at step 2\n",
    "print(my_list_1[::2])"
   ]
  },
  {
   "cell_type": "markdown",
   "metadata": {},
   "source": [
    "If the start and stop arguments are ommitted, the slice will return all elements based on the step argument"
   ]
  },
  {
   "cell_type": "markdown",
   "metadata": {},
   "source": [
    "### Example 4 (Index Method 1 with Non-Nested List and Negative Index):"
   ]
  },
  {
   "cell_type": "code",
   "execution_count": null,
   "metadata": {},
   "outputs": [],
   "source": [
    "my_list = [4, 5, \"G\", 1]\n",
    "# my_list_bwd_index = [-4, -3, -2, -1]"
   ]
  },
  {
   "cell_type": "code",
   "execution_count": null,
   "metadata": {
    "scrolled": true
   },
   "outputs": [],
   "source": [
    "# 1st element from the right (with and without saving list as a variable)\n",
    "print(my_list[-1])\n",
    "print([4, 5, \"G\", 1][-1])\n",
    "type(my_list[-1])"
   ]
  },
  {
   "cell_type": "code",
   "execution_count": null,
   "metadata": {},
   "outputs": [],
   "source": [
    "# same as above \n",
    "print(my_list[3])"
   ]
  },
  {
   "cell_type": "code",
   "execution_count": null,
   "metadata": {
    "scrolled": true
   },
   "outputs": [],
   "source": [
    "# 2nd element from the right (with and without saving list as a variable)\n",
    "print(my_list[-2])\n",
    "print([4, 5, \"G\", 1][-2])\n",
    "type(my_list[-2])"
   ]
  },
  {
   "cell_type": "code",
   "execution_count": null,
   "metadata": {},
   "outputs": [],
   "source": [
    "# same as above \n",
    "print(my_list[2])"
   ]
  },
  {
   "cell_type": "code",
   "execution_count": null,
   "metadata": {},
   "outputs": [],
   "source": [
    "# 3rd element from the right (with and without saving list as a variable)\n",
    "print(my_list[-3])\n",
    "print([4, 5, \"G\", 1][-3])\n",
    "type(my_list[-3])"
   ]
  },
  {
   "cell_type": "code",
   "execution_count": null,
   "metadata": {},
   "outputs": [],
   "source": [
    "# same as above \n",
    "print(my_list[1])"
   ]
  },
  {
   "cell_type": "code",
   "execution_count": null,
   "metadata": {},
   "outputs": [],
   "source": [
    "# 4th element from the right (with and without saving list as a variable)\n",
    "print(my_list[-4])\n",
    "print([4, 5, \"G\", 1][-4])\n",
    "type(my_list[-4])"
   ]
  },
  {
   "cell_type": "code",
   "execution_count": null,
   "metadata": {},
   "outputs": [],
   "source": [
    "# same as above\n",
    "print(my_list[0])"
   ]
  },
  {
   "cell_type": "markdown",
   "metadata": {},
   "source": [
    "### Example 5 (Index Method 2 with Non-Nested List, Negative Slice and Backward Direction):"
   ]
  },
  {
   "cell_type": "code",
   "execution_count": null,
   "metadata": {},
   "outputs": [],
   "source": [
    "my_list_1 = [1, 4, 2, 5, 5, 1]"
   ]
  },
  {
   "cell_type": "code",
   "execution_count": null,
   "metadata": {},
   "outputs": [],
   "source": [
    "# slice from 4th element to 2nd element (1st element plus one) by step -1 \n",
    "print(my_list_1[4:1:-1])\n",
    "type(my_list_1[4:1:-1])"
   ]
  },
  {
   "cell_type": "markdown",
   "metadata": {},
   "source": [
    "Notice that when the `step` argument is a negative number, Python allows the `start` argument to be larger than the `stop` argument since it understands that we are moving backwards (or from right to left) through the list. Not only does Python allow this behavior, it actually requires it. In the event the `step` argument is negative, the `start` argument must be greater than the `stop` argument or Python will return an empty list. \n",
    "\n",
    "We can re-write the above example, but ommitting the step argument (so it defaults to 1) and using start and stop arguments as their negative index numbers and compare the results. "
   ]
  },
  {
   "cell_type": "code",
   "execution_count": null,
   "metadata": {},
   "outputs": [],
   "source": [
    "# slice from 4th element to the right to the 2nd element to the right (1st element to the right plus one) by step 1\n",
    "print(my_list_1[-4:-1])\n",
    "type(my_list_1[-4:-1])"
   ]
  },
  {
   "cell_type": "markdown",
   "metadata": {},
   "source": [
    "Compare the order of this list to the one above. This list here is printed forward despite having negative slicing index and the list above is printed backward despite having positive slicing index. The reason for this \"tricky\" behavior lies in the sign of the `step` argument. A positive `step` argument will ALWAYS print your list in the forward direction, whereas a negative `step` argument will ALWAYS print your list in the backward direction. Don't get confused by the sign of the indices - these do NOT dictate the sign in which the list is printed, but only dictate which side of the list you begin counting at (i.e. left or right side). "
   ]
  },
  {
   "cell_type": "code",
   "execution_count": null,
   "metadata": {},
   "outputs": [],
   "source": [
    "# slice from 4th element to 4th element (3rd element plus one) by step -1 \n",
    "print(my_list_1[4:3:-1])\n",
    "type(my_list_1[4:3:-1])"
   ]
  },
  {
   "cell_type": "markdown",
   "metadata": {},
   "source": [
    "We can also change the decrement interval by changing the value in the `step` argument. "
   ]
  },
  {
   "cell_type": "code",
   "execution_count": null,
   "metadata": {},
   "outputs": [],
   "source": [
    "# slice from 5th element to 3rd element (2nd element plus one) by step -2 \n",
    "print(my_list_1[5:2:-2])"
   ]
  },
  {
   "cell_type": "markdown",
   "metadata": {},
   "source": [
    "### Example 6 (Index Method 2 with Non-Nested List, Negative Slice, Backward Step and Ommitted Argument(s) ):"
   ]
  },
  {
   "cell_type": "code",
   "execution_count": null,
   "metadata": {},
   "outputs": [],
   "source": [
    "my_list_1 = [1, 4, 2, 5, 5, 1]"
   ]
  },
  {
   "cell_type": "code",
   "execution_count": null,
   "metadata": {},
   "outputs": [],
   "source": [
    "# ommitting stop and step arguments\n",
    "# return the 2nd element from the right to the end of the list \n",
    "print(my_list_1[-2:])"
   ]
  },
  {
   "cell_type": "markdown",
   "metadata": {},
   "source": [
    "Positive step means the list will be printed in a forward direction, negative index means we start counting from the right side moving left. "
   ]
  },
  {
   "cell_type": "code",
   "execution_count": null,
   "metadata": {},
   "outputs": [],
   "source": [
    "# ommitting start and step arguments\n",
    "# returns the 0th element to the fourth element from the right \n",
    "print(my_list_1[:-3])"
   ]
  },
  {
   "cell_type": "markdown",
   "metadata": {},
   "source": [
    "Positive step means the list will be printed in a forward direction, negative index means we start counting from the right side moving left. "
   ]
  },
  {
   "cell_type": "code",
   "execution_count": null,
   "metadata": {},
   "outputs": [],
   "source": [
    "# ommitting start and stop arguments\n",
    "# return all elements at step -2\n",
    "print(my_list_1[::-2])"
   ]
  },
  {
   "cell_type": "markdown",
   "metadata": {},
   "source": [
    "Negative step means the list will be printed in a backward direction, positive indices means we start counting from the left side moving right. "
   ]
  },
  {
   "cell_type": "code",
   "execution_count": null,
   "metadata": {},
   "outputs": [],
   "source": [
    "# same as above\n",
    "print(my_list_1[5:0:-2])"
   ]
  },
  {
   "cell_type": "code",
   "execution_count": null,
   "metadata": {},
   "outputs": [],
   "source": [
    "# same as above\n",
    "print(my_list_1[-1:-6:-2])"
   ]
  },
  {
   "cell_type": "markdown",
   "metadata": {},
   "source": [
    "### Example 7 (Index Method 1 with Nested List):"
   ]
  },
  {
   "cell_type": "code",
   "execution_count": null,
   "metadata": {},
   "outputs": [],
   "source": [
    "list_1 = [\"Clark\", 1.0]\n",
    "nested_list = [list_1, True]\n",
    "print(nested_list)"
   ]
  },
  {
   "cell_type": "code",
   "execution_count": null,
   "metadata": {},
   "outputs": [],
   "source": [
    "# access 0th element of the outer list\n",
    "nested_list[0]"
   ]
  },
  {
   "cell_type": "code",
   "execution_count": null,
   "metadata": {},
   "outputs": [],
   "source": [
    "# access 1st element of the inner list \n",
    "nested_list[0][1]"
   ]
  },
  {
   "cell_type": "markdown",
   "metadata": {},
   "source": [
    "### Example 8 (Index Method 2 with Nested List):"
   ]
  },
  {
   "cell_type": "code",
   "execution_count": null,
   "metadata": {},
   "outputs": [],
   "source": [
    "# slice from 0th element to 0th element (1st element minus one) with step 1\n",
    "nested_list[0:1]"
   ]
  },
  {
   "cell_type": "markdown",
   "metadata": {},
   "source": [
    "Recall that when we use Method 2 (slicing), the output is a `list`. Now in this case since the element we selected is also a list, our result is a list within a list. "
   ]
  },
  {
   "cell_type": "markdown",
   "metadata": {},
   "source": [
    "### Example 9 (Indexing Out-of-Range - Error):"
   ]
  },
  {
   "cell_type": "code",
   "execution_count": null,
   "metadata": {},
   "outputs": [],
   "source": [
    "my_list_1 = [1, 4, 2, 5, 5, 1]"
   ]
  },
  {
   "cell_type": "code",
   "execution_count": null,
   "metadata": {},
   "outputs": [],
   "source": [
    "# will yield an error\n",
    "my_list_1[10]"
   ]
  },
  {
   "cell_type": "markdown",
   "metadata": {},
   "source": [
    "An `IndexError` is raised here since the maximum element of the variable `my_list_1` is 5 and we asked for the 10th element here. "
   ]
  },
  {
   "cell_type": "markdown",
   "metadata": {},
   "source": [
    "### Example 10 (Indexing Out-of-Range - No Error):"
   ]
  },
  {
   "cell_type": "code",
   "execution_count": null,
   "metadata": {},
   "outputs": [],
   "source": [
    "# will not yield an error\n",
    "my_list_1[:10]"
   ]
  },
  {
   "cell_type": "markdown",
   "metadata": {},
   "source": [
    "We can see that although the 10th element in the variable `my_list_1` does not exist, Python's interpreter does not raise an error. The reason being is that the interpreter understands that the `stop` argument in the slice is out-of-index and should be interpreted instead as the end of the list. "
   ]
  },
  {
   "cell_type": "code",
   "execution_count": null,
   "metadata": {},
   "outputs": [],
   "source": [
    "# will not yield an error\n",
    "my_list_1[10:]"
   ]
  },
  {
   "cell_type": "markdown",
   "metadata": {},
   "source": [
    "We can see that although the 10th element in the variable `my_list_1` does not exist, Python's interpreter does not raise an error. The reason being is that the interpreter understands that the `start` argument in the slice is out-of-index and should be interpreted instead as an empty list. "
   ]
  },
  {
   "cell_type": "markdown",
   "metadata": {},
   "source": [
    "### Problem 2:\n",
    "\n",
    "Create a list and enter in the items `\"c\"`, `\"a\"`, `\"b\"`, `1`, `3`, `2` then reverse this list so it looks like `2`, `3`, ... Print your result.  \n",
    "\n",
    "- Use list slicing in your answer \n",
    "- Do not use any embedded functions in Python to reverse the list "
   ]
  },
  {
   "cell_type": "code",
   "execution_count": null,
   "metadata": {},
   "outputs": [],
   "source": [
    "# Write your code here\n",
    "\n",
    "\n"
   ]
  },
  {
   "cell_type": "markdown",
   "metadata": {},
   "source": [
    "### Problem 3:\n",
    "\n",
    "Create a list and enter in the items `\"c\"`, `\"a\"`, `\"b\"`, `1`, `3`, `2` then use slicing to pull out the subset `[\"b\", 3]` ... Print your result.\n",
    "\n",
    "- Use list slicing in your answer "
   ]
  },
  {
   "cell_type": "code",
   "execution_count": null,
   "metadata": {},
   "outputs": [],
   "source": [
    "# Write your code here\n",
    "\n",
    "\n"
   ]
  },
  {
   "cell_type": "markdown",
   "metadata": {},
   "source": [
    "### 1.1.6 More List Operations"
   ]
  },
  {
   "cell_type": "markdown",
   "metadata": {},
   "source": [
    "__Overview:__\n",
    "- Recall in a precious section the types of operations available for Sequence Types and specifically Mutable Sequence Types\n",
    "- Since the `list` type is mutable, we can perform both the Common Sequence Operations AND the Mutable Sequence Type Operations \n",
    "\n",
    "__Helpful Points:__\n",
    "1. Below, Part 1 will cover the Common Sequence Type Operations (membership test operations, list concatenation and repetition, and misc. actions)\n",
    "2. Below, Part 2 will cover the Mutable Type Sequence Operations (changing elements, adding elements, and removing elements)\n",
    "\n",
    "__Practice:__ Examples of List Operations in Python "
   ]
  },
  {
   "cell_type": "markdown",
   "metadata": {},
   "source": [
    "### Part 1: Common Sequence Type Operations "
   ]
  },
  {
   "cell_type": "markdown",
   "metadata": {},
   "source": [
    "### Example 1.1 (Membership Test Operations - `in` for lists):"
   ]
  },
  {
   "cell_type": "markdown",
   "metadata": {},
   "source": [
    "- Recall Membership Test Operations for `str` types\n",
    "- Here, Membership Test Operations are used in the same fashion and the meaning of the operators `in` and `not in` are the same as described previously"
   ]
  },
  {
   "cell_type": "code",
   "execution_count": null,
   "metadata": {},
   "outputs": [],
   "source": [
    "my_list = [\"G\", \"R\", 1, True]"
   ]
  },
  {
   "cell_type": "code",
   "execution_count": null,
   "metadata": {},
   "outputs": [],
   "source": [
    "my_string = \"Clark\""
   ]
  },
  {
   "cell_type": "code",
   "execution_count": null,
   "metadata": {},
   "outputs": [],
   "source": [
    "\"\" in my_string"
   ]
  },
  {
   "cell_type": "code",
   "execution_count": null,
   "metadata": {},
   "outputs": [],
   "source": [
    "1 in my_list"
   ]
  },
  {
   "cell_type": "code",
   "execution_count": null,
   "metadata": {},
   "outputs": [],
   "source": [
    "[] in my_list"
   ]
  },
  {
   "cell_type": "code",
   "execution_count": null,
   "metadata": {},
   "outputs": [],
   "source": [
    "\"\" in my_list"
   ]
  },
  {
   "cell_type": "markdown",
   "metadata": {},
   "source": [
    "We can see that the same behavior that was present for strings (empty strings are always considered to be a member of a string), is not also true with lists. An empty list is not always a member of a list and an empty string is not always a member of a list. "
   ]
  },
  {
   "cell_type": "code",
   "execution_count": null,
   "metadata": {},
   "outputs": [],
   "source": [
    "my_list_1 = [[], \"\", my_list]\n",
    "print(my_list_1)"
   ]
  },
  {
   "cell_type": "code",
   "execution_count": null,
   "metadata": {},
   "outputs": [],
   "source": [
    "[] in my_list_1"
   ]
  },
  {
   "cell_type": "code",
   "execution_count": null,
   "metadata": {},
   "outputs": [],
   "source": [
    "\"\" in my_list_1"
   ]
  },
  {
   "cell_type": "markdown",
   "metadata": {},
   "source": [
    "After entering an empty list and empty string as elements into the list, both membership tests are now `True`"
   ]
  },
  {
   "cell_type": "code",
   "execution_count": null,
   "metadata": {},
   "outputs": [],
   "source": [
    "\"R\" in my_list_1"
   ]
  },
  {
   "cell_type": "code",
   "execution_count": null,
   "metadata": {},
   "outputs": [],
   "source": [
    "\"R\" in my_list_1[2]"
   ]
  },
  {
   "cell_type": "markdown",
   "metadata": {},
   "source": [
    "In the case of nested lists, unless you specify the element to which the nested list is in, the membership test will not output a `True` result when checking if a value is a member of the list. "
   ]
  },
  {
   "cell_type": "markdown",
   "metadata": {},
   "source": [
    "### Example 1.2 (Membership Test Operations - `not in` for lists):"
   ]
  },
  {
   "cell_type": "code",
   "execution_count": null,
   "metadata": {},
   "outputs": [],
   "source": [
    "\"a\" not in my_list # is the \"a\" not a member of my list "
   ]
  },
  {
   "cell_type": "code",
   "execution_count": null,
   "metadata": {},
   "outputs": [],
   "source": [
    "\"R\" not in my_list"
   ]
  },
  {
   "cell_type": "markdown",
   "metadata": {},
   "source": [
    "### Example 1.3 (Concatenation of Lists):"
   ]
  },
  {
   "cell_type": "markdown",
   "metadata": {},
   "source": [
    "- Note that when using the `+` sign in Python with Sequence Types, it does not refer to vectorized addition\n",
    "- In other words, `list_1` + `list_2` is NOT equal to a new list which is the addition of each term of list_1 and list_2\n",
    "- Instead, the $+$ sign __[concatenates](https://en.wikipedia.org/wiki/Concatenation)__ list_2 to list_1 to make a new list that includes both lists \n",
    "- See below for how the $+$ operator works on Python lists"
   ]
  },
  {
   "cell_type": "code",
   "execution_count": null,
   "metadata": {},
   "outputs": [],
   "source": [
    "[1,2,3] * 3 = [3, 6, 9] # vectorized addition (vectorized operations) DOES NOT HAPPEN IN PYTHON "
   ]
  },
  {
   "cell_type": "code",
   "execution_count": null,
   "metadata": {},
   "outputs": [],
   "source": [
    "list_1 = [\"Clark\", 1, \"a\"] # 3 elements \n",
    "list_2 = [\"Bruce\", 2, \"b\"] # 3 elements \n",
    "list_3 = list_1 + list_2 # 6 elements\n",
    "print(list_3)"
   ]
  },
  {
   "cell_type": "code",
   "execution_count": null,
   "metadata": {},
   "outputs": [],
   "source": [
    "list_1 = [\"Clark\", 1, \"a\"]\n",
    "list_2 = [\"Bruce\", 2]\n",
    "list_3 = list_1 + list_2\n",
    "print(list_3)"
   ]
  },
  {
   "cell_type": "markdown",
   "metadata": {},
   "source": [
    "We can see that the lists do not need to be of equal length to be added."
   ]
  },
  {
   "cell_type": "markdown",
   "metadata": {},
   "source": [
    "### Example 1.4 (Repetition of Lists):"
   ]
  },
  {
   "cell_type": "markdown",
   "metadata": {},
   "source": [
    "- Note that when using the `*` sign in Python with Sequence Types, it does not refer to vectorized multiplication\n",
    "- In other words, list_1 `*` n is NOT equal to a new list which is the multiplication of each term of list_1 by n\n",
    "- Instead, the `*` sign repeats list_1 n times to make a new list\n",
    "- See below for how the `*` operator works on Python lists"
   ]
  },
  {
   "cell_type": "code",
   "execution_count": null,
   "metadata": {},
   "outputs": [],
   "source": [
    "list_1 = [\"Clark\", 1, \"a\"]\n",
    "print(list_1 * 3)"
   ]
  },
  {
   "cell_type": "code",
   "execution_count": null,
   "metadata": {},
   "outputs": [],
   "source": [
    "print(list_1 + list_1 + list_1)"
   ]
  },
  {
   "cell_type": "markdown",
   "metadata": {},
   "source": [
    "### Example 1.5 (Misc. Actions on Lists):"
   ]
  },
  {
   "cell_type": "markdown",
   "metadata": {},
   "source": [
    "- Within the Common Sequence Types, there exist a set of useful functions that can be used as operations on lists (len, min, max, index, count, and sort))"
   ]
  },
  {
   "cell_type": "markdown",
   "metadata": {},
   "source": [
    "### Example 1.5.1 (Simple Actions - `len`, `min`, `max`, `index`, `count`)"
   ]
  },
  {
   "cell_type": "code",
   "execution_count": null,
   "metadata": {},
   "outputs": [],
   "source": [
    "my_list = [1, 36.3, 5, 4, 36.3]"
   ]
  },
  {
   "cell_type": "code",
   "execution_count": null,
   "metadata": {},
   "outputs": [],
   "source": [
    "# find the length of the list (number of elements in the list)\n",
    "len(my_list)"
   ]
  },
  {
   "cell_type": "code",
   "execution_count": null,
   "metadata": {},
   "outputs": [],
   "source": [
    "# find the minimum value of the list (smallest element in the list)\n",
    "min(my_list)"
   ]
  },
  {
   "cell_type": "code",
   "execution_count": null,
   "metadata": {},
   "outputs": [],
   "source": [
    "# find the maximum value of the list (largest element in the list)\n",
    "max(my_list)"
   ]
  },
  {
   "cell_type": "code",
   "execution_count": null,
   "metadata": {},
   "outputs": [],
   "source": [
    "# find the index of the first occurrence of 4 in my_list\n",
    "my_list.index(36.3)"
   ]
  },
  {
   "cell_type": "code",
   "execution_count": null,
   "metadata": {},
   "outputs": [],
   "source": [
    "# find the total number of occurrences of 36.3 in my_list\n",
    "print(my_list.count(36.3))"
   ]
  },
  {
   "cell_type": "markdown",
   "metadata": {},
   "source": [
    "### Example 1.5.2 (Advanced Actions - `sort`)"
   ]
  },
  {
   "cell_type": "markdown",
   "metadata": {},
   "source": [
    "__Overview:__\n",
    "- Since lists are mutable, sorting lists in Python can be done 2 different ways:\n",
    "> 1. __Method 1:__ Using the `sorted()` function. This method does NOT modify the original list, but just returns a copy of the original list. \n",
    "> 2. __Method 2:__ Using the `list.sort()` method. This method DOES modify the original list and returns the original list sorted. \n",
    "\n",
    "__Helpful Points:__\n",
    "1. Whether a function modified the original object or simply returns a copy of the object, but doesn't change the original object deals with a concept called the __[In-Place Algorithm](https://en.wikipedia.org/wiki/In-place_algorithm).__\n",
    "2. __In-Place:__ In-place means that the original object is modified (`list.sort()` method)\n",
    "3. __Not In-Place:__ Not In-place means that the original object is NOT modified (`sorted()` function)\n",
    "4. To determine if you want an in-place or \"not\" in-place method, ask yourself if you need the original list. If you don't need the original list, you will want to use `list.sort()`, if you do need the original list, you will want to use `sorted()`\n",
    "5. See [here](https://docs.python.org/3/howto/sorting.html) for more information on sorting in Python \n",
    "\n",
    "__Practice:__ Examples of sorting in Python "
   ]
  },
  {
   "cell_type": "code",
   "execution_count": null,
   "metadata": {},
   "outputs": [],
   "source": [
    "# sort the list using method 1 (retaining the original variable, simply create a copy )\n",
    "print(sorted(my_list))\n",
    "print(my_list)"
   ]
  },
  {
   "cell_type": "markdown",
   "metadata": {},
   "source": [
    "We can see that the `sorted()` function simply returned a copy of the original list, but when we print the original list, it has not changed. This is an example of not in-place. "
   ]
  },
  {
   "cell_type": "code",
   "execution_count": null,
   "metadata": {},
   "outputs": [],
   "source": [
    "# sort the list using method 2 (overwriting the original variable)\n",
    "print(my_list.sort())\n",
    "print(my_list)"
   ]
  },
  {
   "cell_type": "markdown",
   "metadata": {},
   "source": [
    "We can see that the `list.sort()` method first returns `None` to avoid confusion since no copy was made and then when we print the original list, we see it has changed. This is an example of in-place. "
   ]
  },
  {
   "cell_type": "markdown",
   "metadata": {},
   "source": [
    "### Example 1.5.3 (Reversing Lists):"
   ]
  },
  {
   "cell_type": "markdown",
   "metadata": {},
   "source": [
    "We have already seen some manual ways of reversing lists using slicing. However, Python also offers a convenient `reverse()` function for mutable sequence types. See example below:"
   ]
  },
  {
   "cell_type": "code",
   "execution_count": null,
   "metadata": {},
   "outputs": [],
   "source": [
    "my_list = [100, 101, 102]"
   ]
  },
  {
   "cell_type": "code",
   "execution_count": null,
   "metadata": {},
   "outputs": [],
   "source": [
    "my_list.reverse() # reverses the list (in-place)\n",
    "print(my_list)"
   ]
  },
  {
   "cell_type": "code",
   "execution_count": null,
   "metadata": {},
   "outputs": [],
   "source": [
    "my_list = [100, 101, 102]\n",
    "my_list[::-1] # manual implementation (not in-place)"
   ]
  },
  {
   "cell_type": "code",
   "execution_count": null,
   "metadata": {},
   "outputs": [],
   "source": [
    "print(my_list)"
   ]
  },
  {
   "cell_type": "markdown",
   "metadata": {},
   "source": [
    "### Part 2: Mutable Sequence Type Operations"
   ]
  },
  {
   "cell_type": "markdown",
   "metadata": {},
   "source": [
    "### Example 2.1 (Changing Elements of Lists):"
   ]
  },
  {
   "cell_type": "markdown",
   "metadata": {},
   "source": [
    "- Elements within a list can be changed using both index and slices"
   ]
  },
  {
   "cell_type": "markdown",
   "metadata": {},
   "source": [
    "### Example 2.1.1 (Changing Elements of Lists with Indexing):"
   ]
  },
  {
   "cell_type": "code",
   "execution_count": null,
   "metadata": {},
   "outputs": [],
   "source": [
    "my_list = [1, 4, 36.3, \"G\", True]"
   ]
  },
  {
   "cell_type": "code",
   "execution_count": null,
   "metadata": {},
   "outputs": [],
   "source": [
    "a = 1 # the variable is assigned a value of 1"
   ]
  },
  {
   "cell_type": "code",
   "execution_count": null,
   "metadata": {},
   "outputs": [],
   "source": [
    "my_list[1]\n",
    "# change element by index\n",
    "my_list[1] = \"Change\" # the element at index 1 is assigned a value of \"Change\"\n",
    "print(my_list)"
   ]
  },
  {
   "cell_type": "markdown",
   "metadata": {},
   "source": [
    "### Example 2.1.2 (Changing Elements of Lists with Slices):"
   ]
  },
  {
   "cell_type": "code",
   "execution_count": null,
   "metadata": {},
   "outputs": [],
   "source": [
    "my_list[2:4]\n",
    "# change element by slice with step 1 \n",
    "my_list = [1, 4, 36.3, \"G\", True]\n",
    "my_list[2:4]  = [\"Change1\", \"Change2\"] # my_list[2:4] grab element 2, 3 [2,4)\n",
    "print(my_list)"
   ]
  },
  {
   "cell_type": "code",
   "execution_count": null,
   "metadata": {},
   "outputs": [],
   "source": [
    "# change element by slice with step 2\n",
    "my_list = [1, 4, 36.3, \"G\", True]\n",
    "my_list[0:5:2] = [\"Change1\", \"Change2\", \"Change3\"]\n",
    "print(my_list)"
   ]
  },
  {
   "cell_type": "markdown",
   "metadata": {},
   "source": [
    "### Example 2.2 (Adding Elements to Lists):"
   ]
  },
  {
   "cell_type": "markdown",
   "metadata": {},
   "source": [
    "- Elements can be added to lists at the beginning, in the middle and at the end\n",
    "- To add elements to lists in any of these places, it is possible to use both the built-in functions from Python and manual operations"
   ]
  },
  {
   "cell_type": "markdown",
   "metadata": {},
   "source": [
    "### Example 2.2.1 (Adding Elements to the End of Lists):"
   ]
  },
  {
   "cell_type": "markdown",
   "metadata": {},
   "source": [
    "There are 2 main methods of adding elements to the end of lists each having their own equivalent manual method:"
   ]
  },
  {
   "cell_type": "markdown",
   "metadata": {},
   "source": [
    "### Method 1: `append`"
   ]
  },
  {
   "cell_type": "code",
   "execution_count": null,
   "metadata": {},
   "outputs": [],
   "source": [
    "my_list = [1, 4, 36.3, \"G\", True]"
   ]
  },
  {
   "cell_type": "code",
   "execution_count": null,
   "metadata": {},
   "outputs": [],
   "source": [
    "# find the length of my_list\n",
    "len(my_list)"
   ]
  },
  {
   "cell_type": "code",
   "execution_count": null,
   "metadata": {},
   "outputs": [],
   "source": [
    "# add element with Python built-in method append\n",
    "my_list.append(\"New\") # append \"New\" to the end of the list (in-place)\n",
    "print(my_list)"
   ]
  },
  {
   "cell_type": "code",
   "execution_count": null,
   "metadata": {},
   "outputs": [],
   "source": [
    "len(my_list)"
   ]
  },
  {
   "cell_type": "markdown",
   "metadata": {},
   "source": [
    "You can see `dot notation` here which means that we are going \"inside\" the variable `my_list` and accessing a method that it has in its \"repertoire.\" Don't worry too much about this for now as we will go explore methods/functions more in depth in a future lecture. "
   ]
  },
  {
   "cell_type": "markdown",
   "metadata": {},
   "source": [
    "### manual `append` method using slicing `[:]`"
   ]
  },
  {
   "cell_type": "code",
   "execution_count": null,
   "metadata": {},
   "outputs": [],
   "source": [
    "# manual equivalent of append in Python \n",
    "my_list = [1, 4, 36.3, \"G\", True]\n",
    "my_list[len(my_list):len(my_list)] = [\"New\"]\n",
    "print(my_list)"
   ]
  },
  {
   "cell_type": "markdown",
   "metadata": {},
   "source": [
    "This manual operation works because we are telling Python to insert a new sequence of items at the 5th position (which is at the end of the list since the list has length 5)"
   ]
  },
  {
   "cell_type": "markdown",
   "metadata": {},
   "source": [
    "### Method 2: `extend`"
   ]
  },
  {
   "cell_type": "code",
   "execution_count": null,
   "metadata": {},
   "outputs": [],
   "source": [
    "my_list = [1, 4, 36.3, \"G\", True]"
   ]
  },
  {
   "cell_type": "code",
   "execution_count": null,
   "metadata": {},
   "outputs": [],
   "source": [
    "# add element with Python built-in method extend \n",
    "my_list.extend([\"New\"]) # extend the list by adding \"New\" (in-place)\n",
    "print(my_list)"
   ]
  },
  {
   "cell_type": "markdown",
   "metadata": {},
   "source": [
    "Notice how the `extend` method requires the `\"New\"` character to be a list in order for the character to be added as an item and not as a sequence. Try removing the square brackets from the `\"New\"` character and observe the output. Now the result will add as a sequence and NOT as an item. This is different than the `append` method above where we added the `\"New\"` character as a `str` and the result added it as an item. "
   ]
  },
  {
   "cell_type": "markdown",
   "metadata": {},
   "source": [
    "### manual `extend` method using slicing `[:]`"
   ]
  },
  {
   "cell_type": "code",
   "execution_count": null,
   "metadata": {
    "scrolled": true
   },
   "outputs": [],
   "source": [
    "# (1) manual equivalent of extend in Python \n",
    "my_list = [1, 4, 36.3, \"G\", True]\n",
    "my_list[len(my_list):len(my_list)] = [\"New\"]\n",
    "print(my_list)"
   ]
  },
  {
   "cell_type": "markdown",
   "metadata": {},
   "source": [
    "This manual operation works because we are telling Python to insert a new sequence of items at the 5th position (which is at the end of the list since the list has length 5)"
   ]
  },
  {
   "cell_type": "markdown",
   "metadata": {},
   "source": [
    "### manual `extend` method using concatenation (`+`) and compound assignments"
   ]
  },
  {
   "cell_type": "code",
   "execution_count": null,
   "metadata": {},
   "outputs": [],
   "source": [
    "# (2) manual equivalent of append in Python \n",
    "my_list = [1, 4, 36.3, \"G\", True]\n",
    "new_list = [\"New\"]\n",
    "my_list += new_list # my_list = my_list + new_list\n",
    "print(my_list)"
   ]
  },
  {
   "cell_type": "markdown",
   "metadata": {},
   "source": [
    "### Difference between  `extend` and `append`"
   ]
  },
  {
   "cell_type": "code",
   "execution_count": null,
   "metadata": {},
   "outputs": [],
   "source": [
    "my_list = [1,2,3]\n",
    "my_list_1 = [4,5,6]\n",
    "my_list.append(my_list_1)\n",
    "print(my_list)\n",
    "print(len(my_list))"
   ]
  },
  {
   "cell_type": "code",
   "execution_count": null,
   "metadata": {},
   "outputs": [],
   "source": [
    "my_list[3]"
   ]
  },
  {
   "cell_type": "code",
   "execution_count": null,
   "metadata": {},
   "outputs": [],
   "source": [
    "my_list = [1,2,3]\n",
    "my_list.extend(my_list_1)\n",
    "print(my_list)\n",
    "print(len(my_list))"
   ]
  },
  {
   "cell_type": "markdown",
   "metadata": {},
   "source": [
    "We can see that the `append` method adds the new element as a nested list, whereas the `extend` method adds the new element as individual elements (i.e. as a sequence). Think about what use case may be suitable for each method. "
   ]
  },
  {
   "cell_type": "markdown",
   "metadata": {},
   "source": [
    "### Example 2.2.2 (Adding Elements to the Middle of Lists):"
   ]
  },
  {
   "cell_type": "markdown",
   "metadata": {},
   "source": [
    "### Method 1: `insert`"
   ]
  },
  {
   "cell_type": "code",
   "execution_count": null,
   "metadata": {},
   "outputs": [],
   "source": [
    "# add element in the middle of the list with Python built-in method insert\n",
    "my_list = [1, 4, 36.3, \"G\", True]\n",
    "my_list.insert(2, \"New\") # add \"New\" in the 2nd position (in-place)\n",
    "print(my_list)"
   ]
  },
  {
   "cell_type": "markdown",
   "metadata": {},
   "source": [
    "### manual `insert` method using slicing `[:]`"
   ]
  },
  {
   "cell_type": "code",
   "execution_count": null,
   "metadata": {},
   "outputs": [],
   "source": [
    "# manual equivalent of insert in Python \n",
    "my_list = [1, 4, 36.3, \"G\", True]\n",
    "my_list[2:2] = [\"New\"] # add \"New\" in the 2nd position \n",
    "print(my_list)"
   ]
  },
  {
   "cell_type": "markdown",
   "metadata": {},
   "source": [
    "This manual operation works because we are telling Python to insert a new sequence of items at the 2nd position (same as above)"
   ]
  },
  {
   "cell_type": "markdown",
   "metadata": {},
   "source": [
    "### Example 2.2.3 (Adding Elements to the Beginning of Lists):"
   ]
  },
  {
   "cell_type": "markdown",
   "metadata": {},
   "source": [
    "### Method 1: `insert`"
   ]
  },
  {
   "cell_type": "code",
   "execution_count": null,
   "metadata": {},
   "outputs": [],
   "source": [
    "# add element to the front of the list with Python built-in method insert\n",
    "my_list = [1, 4, 36.3, \"G\", True]\n",
    "my_list.insert(0, \"New\") # add \"New\" in the 0th position (in-place)\n",
    "print(my_list)"
   ]
  },
  {
   "cell_type": "markdown",
   "metadata": {},
   "source": [
    "### manual `insert` method using slicing `[:]`"
   ]
  },
  {
   "cell_type": "code",
   "execution_count": null,
   "metadata": {},
   "outputs": [],
   "source": [
    "# manual equivalent of insert in Python \n",
    "my_list = [1, 4, 36.3, \"G\", True]\n",
    "my_list[:0] = [\"New\"] # add \"New\" in the 0th position \n",
    "print(my_list)"
   ]
  },
  {
   "cell_type": "markdown",
   "metadata": {},
   "source": [
    "This manual operation works because we are telling Python to insert a new sequence of items at the 0th position (same as above)"
   ]
  },
  {
   "cell_type": "markdown",
   "metadata": {},
   "source": [
    "### Example 2.2.4 (Differences between Insert Method and Slicing Method):"
   ]
  },
  {
   "cell_type": "markdown",
   "metadata": {},
   "source": [
    "Be weary of the difference that is present when adding elements to a list using the `insert` method and the slice `[i:i]` method. The former method adds elements as an item and the later method adds elements as a sequence. See below for an illustration of this difference. "
   ]
  },
  {
   "cell_type": "code",
   "execution_count": null,
   "metadata": {},
   "outputs": [],
   "source": [
    "my_list = [1, 4, 36.3, \"G\", True]\n",
    "add_list = [\"New1\", \"New2\", \"New3\"]"
   ]
  },
  {
   "cell_type": "code",
   "execution_count": null,
   "metadata": {},
   "outputs": [],
   "source": [
    "# add using the insert method\n",
    "my_list.insert(2, add_list) # adds as item (in-place)\n",
    "print(my_list)\n",
    "print(len(my_list))"
   ]
  },
  {
   "cell_type": "code",
   "execution_count": null,
   "metadata": {},
   "outputs": [],
   "source": [
    "my_list = [1, 4, 36.3, \"G\", True]\n",
    "add_list = [\"New1\", \"New2\", \"New3\"]"
   ]
  },
  {
   "cell_type": "code",
   "execution_count": null,
   "metadata": {},
   "outputs": [],
   "source": [
    "# add using the slice method\n",
    "my_list[2:2] = add_list # adds as sequence (in-place)\n",
    "print(my_list)\n",
    "print(len(my_list))"
   ]
  },
  {
   "cell_type": "code",
   "execution_count": null,
   "metadata": {},
   "outputs": [],
   "source": [
    "my_list = [1, 4, 36.3, \"G\", True]\n",
    "add_list = [\"New1\", \"New2\", \"New3\"]"
   ]
  },
  {
   "cell_type": "code",
   "execution_count": null,
   "metadata": {},
   "outputs": [],
   "source": [
    "# add using assignment method\n",
    "my_list[2] = add_list # adds as sequence (in-place)\n",
    "print(my_list)\n",
    "print(len(my_list))"
   ]
  },
  {
   "cell_type": "markdown",
   "metadata": {},
   "source": [
    "### Example 2.3 (Removing Elements from Lists):"
   ]
  },
  {
   "cell_type": "markdown",
   "metadata": {},
   "source": [
    "- Elements can be removed from lists many different ways using both Python built-in methods and manual methods using slicing. See below for examples"
   ]
  },
  {
   "cell_type": "markdown",
   "metadata": {},
   "source": [
    "### Example 2.3.1 (Removing SOME Elements from Lists):"
   ]
  },
  {
   "cell_type": "markdown",
   "metadata": {},
   "source": [
    "### Method 1: `del`"
   ]
  },
  {
   "cell_type": "code",
   "execution_count": null,
   "metadata": {},
   "outputs": [],
   "source": [
    "my_list = [1, 4, 36.3, \"G\", True]"
   ]
  },
  {
   "cell_type": "code",
   "execution_count": null,
   "metadata": {},
   "outputs": [],
   "source": [
    "# remove element with Python built-in method del (with step 1)\n",
    "del my_list[1:3] # delete elements from positions 1,2\n",
    "print(my_list)"
   ]
  },
  {
   "cell_type": "code",
   "execution_count": null,
   "metadata": {},
   "outputs": [],
   "source": [
    "my_list = [1, 4, 36.3, \"G\", True]\n",
    "# remove element with Python built-in method del (with step 2)\n",
    "del my_list[::2]\n",
    "print(my_list)"
   ]
  },
  {
   "cell_type": "markdown",
   "metadata": {},
   "source": [
    "### manual `del` method using slicing `[:]`"
   ]
  },
  {
   "cell_type": "code",
   "execution_count": null,
   "metadata": {},
   "outputs": [],
   "source": [
    "# manual equivalent of del in Python \n",
    "my_list = [1, 4, 36.3, \"G\", True]\n",
    "my_list[1:3] = [] #  delete elements from positions 1,2 with step 1 \n",
    "print(my_list)"
   ]
  },
  {
   "cell_type": "markdown",
   "metadata": {},
   "source": [
    "### Method 2: `remove`"
   ]
  },
  {
   "cell_type": "code",
   "execution_count": null,
   "metadata": {},
   "outputs": [],
   "source": [
    "# remove element with Python built-in method remove \n",
    "my_list = [1, 4, 36.3, \"G\", True]\n",
    "my_list.remove(\"G\") # delete the \"G\" element (in-place)\n",
    "print(my_list)"
   ]
  },
  {
   "cell_type": "markdown",
   "metadata": {},
   "source": [
    "Note that the `remove` method removes ONLY the FIRST item from the list that matches the input. "
   ]
  },
  {
   "cell_type": "markdown",
   "metadata": {},
   "source": [
    "### manual `remove` method using slicing [:] and `del`"
   ]
  },
  {
   "cell_type": "code",
   "execution_count": null,
   "metadata": {},
   "outputs": [],
   "source": [
    "# manual equivalent to remove in Python \n",
    "my_list = [1, 4, 36.3, \"G\", True]\n",
    "print(my_list[0] == \"G\")\n",
    "print(my_list[1] == \"G\")\n",
    "print(my_list[2] == \"G\")\n",
    "print(my_list[3] == \"G\")"
   ]
  },
  {
   "cell_type": "code",
   "execution_count": null,
   "metadata": {},
   "outputs": [],
   "source": [
    "my_list[3:4] = []\n",
    "print(my_list)"
   ]
  },
  {
   "cell_type": "code",
   "execution_count": null,
   "metadata": {},
   "outputs": [],
   "source": [
    "my_list = [1, 4, 36.3, \"G\", True]\n",
    "del my_list[3:4]\n",
    "print(my_list)"
   ]
  },
  {
   "cell_type": "markdown",
   "metadata": {},
   "source": [
    "The `remove` method iterates through each element of the list until `my_list[i] == \"G\"` returns `True` (see above print statements). Then it will go ahead and remove the element from the list. "
   ]
  },
  {
   "cell_type": "markdown",
   "metadata": {},
   "source": [
    "### Method 3: `pop`"
   ]
  },
  {
   "cell_type": "code",
   "execution_count": null,
   "metadata": {},
   "outputs": [],
   "source": [
    "# remove element with Python built-in method pop\n",
    "my_list = [1, 4, 36.3, \"G\", True]\n",
    "my_list.pop(3) # retrieves the item at element 3 and also removes it (in-place)\n",
    "print(my_list)"
   ]
  },
  {
   "cell_type": "markdown",
   "metadata": {},
   "source": [
    "### manual `pop` method using slicing [:] and `del`"
   ]
  },
  {
   "cell_type": "markdown",
   "metadata": {},
   "source": [
    "Similar to the manual equivalents to the `remove` method above."
   ]
  },
  {
   "cell_type": "markdown",
   "metadata": {},
   "source": [
    "### Example 2.3.2 (Removing ALL Elements from Lists):"
   ]
  },
  {
   "cell_type": "markdown",
   "metadata": {},
   "source": [
    "### Method 1: `clear`"
   ]
  },
  {
   "cell_type": "code",
   "execution_count": null,
   "metadata": {},
   "outputs": [],
   "source": [
    "my_list = [1, 4, 36.3, \"G\", True]"
   ]
  },
  {
   "cell_type": "code",
   "execution_count": null,
   "metadata": {},
   "outputs": [],
   "source": [
    "# remove all elements with Python built-in method clear\n",
    "my_list = [1, 4, 36.3, \"G\", True]\n",
    "my_list.clear() # clears all items in the list (in-place)\n",
    "print(my_list)"
   ]
  },
  {
   "cell_type": "markdown",
   "metadata": {},
   "source": [
    "### Method 2: `del`"
   ]
  },
  {
   "cell_type": "code",
   "execution_count": null,
   "metadata": {},
   "outputs": [],
   "source": [
    "# remove all elements with Python built-in method del\n",
    "my_list = [1, 4, 36.3, \"G\", True]\n",
    "del my_list[:]\n",
    "print(my_list)"
   ]
  },
  {
   "cell_type": "markdown",
   "metadata": {},
   "source": [
    "### manual `clear` and `del` method using slicing `[:]`"
   ]
  },
  {
   "cell_type": "code",
   "execution_count": null,
   "metadata": {},
   "outputs": [],
   "source": [
    "# manual equivalent to clear and del in Python \n",
    "my_list = [1, 4, 36.3, \"G\", True]\n",
    "my_list[:] = []\n",
    "print(my_list)"
   ]
  },
  {
   "cell_type": "markdown",
   "metadata": {},
   "source": [
    "### Problem 4:\n",
    "\n",
    "Create 2 lists: the first list with your first name and the second list with your last name. Combine the two lists to make a list that contains your entire name. Repeat your name as many times as letters in your full name. \n",
    "\n",
    "Try adding your last name to your first name using both list concatenation and built-in functions."
   ]
  },
  {
   "cell_type": "code",
   "execution_count": null,
   "metadata": {},
   "outputs": [],
   "source": [
    "# write your code here \n",
    "\n"
   ]
  },
  {
   "cell_type": "markdown",
   "metadata": {},
   "source": [
    "### Problem 5:\n",
    "\n",
    "Create 2 lists: the first list with your first name and the second list with your last name. Combine the two lists to make a list that contains your entire name. Add your middle name to this combined list between your first and last name. If you don't have a middle name add `[\"m\", \"i\", \"d\", \"d\", \"l\", \"e\"]`."
   ]
  },
  {
   "cell_type": "code",
   "execution_count": null,
   "metadata": {},
   "outputs": [],
   "source": [
    "# write your code here \n",
    "\n"
   ]
  },
  {
   "cell_type": "markdown",
   "metadata": {},
   "source": [
    "# ANSWERS"
   ]
  },
  {
   "cell_type": "markdown",
   "metadata": {},
   "source": [
    "### Problem 1\n",
    "\n",
    "Create a list that contains five elements which are:\n",
    "- First Name\n",
    "- Temperature in your location\n",
    "- C or F indicating if the temperature is in Celcius or Fahrenheit\n",
    "- Name of the City you are in\n",
    "- A list that contains two elements, the longitude and latitude of your city."
   ]
  },
  {
   "cell_type": "code",
   "execution_count": null,
   "metadata": {},
   "outputs": [],
   "source": [
    "latlong = [47.6, 122.3] # Seattle 47.6062° N, 122.3321° W\n",
    "list1 = ['Roberto',71,'F','Seattle',latlong]\n",
    "list1"
   ]
  },
  {
   "cell_type": "markdown",
   "metadata": {},
   "source": [
    "### Problem 2:\n",
    "\n",
    "Create a list and enter in the items `\"c\"`, `\"a\"`, `\"b\"`, `1`, `3`, `2` then reverse this list so it looks like `2`, `3`, ... Print your result.  \n",
    "\n",
    "- Use list slicing in your answer \n",
    "- Do not use any embedded functions in Python to reverse the list "
   ]
  },
  {
   "cell_type": "code",
   "execution_count": null,
   "metadata": {},
   "outputs": [],
   "source": [
    "my_list = [\"c\", \"a\", \"b\", 1, 3, 2]\n",
    "my_list_reversed = my_list[::-1]\n",
    "print(my_list_reversed)"
   ]
  },
  {
   "cell_type": "markdown",
   "metadata": {},
   "source": [
    "### Problem 3:\n",
    "\n",
    "Create a list and enter in the items `\"c\"`, `\"a\"`, `\"b\"`, `1`, `3`, `2` then use slicing to pull out the subset `[\"b\", 3]` ... Print your result.\n",
    "\n",
    "- Use list slicing in your answer  "
   ]
  },
  {
   "cell_type": "code",
   "execution_count": null,
   "metadata": {},
   "outputs": [],
   "source": [
    "my_list = [\"c\", \"a\", \"b\", 1, 3, 2]\n",
    "my_list_subset = my_list[2::2]\n",
    "print(my_list_subset)"
   ]
  },
  {
   "cell_type": "markdown",
   "metadata": {},
   "source": [
    "### Problem 4:\n",
    "\n",
    "Create 2 lists: the first list with your first name and the second list with your last name. Combine the two lists to make a list that contains your entire name. Repeat your name as many times as letters in your full name. \n",
    "\n",
    "Try adding your last name to your first name using both list concatenation and built-in functions."
   ]
  },
  {
   "cell_type": "code",
   "execution_count": null,
   "metadata": {},
   "outputs": [],
   "source": [
    "first_name = [\"G\", \"o\", \"r\", \"d\", \"o\", \"n\"]\n",
    "last_name = [\"D\", \"r\", \"i\"]"
   ]
  },
  {
   "cell_type": "code",
   "execution_count": null,
   "metadata": {},
   "outputs": [],
   "source": [
    "# method 1\n",
    "full_name_1 = first_name + last_name \n",
    "full_name_1"
   ]
  },
  {
   "cell_type": "code",
   "execution_count": null,
   "metadata": {},
   "outputs": [],
   "source": [
    "# method 2\n",
    "first_name[len(first_name):len(first_name)] = last_name\n",
    "first_name"
   ]
  },
  {
   "cell_type": "code",
   "execution_count": null,
   "metadata": {},
   "outputs": [],
   "source": [
    "# method 3\n",
    "first_name = [\"G\", \"o\", \"r\", \"d\", \"o\", \"n\"]\n",
    "first_name.extend(last_name)\n",
    "first_name"
   ]
  },
  {
   "cell_type": "code",
   "execution_count": null,
   "metadata": {
    "scrolled": true
   },
   "outputs": [],
   "source": [
    "print(full_name_1 * len(full_name_1)) # using method 1 "
   ]
  },
  {
   "cell_type": "markdown",
   "metadata": {},
   "source": [
    "### Problem 5:\n",
    "\n",
    "Create 2 lists: the first list with your first name and the second list with your last name. Combine the two lists to make a list that contains your entire name. Add your middle name to this combined list between your first and last name. If you don't have a middle name add `[\"m\", \"i\", \"d\", \"d\", \"l\", \"e\"]`."
   ]
  },
  {
   "cell_type": "code",
   "execution_count": null,
   "metadata": {},
   "outputs": [],
   "source": [
    "first_name = [\"G\", \"a\", \"r\", \"r\", \"e\", \"t\", \"t\"]\n",
    "last_name = [\"H\", \"o\", \"f\", \"f\", \"m\", \"a\", \"n\"]\n",
    "full_name = first_name + last_name \n",
    "\n",
    "middle = [\"L\", \"e\", \"e\"]\n",
    "full_name[len(first_name):len(first_name)] = middle\n",
    "full_name"
   ]
  },
  {
   "cell_type": "code",
   "execution_count": null,
   "metadata": {},
   "outputs": [],
   "source": []
  }
 ],
 "metadata": {
  "kernelspec": {
   "display_name": "Python 3",
   "language": "python",
   "name": "python3"
  },
  "language_info": {
   "codemirror_mode": {
    "name": "ipython",
    "version": 3
   },
   "file_extension": ".py",
   "mimetype": "text/x-python",
   "name": "python",
   "nbconvert_exporter": "python",
   "pygments_lexer": "ipython3",
   "version": "3.7.3"
  },
  "toc": {
   "base_numbering": 1,
   "nav_menu": {},
   "number_sections": false,
   "sideBar": true,
   "skip_h1_title": false,
   "title_cell": "Table of Contents",
   "title_sidebar": "Contents",
   "toc_cell": false,
   "toc_position": {},
   "toc_section_display": true,
   "toc_window_display": true
  }
 },
 "nbformat": 4,
 "nbformat_minor": 2
}
