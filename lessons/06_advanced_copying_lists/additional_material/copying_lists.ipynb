{
 "cells": [
  {
   "cell_type": "markdown",
   "metadata": {},
   "source": [
    "# Copying Lists"
   ]
  },
  {
   "cell_type": "markdown",
   "metadata": {},
   "source": [
    "__Purpose:__\n",
    "The purpose of this lecture is to understand how lists get copied.\n",
    "\n",
    "__At the end of this lecture you will be able to:__\n",
    "1. Understand view, shallow copy and deep copy in Python"
   ]
  },
  {
   "cell_type": "markdown",
   "metadata": {},
   "source": [
    "## 1.1 Copying Lists: (OPTIONAL)"
   ]
  },
  {
   "cell_type": "markdown",
   "metadata": {},
   "source": [
    "__Overview:__\n",
    "- To understand how lists are copied and what happens when a list is copied, we first have to explore the differences between a __view__, __shallow copy__, and __deep copy__\n",
    "- More information on __[Object Copying](https://en.wikipedia.org/wiki/Object_copying)__ \n",
    "\n",
    "__Helpful Points:__\n",
    "1. The best way to understand the differences is to simply see the 3 types in action \n",
    "2. The `=` operator always creates a view \n",
    "3. The `copy()` function always creates a shallow copy\n",
    "4. To create a deep copy, we have to use some external tools \n",
    "5. Note that different programming languages have different standards - for example, in R, every time you assign a variable, it is a deep copy \n",
    "\n",
    "__Practice:__ Examples of the three variants in Python "
   ]
  },
  {
   "cell_type": "markdown",
   "metadata": {},
   "source": [
    "### 1.1.1 View:"
   ]
  },
  {
   "cell_type": "markdown",
   "metadata": {},
   "source": [
    "Any time you assign a variable to another variable using the `=` sign (__[Name Binding](https://en.wikipedia.org/wiki/Name_binding)__), we are not creating a separate object. Instead, the new variable is just an alias or reference to the original object."
   ]
  },
  {
   "cell_type": "code",
   "execution_count": null,
   "metadata": {},
   "outputs": [],
   "source": [
    "my_list = [\"a\", \"b\", \"c\"]\n",
    "my_list_1 = my_list # created as a reference/alias to my_list\n",
    "my_list[0] = \"New\" # changes both my_list and anything that references it \n",
    "print(my_list)\n",
    "print(my_list_1)"
   ]
  },
  {
   "cell_type": "code",
   "execution_count": null,
   "metadata": {},
   "outputs": [],
   "source": [
    "print(id(my_list))\n",
    "print(id(my_list_1))"
   ]
  },
  {
   "cell_type": "code",
   "execution_count": null,
   "metadata": {},
   "outputs": [],
   "source": [
    "my_list is my_list_1"
   ]
  },
  {
   "cell_type": "markdown",
   "metadata": {},
   "source": [
    "Therefore, we can see that when the variable `my_list_1` was created, it was not created as a separate, stand-alone object. Instead, it is simply an alias or reference to the `my_list` variable and you can see that the two variables share the same unique integer identity. The consequence is that if `my_list` changes, `my_list_1` ALSO changes since it references `my_list` (whatever happens to `my_list` ALSO happens to `my_list_1`)."
   ]
  },
  {
   "cell_type": "markdown",
   "metadata": {},
   "source": [
    "### 1.1.2 Shallow Copy - Layer 1:"
   ]
  },
  {
   "cell_type": "markdown",
   "metadata": {},
   "source": [
    "If you don't want the behavior above where the new variable simply references the original variable and both are subject to each other's changes, then use a shallow copy to protect against this. \n",
    "\n",
    "Layer 1 refers to non-nested lists (or in general, __non-compound objects__ - objects that do contain other objects)"
   ]
  },
  {
   "cell_type": "markdown",
   "metadata": {},
   "source": [
    "### Method 1: Shallow Copy using `copy()` function (layer 1)"
   ]
  },
  {
   "cell_type": "code",
   "execution_count": null,
   "metadata": {},
   "outputs": [],
   "source": [
    "my_list = [\"a\", \"b\", \"c\"]\n",
    "my_list_1 = my_list.copy() # shallow copy (method 1)\n",
    "my_list[0] = \"New\" # only changes my_list and NOT my_list_1\n",
    "print(my_list)\n",
    "print(my_list_1)"
   ]
  },
  {
   "cell_type": "code",
   "execution_count": null,
   "metadata": {
    "scrolled": true
   },
   "outputs": [],
   "source": [
    "print(id(my_list))\n",
    "print(id(my_list_1))"
   ]
  },
  {
   "cell_type": "markdown",
   "metadata": {},
   "source": [
    "Each variable now has a different identity (each reference a unique object)"
   ]
  },
  {
   "cell_type": "markdown",
   "metadata": {},
   "source": [
    "### Method 2: Shallow Copy using slicing `[:]` (layer 1)"
   ]
  },
  {
   "cell_type": "code",
   "execution_count": null,
   "metadata": {},
   "outputs": [],
   "source": [
    "my_list = [\"a\", \"b\", \"c\"]\n",
    "my_list_1 = my_list[:] # shallow copy (method 2)\n",
    "my_list[0] = \"New\" # only changes my_list and NOT my_list_1\n",
    "print(my_list)\n",
    "print(my_list_1)"
   ]
  },
  {
   "cell_type": "code",
   "execution_count": null,
   "metadata": {
    "scrolled": true
   },
   "outputs": [],
   "source": [
    "print(id(my_list))\n",
    "print(id(my_list_1))"
   ]
  },
  {
   "cell_type": "markdown",
   "metadata": {},
   "source": [
    "Therefore, we can see that in both cases when the variable `my_list_1` was created, it was created as a separate, stand-alone object. It no longer references the `my_list` variable. The consequence is that if `my_list` changes, `my_list_1` DOES NOT changes since it DOES NOT reference `my_list` (whatever happens to `my_list` DOES NOT happen to `my_list_1`)."
   ]
  },
  {
   "cell_type": "markdown",
   "metadata": {},
   "source": [
    "### 1.1.3 Shallow Copy - Layer 2:"
   ]
  },
  {
   "cell_type": "markdown",
   "metadata": {},
   "source": [
    "Layer 2 refers to nested lists (or in general, __compound objects__ - objects that contain other objects)"
   ]
  },
  {
   "cell_type": "markdown",
   "metadata": {},
   "source": [
    "### Method 1: Shallow Copy using `copy()` function (layer 2)"
   ]
  },
  {
   "cell_type": "code",
   "execution_count": null,
   "metadata": {},
   "outputs": [],
   "source": [
    "my_list = [\"a\", \"b\", \"c\"]\n",
    "nested_list = [my_list, 1, 2, 3]\n",
    "print(nested_list)"
   ]
  },
  {
   "cell_type": "code",
   "execution_count": null,
   "metadata": {},
   "outputs": [],
   "source": [
    "nested_list_1 = nested_list.copy() # shallow copy (method 1)\n",
    "nested_list[0][0] = \"New\" # changes both nested_list AND nested_list_1 \n",
    "print(nested_list)\n",
    "print(nested_list_1)"
   ]
  },
  {
   "cell_type": "markdown",
   "metadata": {},
   "source": [
    "### Method 2: Shallow Copy using slicing `[:]` (layer 2)"
   ]
  },
  {
   "cell_type": "code",
   "execution_count": null,
   "metadata": {},
   "outputs": [],
   "source": [
    "my_list = [\"a\", \"b\", \"c\"]\n",
    "nested_list = [my_list, 1, 2, 3]\n",
    "print(nested_list)"
   ]
  },
  {
   "cell_type": "code",
   "execution_count": null,
   "metadata": {},
   "outputs": [],
   "source": [
    "nested_list_1 = nested_list[:] # shallow copy (method 2)\n",
    "nested_list[0][0] = \"New\" # changes both nested_list AND nested_list_1 \n",
    "print(nested_list)\n",
    "print(nested_list_1)"
   ]
  },
  {
   "cell_type": "markdown",
   "metadata": {},
   "source": [
    "Therefore, we can see that in both cases when the variable `nested_list_1` was created, it was not created as a separate, stand-alone object. Instead, it is simply an alias or reference to the `nested_list` variable. The consequence is that if `nested_list` changes, `nested_list_1` ALSO changes since it references `nested_list` (whatever happens to `nested_list` ALSO happens to `nested_list_1`)."
   ]
  },
  {
   "cell_type": "markdown",
   "metadata": {},
   "source": [
    "### 1.1.4 Deep Copy - All Layers"
   ]
  },
  {
   "cell_type": "markdown",
   "metadata": {},
   "source": [
    "If you don't want the behavior above where the new variable in nested lists simply references the original variable and both are subject to each other's changes, then use a deep copy to protect against this. \n",
    "\n",
    "To perform Deep Copies in Python, we have to consult an 'external resource' known as a __module__. We will cover modules in depth in a future lecture, so don't worry about it for now. In this case, the module name is called `copy` and you can read more about it [here](https://docs.python.org/3/library/copy.html)"
   ]
  },
  {
   "cell_type": "code",
   "execution_count": null,
   "metadata": {},
   "outputs": [],
   "source": [
    "# get all the resources from this external resource\n",
    "import copy"
   ]
  },
  {
   "cell_type": "code",
   "execution_count": null,
   "metadata": {},
   "outputs": [],
   "source": [
    "my_list = [\"a\", \"b\", \"c\"]\n",
    "nested_list = [my_list, 1, 2, 3]\n",
    "print(nested_list)"
   ]
  },
  {
   "cell_type": "code",
   "execution_count": null,
   "metadata": {},
   "outputs": [],
   "source": [
    "nested_list_1 = copy.deepcopy(nested_list) # deep copy \n",
    "nested_list[0][0] = \"New\" # only changes nested_list and NOT nested_list_1\n",
    "print(nested_list)\n",
    "print(nested_list_1)"
   ]
  },
  {
   "cell_type": "code",
   "execution_count": null,
   "metadata": {},
   "outputs": [],
   "source": []
  }
 ],
 "metadata": {
  "kernelspec": {
   "display_name": "Python 3",
   "language": "python",
   "name": "python3"
  },
  "language_info": {
   "codemirror_mode": {
    "name": "ipython",
    "version": 3
   },
   "file_extension": ".py",
   "mimetype": "text/x-python",
   "name": "python",
   "nbconvert_exporter": "python",
   "pygments_lexer": "ipython3",
   "version": "3.7.3"
  },
  "toc": {
   "base_numbering": 1,
   "nav_menu": {},
   "number_sections": true,
   "sideBar": true,
   "skip_h1_title": false,
   "title_cell": "Table of Contents",
   "title_sidebar": "Contents",
   "toc_cell": false,
   "toc_position": {},
   "toc_section_display": true,
   "toc_window_display": false
  }
 },
 "nbformat": 4,
 "nbformat_minor": 2
}
