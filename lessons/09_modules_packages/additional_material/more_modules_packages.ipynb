{
 "cells": [
  {
   "cell_type": "markdown",
   "metadata": {},
   "source": [
    "# Modules and Packages"
   ]
  },
  {
   "cell_type": "markdown",
   "metadata": {},
   "source": [
    "__Purpose:__\n",
    "The purpose of this lecture is to understand how modules and packages work in Python. \n",
    "\n",
    "__At the end of this lecture you will be able to:__\n",
    "1. Understand the definition of modules and packages\n",
    "2. Understand how to import the modules and packages"
   ]
  },
  {
   "cell_type": "markdown",
   "metadata": {},
   "source": [
    "### 1.1 Modules:"
   ]
  },
  {
   "cell_type": "markdown",
   "metadata": {},
   "source": [
    "### 1.1.1 What is a Module?"
   ]
  },
  {
   "cell_type": "markdown",
   "metadata": {},
   "source": [
    "__Overview:__\n",
    "- A [__Module__](https://docs.python.org/3/tutorial/modules.html) is a file containing Python definitions and statements. You can think of a Module as a Python file (file extension `.py`) with a bunch of Python code (variables, functions, etc.) \n",
    "- Each __Jupyter Notebook Document__ is its own \"session\" and when you close a file, you can no longer access its statements (i.e. variables) and definitions (i.e. functions). For example, in this document we can't load in any variables from Lectures 1 or 2\n",
    "- Therefore, we need a way of saving code in a file and importing the file into our current session without having to physically copy and paste all the code again - this would allow us to access the statements and definitions of that file within our current session \n",
    "\n",
    "__Helpful Points:__\n",
    "1. In order to import a module into your current session, the module has to be in the same directory as the file you are trying to import from \n",
    "2. Python already has created an extensive list of modules known as the __[Standard Modules](https://docs.python.org/3/py-modindex.html#cap-s)__ which can be imported into any document \n",
    "\n",
    "__Practice:__ Examples of Creating Modules in Python "
   ]
  },
  {
   "cell_type": "markdown",
   "metadata": {},
   "source": [
    "### Example 1 (Creating Modules):\n",
    "\n",
    "In addition to the Modules that Python has already created, we can also create our own modules and then import them into our session. Steps for creating a module:\n",
    "\n",
    "> 1. Create a Python script (either from a text editor or converting a Jupyter Notebook Document into a `.py` file) with some statements and definitions (see the `fibo.ipynb` file and select File -> Downloas as -> Python (.py)) \n",
    "> 2. Save this Python script into the same directory as your current session's directory (save `fibo.py` in your current directory) "
   ]
  },
  {
   "cell_type": "markdown",
   "metadata": {},
   "source": [
    "### 1.1.2 Importing Modules:"
   ]
  },
  {
   "cell_type": "markdown",
   "metadata": {},
   "source": [
    "__Overview:__\n",
    "- There are many ways to actually import modules into Python:\n",
    "> 1. __Method 1:__ Import the entire module all at once: `import module_name` \n",
    "> 2. __Method 2:__ Import specific names from a module: `from module_name import func_1`. If there are additional names in the module other than `func_`, they will not be loaded in \n",
    "> 3. __Method 3:__ Import all names from a module (not encouraged since it may conflict with the names of the existing objects in your current environment): `from module_name import *` \n",
    "> 4. __Method 4:__ Import module with an alias: `import module_name as module_name_new`. Same as Method 1, but the module has to be referred to by its new name. You can also import a name within a module as an alias: `from module_name as func_name_new`.  \n",
    "\n",
    "__Helpful Points:__\n",
    "1. After importing a module, you can always use the `dir(module_name)` function on a module to find out what names are defined by that module (i.e. what functions did you load in when importing the file )\n",
    "2. At any time, you can use the `dir()` function with no input to find out what names you have currently defined in your session (i.e. variables, modules, functions, etc.)\n",
    "3. To access the functions within a module, use the same notation we did with methods (`module_name.func_name()`)\n",
    "\n",
    "__Practice:__ Examples of Importing Modules in Python"
   ]
  },
  {
   "cell_type": "markdown",
   "metadata": {},
   "source": [
    "### Part 1 (Importing the `fibo` module):"
   ]
  },
  {
   "cell_type": "markdown",
   "metadata": {},
   "source": [
    "Note: This is what the `fibo` module actually looks like. You don't have to run the cell below, it is provided only to illustrate the purpose of the file. "
   ]
  },
  {
   "cell_type": "code",
   "execution_count": null,
   "metadata": {},
   "outputs": [],
   "source": [
    "# Fibonacci numbers module\n",
    "\n",
    "#def fib(n):    # write Fibonacci series up to n\n",
    "#    a, b = 0, 1\n",
    "#    while b < n:\n",
    "#        print(b, end=' ')\n",
    "#        a, b = b, a+b\n",
    "#    print()\n",
    "\n",
    "#def fib2(n):   # return Fibonacci series up to n\n",
    "#    result = []\n",
    "#    a, b = 0, 1\n",
    "#    while b < n:\n",
    "#        result.append(b)\n",
    "#        a, b = b, a+b\n",
    "#    return result"
   ]
  },
  {
   "cell_type": "markdown",
   "metadata": {},
   "source": [
    "### Example 1.1 (Importing using Method 1):"
   ]
  },
  {
   "cell_type": "code",
   "execution_count": null,
   "metadata": {
    "scrolled": false
   },
   "outputs": [],
   "source": [
    "%whos # check what variables are in our namespace "
   ]
  },
  {
   "cell_type": "code",
   "execution_count": null,
   "metadata": {},
   "outputs": [],
   "source": [
    "import fibo"
   ]
  },
  {
   "cell_type": "code",
   "execution_count": null,
   "metadata": {},
   "outputs": [],
   "source": [
    "%whos # method 1 does not enter the names of the functions defined in fibo module directly, it only enters the module name"
   ]
  },
  {
   "cell_type": "code",
   "execution_count": null,
   "metadata": {
    "scrolled": false
   },
   "outputs": [],
   "source": [
    "dir(fibo)"
   ]
  },
  {
   "cell_type": "code",
   "execution_count": null,
   "metadata": {},
   "outputs": [],
   "source": [
    "# now we can use the functions inside the fibo module \n",
    "fibo.fib(100) # function writes the Fibonacci series up to n "
   ]
  },
  {
   "cell_type": "code",
   "execution_count": null,
   "metadata": {
    "scrolled": true
   },
   "outputs": [],
   "source": [
    "fib_series = fibo.fib2(100) # function returns the Fibonacci series up to n \n",
    "print(fib_series)"
   ]
  },
  {
   "cell_type": "markdown",
   "metadata": {},
   "source": [
    "### Example 1.2 (Importing using Method 2):"
   ]
  },
  {
   "cell_type": "code",
   "execution_count": null,
   "metadata": {
    "scrolled": false
   },
   "outputs": [],
   "source": [
    "%reset"
   ]
  },
  {
   "cell_type": "code",
   "execution_count": null,
   "metadata": {},
   "outputs": [],
   "source": [
    "from fibo import fib # only the fib function is imported and not the fib2 function "
   ]
  },
  {
   "cell_type": "code",
   "execution_count": null,
   "metadata": {
    "scrolled": true
   },
   "outputs": [],
   "source": [
    "%whos # method 2 does not enter the name of the module directly, it only enters the name of the function "
   ]
  },
  {
   "cell_type": "code",
   "execution_count": null,
   "metadata": {},
   "outputs": [],
   "source": [
    "dir(fibo) # see above, the fibo module is not in our namespace "
   ]
  },
  {
   "cell_type": "code",
   "execution_count": null,
   "metadata": {},
   "outputs": [],
   "source": [
    "# now we can use the function as if it was a stand alone function \n",
    "fib(100) # function writes the Fibonacci series up to n "
   ]
  },
  {
   "cell_type": "code",
   "execution_count": null,
   "metadata": {
    "scrolled": true
   },
   "outputs": [],
   "source": [
    "fib_series = fib2(100) # function is not in namespace \n",
    "print(fib_series)"
   ]
  },
  {
   "cell_type": "markdown",
   "metadata": {},
   "source": [
    "### Example 1.3 (Importing using Method 3):"
   ]
  },
  {
   "cell_type": "code",
   "execution_count": null,
   "metadata": {
    "scrolled": false
   },
   "outputs": [],
   "source": [
    "%reset"
   ]
  },
  {
   "cell_type": "code",
   "execution_count": null,
   "metadata": {},
   "outputs": [],
   "source": [
    "from fibo import * # all the names from the fibo module are imported "
   ]
  },
  {
   "cell_type": "code",
   "execution_count": null,
   "metadata": {
    "scrolled": true
   },
   "outputs": [],
   "source": [
    "%whos # method 3 also does not enter the name of the module directly, it only enters the names of the function that were laoded in"
   ]
  },
  {
   "cell_type": "code",
   "execution_count": null,
   "metadata": {
    "scrolled": true
   },
   "outputs": [],
   "source": [
    "dir(fibo) # see above, the fibo module is not in our namespace "
   ]
  },
  {
   "cell_type": "code",
   "execution_count": null,
   "metadata": {},
   "outputs": [],
   "source": [
    "fib(100) # function writes the Fibonacci series up to n "
   ]
  },
  {
   "cell_type": "code",
   "execution_count": null,
   "metadata": {
    "scrolled": false
   },
   "outputs": [],
   "source": [
    "fib_series = fib2(100) # function returns the Fibonacci series up to n \n",
    "print(fib_series)"
   ]
  },
  {
   "cell_type": "markdown",
   "metadata": {},
   "source": [
    "### Example 1.4 (Importing using Method 4):"
   ]
  },
  {
   "cell_type": "code",
   "execution_count": null,
   "metadata": {},
   "outputs": [],
   "source": [
    "%reset"
   ]
  },
  {
   "cell_type": "code",
   "execution_count": null,
   "metadata": {},
   "outputs": [],
   "source": [
    "import fibo as fibo_new"
   ]
  },
  {
   "cell_type": "code",
   "execution_count": null,
   "metadata": {
    "scrolled": true
   },
   "outputs": [],
   "source": [
    "%whos # method 4 acts like method 1 but loads in the module by a different name "
   ]
  },
  {
   "cell_type": "code",
   "execution_count": null,
   "metadata": {
    "scrolled": false
   },
   "outputs": [],
   "source": [
    "dir(fibo_new)"
   ]
  },
  {
   "cell_type": "code",
   "execution_count": null,
   "metadata": {},
   "outputs": [],
   "source": [
    "# now we can use the functions inside the fibo_new module \n",
    "fibo_new.fib(100) # function writes the Fibonacci series up to n "
   ]
  },
  {
   "cell_type": "code",
   "execution_count": null,
   "metadata": {
    "scrolled": true
   },
   "outputs": [],
   "source": [
    "fib_series = fibo_new.fib2(100) # function returns the Fibonacci series up to n \n",
    "print(fib_series)"
   ]
  },
  {
   "cell_type": "markdown",
   "metadata": {},
   "source": [
    "### Part 2 (Importing Other Modules):\n",
    "\n",
    "Import the `math` module "
   ]
  },
  {
   "cell_type": "markdown",
   "metadata": {},
   "source": [
    "### Example 1 (Importing Using Method 1):"
   ]
  },
  {
   "cell_type": "code",
   "execution_count": null,
   "metadata": {},
   "outputs": [],
   "source": [
    "# clear our namespace so we can track variables entering with modules (recall the Magic Commands)\n",
    "%reset"
   ]
  },
  {
   "cell_type": "code",
   "execution_count": null,
   "metadata": {},
   "outputs": [],
   "source": [
    "import math"
   ]
  },
  {
   "cell_type": "code",
   "execution_count": null,
   "metadata": {},
   "outputs": [],
   "source": [
    "%whos"
   ]
  },
  {
   "cell_type": "code",
   "execution_count": null,
   "metadata": {
    "scrolled": false
   },
   "outputs": [],
   "source": [
    "print(dir(math))"
   ]
  },
  {
   "cell_type": "code",
   "execution_count": null,
   "metadata": {},
   "outputs": [],
   "source": [
    "# built-in pi name\n",
    "math.pi"
   ]
  },
  {
   "cell_type": "markdown",
   "metadata": {},
   "source": [
    "### Example 1.2 (Importing using Method 2):"
   ]
  },
  {
   "cell_type": "code",
   "execution_count": null,
   "metadata": {
    "scrolled": false
   },
   "outputs": [],
   "source": [
    "%reset"
   ]
  },
  {
   "cell_type": "code",
   "execution_count": null,
   "metadata": {},
   "outputs": [],
   "source": [
    "from math import sin"
   ]
  },
  {
   "cell_type": "code",
   "execution_count": null,
   "metadata": {
    "scrolled": true
   },
   "outputs": [],
   "source": [
    "%whos"
   ]
  },
  {
   "cell_type": "code",
   "execution_count": null,
   "metadata": {},
   "outputs": [],
   "source": [
    "sin(1)"
   ]
  },
  {
   "cell_type": "markdown",
   "metadata": {},
   "source": [
    "### Example 1.3 (Importing using Method 3):"
   ]
  },
  {
   "cell_type": "code",
   "execution_count": null,
   "metadata": {
    "scrolled": false
   },
   "outputs": [],
   "source": [
    "%reset"
   ]
  },
  {
   "cell_type": "code",
   "execution_count": null,
   "metadata": {},
   "outputs": [],
   "source": [
    "from math import * "
   ]
  },
  {
   "cell_type": "code",
   "execution_count": null,
   "metadata": {
    "scrolled": true
   },
   "outputs": [],
   "source": [
    "%whos"
   ]
  },
  {
   "cell_type": "code",
   "execution_count": null,
   "metadata": {},
   "outputs": [],
   "source": [
    "exp(3)"
   ]
  },
  {
   "cell_type": "code",
   "execution_count": null,
   "metadata": {
    "scrolled": false
   },
   "outputs": [],
   "source": [
    "factorial(4)"
   ]
  },
  {
   "cell_type": "markdown",
   "metadata": {},
   "source": [
    "### Example 1.4 (Importing using Method 4):"
   ]
  },
  {
   "cell_type": "code",
   "execution_count": null,
   "metadata": {
    "scrolled": true
   },
   "outputs": [],
   "source": [
    "%reset"
   ]
  },
  {
   "cell_type": "code",
   "execution_count": null,
   "metadata": {},
   "outputs": [],
   "source": [
    "import math as math_mod"
   ]
  },
  {
   "cell_type": "code",
   "execution_count": null,
   "metadata": {
    "scrolled": true
   },
   "outputs": [],
   "source": [
    "%whos # method 4 acts like method 1 but loads in the module by a different name "
   ]
  },
  {
   "cell_type": "code",
   "execution_count": null,
   "metadata": {
    "scrolled": true
   },
   "outputs": [],
   "source": [
    "math_mod.pi"
   ]
  },
  {
   "cell_type": "markdown",
   "metadata": {},
   "source": [
    "### 1.1.3 Packages:"
   ]
  },
  {
   "cell_type": "markdown",
   "metadata": {},
   "source": [
    "__Overview:__ \n",
    "- In the same way that we group together similar functions and names within a file and call it a module, we also need to group together similar modules and we call this a __Package__ \n",
    "- __[Packages](https://docs.python.org/3/tutorial/modules.html#tut-packages):__ Packages are a collection of similar modules that frequently are used together \n",
    "- The hierarchy is the following: Within a __Package__, there are __Sub-Packages__ and within Sub-Packages, there are __Modules__ and within Modules, there are statements and definitions \n",
    "- To access a module from a package, use the following notation: `Package_Name.Module_Name` where the `Module_Name` belongs to the `Package_Name`. Or if there exists sub-packages, access modules within sub-packages using the following notation: `Package_Name.Sub_Package_Name.Module_Name`  \n",
    "\n",
    "__Helpful Points:__ \n",
    "1. In the same way that Modules are helpful as they avoid the issue of multiple programmers calling statements and definitions by the same name, Packages are helpful as they avoid the issue of multiple programmers calling modules by the same name \n",
    "2. Definitions and statements are to Modules as Modules are to Packages \n",
    "3. Importing Packages and Sub-Packages should be treated in the same way that Modules and Statements/Functions are imported (see the 4 methods above)\n",
    "\n",
    "__Practice:__ Examples of Importing Packages in Python "
   ]
  },
  {
   "cell_type": "markdown",
   "metadata": {},
   "source": [
    "### Example 1 (Example of Package Hierarchy):\n",
    "\n",
    "Python's documentation has a very helpful example of understanding Package hierarchy: <img src=\"img21.png\" width=550 height=550>"
   ]
  },
  {
   "cell_type": "markdown",
   "metadata": {},
   "source": [
    "> 1. __Import a module in a sub-package (1):__ `import sound.effects.echo` Since the sub-module is loaded in, we have to use the following notation to access a function within this sub-module (see Import Method 1 above): `sound.effects.echo.echofilter()`\n",
    "> 2. __Import a module in a sub-package (2):__ `from sound.effects import echo` which would use the following notation to access a function within this sub-module (see Import Method 2 above): `echo.echofilter()`\n",
    "> 3. __Import a function in a module in a sub-package:__ `from sound.effects.echo import echofilter` which would use the following notation to execute the function (see Import Method 2 above): `echoftiler()`  "
   ]
  },
  {
   "cell_type": "markdown",
   "metadata": {},
   "source": [
    "### Example 2 (Frequently Used Packages):"
   ]
  },
  {
   "cell_type": "code",
   "execution_count": null,
   "metadata": {},
   "outputs": [],
   "source": [
    "# it is customary for data analytics projects to begin with the following imports with the designated aliases \n",
    "import numpy as np\n",
    "import pandas as pd\n",
    "import matplotlib.pyplot as plt"
   ]
  },
  {
   "cell_type": "markdown",
   "metadata": {},
   "source": [
    "`numpy`, `pandas`, and `matplotlib` are 3 very useful packages for Data Scientists and will be covered in future lectures"
   ]
  },
  {
   "cell_type": "code",
   "execution_count": null,
   "metadata": {},
   "outputs": [],
   "source": []
  }
 ],
 "metadata": {
  "kernelspec": {
   "display_name": "Python 3",
   "language": "python",
   "name": "python3"
  },
  "language_info": {
   "codemirror_mode": {
    "name": "ipython",
    "version": 3
   },
   "file_extension": ".py",
   "mimetype": "text/x-python",
   "name": "python",
   "nbconvert_exporter": "python",
   "pygments_lexer": "ipython3",
   "version": "3.7.3"
  },
  "toc": {
   "base_numbering": 1,
   "nav_menu": {},
   "number_sections": true,
   "sideBar": true,
   "skip_h1_title": false,
   "title_cell": "Table of Contents",
   "title_sidebar": "Contents",
   "toc_cell": false,
   "toc_position": {},
   "toc_section_display": true,
   "toc_window_display": false
  }
 },
 "nbformat": 4,
 "nbformat_minor": 2
}
