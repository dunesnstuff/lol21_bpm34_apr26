{
 "cells": [
  {
   "cell_type": "markdown",
   "metadata": {},
   "source": [
    "# Exercises: Functions"
   ]
  },
  {
   "cell_type": "markdown",
   "metadata": {},
   "source": [
    "## Write a Python program to print out a set containing all the colors from color_list_1 which are not present in color_list_2.\n",
    "\n",
    "Test Data :  \n",
    "color_list_1 = set([\"White\", \"Black\", \"Red\"])   \n",
    "color_list_2 = set([\"Red\", \"Green\"])  \n",
    "Expected Output :  \n",
    "{'Black', 'White'}"
   ]
  },
  {
   "cell_type": "code",
   "execution_count": null,
   "metadata": {},
   "outputs": [],
   "source": [
    "# your solution here \n",
    "def my_function(set1, set2):\n",
    "    return set1 - set2 # or set1.difference(set2) would also work\n",
    "\n",
    "# Testcases\n",
    "color_list_1 = set([\"White\", \"Black\", \"Red\"])\n",
    "color_list_2 = set([\"Red\", \"Green\"])\n",
    "my_function(color_list_1, color_list_2)"
   ]
  },
  {
   "cell_type": "markdown",
   "metadata": {},
   "source": [
    "## Write a function that receives a number (x) and returns all the multiples of 7 between x and x+100 (inclusive)."
   ]
  },
  {
   "cell_type": "code",
   "execution_count": null,
   "metadata": {},
   "outputs": [],
   "source": [
    "# your solution here \n",
    "def multiple_seven(x):\n",
    "    answer = []\n",
    "    low = x\n",
    "    high = x+100\n",
    "    numbers = range(low,high+1)\n",
    "    for i in numbers:\n",
    "        if i%7 == 0:\n",
    "            answer.append(i)\n",
    "    return answer\n",
    "\n",
    "print(multiple_seven(55))"
   ]
  },
  {
   "cell_type": "markdown",
   "metadata": {},
   "source": [
    "## Write a function that receives two strings.  Return True if the second string can be written with the letters from the first string.  Otherwise return False.\n",
    "\n",
    "Test Data :  \n",
    "string1 = 'rxedeitnp'   \n",
    "string2 = 'peter'  \n",
    "Expected Output :  \n",
    "True\n",
    "\n",
    "Test Data :  \n",
    "string1 = 'rxedeitn'   \n",
    "string2 = 'peter'  \n",
    "Expected Output :  \n",
    "False"
   ]
  },
  {
   "cell_type": "code",
   "execution_count": null,
   "metadata": {},
   "outputs": [],
   "source": [
    "def spellwith(string1, string2):\n",
    "    # I am converting the strings to lists where each character is an element of the list\n",
    "    string1 = list(string1)\n",
    "    string2 = list(string2)\n",
    "    \n",
    "    for i in string2: # loop for each character in string2\n",
    "        if i in string1: # check if the charater is in string1\n",
    "            string1.remove(i) \n",
    "        else:\n",
    "            return False\n",
    "    return True\n",
    "\n",
    "string1 = 'rxedeitnp'   \n",
    "string2 = 'peter'  \n",
    "print(spellwith(string1,string2))\n",
    "\n",
    "string1 = 'rxedeitn'   \n",
    "string2 = 'peter'  \n",
    "print(spellwith(string1,string2))"
   ]
  },
  {
   "cell_type": "markdown",
   "metadata": {},
   "source": [
    "## Write a function that takes in a list as input and returns a new list with only the even integers from that list.\n",
    "\n",
    "Sample input: [1,4,5,11,12,15]  \n",
    "Expected output: [4,12]"
   ]
  },
  {
   "cell_type": "code",
   "execution_count": null,
   "metadata": {},
   "outputs": [],
   "source": [
    "# There are many possible solutions (i.e. using .pop(), list comprehensions, etc.)\n",
    "def even_int(inp_list):\n",
    "    out_list = []\n",
    "    for i in inp_list:\n",
    "        if i % 2 == 0:\n",
    "            out_list.append(i)\n",
    "    return out_list\n",
    "\n",
    "# Testcases\n",
    "even_int([1,4,5,11,12,15])"
   ]
  },
  {
   "cell_type": "markdown",
   "metadata": {},
   "source": [
    "## Write a Python program that accepts a string and calculate the number of digits and letters. \n",
    "\n",
    "Input String : \"Python 3.2\"  \n",
    "\n",
    "Expected Output :  \n",
    "Letters 6  \n",
    "Digits 2  \n",
    "\n",
    "Hint: Make use of Python string's inherent isdigit() method and isalpha() method. For example, \"a\".isdigit() returns False, while \"a\".isalpha() returns True."
   ]
  },
  {
   "cell_type": "code",
   "execution_count": null,
   "metadata": {},
   "outputs": [],
   "source": [
    "def letters_digits(s):\n",
    "    d=l=0\n",
    "    for c in s:\n",
    "        if c.isdigit():\n",
    "            d=d+1\n",
    "        elif c.isalpha():\n",
    "            l=l+1\n",
    "        else:\n",
    "            pass\n",
    "    print(\"Letters\", l)\n",
    "    print(\"Digits\", d)\n",
    "\n",
    "# Testcases\n",
    "letters_digits(\"Python 3.2\")"
   ]
  },
  {
   "cell_type": "markdown",
   "metadata": {},
   "source": [
    "## Write a Python program to check the validity of a password.\n",
    "\n",
    "Validation :  \n",
    "At least 1 character from [$#@].  \n",
    "Minimum length 6 characters.  \n",
    "Maximum length 16 characters.  "
   ]
  },
  {
   "cell_type": "code",
   "execution_count": null,
   "metadata": {},
   "outputs": [],
   "source": [
    "def valid_password(p):\n",
    "    if (len(p) < 6) or (len(p) > 16):\n",
    "        return False\n",
    "    special = \"$#@\"\n",
    "    for char in p:\n",
    "        if char in special:\n",
    "            return True\n",
    "    return False\n",
    "\n",
    "# Testcases\n",
    "print(valid_password(\"135oijafea$f\")) # true, length between 6-16, contains special char\n",
    "print(valid_password(\"13oir31noaefapeofj\")) # False, does not contain special char\n",
    "print(valid_password(\"$123\")) # False, less than 6 characters"
   ]
  },
  {
   "cell_type": "code",
   "execution_count": null,
   "metadata": {},
   "outputs": [],
   "source": []
  }
 ],
 "metadata": {
  "kernelspec": {
   "display_name": "Python 3",
   "language": "python",
   "name": "python3"
  },
  "language_info": {
   "codemirror_mode": {
    "name": "ipython",
    "version": 3
   },
   "file_extension": ".py",
   "mimetype": "text/x-python",
   "name": "python",
   "nbconvert_exporter": "python",
   "pygments_lexer": "ipython3",
   "version": "3.8.6"
  },
  "toc": {
   "base_numbering": 1,
   "nav_menu": {},
   "number_sections": true,
   "sideBar": true,
   "skip_h1_title": false,
   "title_cell": "Table of Contents",
   "title_sidebar": "Contents",
   "toc_cell": false,
   "toc_position": {},
   "toc_section_display": true,
   "toc_window_display": true
  }
 },
 "nbformat": 4,
 "nbformat_minor": 2
}
