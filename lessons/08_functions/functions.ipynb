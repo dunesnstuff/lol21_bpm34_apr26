{
 "cells": [
  {
   "cell_type": "markdown",
   "metadata": {},
   "source": [
    "# Functions\n",
    "\n",
    "In this notebook we will: \n",
    "- Learn how to work with `Functions`"
   ]
  },
  {
   "cell_type": "markdown",
   "metadata": {},
   "source": [
    "### Motivation\n",
    "\n",
    "A `function` is a block of code that can be re-used more than once.  A program can often be broken into simpler subtasks, that can be contained within a `function`.  "
   ]
  },
  {
   "cell_type": "markdown",
   "metadata": {},
   "source": [
    "### Exercise\n",
    "\n",
    "Write code to determine the number of characters in a string.  For example \"Hello\" should result in `5`."
   ]
  },
  {
   "cell_type": "code",
   "execution_count": null,
   "metadata": {},
   "outputs": [],
   "source": [
    "### Write code here\n",
    "\n",
    "\n"
   ]
  },
  {
   "cell_type": "code",
   "execution_count": null,
   "metadata": {},
   "outputs": [],
   "source": [
    "### ANSWER\n",
    "text = \"Hello\"\n",
    "\n",
    "counter = 0\n",
    "for c in text:\n",
    "    counter+=1\n",
    "    \n",
    "print(f\"The string '{text}' has {counter} characters\")"
   ]
  },
  {
   "cell_type": "markdown",
   "metadata": {},
   "source": [
    "Given that knowing the number of characters in a string is a common request, Python developers have created a function called `len` that finds the length of a string.  "
   ]
  },
  {
   "cell_type": "code",
   "execution_count": null,
   "metadata": {},
   "outputs": [],
   "source": [
    "len(\"Hello\") # len stands for length"
   ]
  },
  {
   "cell_type": "markdown",
   "metadata": {},
   "source": [
    "### Built-In Functions\n",
    "\n",
    "Python has some built-in functions that we have already been using.  These allow us to not have to write the complete code ourselves.  Let's look at some examples below."
   ]
  },
  {
   "cell_type": "code",
   "execution_count": null,
   "metadata": {},
   "outputs": [],
   "source": [
    "max(10, 2, 3) # returns the largest value"
   ]
  },
  {
   "cell_type": "code",
   "execution_count": null,
   "metadata": {},
   "outputs": [],
   "source": [
    "min(10, -20, -100, 0, 3.1415) # return the smallest value"
   ]
  },
  {
   "cell_type": "code",
   "execution_count": null,
   "metadata": {},
   "outputs": [],
   "source": [
    "len(\"Hello\")  # return the length of the string"
   ]
  },
  {
   "cell_type": "code",
   "execution_count": null,
   "metadata": {},
   "outputs": [],
   "source": [
    "print(\"Hello World\") # prints \"Hello World\" to the output"
   ]
  },
  {
   "cell_type": "markdown",
   "metadata": {},
   "source": [
    "### Parts of a function\n",
    "\n",
    "Let's look at the statement `b = len(\"Hello\")`. Here we have:\n",
    "\n",
    "- A **function** with name `len`\n",
    "- A **call** to the function `len(.....)` (i.e. we are running the function)\n",
    "- **Input** (aka arguments) to the function (these are the values the function \"receives\"). In this case, the input is `\"Hello\"`\n",
    "- A **returned** value, or **output** (in this case, the output is `5` and gets assigned to `b`)\n",
    "- Any **side effects** (things the function does besides output a value)\n",
    "\n",
    "Let's look at a few examples:\n",
    "\n",
    "| Function call | Function | Inputs | Output | Side Effect | \n",
    "|------| ----------| ------- |  ------- | ---------- |\n",
    "| `len(\"hello\")` | `len` | `\"hello\"` |  5 | None |\n",
    "| `max(10, 2 , 3)` | `max` | `10, 2, 3` | 10 | None |\n",
    "| `min(10, -20, -100, 0, 3.1415)` | `min` | `10, -20, -100, 0, 3.1415` | -100 | None |\n",
    "| `print(\"Hello World\")` | `print` | `\"Hello World\"`| `None` | Prints \"Hello World\" to terminal |\n",
    "\n",
    "- Every function returns exactly 1 value (no more, no less)\n",
    "- Some functions have side effects, others don't"
   ]
  },
  {
   "cell_type": "code",
   "execution_count": null,
   "metadata": {},
   "outputs": [],
   "source": [
    "# If there is no variable to assign to, the value is \"returned\" to the terminal\n",
    "max(1,2,3)"
   ]
  },
  {
   "cell_type": "code",
   "execution_count": null,
   "metadata": {},
   "outputs": [],
   "source": [
    "# If there is a variable to assign to, the value is \"returned\" and stored in the variable\n",
    "# Nothing is printed\n",
    "biggest_number = max(1, 2, 3)"
   ]
  },
  {
   "cell_type": "code",
   "execution_count": null,
   "metadata": {},
   "outputs": [],
   "source": [
    "# We can see what was stored in biggest number\n",
    "biggest_number"
   ]
  },
  {
   "cell_type": "markdown",
   "metadata": {},
   "source": [
    "### Defining a Function\n",
    "\n",
    "We can also create new `functions`.  This is one of the most __powerful__ tools in programming.  Let's start with an example:"
   ]
  },
  {
   "cell_type": "code",
   "execution_count": null,
   "metadata": {},
   "outputs": [],
   "source": [
    "def say_hello(num_times): \n",
    "    return 'hello ' * num_times"
   ]
  },
  {
   "cell_type": "code",
   "execution_count": null,
   "metadata": {},
   "outputs": [],
   "source": [
    "say_hello(3)"
   ]
  },
  {
   "cell_type": "markdown",
   "metadata": {},
   "source": [
    "Here:\n",
    "- `def` is a keyword (used to say \"I am defining a function\")\n",
    "- Next is the function name `say_hello`\n",
    "- Then are the arguments. In this case, the function takes one argument (or input) named `num_times`\n",
    "- Then we have a colon (telling us we are starting a code block, which is indented)\n",
    "- The function exits with the word return (this is the value the function send back) OR when we reach the end of the block. If there is no return, the function returns `None` (remember we ALWAYS return something, even if it is `None`).\n",
    "\n",
    "We can call the function in the same way we call the built-in functions: `say_hello(3)`."
   ]
  },
  {
   "cell_type": "markdown",
   "metadata": {},
   "source": [
    "A function can take more than one argument:"
   ]
  },
  {
   "cell_type": "code",
   "execution_count": null,
   "metadata": {},
   "outputs": [],
   "source": [
    "def can_vote_in_us(age, citizen):\n",
    "    if age < 18 or citizen == False:\n",
    "        return False\n",
    "    return True"
   ]
  },
  {
   "cell_type": "code",
   "execution_count": null,
   "metadata": {},
   "outputs": [],
   "source": [
    "can_vote_in_us(20, True)"
   ]
  },
  {
   "cell_type": "markdown",
   "metadata": {},
   "source": [
    "### Exercise\n",
    "\n",
    "Write a function that receives the temperature in Celsius, and returns the temperature in Fahrenheit.\n",
    "\n",
    "\n",
    "<center>\n",
    "$F = \\frac{9}{5} * C + 32 $\n",
    "</center>"
   ]
  },
  {
   "cell_type": "code",
   "execution_count": null,
   "metadata": {},
   "outputs": [],
   "source": [
    "### Write your code here\n",
    "\n",
    "\n",
    "\n"
   ]
  },
  {
   "cell_type": "code",
   "execution_count": null,
   "metadata": {},
   "outputs": [],
   "source": [
    "### ANSWER\n",
    "\n",
    "C_TO_F_SCALER = 9/5\n",
    "C_OFFSET = 32\n",
    "\n",
    "def C_to_F(degrees_C):\n",
    "    \"\"\"Returns degrees_C converted to Fahrenheit\"\"\" \n",
    "    return C_TO_F_SCALER*degrees_C + C_OFFSET "
   ]
  },
  {
   "cell_type": "code",
   "execution_count": null,
   "metadata": {},
   "outputs": [],
   "source": [
    "C_to_F(20)"
   ]
  },
  {
   "cell_type": "code",
   "execution_count": null,
   "metadata": {},
   "outputs": [],
   "source": [
    "C_to_F(30)"
   ]
  },
  {
   "cell_type": "markdown",
   "metadata": {},
   "source": [
    "__Note__ that in the function we can add information about what it does using \"\"\"...\"\"\""
   ]
  },
  {
   "cell_type": "code",
   "execution_count": null,
   "metadata": {
    "scrolled": true
   },
   "outputs": [],
   "source": [
    "help(C_to_F)"
   ]
  },
  {
   "cell_type": "markdown",
   "metadata": {},
   "source": [
    "This is the same as how built-in functions work."
   ]
  },
  {
   "cell_type": "code",
   "execution_count": null,
   "metadata": {},
   "outputs": [],
   "source": [
    "help(len)"
   ]
  },
  {
   "cell_type": "markdown",
   "metadata": {},
   "source": [
    "### Exercise\n",
    "\n",
    "In the bank example, we had the following rules:\n",
    "- We start with a `balance`\n",
    "- We transfer money `transfer`\n",
    "- If we withdrew money (`transfer < 0`) AND we ended with a final negative balance (`balance + transfer < 0`) THEN we got charged 20 dollars as an overdraft\n",
    "\n",
    "Let's put this in a function called `get_new_balance` which receives two argument: `balance` and `transfer` and returns the __new__ `balance`, such that:\n",
    "\n",
    "```python\n",
    "get_new_balance(30, -40) # should return -30\n",
    "```"
   ]
  },
  {
   "cell_type": "code",
   "execution_count": null,
   "metadata": {},
   "outputs": [],
   "source": [
    "### Modify the code below to be in a function\n",
    "\n",
    "balance = 30\n",
    "transfer = -40\n",
    "fee = 20\n",
    "\n",
    "balance += transfer\n",
    "if balance < 0 and transfer < 0:\n",
    "    balance -= fee\n",
    "\n",
    "print(balance)"
   ]
  },
  {
   "cell_type": "code",
   "execution_count": null,
   "metadata": {},
   "outputs": [],
   "source": [
    "## ANSWER\n",
    "def get_new_balance(balance, transfer):\n",
    "    \"\"\"Return new balance after transferring money\n",
    "    \n",
    "    Calculates new balance if we start with initial_balance\n",
    "    dollars in account, and transfer money. Deposits have \n",
    "    transfer > 0, withdraws have transfer < 0.\n",
    "    \n",
    "    Appropriate overdraft fee rules are also applied.\n",
    "    \"\"\"\n",
    "    fee = 20\n",
    "    balance += transfer\n",
    "    if balance < 0 and transfer < 0:\n",
    "        balance -= fee\n",
    "    return balance"
   ]
  },
  {
   "cell_type": "code",
   "execution_count": null,
   "metadata": {},
   "outputs": [],
   "source": [
    "get_new_balance(30, -40)"
   ]
  },
  {
   "cell_type": "markdown",
   "metadata": {},
   "source": [
    "### Exercise:\n",
    "\n",
    "Let's now assume we have a list of transactions.  Write code that calculates the final balance by calling the `get_new_balance` function."
   ]
  },
  {
   "cell_type": "code",
   "execution_count": null,
   "metadata": {},
   "outputs": [],
   "source": [
    "balance = 50\n",
    "list_transfers = [10, -100, -15, 30, 25] # the final balance should be $-40\n",
    "\n",
    "### Write code here\n",
    "\n"
   ]
  },
  {
   "cell_type": "code",
   "execution_count": null,
   "metadata": {},
   "outputs": [],
   "source": [
    "### ANSWER\n",
    "\n",
    "balance = 50\n",
    "list_transfers = [10, -100, -15, 30, 25]\n",
    "\n",
    "for transfer in list_transfers:\n",
    "    balance = get_new_balance(balance, transfer) \n",
    "\n",
    "print(balance)"
   ]
  },
  {
   "cell_type": "markdown",
   "metadata": {},
   "source": [
    "We can be a bit more clever and create another function called `get_final_balance` that contains the `for loop`."
   ]
  },
  {
   "cell_type": "code",
   "execution_count": null,
   "metadata": {},
   "outputs": [],
   "source": [
    "# this function is the same as above\n",
    "def get_new_balance(balance, transfer):\n",
    "    \"\"\"Return new balance after a single transfer\n",
    "    \"\"\"\n",
    "    fee = 20\n",
    "    balance += transfer\n",
    "    if balance < 0 and transfer < 0:\n",
    "        balance -= fee\n",
    "    return balance\n",
    "\n",
    "# this is our new function\n",
    "def get_final_balance(balance, transfers):\n",
    "    \"\"\"Return new balance after many transfers of money\n",
    "    \"\"\"\n",
    "    for transfer in transfers:\n",
    "        balance = get_new_balance(balance, transfer)\n",
    "    return balance"
   ]
  },
  {
   "cell_type": "code",
   "execution_count": null,
   "metadata": {},
   "outputs": [],
   "source": [
    "balance = 50\n",
    "list_transfers = [10, -100, -15, 30, 25]\n",
    "\n",
    "get_final_balance(balance, list_transfers)"
   ]
  },
  {
   "cell_type": "markdown",
   "metadata": {},
   "source": [
    "### Default Arguments\n",
    "\n",
    "When we create functions we can assign default values to the arguments such that if no value is passed, it uses the default.  Let's look at the example below:"
   ]
  },
  {
   "cell_type": "code",
   "execution_count": null,
   "metadata": {},
   "outputs": [],
   "source": [
    "def power(number, exponent = 2):\n",
    "    return number**exponent"
   ]
  },
  {
   "cell_type": "code",
   "execution_count": null,
   "metadata": {},
   "outputs": [],
   "source": [
    "power(3,3) # It assigns exponent to a value of 3"
   ]
  },
  {
   "cell_type": "code",
   "execution_count": null,
   "metadata": {},
   "outputs": [],
   "source": [
    "power(3) # It uses the default exponent value of 2, the same as power(3,2)"
   ]
  },
  {
   "cell_type": "markdown",
   "metadata": {},
   "source": [
    "In the example above, ommiting the second argument automatically assigns the value of the default `2`."
   ]
  },
  {
   "cell_type": "markdown",
   "metadata": {},
   "source": [
    "### Keyword and Positional Arguments"
   ]
  },
  {
   "cell_type": "code",
   "execution_count": null,
   "metadata": {},
   "outputs": [],
   "source": [
    "def power_plus(number, exponent, plus):\n",
    "    return number**exponent+plus"
   ]
  },
  {
   "cell_type": "markdown",
   "metadata": {},
   "source": [
    "The function above can be called by `position`, as shown below:"
   ]
  },
  {
   "cell_type": "code",
   "execution_count": null,
   "metadata": {},
   "outputs": [],
   "source": [
    "power_plus(3,2,1) # 3**2+1 = 10"
   ]
  },
  {
   "cell_type": "markdown",
   "metadata": {},
   "source": [
    "It can also be called by `keyword`"
   ]
  },
  {
   "cell_type": "code",
   "execution_count": null,
   "metadata": {},
   "outputs": [],
   "source": [
    "power_plus(plus = 1, number = 3, exponent = 2) # Note that the order does not matter"
   ]
  },
  {
   "cell_type": "markdown",
   "metadata": {},
   "source": [
    "Or we can use a combination of `position` and `keywords`."
   ]
  },
  {
   "cell_type": "code",
   "execution_count": null,
   "metadata": {},
   "outputs": [],
   "source": [
    "power_plus(3, plus = 1, exponent = 2)"
   ]
  },
  {
   "cell_type": "markdown",
   "metadata": {},
   "source": [
    "__NOTE__: positions __MUST__ come first or else it will error out as shown below."
   ]
  },
  {
   "cell_type": "code",
   "execution_count": null,
   "metadata": {},
   "outputs": [],
   "source": [
    "power_plus(exponent = 2, number = 3, 1)"
   ]
  },
  {
   "cell_type": "markdown",
   "metadata": {},
   "source": [
    "### Return values\n",
    "\n",
    "Functions can return values that get assigned to more than one variable."
   ]
  },
  {
   "cell_type": "code",
   "execution_count": null,
   "metadata": {},
   "outputs": [],
   "source": [
    "def sum_and_prod(a,b):\n",
    "    sum_val = a+b\n",
    "    prod_val = a*b\n",
    "    return sum_val, prod_val\n",
    "\n",
    "sum_res, prod_res = sum_and_prod(2,3)\n",
    "\n",
    "print(sum_res,prod_res)"
   ]
  },
  {
   "cell_type": "markdown",
   "metadata": {},
   "source": [
    "Similarly if there is no return value, the function returns `None`."
   ]
  },
  {
   "cell_type": "code",
   "execution_count": null,
   "metadata": {},
   "outputs": [],
   "source": [
    "def dummy_fun():\n",
    "    pass\n",
    "\n",
    "print(dummy_fun())"
   ]
  },
  {
   "cell_type": "markdown",
   "metadata": {},
   "source": [
    "### Scope\n",
    "\n",
    "`Scope` in programming refers to the \"region\" where a variable exists and is valid in.  In Python, there are 2 main scopes:\n",
    "* __Global Scope:__ The Global Region encompasses any space of a program that is NOT inside a function\n",
    "* __Local Scope:__ The Local Region encompasses any space of a program that IS inside a function "
   ]
  },
  {
   "cell_type": "markdown",
   "metadata": {},
   "source": [
    "You can observe global variables inside a function as shown below."
   ]
  },
  {
   "cell_type": "code",
   "execution_count": null,
   "metadata": {},
   "outputs": [],
   "source": [
    "temp1 = \"Hi World\" # Global variable temp1\n",
    "\n",
    "def my_func():\n",
    "    print(f\"{temp1} from inside the function\") # Global variable temp1\n",
    "    print('\\n') # adds a break line\n",
    "\n",
    "my_func()\n",
    "print(f\"{temp1} from outside the function\") # Global variable temp1"
   ]
  },
  {
   "cell_type": "markdown",
   "metadata": {},
   "source": [
    "If you have a local variable inside a function, it does __NOT__ modify the global variable outside the function."
   ]
  },
  {
   "cell_type": "code",
   "execution_count": null,
   "metadata": {},
   "outputs": [],
   "source": [
    "temp2 = \"Hello World\" # Global variable temp2\n",
    "\n",
    "def my_func():\n",
    "    temp2 = \"Hey World\" # modifies the Local variable temp2\n",
    "    print(f\"{temp2} from inside the function\") # Local variable temp2\n",
    "    print('\\n') # adds a break line\n",
    "\n",
    "my_func()\n",
    "print(f\"{temp2} from outside the function\") # Global variable temp2"
   ]
  },
  {
   "cell_type": "code",
   "execution_count": null,
   "metadata": {},
   "outputs": [],
   "source": [
    "temp3 = \"Bye World\" # Global variable temp3\n",
    "\n",
    "def my_func(temp3):\n",
    "    print(f\"{temp3} from inside the function\") # Local variable temp3\n",
    "    temp3 = \"Chao World\" # modifies the Local variable temp3\n",
    "    print(f\"{temp3} from inside the function\") # Local variable temp3\n",
    "    print('\\n') # adds a break line\n",
    "\n",
    "my_func(temp3)\n",
    "print(f\"{temp3} from outside the function\") # Global variable temp3"
   ]
  },
  {
   "cell_type": "code",
   "execution_count": null,
   "metadata": {},
   "outputs": [],
   "source": []
  }
 ],
 "metadata": {
  "kernelspec": {
   "display_name": "Python 3",
   "language": "python",
   "name": "python3"
  },
  "language_info": {
   "codemirror_mode": {
    "name": "ipython",
    "version": 3
   },
   "file_extension": ".py",
   "mimetype": "text/x-python",
   "name": "python",
   "nbconvert_exporter": "python",
   "pygments_lexer": "ipython3",
   "version": "3.7.3"
  },
  "toc": {
   "base_numbering": 1,
   "nav_menu": {},
   "number_sections": false,
   "sideBar": true,
   "skip_h1_title": false,
   "title_cell": "Table of Contents",
   "title_sidebar": "Contents",
   "toc_cell": false,
   "toc_position": {},
   "toc_section_display": true,
   "toc_window_display": true
  }
 },
 "nbformat": 4,
 "nbformat_minor": 2
}
