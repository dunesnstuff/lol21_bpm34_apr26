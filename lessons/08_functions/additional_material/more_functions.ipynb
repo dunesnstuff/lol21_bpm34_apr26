{
 "cells": [
  {
   "cell_type": "markdown",
   "metadata": {},
   "source": [
    "# Functions"
   ]
  },
  {
   "cell_type": "markdown",
   "metadata": {},
   "source": [
    "__Purpose:__\n",
    "The purpose of this lecture is to understand functions in Python. \n",
    "\n",
    "__At the end of this lecture you will be able to:__\n",
    "1. Understand the definition of functions\n",
    "2. Be able to use built-in functions\n",
    "3. Be able to create new functions\n",
    "4. Understand how to use arguments and outputs in functions\n",
    "5. Understand the scope of a function\n",
    "6. Work with methods"
   ]
  },
  {
   "cell_type": "markdown",
   "metadata": {},
   "source": [
    "## 1.1 Functions"
   ]
  },
  {
   "cell_type": "markdown",
   "metadata": {},
   "source": [
    "### 1.1.1 What is a Function? "
   ]
  },
  {
   "cell_type": "markdown",
   "metadata": {},
   "source": [
    "__Overview:__\n",
    "- Functions are the last cornerstone topic in programming that we will cover in this beginner course. After acquiring the knowledge to write your own functions, you will transition from being a \"beginner programmer\" to an \"intermediate programmer\"\n",
    "- Functions in programming resemble that of __[mathematical functions](https://en.wikipedia.org/wiki/Function_(mathematics))__ in that they take some \"input\", do something to that input, and return some \"output\"\n",
    "- Here is a helpful visualization to understand the general principle behind a function: <img src=\"img19.png\" width=300 height=300>"
   ]
  },
  {
   "cell_type": "markdown",
   "metadata": {},
   "source": [
    "- __Functions__:__ Functions allow you to enclose a block of code within the \"FUNCTION f:\" box above such that you only write this block of code ONCE and it can be used with ANY input (that you allow, of course) and will generate a NEW output every time \n",
    "- Functions are useful for a few reasons:\n",
    "> 1. __Maintainability:__ Functions allow you to write programs ONCE which only requires ONE place to change, update and modify the code in the future\n",
    "> 2. __Reusability:__ Functions allow you to to write programs ONCE and use them in multiple places so you don't have to write additional, unncessary code \n",
    "> 3. __[Abstraction](https://en.wikipedia.org/wiki/Abstraction_(software_engineering)):__ Functions \"abstract\" the complicated parts of their inner workings - you don't have to understand how the function ACTUALLY does its job \"on the inside\" if you want to just use a function. Instead, you only need to know the following: \n",
    ">> a) __Function Name:__ the name of the function<br>\n",
    ">> b) __Function Purpose:__ what the function does<br>\n",
    ">> c) __Function Inputs:__ what arguments the function requires<br>\n",
    ">> d) __Function Outputs:__ what result the function returns<br> <br>\n",
    ">> __Do you know how your car engine works? Do you know how your cell phone receives incoming calls? Probably not, but you still use your car and cellphone every day. However, if you want to build a car engine OR new cellphone network, you DO need to know how these work (same with functions)!!!__\n",
    "\n",
    "__Helpful Points:__\n",
    "1. In this beginner course, we will not cover the __[Object-Oriented Programming](https://en.wikipedia.org/wiki/Object-oriented_programming)__ paradigm/style of programming and instead focus on __[Functional Programming](https://en.wikipedia.org/wiki/Functional_programming)__ which is predominantly based on the use of functions to perform computations. Therefore, functions will be increasingly important to your repertoire \n",
    "2. Any time you find yourself using the same block of code more than once, you should consider enclosing this code in a function "
   ]
  },
  {
   "cell_type": "markdown",
   "metadata": {},
   "source": [
    "### 1.1.2 Functions in Python: "
   ]
  },
  {
   "cell_type": "markdown",
   "metadata": {},
   "source": [
    "__Overview:__\n",
    "- Every programming language has a different way of allowing programmers to define and use functions\n",
    "- In Python, the general form of defining a function is the following:<br>\n",
    "<br>\n",
    "\n",
    "`def func_name(input):`\n",
    "\n",
    ">    `\"\"\"`<br>\n",
    ">    `this is the docstring`<br>\n",
    ">    `\"\"\"`<br>\n",
    ">     \n",
    ">    `<statement>`<br>\n",
    ">    `return output` \n",
    "\n",
    "- The general form of \"calling\" (executing a function) is the following:<br>\n",
    "<br>\n",
    "\n",
    "> `output = func_name(input)`<br>\n",
    "<br>\n",
    "\n",
    "- In Python, Functions are defined by a few characteristics (similar to loops and if statements that we have seen above) which can be read about [here](https://docs.python.org/3/tutorial/controlflow.html#defining-functions):\n",
    "> 1. `def`: This keyword introduces a functions definition (it basically defines a function) and is always followed by a) the function name and b) the parenthesized list of inputs \n",
    "> 2. function `<func_name>`: Each function requires a name so users can call upon the function when they require its usage \n",
    "> 3. `:` and 4-space identation: Similar to if statements and loops, Python requires the `:` and 4-space indentation to identify the \"scope\" of the code\n",
    "> 4. Input `<(input)>`: This is the value(s) that is passed into the function in the same way that $x$ is passed into the function $x^2$. It is usually referred to as \"input arguments\" or \"input parameters\". For every set of inputs into the function, there is an appropriate output that is \"manufactured\" in the function \n",
    "> 5. <`return`> statement: This is the value you wish to output from the function and consequently, the value the user will receive when calling the function\n",
    "> 6. `<docstring>`: Since one of the requirements of using a function is to know WHAT the function does, each function needs a way to communicate its purpose to users. This is accomplished by the __[docstring](https://www.python.org/dev/peps/pep-0257/)__ (see [here](https://en.wikipedia.org/wiki/Docstring) for a strict definition) which is a one or multi-line string at the top of the function \n",
    "- The above can be summarized in this nice illustration: <img src=\"img20.png\" width=550 height=550>"
   ]
  },
  {
   "cell_type": "markdown",
   "metadata": {},
   "source": [
    "__Helpful Points:__\n",
    "1. The function has to be initialized (the code has to be run), before you can use the function    \n",
    "2. Python already has [many built-in functions](https://docs.python.org/3/library/functions.html) that we have used extensively up to this point (Do you remember using `bool()`, `complex()`, `dict()`, `enumerate()`, `float()`, `format()`, `help()`, `int()`, `isinstance()`, `len()`, `list()`, `max()`, `min()`, `next()`, `print()`, `set()`, `slice()`, `sorted()`, `str()`, `sum()`, `tuple()`, `type()`, `zip()`, well, __THESE WERE ALL FUNCTIONS!!!__)\n",
    "\n",
    "__Practice:__ Examples of Simple Functions in Python "
   ]
  },
  {
   "cell_type": "markdown",
   "metadata": {},
   "source": [
    "### Part 1 (Built-In Functions):"
   ]
  },
  {
   "cell_type": "markdown",
   "metadata": {},
   "source": [
    "### Example 1.1 ([`len()`](https://docs.python.org/3/library/functions.html#len)):\n",
    "\n",
    "- We have used the `len()` function in the past to calculate the length of sequences. Now we understand:\n",
    "> 1. `len` is the `<name>` of the function\n",
    "> 2. the `<input>` is any sequence\n",
    "> 3. the `<output>` is the length of the sequence"
   ]
  },
  {
   "cell_type": "code",
   "execution_count": null,
   "metadata": {},
   "outputs": [],
   "source": [
    "# view the docstring of the function\n",
    "?len"
   ]
  },
  {
   "cell_type": "code",
   "execution_count": null,
   "metadata": {},
   "outputs": [],
   "source": [
    "# view the docstring of the function \n",
    "help(len)"
   ]
  },
  {
   "cell_type": "code",
   "execution_count": null,
   "metadata": {
    "scrolled": false
   },
   "outputs": [],
   "source": [
    "# print the docstring of the function \n",
    "print(len.__doc__)"
   ]
  },
  {
   "cell_type": "code",
   "execution_count": null,
   "metadata": {},
   "outputs": [],
   "source": [
    "my_list = [1,2,3]\n",
    "# execute the function and save its output into a variable \n",
    "output = len(my_list) # my_list is considered the input into the function which is internally operated on in the len() function\n",
    "print(output)"
   ]
  },
  {
   "cell_type": "markdown",
   "metadata": {},
   "source": [
    "### Example 1.2 ([`sum()`](https://docs.python.org/3/library/functions.html#sum)):\n",
    "- We have used the `sum()` function in the past to calculate the sum of an `iterable` object. Now we understand:\n",
    "> 1. `sum` is the `<name>` of the function\n",
    "> 2. the `<input>` is an iterable usually with numbers as elements\n",
    "> 3. the `<output>` is the sum of the `iterable` object "
   ]
  },
  {
   "cell_type": "code",
   "execution_count": null,
   "metadata": {},
   "outputs": [],
   "source": [
    "# view the docstring of the function\n",
    "?sum"
   ]
  },
  {
   "cell_type": "code",
   "execution_count": null,
   "metadata": {},
   "outputs": [],
   "source": [
    "# view the docstring of the function \n",
    "help(sum)"
   ]
  },
  {
   "cell_type": "code",
   "execution_count": null,
   "metadata": {
    "scrolled": false
   },
   "outputs": [],
   "source": [
    "# print the docstring of the function \n",
    "print(sum.__doc__) # __doc__ is actually a method (similar to a function) \"inside\" the object, we will cover this below in the Methods section"
   ]
  },
  {
   "cell_type": "code",
   "execution_count": null,
   "metadata": {},
   "outputs": [],
   "source": [
    "my_list = [1,2,3]\n",
    "# execute the function and save its output into a variable \n",
    "output = sum(my_list) # my_list is considered the input into the function which is internally operated on in the sum() function\n",
    "print(output)"
   ]
  },
  {
   "cell_type": "markdown",
   "metadata": {},
   "source": [
    "### Part 2 (New Functions):"
   ]
  },
  {
   "cell_type": "markdown",
   "metadata": {},
   "source": [
    "### Example 1 (Calculate the Length of a Sequence WITHOUT FUNCTION):"
   ]
  },
  {
   "cell_type": "markdown",
   "metadata": {},
   "source": [
    "Imagine we didn't know how to build functions and we were tasked to calculate the lengths of these 3 objects (and, of course, the `len()` function did not exist):\n",
    "> 1. `[1,2,3]`\n",
    "> 2. `\"Clark\"`\n",
    "> 3. `{\"Clark\":\"Kent\", \"Bruce\":\"Wayne\"}`\n",
    "\n",
    "How would we do this? "
   ]
  },
  {
   "cell_type": "code",
   "execution_count": null,
   "metadata": {},
   "outputs": [],
   "source": [
    "obj_1 = [1,2,3]\n",
    "obj_2 = \"Clark\"\n",
    "obj_3 = {\"Clark\":\"Kent\", \"Bruce\":\"Wayne\"}"
   ]
  },
  {
   "cell_type": "code",
   "execution_count": null,
   "metadata": {},
   "outputs": [],
   "source": [
    "# calculate the length of object 1 \n",
    "obj1_len_count = 0\n",
    "for element in obj_1:\n",
    "    obj1_len_count += 1\n",
    "\n",
    "print(\"The length of object 1 is {}\".format(obj1_len_count))"
   ]
  },
  {
   "cell_type": "code",
   "execution_count": null,
   "metadata": {},
   "outputs": [],
   "source": [
    "# calculate the length of object 2\n",
    "obj2_len_count = 0\n",
    "for element in obj_2:\n",
    "    obj2_len_count += 1\n",
    "\n",
    "print(\"The length of object 2 is {}\".format(obj2_len_count))"
   ]
  },
  {
   "cell_type": "code",
   "execution_count": null,
   "metadata": {},
   "outputs": [],
   "source": [
    "# calculate the length of object 3\n",
    "obj3_len_count = 0\n",
    "for element in obj_3:\n",
    "    obj3_len_count += 1\n",
    "\n",
    "print(\"The length of object 3 is {}\".format(obj3_len_count))"
   ]
  },
  {
   "cell_type": "markdown",
   "metadata": {},
   "source": [
    "To calculate the length of these 3 sequences, we had to write 3 different `for` loops and initialize 3 different variables for the counts. This is incredibly inefficient programming since the essence of the process was identical for each object, but yet we wrote additional code for each. "
   ]
  },
  {
   "cell_type": "markdown",
   "metadata": {},
   "source": [
    "### Example 2.2 (Calculate the Length of a Sequence WITH FUNCTION):"
   ]
  },
  {
   "cell_type": "markdown",
   "metadata": {},
   "source": [
    "How about if we enclose the main computation of calculating the length in a function and then just pass in the sequence and receive the length as the output? This would be MUCH more concise and efficient. "
   ]
  },
  {
   "cell_type": "code",
   "execution_count": null,
   "metadata": {},
   "outputs": [],
   "source": [
    "# define a new function to calculate the length of a sequence \n",
    "def len_new(s):\n",
    "    \"\"\"\n",
    "    Find the length of an object\n",
    "    \n",
    "    Input Parameters:\n",
    "    s -- the sequence you want to find the length of\n",
    "    \"\"\"\n",
    "    len_count = 0\n",
    "    for element in s:\n",
    "        len_count += 1\n",
    "    \n",
    "    return len_count"
   ]
  },
  {
   "cell_type": "code",
   "execution_count": null,
   "metadata": {
    "scrolled": true
   },
   "outputs": [],
   "source": [
    "# print the function's docstring\n",
    "print(len_new.__doc__)"
   ]
  },
  {
   "cell_type": "code",
   "execution_count": null,
   "metadata": {},
   "outputs": [],
   "source": [
    "obj_1 = [1,2,3]\n",
    "obj_2 = \"Clark\"\n",
    "obj_3 = {\"Clark\":\"Kent\", \"Bruce\":\"Wayne\"}"
   ]
  },
  {
   "cell_type": "code",
   "execution_count": null,
   "metadata": {},
   "outputs": [],
   "source": [
    "# calculate the length of object 1 \n",
    "print(len_new(obj_1))"
   ]
  },
  {
   "cell_type": "code",
   "execution_count": null,
   "metadata": {},
   "outputs": [],
   "source": [
    "# calculate the length of object 2\n",
    "print(len_new(obj_2))"
   ]
  },
  {
   "cell_type": "code",
   "execution_count": null,
   "metadata": {},
   "outputs": [],
   "source": [
    "# calculate the length of object 3 \n",
    "print(len_new(obj_3))"
   ]
  },
  {
   "cell_type": "markdown",
   "metadata": {},
   "source": [
    "It should be clear why functions are advantageous now - you can perform the same task many, many times by simply reusing one block of code. "
   ]
  },
  {
   "cell_type": "markdown",
   "metadata": {},
   "source": [
    "### Example 2.3 (Calculate the Fibonacci Sequence WITH FUNCTION):"
   ]
  },
  {
   "cell_type": "markdown",
   "metadata": {},
   "source": [
    "Imagine we were asked to find the numbers in the __[Fibonacci Sequence](https://en.wikipedia.org/wiki/Fibonacci_number)__ from 0 to n. We can easily write a function to do this and then re-use this function with muliple values of n. "
   ]
  },
  {
   "cell_type": "code",
   "execution_count": null,
   "metadata": {},
   "outputs": [],
   "source": [
    "f100 = fib_func(100)\n",
    "print(f100)"
   ]
  },
  {
   "cell_type": "markdown",
   "metadata": {},
   "source": [
    "We receive an error here since we can't use a function until we define it. "
   ]
  },
  {
   "cell_type": "code",
   "execution_count": null,
   "metadata": {},
   "outputs": [],
   "source": [
    "# function to return the Fibonacci series up to n\n",
    "def fib_func(n):  \n",
    "    \"\"\"\n",
    "    Return a list containing the Fibonacci series from 0 up to n\n",
    "\n",
    "    Input Parameters:\n",
    "    n -- The desired upper limit of the Fibonacci series \n",
    "    \"\"\"\n",
    "    result = []\n",
    "    # initialize seed values\n",
    "    a, b = 0, 1\n",
    "    while a < n:\n",
    "        result.append(a)\n",
    "        # fn = fn-1 + fn-2\n",
    "        a, b = b, a+b\n",
    "        \n",
    "    return result"
   ]
  },
  {
   "cell_type": "code",
   "execution_count": null,
   "metadata": {},
   "outputs": [],
   "source": [
    "seq_1 = 100\n",
    "seq_2 = 40"
   ]
  },
  {
   "cell_type": "code",
   "execution_count": null,
   "metadata": {},
   "outputs": [],
   "source": [
    "fib_seq_1 = fib_func(seq_1)\n",
    "print(fib_seq_1)"
   ]
  },
  {
   "cell_type": "code",
   "execution_count": null,
   "metadata": {},
   "outputs": [],
   "source": [
    "fib_seq_2 = fib_func(seq_2)\n",
    "print(fib_seq_2)"
   ]
  },
  {
   "cell_type": "markdown",
   "metadata": {},
   "source": [
    "### 1.1.3 Closer Look at Input Arguments in Python Functions:"
   ]
  },
  {
   "cell_type": "markdown",
   "metadata": {},
   "source": [
    "### 1.1.3.1 Types of Arguments in Python "
   ]
  },
  {
   "cell_type": "markdown",
   "metadata": {},
   "source": [
    "__Overview:__\n",
    "- __[Input Arguments](https://docs.python.org/3/glossary.html#term-argument) (or just Arguments)__ in Python refer to the value that is passed to a function when calling the function\n",
    "- Arguments in Python fall into one of two categories:\n",
    "> 1. __Keyword Argument (known as \"kwargs\"):__ Keyword Arguments are arguments that are preceded by an equal sign (`name = `) in a function call\n",
    "> 2. __Positional Argument (known as \"args\"):__ Positional Arguments are arguments that are not preceded by an equal sign in a function call (therefore, not a keyword argument) and instead are simply passed in as `int`, for example\n",
    "\n",
    "__Helpful Points:__\n",
    "1. Argument names do not have be defined as the same names as their corresponding value inside the function (for example, in example 2.3 above, the arguments were defined as `seq_1` and `seq_2` and did not have to be the same name as their correspondng value inside the `fib_func` function which was `n`) \n",
    "\n",
    "__Practice:__ Examples of using 2 types of Arguments in Python "
   ]
  },
  {
   "cell_type": "markdown",
   "metadata": {},
   "source": [
    "### Example 1 (Using Keyword Arguments):"
   ]
  },
  {
   "cell_type": "code",
   "execution_count": null,
   "metadata": {},
   "outputs": [],
   "source": [
    "# simple function to print info for any superhero\n",
    "def metis(superhero, first_name, last_name):\n",
    "    print(\"The superhero {}, has a first name of {} and a last name of {}\".\n",
    "          format(superhero, first_name, last_name))"
   ]
  },
  {
   "cell_type": "code",
   "execution_count": null,
   "metadata": {
    "scrolled": true
   },
   "outputs": [],
   "source": [
    "metis(superhero = \"Superman\", first_name = \"Clark\", last_name = \"Kent\")"
   ]
  },
  {
   "cell_type": "code",
   "execution_count": null,
   "metadata": {},
   "outputs": [],
   "source": [
    "metis(superhero = \"Batman\", first_name = \"Bruce\", last_name = \"Wayne\")"
   ]
  },
  {
   "cell_type": "markdown",
   "metadata": {},
   "source": [
    "### Example 2 (Using Positional Arguments):"
   ]
  },
  {
   "cell_type": "code",
   "execution_count": null,
   "metadata": {},
   "outputs": [],
   "source": [
    "# simple function to calculate the nth power of any number\n",
    "def nth_power(num, n):\n",
    "    return num ** n "
   ]
  },
  {
   "cell_type": "code",
   "execution_count": null,
   "metadata": {},
   "outputs": [],
   "source": [
    "nth_power(2, 2)"
   ]
  },
  {
   "cell_type": "code",
   "execution_count": null,
   "metadata": {},
   "outputs": [],
   "source": [
    "nth_power(5, 5)"
   ]
  },
  {
   "cell_type": "markdown",
   "metadata": {},
   "source": [
    "### 1.1.3.2 Rules of Argument Usage in Python:"
   ]
  },
  {
   "cell_type": "markdown",
   "metadata": {},
   "source": [
    "__Overview:__ \n",
    "- Keyword and Positional Arguments are subject to the following rules \n",
    "> 1. __Rule 1:__ If a function uses BOTH __Keyword__ and __Positional__ arguments, the __Keyword Arguments__ must follow (i.e. come after) __Positional Arguments__ when calling the function\n",
    "> 2. __Rule 2:__ All the __Keyword Arguments__ passed into the function must match one of the arguments accepted by the function \n",
    "> 3. __Rule 3:__ The order of __Keyword Arguments__ does not matter as long as they are an acceptable argument (see rule 2 above)\n",
    "> 4. __Rule 4:__ No argument allowed in the function can receive a value more than once (i.e. if the function requires an input for the variable `a`, you can't pass in `a=1` AND `a=0`)\n",
    "\n",
    "__Helpful Points:__ \n",
    "1. If the above rules are not followed, you will receive an error (depending on which rule was not followed)\n",
    "\n",
    "__Practice:__ Examples of using Argument Usage Rules in Python "
   ]
  },
  {
   "cell_type": "markdown",
   "metadata": {},
   "source": [
    "### Example 1 (Rule 1):"
   ]
  },
  {
   "cell_type": "code",
   "execution_count": null,
   "metadata": {},
   "outputs": [],
   "source": [
    "# simple function to print info for any superhero\n",
    "def metis(superhero, first_name, last_name):\n",
    "    print(\"The superhero {}, has a first name of {} and a last name of {}\".\n",
    "          format(superhero, first_name, last_name))"
   ]
  },
  {
   "cell_type": "code",
   "execution_count": null,
   "metadata": {},
   "outputs": [],
   "source": [
    "# no error since the keyword arguments follow the positional arguments \n",
    "metis(\"Superman\", \"Clark\", last_name = \"Kent\") "
   ]
  },
  {
   "cell_type": "code",
   "execution_count": null,
   "metadata": {},
   "outputs": [],
   "source": [
    "# error since the keyword arguments does not follow the positional arguments \n",
    "metis(superhero = \"Superman\", \"Clark\", \"Kent\") "
   ]
  },
  {
   "cell_type": "markdown",
   "metadata": {},
   "source": [
    "### Example 2 (Rule 2):"
   ]
  },
  {
   "cell_type": "code",
   "execution_count": null,
   "metadata": {},
   "outputs": [],
   "source": [
    "# no error since all the keywrod arguments passed into the function match one of the arguments accepted by the function\n",
    "metis(superhero = \"Superman\", first_name = \"Clark\", last_name = \"Kent\") "
   ]
  },
  {
   "cell_type": "code",
   "execution_count": null,
   "metadata": {},
   "outputs": [],
   "source": [
    "# error since not all the keywrod arguments passed into the function match one of the arguments accepted by the function\n",
    "metis(superhero = \"Superman\", first_name = \"Clark\", last_name = \"Kent\", extra = \"Extra\") "
   ]
  },
  {
   "cell_type": "markdown",
   "metadata": {},
   "source": [
    "### Example 3 (Rule 3):"
   ]
  },
  {
   "cell_type": "code",
   "execution_count": null,
   "metadata": {},
   "outputs": [],
   "source": [
    "# order 1\n",
    "metis(superhero = \"Superman\", first_name = \"Clark\", last_name = \"Kent\") "
   ]
  },
  {
   "cell_type": "code",
   "execution_count": null,
   "metadata": {},
   "outputs": [],
   "source": [
    "# order 2\n",
    "metis(first_name = \"Clark\", last_name = \"Kent\", superhero = \"Superman\") "
   ]
  },
  {
   "cell_type": "code",
   "execution_count": null,
   "metadata": {},
   "outputs": [],
   "source": [
    "# order 3\n",
    "metis(last_name = \"Kent\", first_name = \"Clark\", superhero = \"Superman\") "
   ]
  },
  {
   "cell_type": "markdown",
   "metadata": {},
   "source": [
    "All 3 orders of the keyword arguments yield the same result "
   ]
  },
  {
   "cell_type": "markdown",
   "metadata": {},
   "source": [
    "### Example 4 (Rule 4):"
   ]
  },
  {
   "cell_type": "code",
   "execution_count": null,
   "metadata": {},
   "outputs": [],
   "source": [
    "# no error since all arguments receive only one value \n",
    "metis(superhero = \"Superman\", first_name = \"Clark\", last_name = \"Kent\") "
   ]
  },
  {
   "cell_type": "code",
   "execution_count": null,
   "metadata": {},
   "outputs": [],
   "source": [
    "# error since an argument receives more than one value \n",
    "metis(superhero = \"Superman\", first_name = \"Clark\", last_name = \"Kent\", superhero = \"Batman\") "
   ]
  },
  {
   "cell_type": "markdown",
   "metadata": {},
   "source": [
    "### 1.1.3.3 Practical Usage of Arguments in Python:"
   ]
  },
  {
   "cell_type": "markdown",
   "metadata": {},
   "source": [
    "__Overview:__ \n",
    "- Input Arguments can be used in one of four ways which are outlined [here](https://docs.python.org/3/tutorial/controlflow.html#defining-functions) as well as below:\n",
    "> 1. __Keyword Argument Values (Only)__  \n",
    "> 2. __Positional Argument Values (Only)__  \n",
    "> 3. __Default Argument Values:__  This is the most useful application and involves the \"function creater\" specifying a default value for one or more of the function's arguments. This means that the \"function user\" does NOT need to pass in a value for this argument. If they choose to, they will override the default value. \n",
    "> 4. __Arbitrary Arguments:__ This type refers to the ability of passing in an arbitrary number of arguments into the function call. These arbirtrary arguments are passed into the function as a `list`/`tuple` or `dict` and then unpacked inside the function. Each `type` has a different specification: \n",
    ">> a. Passing in a __List/Tuple__ as an __Arbitrary Positional Argument__. This `type` corresponds to the __Variable Positional Parameter__ which is specified inside the function arguments as (`*args`). The single asterix `*` specifies unpacking for type `tuple` and the `args` is just the conventional name used for __Positional Arguments__ (but can be anything - `*clark`)<br>\n",
    ">> b. Passing in a __Dictionary__ as an __Arbitrary Keyword Argument__. This `type` corresponds to the __Variable Keyword Parameter__ which is specified inside the function arguments as (`**kwargs`). The double asterix `**` specifies unpacking for type `dict` and the `kwargs` is just the conventional name used for __Keyword Arguments__ (but can be anything - `**kent`)\n",
    "\n",
    "__Helpful Points:__\n",
    "1. We will explore both Default Argument Values and Arbitrary Arguments in Python functions below\n",
    "\n",
    "__Practice:__ Examples of Default Argument Values and Arbitrary Arguments in Python"
   ]
  },
  {
   "cell_type": "markdown",
   "metadata": {},
   "source": [
    "### Part 1 (Default Argument Values):"
   ]
  },
  {
   "cell_type": "markdown",
   "metadata": {},
   "source": [
    "### Example 1.1 (Simple Function with Default Values):"
   ]
  },
  {
   "cell_type": "code",
   "execution_count": null,
   "metadata": {},
   "outputs": [],
   "source": [
    "# simple function to calculate the 2nd power of any number (unless otherwise specified )\n",
    "def nth_power(num, n=2):\n",
    "    return num ** n "
   ]
  },
  {
   "cell_type": "code",
   "execution_count": null,
   "metadata": {},
   "outputs": [],
   "source": [
    "# specification 1: don't specify the default argument \n",
    "nth_power(3)"
   ]
  },
  {
   "cell_type": "code",
   "execution_count": null,
   "metadata": {},
   "outputs": [],
   "source": [
    "# specification 2: specify (and override) the default argument\n",
    "nth_power(3, 4)"
   ]
  },
  {
   "cell_type": "markdown",
   "metadata": {},
   "source": [
    "### Example 1.2 (Noteworthy Feature of Default Values (1) ):"
   ]
  },
  {
   "cell_type": "code",
   "execution_count": null,
   "metadata": {},
   "outputs": [],
   "source": [
    "i = 5\n",
    "# at the point that the function is defined i = 5, therefore this gets passed into the default argument \n",
    "def f(arg=i):\n",
    "    print(arg)"
   ]
  },
  {
   "cell_type": "code",
   "execution_count": null,
   "metadata": {},
   "outputs": [],
   "source": [
    "# the function has already been defined at this point, so i = 6 does NOT get passed into the default argument\n",
    "i = 6\n",
    "# call the function and allow the default value to maintain its value \n",
    "f()\n",
    "f(i)"
   ]
  },
  {
   "cell_type": "markdown",
   "metadata": {},
   "source": [
    "### Example 1.3 (Noteworthy Feature of Default Values (2) ):"
   ]
  },
  {
   "cell_type": "code",
   "execution_count": null,
   "metadata": {},
   "outputs": [],
   "source": [
    "# default value is evaluated only once (when the function is defined). If the default value is mutable, this will create problems\n",
    "def f(a, L=[]):\n",
    "    L.append(a)\n",
    "    return L"
   ]
  },
  {
   "cell_type": "code",
   "execution_count": null,
   "metadata": {},
   "outputs": [],
   "source": [
    "# L = [] but calling the function changes L \n",
    "print(f(\"a\"))"
   ]
  },
  {
   "cell_type": "code",
   "execution_count": null,
   "metadata": {},
   "outputs": [],
   "source": [
    "# L = [\"a\"] but calling the function changes L \n",
    "print(f(\"b\"))"
   ]
  },
  {
   "cell_type": "code",
   "execution_count": null,
   "metadata": {},
   "outputs": [],
   "source": [
    "# L = [\"a\", \"b\"] but calling the function changes L \n",
    "print(f(\"c\"))"
   ]
  },
  {
   "cell_type": "markdown",
   "metadata": {},
   "source": [
    "### Example 1.4 (Noteworthy Feature of Default Values (3) ):"
   ]
  },
  {
   "cell_type": "code",
   "execution_count": null,
   "metadata": {},
   "outputs": [],
   "source": [
    "# corrects the problem above by ensuring the default value is not shared between subsequent calls\n",
    "def f(a, L=None):\n",
    "    if L is None:\n",
    "        L = []\n",
    "    L.append(a)\n",
    "    return L"
   ]
  },
  {
   "cell_type": "code",
   "execution_count": null,
   "metadata": {},
   "outputs": [],
   "source": [
    "print(f(\"a\"))"
   ]
  },
  {
   "cell_type": "code",
   "execution_count": null,
   "metadata": {},
   "outputs": [],
   "source": [
    "print(f(\"b\"))"
   ]
  },
  {
   "cell_type": "code",
   "execution_count": null,
   "metadata": {},
   "outputs": [],
   "source": [
    "print(f(\"c\"))"
   ]
  },
  {
   "cell_type": "markdown",
   "metadata": {},
   "source": [
    "### Part 2 (Arbitrary Arguments):"
   ]
  },
  {
   "cell_type": "markdown",
   "metadata": {},
   "source": [
    "### Example 2.1 (Unpacking in Function Arguments):"
   ]
  },
  {
   "cell_type": "code",
   "execution_count": null,
   "metadata": {},
   "outputs": [],
   "source": [
    "def metis_staff(clark = 40, bruce = 20, lex = 30, diana = 25):\n",
    "    staff_list = []\n",
    "    staff_list.append(clark)\n",
    "    staff_list.append(bruce)\n",
    "    staff_list.append(lex)\n",
    "    staff_list.append(diana)\n",
    "    return staff_list"
   ]
  },
  {
   "cell_type": "code",
   "execution_count": null,
   "metadata": {},
   "outputs": [],
   "source": [
    "# non-arbitrary arguments and mix of positional and keyword)\n",
    "print(metis_staff(30, bruce = 21, lex = 31, diana = 21))"
   ]
  },
  {
   "cell_type": "code",
   "execution_count": null,
   "metadata": {
    "scrolled": false
   },
   "outputs": [],
   "source": [
    "# recall how the * works for lists \n",
    "staff_list = [21, 31]\n",
    "print(staff_list)\n",
    "print(*staff_list)"
   ]
  },
  {
   "cell_type": "code",
   "execution_count": null,
   "metadata": {},
   "outputs": [],
   "source": [
    "# arbitrary argument list \n",
    "staff_list = [21, 31]\n",
    "print(metis_staff(30, *staff_list, diana = 21)) # same function call as metis_staff(30, 21, 31, diana=21) "
   ]
  },
  {
   "cell_type": "code",
   "execution_count": null,
   "metadata": {
    "scrolled": false
   },
   "outputs": [],
   "source": [
    "# recall how the ** works for dictionaries \n",
    "staff_list = {\"bruce\":21, \"lex\":31}\n",
    "print(staff_list)\n",
    "print(dict(**staff_list))"
   ]
  },
  {
   "cell_type": "code",
   "execution_count": null,
   "metadata": {},
   "outputs": [],
   "source": [
    "# arbitrary argument dictionary \n",
    "staff_list = {\"bruce\":21, \"lex\":31}\n",
    "print(metis_staff(30, **staff_list, diana = 21)) # same function call as metis_staff(30, bruce=21, lex=31, diana=21)"
   ]
  },
  {
   "cell_type": "markdown",
   "metadata": {},
   "source": [
    "### Example 2.2 (Arbitrary Positional Arguments using Variable Positional Parameter `*args`):"
   ]
  },
  {
   "cell_type": "code",
   "execution_count": null,
   "metadata": {},
   "outputs": [],
   "source": [
    "def args(*args):\n",
    "    for arg in args:\n",
    "        print(arg)"
   ]
  },
  {
   "cell_type": "code",
   "execution_count": null,
   "metadata": {},
   "outputs": [],
   "source": [
    "# function call 1 (1 argument)\n",
    "args(\"Clark\")"
   ]
  },
  {
   "cell_type": "code",
   "execution_count": null,
   "metadata": {},
   "outputs": [],
   "source": [
    "# function call 2 (2 arguments)\n",
    "args(\"Clark\", \"Kent\")"
   ]
  },
  {
   "cell_type": "code",
   "execution_count": null,
   "metadata": {},
   "outputs": [],
   "source": [
    "# function call 3 (3 arguments)\n",
    "args(\"Clark\", \"Kent\", [1,2,3])"
   ]
  },
  {
   "cell_type": "code",
   "execution_count": null,
   "metadata": {
    "scrolled": true
   },
   "outputs": [],
   "source": [
    "# function call 4 (4 arguments)\n",
    "args(\"Clark\", \"Kent\", [1,2,3], [\"Bruce\", \"Wayne\"])"
   ]
  },
  {
   "cell_type": "markdown",
   "metadata": {},
   "source": [
    "Note in the above examples, we were able to pass in as many or as few arguments as we pleased. Also, remember that the `args` term is used by convention only and can be any variable name. "
   ]
  },
  {
   "cell_type": "markdown",
   "metadata": {},
   "source": [
    "### Example 2.3 (Arbitrary Keyword Arguments using Variable Keyword Parameter `**kwargs`):"
   ]
  },
  {
   "cell_type": "code",
   "execution_count": null,
   "metadata": {},
   "outputs": [],
   "source": [
    "def kwargs(**kwargs):\n",
    "    for key in kwargs:\n",
    "        print(key, \":\", kwargs[key])"
   ]
  },
  {
   "cell_type": "code",
   "execution_count": null,
   "metadata": {},
   "outputs": [],
   "source": [
    "# function call 1\n",
    "kwargs(first_name = \"Clark\", last_name = \"Kent\", age = 40)"
   ]
  },
  {
   "cell_type": "code",
   "execution_count": null,
   "metadata": {
    "scrolled": true
   },
   "outputs": [],
   "source": [
    "# function call 2\n",
    "kwargs(first_name = \"Bruce\", last_name = \"Wayne\", age = 20)"
   ]
  },
  {
   "cell_type": "markdown",
   "metadata": {},
   "source": [
    "### Example 2.4 (Arbitrary Positional and Kewword Arguments):"
   ]
  },
  {
   "cell_type": "code",
   "execution_count": null,
   "metadata": {},
   "outputs": [],
   "source": [
    "def args_and_kwargs(var, *args, **kwargs):\n",
    "    for arg in args:\n",
    "        print(\"{} iteration is {}\".format(var, arg))\n",
    "        var += 1\n",
    "    \n",
    "    print(\"\\n\")\n",
    "    var = 0\n",
    "    for key in kwargs:\n",
    "        print(\"{} iteration is {} : {}\".format(var, key, kwargs[key]))\n",
    "        var += 1"
   ]
  },
  {
   "cell_type": "code",
   "execution_count": null,
   "metadata": {},
   "outputs": [],
   "source": [
    "args_and_kwargs(0, \"a\", \"b\", \"c\", first_name = \"Bruce\", last_name = \"Wayne\", age = 40) # 4 positional arguments and 3 keyword arguments"
   ]
  },
  {
   "cell_type": "markdown",
   "metadata": {},
   "source": [
    "In the above example, the `**kwargs` received a dictionary containing all keyword arguments and the `*args` received a tuple containing the positional arguments. Notice how the arguments for `*args` comes before those for `*kwargs` due to rule 1 above. "
   ]
  },
  {
   "cell_type": "markdown",
   "metadata": {},
   "source": [
    "### 1.1.4 Closer Look at Outputs in Python Functions: "
   ]
  },
  {
   "cell_type": "markdown",
   "metadata": {},
   "source": [
    "__Overview:__\n",
    "- The `return` statement in Python functions declare what needs to be outputted after executing the function\n",
    "- However, technically functions do not need to `<return>` anything and can just manipulate an input (see example 1 below) \n",
    "- The function will end when it hits the `<return>` statement, so if this does not appear on the last line, the function will end prematurely and not execute any additional statements (see example 2 below) \n",
    "- Functions in Python have the ability of returning multiple variables (unlike the R programming language) in the form of a `tuple` (see example 3 below) \n",
    "\n",
    "__Helpful Points:__\n",
    "1. Remember that you do NOT need to encapsulate what you want to return inside parentheses, instead it follows this format: `return result` \n",
    "2. If there is no `return` statement, the function will not output anything \n",
    "\n",
    "__Practice:__ Examples of Different Types of `return` statement in Python "
   ]
  },
  {
   "cell_type": "markdown",
   "metadata": {},
   "source": [
    "### Example 1 (Function with No Return Statement):"
   ]
  },
  {
   "cell_type": "code",
   "execution_count": null,
   "metadata": {},
   "outputs": [],
   "source": [
    "# function change the ith element of an object \n",
    "def change_element(obj, i):\n",
    "    if i <= len(obj):\n",
    "        obj[i] = \"NEW\" "
   ]
  },
  {
   "cell_type": "code",
   "execution_count": null,
   "metadata": {},
   "outputs": [],
   "source": [
    "obj_1 = [1,2,3]\n",
    "obj_2 = [\"C\", \"l\", \"a\", \"r\", \"k\"]"
   ]
  },
  {
   "cell_type": "code",
   "execution_count": null,
   "metadata": {},
   "outputs": [],
   "source": [
    "change_element(obj_1, 2)\n",
    "print(obj_1)"
   ]
  },
  {
   "cell_type": "code",
   "execution_count": null,
   "metadata": {},
   "outputs": [],
   "source": [
    "change_element(obj_2, 3)\n",
    "print(obj_2)"
   ]
  },
  {
   "cell_type": "markdown",
   "metadata": {},
   "source": [
    "### Example 2 (Function with Early Exit Return Statement):"
   ]
  },
  {
   "cell_type": "code",
   "execution_count": null,
   "metadata": {},
   "outputs": [],
   "source": [
    "def early_exit(obj):\n",
    "    for element in obj:\n",
    "        if element == 1:\n",
    "            return # returns none \n",
    "    obj.append(\"COMPLETED\")\n",
    "    return obj"
   ]
  },
  {
   "cell_type": "code",
   "execution_count": null,
   "metadata": {},
   "outputs": [],
   "source": [
    "obj_1 = [2,3,4,1,2]\n",
    "obj_2 = [2,2,2,2]"
   ]
  },
  {
   "cell_type": "code",
   "execution_count": null,
   "metadata": {},
   "outputs": [],
   "source": [
    "# early exit \n",
    "obj_1 = early_exit(obj_1)\n",
    "print(obj_1)"
   ]
  },
  {
   "cell_type": "code",
   "execution_count": null,
   "metadata": {},
   "outputs": [],
   "source": [
    "# no early exit\n",
    "obj_2 = early_exit(obj_2)\n",
    "print(obj_2)"
   ]
  },
  {
   "cell_type": "markdown",
   "metadata": {},
   "source": [
    "### Example 3 (Function that Outputs Multiple Variables): "
   ]
  },
  {
   "cell_type": "code",
   "execution_count": null,
   "metadata": {},
   "outputs": [],
   "source": [
    "def nth_power(num, n):\n",
    "    return num ** n, n # return the result AND the power (packing - packs the result and power into a tuple)  "
   ]
  },
  {
   "cell_type": "code",
   "execution_count": null,
   "metadata": {},
   "outputs": [],
   "source": [
    "print(nth_power(2, 2))\n",
    "print(type(nth_power(2, 2))) # result is a tuple "
   ]
  },
  {
   "cell_type": "code",
   "execution_count": null,
   "metadata": {},
   "outputs": [],
   "source": [
    "nth_power_answer, nth_power_value = nth_power(5, 3) # unpacking the tuple \n",
    "print(nth_power_answer)\n",
    "print(nth_power_value)"
   ]
  },
  {
   "cell_type": "markdown",
   "metadata": {},
   "source": [
    "### Problem 1\n",
    "\n",
    "Write a Function to return the minimum and maximum of a non-empty list. For example, try finding the minimum and maximum of the list `[1,3,5,10,12,2,0]`. Your function should return both values as a `tuple` in the form of (`min`, `max`) as such (0, 10). \n",
    "\n",
    "- Call the function `minimax` and it should accept one argument - the list (call it `x`)\n",
    "- You will need a `for` loop to traverse the list that is passed in \n",
    "- Hint: Set the `min` and `max` as the first value in the list and iterate starting at position `1` to check if you should reassign your `min` and `max` variables. If you don't need to reset them, just move on to the next iteration. If you do need to reset them, reassign them appropriately\n",
    "- Check that your function works by passing in the list above and ensure it returns `(0, 10)`. Try with some other lists \n",
    "- Assume the list passed in is non-empty to make things easier "
   ]
  },
  {
   "cell_type": "code",
   "execution_count": null,
   "metadata": {},
   "outputs": [],
   "source": [
    "# Write your code here\n",
    "\n",
    "\n",
    "\n"
   ]
  },
  {
   "cell_type": "markdown",
   "metadata": {},
   "source": [
    "### 1.1.5 Scope of Functions:"
   ]
  },
  {
   "cell_type": "markdown",
   "metadata": {},
   "source": [
    "__Overview:__\n",
    "- __[Scope](https://en.wikipedia.org/wiki/Scope_(computer_science)):__ Scope in programming refers to the \"region\" where a variable exists and is valid in \n",
    "- In Python, there are 2 main scopes:\n",
    "> 1. __Global Scope:__ The Global Region encompasses any space of a program that is NOT inside a function\n",
    "> 2. __Local Scope:__ The Local Region ecoompasses any space of a program that IS inside a function \n",
    "- Therefore, in Python, there are 2 main variables:\n",
    "> 1. __[Global Variables](https://anh.cs.luc.edu/python/hands-on/3.1/handsonHtml/functions.html#id7):__ All Variables created in __Global Scope__ are considered __Global Variables__\n",
    ">> - Global Variables are defined outside any function definition and at the \"top-level\" of the program \n",
    ">> - Global Variables are visible both INSIDE functions and (of course) OUTSIDE functions\n",
    ">> - You can declare a variable inside a function a Global Variable by typing this command before assigning the variable: `global variable_name` (see Example 3 below) \n",
    ">> - If you need a value for multiple functions (i.e. PI constant), you would declare it at the top of your program as a Global Variable (or more specifically, a Global Constant) (see Example 4 below) \n",
    ">> - Functions are also Global Variables which explains why we can call functions within functions (see Example 4 below)\n",
    "> 2. __[Local Variables](https://anh.cs.luc.edu/python/hands-on/3.1/handsonHtml/functions.html#id6):__ All Variables created in __Local Scope__ are considered __Local Variables__\n",
    ">> - Local Variables are defined inside function definition \n",
    ">> - Local Variables are only visible INSIDE functions and NOT visible OUTSIDE functions\n",
    ">> - Any variable you declare inside a function is a Local Variable, there is no need for explicit designation "
   ]
  },
  {
   "cell_type": "markdown",
   "metadata": {},
   "source": [
    "__Helpful Points:__\n",
    "1. A Local Variable that is defined in Local Scope can be used in that scope only and will refer to whatever value was assigned to it as long as the variable remains in that scope \n",
    "2. If you attempt to call a Local Variable in Global Scope, the variable will not be defined (in other words, it will not still refer to the value that was originally assigned to it in the Local Scope)\n",
    "3. In fact, the same variable name may have different values in Local and Global Scopes (since a brand new object is created in Local Scope) (see Example 2 below)   \n",
    "4. See [here](https://docs.python.org/2/tutorial/classes.html#tut-scopes) for some more information on Python Scopes \n",
    "\n",
    "__Practice:__ Examples of Global and Local Scope in Python "
   ]
  },
  {
   "cell_type": "markdown",
   "metadata": {},
   "source": [
    "### Example 1 (Global Scope and Global Variables):"
   ]
  },
  {
   "cell_type": "code",
   "execution_count": null,
   "metadata": {},
   "outputs": [],
   "source": [
    "my_str = \"Clark\" # this is in global scope since we are not within a function, therefore this is a global variable\n",
    "\n",
    "# this begins local scope \n",
    "def name(last):\n",
    "    return my_str + \" \" + last # global variables are visible both inside and outside functions so we can use it here "
   ]
  },
  {
   "cell_type": "code",
   "execution_count": null,
   "metadata": {
    "scrolled": true
   },
   "outputs": [],
   "source": [
    "my_name = name(\"Kent\")\n",
    "print(my_name)"
   ]
  },
  {
   "cell_type": "markdown",
   "metadata": {},
   "source": [
    "### Example 2 (Local Scope and Local Variables):"
   ]
  },
  {
   "cell_type": "code",
   "execution_count": null,
   "metadata": {},
   "outputs": [],
   "source": [
    "my_str = \"Clark\" # this is in global scope since we are not within a function, therefore this is a global variable\n",
    "\n",
    "# this begins local scope \n",
    "def name(last):\n",
    "    my_str = \"Bruce\" # a new object is created as a local variable and this value is not visible in global scope \n",
    "    return my_str + \" \" + last "
   ]
  },
  {
   "cell_type": "code",
   "execution_count": null,
   "metadata": {},
   "outputs": [],
   "source": [
    "my_name = name(\"Kent\")\n",
    "print(my_name)"
   ]
  },
  {
   "cell_type": "code",
   "execution_count": null,
   "metadata": {},
   "outputs": [],
   "source": [
    "print(my_str) # still the same value (was not re-assigned to \"Bruce\" - this assignment was only valid in local scope)"
   ]
  },
  {
   "cell_type": "markdown",
   "metadata": {},
   "source": [
    "### Example 3 (Making Global Variables in Local Scope):"
   ]
  },
  {
   "cell_type": "code",
   "execution_count": null,
   "metadata": {},
   "outputs": [],
   "source": [
    "my_str = \"Clark\" # this is in global scope since we are not within a function, therefore this is a global variable\n",
    "\n",
    "# this begins local scope \n",
    "def name(last):\n",
    "    global my_str # we are declaring the my_str object as a global variable \n",
    "    my_str = \"Bruce\" # will not be visible in the global scope \n",
    "    return my_str + \" \" + last  "
   ]
  },
  {
   "cell_type": "code",
   "execution_count": null,
   "metadata": {},
   "outputs": [],
   "source": [
    "my_name = name(\"Kent\")\n",
    "print(my_name)"
   ]
  },
  {
   "cell_type": "code",
   "execution_count": null,
   "metadata": {
    "scrolled": true
   },
   "outputs": [],
   "source": [
    "print(my_str) # now changed value (re-assigned to \"Bruce\" - this assignment was valid in global scope due to the explicit assignment)"
   ]
  },
  {
   "cell_type": "markdown",
   "metadata": {},
   "source": [
    "### Example 4 (Nested Functions and Global Constants):"
   ]
  },
  {
   "cell_type": "code",
   "execution_count": null,
   "metadata": {},
   "outputs": [],
   "source": [
    "PI = 3.14159265358979   # global constant - only place the value of PI is set\n",
    "\n",
    "# function calculate the area of a circle \n",
    "def circleArea(radius):\n",
    "    return PI*radius**2    # use value of global constant PI\n",
    "\n",
    "# function to calculate the circumference of a circle \n",
    "def circleCircumference(radius):\n",
    "    return 2*PI*radius         # use value of global constant PI\n",
    "\n",
    "# function to print out final values \n",
    "def circle_characteristics(radius):\n",
    "    print('circle area with radius 5:', round(circleArea(radius),2)) # call the circleArea function which is in global scope\n",
    "    print('circumference with radius 5:', round(circleCircumference(radius),2)) # call the circleCircumference function which is in global scope"
   ]
  },
  {
   "cell_type": "code",
   "execution_count": null,
   "metadata": {},
   "outputs": [],
   "source": [
    "radius = 10\n",
    "circle_characteristics(10)"
   ]
  },
  {
   "cell_type": "markdown",
   "metadata": {},
   "source": [
    "### 1.1.6 Methods:"
   ]
  },
  {
   "cell_type": "markdown",
   "metadata": {},
   "source": [
    "__Overview:__\n",
    "- __[Methods](https://docs.python.org/2/tutorial/classes.html#method-objects):__ Methods are a specific type of function that \"belongs\" to an object\n",
    "- Each object (for example, a `list`) has many \"capabilities\" (i.e. a `list` object is capable of the following: `append`, `remove`, `insert`, `count`, `extend`, etc.)\n",
    "- You can think of these \"capabilities\" as functions that ONLY lists are capable of (and therefore, `str` objects are not capable of) \n",
    "- These \"internal\" capabilities (functions) are strictly called __Methods__ since they are not stand-alone functions that you can use with any object, instead they are specific to the object they belong to\n",
    "- The general form of a __Method__ is: `obj.methodname()` where `obj` is some object and `methodname` is the name of a method that belongs to the object (or we can say the name of the function for illustrative purposes) \n",
    "\n",
    "__Helpful Points:__ \n",
    "1. To fully understand Methods, you will have to learn about __[Classes](https://en.wikipedia.org/wiki/Class_(computer_programming))__ and __Objects__ within the __[Object Oriented Programming](https://en.wikipedia.org/wiki/Object-oriented_programming)__ framework. However, this is out of the scope of this course and we will only learn what is necessary at this stage \n",
    "2. We have already seen many Methods for objects that were created as `list` and `str` types \n",
    "3. The parentheses `(` and `)` denote the arguments that are passed into the method in the same way thar arguments were passed into functions above \n",
    "4. It is possible to call a method on an object without any values insde the `(` and `)` because what happens is that the `obj` is actually passed in as an argument by default \n",
    "\n",
    "__Practice:__ Examples of Methods in Python "
   ]
  },
  {
   "cell_type": "markdown",
   "metadata": {},
   "source": [
    "### Part 1 (Methods for Objects of `str` Type):\n",
    "\n",
    "Recall the comprehensive list of functions that worked on Strings. We can now understand these for what they really are: __[String Methods](https://docs.python.org/3/library/stdtypes.html#string-methods)__."
   ]
  },
  {
   "cell_type": "markdown",
   "metadata": {},
   "source": [
    "### Example 1.1 (Methods with No Arguments):"
   ]
  },
  {
   "cell_type": "code",
   "execution_count": null,
   "metadata": {},
   "outputs": [],
   "source": [
    "my_str = \"Clark\""
   ]
  },
  {
   "cell_type": "code",
   "execution_count": null,
   "metadata": {},
   "outputs": [],
   "source": [
    "# method to make string upper case \n",
    "my_str = my_str.upper() # my_str is the object and upper is the method name\n",
    "print(my_str)"
   ]
  },
  {
   "cell_type": "code",
   "execution_count": null,
   "metadata": {},
   "outputs": [],
   "source": [
    "# method to make string lower case \n",
    "my_str = my_str.lower() # my_str is the object and lower is the method name\n",
    "print(my_str)"
   ]
  },
  {
   "cell_type": "markdown",
   "metadata": {},
   "source": [
    "### Example 1.2 (Methods with Arguments):"
   ]
  },
  {
   "cell_type": "code",
   "execution_count": null,
   "metadata": {},
   "outputs": [],
   "source": [
    "# method to replace \"c\" with \"k\"\n",
    "my_str = my_str.replace(\"c\", \"k\") # my_str is the object and replace is the method name \n",
    "print(my_str)"
   ]
  },
  {
   "cell_type": "code",
   "execution_count": null,
   "metadata": {},
   "outputs": [],
   "source": [
    "# method to find the first occurrence of a character in a string\n",
    "my_str.find(\"a\") # my_str is the object and find is the method name "
   ]
  },
  {
   "cell_type": "markdown",
   "metadata": {},
   "source": [
    "### Part 2 (Methods for Objects of `list` Type):\n",
    "\n",
    "Recall the comprehensive list of functions that worked on Lists. We can now understand these for what they really are: __[List Methods](https://docs.python.org/3/tutorial/datastructures.html)__."
   ]
  },
  {
   "cell_type": "markdown",
   "metadata": {},
   "source": [
    "### Example 2.1 (Methods with No Arguments):"
   ]
  },
  {
   "cell_type": "code",
   "execution_count": null,
   "metadata": {},
   "outputs": [],
   "source": [
    "my_list = [\"a\", \"G\", 1, 2]"
   ]
  },
  {
   "cell_type": "code",
   "execution_count": null,
   "metadata": {},
   "outputs": [],
   "source": [
    "# method to replace renove all items from the list \n",
    "my_list = my_list.clear() # my_list is the object and clear is the method name \n",
    "print(my_list)"
   ]
  },
  {
   "cell_type": "code",
   "execution_count": null,
   "metadata": {},
   "outputs": [],
   "source": [
    "my_list = [\"a\", \"G\", 1, 2]"
   ]
  },
  {
   "cell_type": "code",
   "execution_count": null,
   "metadata": {},
   "outputs": [],
   "source": [
    "# method to replace reverse the elements of the list in place\n",
    "my_list.reverse() # my_list is the object and clear is the method name \n",
    "print(my_list)"
   ]
  },
  {
   "cell_type": "markdown",
   "metadata": {},
   "source": [
    "### Example 2.2 (Methods with Arguments):"
   ]
  },
  {
   "cell_type": "code",
   "execution_count": null,
   "metadata": {},
   "outputs": [],
   "source": [
    "my_list = [\"a\", \"G\", 1, 2]"
   ]
  },
  {
   "cell_type": "code",
   "execution_count": null,
   "metadata": {},
   "outputs": [],
   "source": [
    "# method to add an item to the end of the list \n",
    "my_list.append(\"NEW\") # my_list is the object and append is the method name \n",
    "print(my_list)"
   ]
  },
  {
   "cell_type": "code",
   "execution_count": null,
   "metadata": {},
   "outputs": [],
   "source": [
    "my_list = [\"a\", \"G\", 1, 2]"
   ]
  },
  {
   "cell_type": "code",
   "execution_count": null,
   "metadata": {},
   "outputs": [],
   "source": [
    "# method to insert an item at a given position \n",
    "my_list.insert(2, \"NEW\") # my_list is the object and insert is the method name \n",
    "print(my_list)"
   ]
  },
  {
   "cell_type": "markdown",
   "metadata": {},
   "source": [
    "# ANSWERS"
   ]
  },
  {
   "cell_type": "markdown",
   "metadata": {},
   "source": [
    "### Problem 1 \n",
    "\n",
    "Write a Function to return the minimum and maximum of a non-empty list. For example, try finding the minimum and maximum of the list `[1,3,5,10,12,2,0]`. Your function should return both values as a `tuple` in the form of (`min`, `max`) as such (0, 10). \n",
    "\n",
    "- Call the function `minimax` and it should accept one argument - the list (call it `x`)\n",
    "- You will need a `for` loop to traverse the list that is passed in \n",
    "- Hint: Set the `min` and `max` as the first value in the list and iterate starting at position `1` to check if you should reassign your `min` and `max` variables. If you don't need to reset them, just move on to the next iteration. If you do need to reset them, reassign them appropriately\n",
    "- Check that your function works by passing in the list above and ensure it returns `(0, 10)`. Try with some other lists \n",
    "- Assume the list passed in is non-empty to make things easier "
   ]
  },
  {
   "cell_type": "code",
   "execution_count": null,
   "metadata": {},
   "outputs": [],
   "source": [
    "# minimax function\n",
    "def minimax(x):\n",
    "    minimum = maximum = x[0]\n",
    "    for i in x[1:]:\n",
    "        if i < minimum: \n",
    "            minimum = i \n",
    "        elif i > maximum: \n",
    "            maximum = i\n",
    "    return (minimum,maximum)"
   ]
  },
  {
   "cell_type": "code",
   "execution_count": null,
   "metadata": {},
   "outputs": [],
   "source": [
    "my_list = [1,3,5,10,12,2,0]\n",
    "minimax(my_list)"
   ]
  }
 ],
 "metadata": {
  "kernelspec": {
   "display_name": "Python 3",
   "language": "python",
   "name": "python3"
  },
  "language_info": {
   "codemirror_mode": {
    "name": "ipython",
    "version": 3
   },
   "file_extension": ".py",
   "mimetype": "text/x-python",
   "name": "python",
   "nbconvert_exporter": "python",
   "pygments_lexer": "ipython3",
   "version": "3.7.3"
  },
  "toc": {
   "base_numbering": 1,
   "nav_menu": {},
   "number_sections": false,
   "sideBar": true,
   "skip_h1_title": false,
   "title_cell": "Table of Contents",
   "title_sidebar": "Contents",
   "toc_cell": false,
   "toc_position": {},
   "toc_section_display": true,
   "toc_window_display": true
  }
 },
 "nbformat": 4,
 "nbformat_minor": 2
}
