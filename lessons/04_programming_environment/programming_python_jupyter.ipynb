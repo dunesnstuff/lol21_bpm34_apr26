{
 "cells": [
  {
   "cell_type": "markdown",
   "metadata": {},
   "source": [
    "# Programming, Python and Jupyter Notebook"
   ]
  },
  {
   "cell_type": "markdown",
   "metadata": {},
   "source": [
    "__Purpose:__\n",
    "The purpose of this lecture is to discuss programming, Python and Jupyter Notebook topics. \n",
    "\n",
    "__At the end of this lecture you will be able to:__\n",
    "1. Understand what the Python language is and why we use it for Data Science\n",
    "2. Understand what Jupyter Notebooks are and how we can use them to program in Python for Data Science "
   ]
  },
  {
   "cell_type": "markdown",
   "metadata": {},
   "source": [
    "# Part A: Introduction to Programming"
   ]
  },
  {
   "cell_type": "markdown",
   "metadata": {},
   "source": [
    "## 1.1 What is programming?\n",
    "\n",
    "- A program is a set of instructions that allows a computer to perform specific tasks\n",
    "\n",
    "- A computer program is similar to a cookbook recipe\n",
    "    - Both contain a set of instructions that transform raw materials into a finished product\n",
    "    - In a recipe, a cook transforms raw ingredients into a meal\n",
    "![](img/Recipe.jpg)\n",
    "    - In a computer program, a computer transforms information into other types of information (e.g. a Google search transforms the input text a user puts on the search box into a sorted list of potential website hits) \n",
    "![](img/Google.png)\n"
   ]
  },
  {
   "cell_type": "markdown",
   "metadata": {},
   "source": [
    "# Part B: Introductory Python and Jupyter Notebook Topics"
   ]
  },
  {
   "cell_type": "markdown",
   "metadata": {},
   "source": [
    "## 1.1 What is Python? \n",
    "\n",
    "![](img/PythonLogo.png)"
   ]
  },
  {
   "cell_type": "markdown",
   "metadata": {},
   "source": [
    "[Python](https://en.wikipedia.org/wiki/Python_(programming_language)) is a [General-Purpose Programming Language](https://en.wikipedia.org/wiki/General-purpose_programming_language) first invented around 1989 by Guido van Rossum. From its inception, Python has been known for its design philosophy to promote readability and therefore is concise, straight-forward and easy to understand especially for beginner programmers. \n",
    "\n",
    "Python has become the programming language of choice for many individuals working in Data Science for many reasons. Some of these reasons include:\n",
    "\n",
    "- Python has a multitude of scientific packages for data analysis, machine learning, data visualization and natural language processing \n",
    "- Python has powerful and useful [IDEs](https://en.wikipedia.org/wiki/Integrated_development_environment) such as Jupyter Notebook \n",
    "- Python is a powerful language that allows scalability \n",
    "- Python has an increasing large ecosystem and community\n"
   ]
  },
  {
   "cell_type": "markdown",
   "metadata": {},
   "source": [
    "## 1.2 Python 2 vs. Python 3"
   ]
  },
  {
   "cell_type": "markdown",
   "metadata": {},
   "source": [
    "Python 2.0, released in 2000, introduced features like list comprehensions and a garbage collection system capable of collecting reference cycles. Python 3.0, released 2008, was a major revision of the language that is not completely backward-compatible, and much Python 2 code does not run unmodified on Python 3. Due to concern about the amount of code written for Python 2, support for Python 2.7 (the last release in the 2.x series) was extended to 2020.\n",
    "\n",
    "In this course, we have chosen to use Python 3 and have asked students to download this version. The 2 versions are very similar, but if you have used Python 2 in the past, there are some key differences to remember. A few of these differences include: \n",
    "\n",
    "1. Print statements have changed (i.e. `print \"Hello World\"` in Python 2 VS. `print(\"Hello World\")`) \n",
    "2. Integer division has changed (i.e. `3 / 2 = 1` in Python 2 vs. `3 /2 = 1.5` in Python 3)\n",
    "3. Iterators have changed (i.e. xrange(n) in Python 2 vs. range(n) in Python 3)\n",
    "\n",
    "See the following document for more information on the new features of Python 3: https://docs.python.org/3.0/whatsnew/3.0.html"
   ]
  },
  {
   "cell_type": "markdown",
   "metadata": {},
   "source": [
    "__Why Python?__\n",
    "\n",
    "Python has gained popularity in the last few years and is currently one of the most used programming languages for Data Science.  It is open source and has a significant amount of support from the community with many packages.\n",
    "\n",
    "![](img/Popularity.png)\n"
   ]
  },
  {
   "cell_type": "markdown",
   "metadata": {},
   "source": [
    "## 1.3 Jupyter Notebook"
   ]
  },
  {
   "cell_type": "markdown",
   "metadata": {},
   "source": [
    "Jupyter Notebooks is an Integrated Development Environment (IDE) to run Python code. Each lecture of this course will be written and conducted through Jupyter Notebooks so you will soon become very familiar with their format and functionality. You may also find these notebooks referred to as their previous name - \"IPython Notebooks.\" This name is now deprecated and you should therefore refer to them as Jupyter Notebooks. "
   ]
  },
  {
   "cell_type": "markdown",
   "metadata": {},
   "source": [
    "### 1.3.1 Jupyter Notebook documents\n",
    "\n",
    "__Overview:__\n",
    "- A Notebook document produced by Jupyter Notebooks contains both Python code and text elements (figures, paragraphs, links, etc.) \n",
    "- Each time you wish to create a new notebook, you must select New -> Python 3 in the Jupyter Notebook Dashboard\n",
    "\n",
    "![](img/NewNotebook.png)\n",
    "\n",
    "__Helpful Points:__\n",
    "1. Each Jupyter Notebook is saved as a .ipynb file (as per its old name) but can easily be exported to a Python file (.py), an HTML file (.html), a markdown file (.md) and other file types. To make this conversion, simply select File -> Download as in any Notebook file\n",
    "2. Notebook documents are autosaved by default every 120 seconds. You can always manually save your document by entering `Cmd+S` on Mac and `Shift+S` on Windows\n",
    "- You can override this default time by entering a \"magic command\" (more on this below) `%autosave 60` to save every 60 seconds for example"
   ]
  },
  {
   "cell_type": "markdown",
   "metadata": {},
   "source": [
    "### 1.3.2 Jupyter Notebook Kernel \n",
    "\n",
    "__Overview:__\n",
    "- A Notebook Kernel is a computational engine that executes code contained in Notebook documents\n",
    "- When a new Notebook document is created or an existing Notebook document is opened, the associated Kernel is automatically launched\n",
    "- Each time a cell is executed/run, the Kernel is responsible for performing the computation and producing the results\n",
    "- To shutdown your Kernel, you can either select Kernel -> Shutdown or type `Ctrl+C` in the Terminal or Command Prompt. Upon shutdown, you can simply close any Notebook documents you have open\n",
    "    - In the Jupyter Notebook Dashboard, select the \"Running\" tab to see all the files that are currently running. You can manually shutdown a Notebook document by clicking \"Shutdown\" beside the file name\n",
    "    - You can also shutdown a file in the Jupyter Notebook Dashboard by finding the file, checking the box beside the file and then selecting \"Shutdown\"\n",
    "\n",
    "__Helpful Points:__\n",
    "1. You will notice in your Dashboard that when you create a new file or open an existing file, the book icon to the left of the File Name turns from black to green. This color indicates the file is \"Running.\" For a file to be \"Running\", it simply means that a Kernel has been launched. \n",
    "2. The Kernel consumes significant CPU and RAM to execute complex code cells, therfore ensure that when you are finished running a program, you shut down the Kernel to release your computer's RAM"
   ]
  },
  {
   "cell_type": "markdown",
   "metadata": {},
   "source": [
    "### 1.3.3 Jupyter Notebook Cells \n",
    "\n",
    "__Overview:__ \n",
    "- A cell is where programs are created and executed\n",
    "- To insert a new cell for coding or markdown purposes, in the Notebook Menubar simply select Insert -> Insert Cell Above OR Insert Cell Below\n",
    "- There are two main types of cells you will use most often: The __Code__ cell and the __Markdown__ Cell. By default, each cell is pre-allocated as a Code cell but you can toggle easily between types of cells by the dropdown menu located on the right of the Notebook Toolbar\n",
    ">1. __Code Cell:__ The Code cell is where you will write and excute your Python code. The letters, numbers and symbols entered in this type of cell will be interpreted and executed by the Kernel as Python code\n",
    ">2. __Markdown Cell:__ The Markdown cell is where you will write text to describe figures, provide explanations and perform other tasks that require a textual response. The letters, numbers and symbols entered in this type of cell will be interpreted and executed by the Kernel as text (and more specifically, as [Markdown](https://en.wikipedia.org/wiki/Markdown))\n",
    "\n",
    "See examples of Code and Markdown cells below. The exact same text will be written twice (once as a Code cell and next as a Markdown cell)"
   ]
  },
  {
   "cell_type": "code",
   "execution_count": null,
   "metadata": {},
   "outputs": [],
   "source": [
    "# this is a Code cell (everything is interpreted and executed as Python code)\n",
    "a = 1\n",
    "print(a)\n",
    "print(\"This is a line of code\")"
   ]
  },
  {
   "cell_type": "markdown",
   "metadata": {},
   "source": [
    "# this is a Code cell (everything is interpreted and executed as Python code)\n",
    "a = 1\n",
    "print(a)\n",
    "print(\"This is a line of code\")"
   ]
  },
  {
   "cell_type": "markdown",
   "metadata": {},
   "source": [
    "__Helpful Points__:\n",
    "1. Notice that in the Code cell, there exists \"In [ ]:\" beside the cell. The number in between the square brackets represents the number of times you have executed code cells since the beginning of the current Notebook document's session. If you shutdown the Notebook document and re-launch the Kernel, the number will reset to 1 \n",
    "2. When a cell is run, the Kernel is said to be \"busy\". You can recognize a \"busy\" Kernel because an asterix (`*`) will be displayed within the square brackets and on the top of the Notebook document, you will see the status \"busy\"\n",
    "3. Markdown Cells are typically used as headers and for paragraph explanations in Notebook documents. Markdown cells allow Notebook documents to be clean and easy to follow for readers\n",
    "4. Markdown is a [lightweight markup language](https://en.wikipedia.org/wiki/Lightweight_markup_language) and has expansive functionality for both formatting text (i.e. boldface, colors, etc.) and also representing mathematical expressions using [LaTeX](https://www.latex-project.org/about/). \n",
    ">- See [here](https://medium.com/ibm-data-science-experience/markdown-for-jupyter-notebooks-cheatsheet-386c05aeebed) for documentation on formatting text with Markdown \n",
    ">- See [here](http://jupyter-notebook.readthedocs.io/en/stable/examples/Notebook/Typesetting%20Equations.html) for documentation on writing mathematical expressions "
   ]
  },
  {
   "cell_type": "markdown",
   "metadata": {},
   "source": [
    "### 1.3.4 Jupyter Notebook Modal Editor\n",
    "\n",
    "__Overview:__\n",
    "- Jupyter Notebook has a modal user interface which means that the keyboard buttons perform differently depending on which mode the Notebook document is in. There are two modes: __Edit Mode__ and __Command Mode__\n",
    ">1. __Edit Mode:__ This mode should be activated when you want to edit a cell by typing into the cell. You can activate Edit Mode by clicking on a cell's editor area or by pressing `Enter` while your mouse is hovered over the cell. \n",
    ">2. __Command Mode:__ This mode should be activated when you want to edit the Notebook document as a whole, but not type into individual cells. While in command mode, the keyboard is mapped to a set of shortcuts so you can peform notebook and cell actions efficiently. You can activate Command Mode by clicking outside a cell's editor area or by pressing `Esc` \n",
    "\n",
    "__Helpful Points:__\n",
    "1. You will notice that while in Edit Mode, the cell has a green border around the cell. Conversely, while in Command Mode, the cell has a grey border around the cell with a blue left margin. \n",
    "2. You will also notice that while in Edit Mode, there is a pencil icon on the top right of your screen beside the Python 3 icon. Conversely, while in Command Mode, this pencil icon is gone. \n",
    "3. Don't try to type into a cell while in Command Mode as unexpected and unwanted things will happen"
   ]
  },
  {
   "cell_type": "markdown",
   "metadata": {},
   "source": [
    "### 1.3.5 Jupyter Notebook Keyboard Shortcuts\n",
    "\n",
    "__Overview:__\n",
    "- The modal user interface of Jupyter Notevooks has been optimized for efficient keyboard usage. There are different sets of keyboard shortcuts for each mode. \n",
    "- For example, the most common keyboard shortcuts for __Edit Mode__ include: \n",
    "    - `cmd+]` for indenting\n",
    "    - `cmd+[` for de-indenting\n",
    "    - `cmd+/` for commenting\n",
    "    - `cmd+A` for selecting all\n",
    "    - `cmd+up_arrow` for going to cell start\n",
    "    - `cmd+down_arrow` for going to cell end \n",
    "    - `shitft+enter` for running a cell \n",
    "- For example, the most common keyboard shortcuts for __Command Mode__ include:\n",
    "    - `S` for saving the notebook\n",
    "    - `A` for creating a cell above\n",
    "    - `B` for creating a cell below\n",
    "    - `Y` for changing cell to Code\n",
    "    - `M` for changing cell to Markdown\n",
    "    - `up_arrow` for selecting cell above\n",
    "    - `down_arrow` for selecting cell below \n",
    "\n",
    "__Helpful Points:__\n",
    "1. For a complete list of Keyboard Shorcuts, in the Notebook Menubar select Help -> Keyboard Shortcuts "
   ]
  },
  {
   "cell_type": "markdown",
   "metadata": {},
   "source": [
    "### 1.3.6 Jupyter Notebook Help\n",
    "\n",
    "__Overview:__\n",
    "- There are many ways to seek help within Jupyter Notebooks:\n",
    ">1. __Official Documentation:__ See the [Python Standard Library](https://docs.python.org/3/library/index.html) and the official [Python Tutorial](https://docs.python.org/3/tutorial/index.html)\n",
    ">2. __Question Mark (?):__ You can always read the documentation of a specific function in Python by executing         `?<function_name>`. After executing this command, you will see the functions' \"docstrings\" (if available). See below for an example.\n",
    ">3. __Help Command (help() ):__ The `help()` command works the same way as the question mark above. See below for examples\n",
    ">4. __`Shift+Tab`:__ After typing a function or name of an object, you can point your cursor to the name and then press `Shift+Tab` which will show you some documentation of that object\n",
    "\n",
    "__Helpful Points:__\n",
    "1. In any case, search online using keywords to find solutions to your problems. For example, \"print statement Python\" or \"assign variables Python\" \n",
    "2. Leverage the [Stack Overflow](https://stackoverflow.com/) community to save hours!"
   ]
  },
  {
   "cell_type": "code",
   "execution_count": null,
   "metadata": {},
   "outputs": [],
   "source": [
    "print?"
   ]
  },
  {
   "cell_type": "code",
   "execution_count": null,
   "metadata": {},
   "outputs": [],
   "source": [
    "help(print)"
   ]
  },
  {
   "cell_type": "markdown",
   "metadata": {},
   "source": [
    "### 1.3.7 User Interface Tour\n",
    "\n",
    "To review all the above and other components of the Notebook document interface, you can run the User Interface tour provided by Jupyter Notebook. In the Notebook Menubar, simply select Help -> User Interface Tour "
   ]
  },
  {
   "cell_type": "markdown",
   "metadata": {},
   "source": [
    "### 1.3.8 IPython Magic Commands\n",
    "\n",
    "__Overview:__\n",
    "- Magic Commands (referred to as \"Magics\") are specific commands made available by the IPython Kernel that make programming some tasks very easy while in the Jupyter/IPython environemnt \n",
    "- These commands are denoted with a `%` key and are NOT standard Python commands\n",
    "- When we download Anaconda, we gain access to a long list of Magics that can be found [here](http://ipython.readthedocs.io/en/stable/interactive/magics.html#cell-magics)\n",
    "- Magics can be broken down into __Line Magics__ (operate on a per line basis and denoted by `%`) and __Cell Magics__ (operate on a per cell basis and denoted by `%%`)\n",
    "\n",
    "__Helpful Points:__\n",
    "1. Magics can not be used in an environment that is not run on an IPython Kernel (i.e. in a text editor or terminal writing Python code)\n",
    "2. You can always read the \"docstrings\" (documenation) for a Magic Command by selecting ?Magic_cmd \n",
    "3. There are a few common Magics that are used such as: \n",
    "    - `%env`: Get, set, or list environment variables\n",
    "    - `%debug`: Activate the interactive debugger\n",
    "    - `%pdb`: Control the automatic calling of the pdb interactive debugger\n",
    "    - `%pinfo`: Provide detailed information about an object\n",
    "    - `%pwd`: Return the current working directory path \n",
    "    - `%whos`: Provides information about each variable \n",
    "    - `%timeit`: Time execution of a Python statement or expression\n",
    "    \n",
    "We will look at a few examples of Magics below and the rest will be covered after we review some additional topics that would warrant the uses of Magics"
   ]
  },
  {
   "cell_type": "code",
   "execution_count": null,
   "metadata": {},
   "outputs": [],
   "source": [
    "%pwd"
   ]
  },
  {
   "cell_type": "code",
   "execution_count": null,
   "metadata": {},
   "outputs": [],
   "source": [
    "%timeit a = 1"
   ]
  },
  {
   "cell_type": "code",
   "execution_count": null,
   "metadata": {},
   "outputs": [],
   "source": [
    "a = 2\n",
    "%pinfo a"
   ]
  },
  {
   "cell_type": "code",
   "execution_count": null,
   "metadata": {},
   "outputs": [],
   "source": [
    "%whos"
   ]
  },
  {
   "cell_type": "code",
   "execution_count": null,
   "metadata": {},
   "outputs": [],
   "source": []
  }
 ],
 "metadata": {
  "kernelspec": {
   "display_name": "Python 3",
   "language": "python",
   "name": "python3"
  },
  "language_info": {
   "codemirror_mode": {
    "name": "ipython",
    "version": 3
   },
   "file_extension": ".py",
   "mimetype": "text/x-python",
   "name": "python",
   "nbconvert_exporter": "python",
   "pygments_lexer": "ipython3",
   "version": "3.7.3"
  },
  "toc": {
   "base_numbering": 1,
   "nav_menu": {},
   "number_sections": false,
   "sideBar": true,
   "skip_h1_title": false,
   "title_cell": "Table of Contents",
   "title_sidebar": "Contents",
   "toc_cell": false,
   "toc_position": {},
   "toc_section_display": true,
   "toc_window_display": true
  }
 },
 "nbformat": 4,
 "nbformat_minor": 2
}
