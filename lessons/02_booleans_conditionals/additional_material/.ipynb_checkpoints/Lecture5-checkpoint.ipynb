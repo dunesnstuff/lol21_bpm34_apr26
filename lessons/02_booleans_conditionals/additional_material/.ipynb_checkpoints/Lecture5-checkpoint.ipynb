{
 "cells": [
  {
   "cell_type": "markdown",
   "metadata": {},
   "source": [
    "# Python Boolean Operations and Bitwise Comparison"
   ]
  },
  {
   "cell_type": "markdown",
   "metadata": {},
   "source": [
    "__Purpose:__\n",
    "The purpose of this lecture is to illustrate Boolean operations and bitwise comparisons in Python. \n",
    "\n",
    "__At the end of this lecture you will be able to:__\n",
    "1. Use various boolean operations.\n",
    "2. Work with binary bitwise comparison.\n",
    "3. Understand operator precedence.\n",
    "4. Work with chained comparison."
   ]
  },
  {
   "cell_type": "markdown",
   "metadata": {},
   "source": [
    "# Part A: Introductory Topics for Python Programming"
   ]
  },
  {
   "cell_type": "markdown",
   "metadata": {},
   "source": [
    "## 1.1 Boolean Logic in Python "
   ]
  },
  {
   "cell_type": "markdown",
   "metadata": {},
   "source": [
    "### 1.1.1 Boolean Operations:"
   ]
  },
  {
   "cell_type": "markdown",
   "metadata": {},
   "source": [
    "__Overview:__\n",
    "- __[Boolean Operations](https://docs.python.org/3/reference/expressions.html#boolean-operations):__ Boolean Operations refer to the operations that involve the Boolean Operators. There are 3 types of Boolean Operators as described below:\n",
    "> 1. `and` (`x and y` returns `True` if `x` and `y` are both `True`)\n",
    "> 2. `or` (`x or y` returns `True` if `x` or `y` is `True`)\n",
    "> 3. `not` (`x and not y` means the opposite of `y`)\n",
    "- The result of a Boolean Operation is one of the two Boolean Values (`True` or `False`)\n",
    "- Below is a Truth Table for the __AND__, __OR__ and __NOT__ operations\n",
    "\n",
    "![](Truth_table.png)\n",
    "\n",
    "__Helpful Points:__\n",
    "1. Both `and` and `or` have [short-circuit](https://en.wikipedia.org/wiki/Short-circuit_evaluation) behavior. This allows the interpreter to only look at one of the two values to make a conclusion instead of both values (lazy or minimal evaluation)\n",
    "2. Short-Circuit behavior for `and`:\n",
    "> - `x and y` is evaluated as follows: `x` is evaluated first, then if `x` is `False`, its value is returned without looking at the value of `y`. However, if `x` is `True`, `y` is evaluated and `y` is returned\n",
    "3. Short-Circuit behavior for `or`:\n",
    "> - `x or y` is evaluated as follows: `x` is evaluated first, then if `x` is `True`, its values is returned without looking at the value of `y`. However, if `x` is `False`. `y` is evaluated and `y` is returned\n",
    "\n",
    "__Practice:__ Examples of Boolean Operations in Python "
   ]
  },
  {
   "cell_type": "markdown",
   "metadata": {},
   "source": [
    "### Example 1 (Boolean Operation - `and`):"
   ]
  },
  {
   "cell_type": "code",
   "execution_count": null,
   "metadata": {},
   "outputs": [],
   "source": [
    "x = True\n",
    "y = False\n",
    "x and y"
   ]
  },
  {
   "cell_type": "markdown",
   "metadata": {},
   "source": [
    "### Example 2 (Boolean Operation - `or`):"
   ]
  },
  {
   "cell_type": "code",
   "execution_count": null,
   "metadata": {},
   "outputs": [],
   "source": [
    "x or y"
   ]
  },
  {
   "cell_type": "markdown",
   "metadata": {},
   "source": [
    "### Example 3 (Boolean Operation - `not`):"
   ]
  },
  {
   "cell_type": "code",
   "execution_count": null,
   "metadata": {},
   "outputs": [],
   "source": [
    "x = not True\n",
    "x or y"
   ]
  },
  {
   "cell_type": "code",
   "execution_count": null,
   "metadata": {},
   "outputs": [],
   "source": [
    "x = True\n",
    "y = False\n",
    "\n",
    "print(x or y and not y)"
   ]
  },
  {
   "cell_type": "markdown",
   "metadata": {},
   "source": [
    "This statement returns `True` since the operator `or` is at a higher precedence than both `and` and `not`. See below for more detail on __Operator Precedence__. The expression is evaluated as follows: \n",
    "1. `x or y` returns `True`\n",
    "2. `True and not y` returns `True`<br>"
   ]
  },
  {
   "cell_type": "markdown",
   "metadata": {},
   "source": [
    "### Example 4 (Boolean Operation and Value Comparisons):"
   ]
  },
  {
   "cell_type": "code",
   "execution_count": null,
   "metadata": {},
   "outputs": [],
   "source": [
    "a = 2 \n",
    "b = 3\n",
    "\n",
    "print(a >= 1 and b < 4)"
   ]
  },
  {
   "cell_type": "code",
   "execution_count": null,
   "metadata": {},
   "outputs": [],
   "source": [
    "print(a >= 2 or b < 2)"
   ]
  },
  {
   "cell_type": "markdown",
   "metadata": {},
   "source": [
    "### Example 5 (Boolean Operation and Value + Identity Comparisons):"
   ]
  },
  {
   "cell_type": "code",
   "execution_count": null,
   "metadata": {},
   "outputs": [],
   "source": [
    "a = 1 \n",
    "b = 1.0\n",
    "\n",
    "print(a is b and not a == b)"
   ]
  },
  {
   "cell_type": "code",
   "execution_count": null,
   "metadata": {},
   "outputs": [],
   "source": [
    "print(a is b or a == b)"
   ]
  },
  {
   "cell_type": "markdown",
   "metadata": {},
   "source": [
    "### Example 6 (Boolean Operation with Arithmetic Operators):"
   ]
  },
  {
   "cell_type": "code",
   "execution_count": null,
   "metadata": {},
   "outputs": [],
   "source": [
    "x = 3**2+5\n",
    "print(x > 12 and x < 16)"
   ]
  },
  {
   "cell_type": "markdown",
   "metadata": {},
   "source": [
    "### 1.1.2 Binary Bitwise Operations (OPTIONAL)"
   ]
  },
  {
   "cell_type": "markdown",
   "metadata": {},
   "source": [
    "__Overview:__\n",
    "- __[Bitwise Operation](https://en.wikipedia.org/wiki/Bitwise_operation):__ Bitwise Operation applies Boolean Operators to the individual bits of integers that are used in the operation. Bitwise Operation requires converting each numeric value in the expression to its equivalent bits representation. There are 3 types of Bitwise Operators as described below:\n",
    "> 1. `&` (Bitwise `AND` operation) -> returns 1 if both bits are 1, 0 otherwise \n",
    "> 2. `|` (Bitwise `OR` operation - inclusive) -> returns 1 if either bit is 1, 0 otherwise  \n",
    "> 3. `^` (Bitwise `XOR` operation - exclusive) -> returns 1 if the bits are different, 0 if they are the same \n",
    "\n",
    "__Helpful Points:__\n",
    "1. Bitwise Operation is different than Boolean Operation in a few key ways. Without going into too much detail for this Basic Python course, here are the practical differences you should know:\n",
    "> - Boolean Operators (`and` and `or`) are usually used on Boolean Values to produce a Boolean Value, whereas Bitwise Operators (`&` and `|`) are usually used on Integer Values to produce an Integer Value\n",
    "> - Boolean Operators use short-circuiting behavior previously explained, whereas Bitwise Operators do not use short-circuting behavior. \n",
    "\n",
    "__Practice:__ Examples of Bitwise Operations in Python "
   ]
  },
  {
   "cell_type": "markdown",
   "metadata": {},
   "source": [
    "### Example 1 (Bitwise `AND` operator):"
   ]
  },
  {
   "cell_type": "code",
   "execution_count": null,
   "metadata": {},
   "outputs": [],
   "source": [
    "x = 4 \n",
    "y = 5 \n",
    "print(bin(x))\n",
    "print(bin(y))"
   ]
  },
  {
   "cell_type": "markdown",
   "metadata": {},
   "source": [
    "We see that in Bitwise Operations, we are comparing the bits 100 (decimal 4) to 101 (decimal 5)"
   ]
  },
  {
   "cell_type": "code",
   "execution_count": null,
   "metadata": {},
   "outputs": [],
   "source": [
    "x & y"
   ]
  },
  {
   "cell_type": "code",
   "execution_count": null,
   "metadata": {},
   "outputs": [],
   "source": [
    "print(bin(x & y))"
   ]
  },
  {
   "cell_type": "markdown",
   "metadata": {},
   "source": [
    "The last statement (`x & y`) performs the `AND` operator on each bit, index by index: 1 and 1 (1), 0 and 0 (0), 0 and 1 (0) -> 100 in bits (4 in decimal)"
   ]
  },
  {
   "cell_type": "code",
   "execution_count": null,
   "metadata": {},
   "outputs": [],
   "source": [
    "x and y "
   ]
  },
  {
   "cell_type": "code",
   "execution_count": null,
   "metadata": {},
   "outputs": [],
   "source": [
    "y and x "
   ]
  },
  {
   "cell_type": "markdown",
   "metadata": {},
   "source": [
    "To understand this output, we need to know two things:\n",
    "> 1. Any non-zero numeric value is considered `True` in Python, therefore both x and y are first converted to their equivalent Boolean Value.\n",
    "> 2. Recall the short-circuit behavior in Boolean Operations. When `x and y` is evaluated, `x` is evaluated first, then if `x` is `False`, its value is returned without looking at the value of `y`. However, if `x` is `True`, `y` is evaluated and `y` is returned. \n",
    "    - In our case, x is `True` and therefore y (which is also `True`) is evaluated and returned  "
   ]
  },
  {
   "cell_type": "markdown",
   "metadata": {},
   "source": [
    "### Example 2 (Bitwise `OR` operator):"
   ]
  },
  {
   "cell_type": "code",
   "execution_count": null,
   "metadata": {},
   "outputs": [],
   "source": [
    "x | y "
   ]
  },
  {
   "cell_type": "code",
   "execution_count": null,
   "metadata": {},
   "outputs": [],
   "source": [
    "print(bin(x | y))"
   ]
  },
  {
   "cell_type": "markdown",
   "metadata": {},
   "source": [
    "The last statement (`x | y`) performs the inclusive or `OR` operator on each bit, index by index: 1 or 1 (1), 0 or 0 (0), 0 or 1 (1) -> 101 in bits (5 in decimal)"
   ]
  },
  {
   "cell_type": "code",
   "execution_count": null,
   "metadata": {},
   "outputs": [],
   "source": [
    "x or y "
   ]
  },
  {
   "cell_type": "code",
   "execution_count": null,
   "metadata": {},
   "outputs": [],
   "source": [
    "y or x "
   ]
  },
  {
   "cell_type": "markdown",
   "metadata": {},
   "source": [
    "To understand this output, we need to know two things:\n",
    "> 1. Any non-zero numeric value is considered `True` in Python, therefore both x and y are first converted to their equivalent Boolean Value.\n",
    "> 2. Recall the short-circuit behavior in Boolean Operations (see section 1.1.5). When `x or y` is evaluated, `x` is evaluated first, then if `x` is `True`, its values is returned without looking at the value of `y`. However, if `x` is `False`. `y` is evaluated and `y` is returned\n",
    "    - In our case, x is `True` and therefore its value is returned without looking at the value of `y`"
   ]
  },
  {
   "cell_type": "markdown",
   "metadata": {},
   "source": [
    "### Example 3 (Bitwise `XOR` operator):"
   ]
  },
  {
   "cell_type": "code",
   "execution_count": null,
   "metadata": {},
   "outputs": [],
   "source": [
    "x ^ y"
   ]
  },
  {
   "cell_type": "markdown",
   "metadata": {},
   "source": [
    "The last statement (`x ^ y`) performs the exclusive or (`XOR`) operator on each bit, index by index: 1 xor 1 (0), 0  xor 0 (0), 1 xor 0 (1) -> 001 in bits (1 in decimal)"
   ]
  },
  {
   "cell_type": "markdown",
   "metadata": {},
   "source": [
    "Note that the `^` is not an exponent in Python.  An exponent is given by `**` as shown below."
   ]
  },
  {
   "cell_type": "code",
   "execution_count": null,
   "metadata": {},
   "outputs": [],
   "source": [
    "x**y # 4**5"
   ]
  },
  {
   "cell_type": "markdown",
   "metadata": {},
   "source": [
    "### Problem 1\n",
    "\n",
    "Perform the bitwise `or` operation on 15 and 9. Then perform the boolean `and` operation on 15 and 9. \n",
    "\n",
    "- show your answer to the bitwise or operation as an integer and in binary"
   ]
  },
  {
   "cell_type": "code",
   "execution_count": null,
   "metadata": {},
   "outputs": [],
   "source": [
    "# Write your code here\n",
    "\n",
    "\n",
    "\n"
   ]
  },
  {
   "cell_type": "markdown",
   "metadata": {},
   "source": [
    "### 1.1.3 Operator Precedence"
   ]
  },
  {
   "cell_type": "markdown",
   "metadata": {},
   "source": [
    "__Overview:__\n",
    "- __[Operator Precedence](https://docs.python.org/3/reference/expressions.html#operator-precedence):__ Operator Precedence establishes a hierarchy in Python that outlines the precedence that each operator is subject to \n",
    "- We have seen many different operators so far that can be used in Python (recall __arithmetic operators__ `+`, `-`, __value comparison operators__ `<`, `>`, __membership test operators__ `in`, `not in`, __identity test operators__ `is`, `is not`, __boolean operators__ `and`, `or` and __bitwise operators__ `&`, `|`)\n",
    "- In the order of most binding (highest precedence) to least binding (lowest precedence):\n",
    "> 1. `or` (Boolean `OR`)\n",
    "> 2. `and` (Boolean `AND`)\n",
    "> 3. `not` (Boolean `NOT`)\n",
    "> 4. `in`, `not in`, `is`, `is not`, `<`, `<=`, `>`, `>=`, `!=`, `==` (Comparisons, including membership tests and identity tests) \n",
    "> 5. `|` (Bitwise `OR`)\n",
    "> 6. `^` (Bitwise `XOR`)\n",
    "> 7. `&` (Bitwise `AND`)\n",
    "> 8. `+`, `-` (Addition and subtraction)\n",
    "> 9. `*`, `/`, `//`, `%` (Multiplication, dividion and remainder)\n",
    "> 10. `**` (Exponentiation) \n",
    "\n",
    "__Helpful Points:__\n",
    "1. Operator Precedence exists in Python in largely the same way as most programming languages\n",
    "2. A helpful way to get around operator precedence is to use parenthesis\n",
    "\n",
    "__Practice:__ Examples of Operator Precedence in Python"
   ]
  },
  {
   "cell_type": "markdown",
   "metadata": {},
   "source": [
    "### Example 1 (Operator Precedence):"
   ]
  },
  {
   "cell_type": "code",
   "execution_count": null,
   "metadata": {},
   "outputs": [],
   "source": [
    "a = 1\n",
    "b = 3\n",
    "\n",
    "print(a > 2 and b == 3 or b > 2**2)"
   ]
  },
  {
   "cell_type": "markdown",
   "metadata": {},
   "source": [
    "This statement is evaluated in the following way based on the operator precedence list above: \n",
    "- `(a > 2 and b == 3)` or `(b > 2**2)` \n",
    "- `(a > 2 and b == 3)` is `False` since `a < 2` \n",
    "- `(b > 2**2)` is `False` since `b < 2**2`\n",
    "- `False or False` is `False` since the first term is `False`"
   ]
  },
  {
   "cell_type": "markdown",
   "metadata": {},
   "source": [
    "Below is a more readable way of performing the calculation."
   ]
  },
  {
   "cell_type": "code",
   "execution_count": null,
   "metadata": {},
   "outputs": [],
   "source": [
    "print( ( (a > 2) and (b == 3) ) or (b > 2**2) )"
   ]
  },
  {
   "cell_type": "markdown",
   "metadata": {},
   "source": [
    "### 1.1.4 Chained Comparison"
   ]
  },
  {
   "cell_type": "markdown",
   "metadata": {},
   "source": [
    "__Overview:__\n",
    "- __[Chained Comparison](https://docs.python.org/3/reference/expressions.html#comparisons):__ Chained Comparison is possible in Python which allows multiple comparisons in one line, making the code cleaner and more efficient\n",
    "\n",
    "__Helpful Points:__\n",
    "- When evaluating Chained Comparisons, the Operator Precedence hierarchy outlined before is utilized\n",
    "- In general, Chained Comparisons are evaluated from left to right \n",
    "\n",
    "__Practice:__ Practice using Chained Comparisons in Python "
   ]
  },
  {
   "cell_type": "markdown",
   "metadata": {},
   "source": [
    "### Example 1 (Chained Comparison with Numerical Values and  Value Comparison Operators):"
   ]
  },
  {
   "cell_type": "code",
   "execution_count": null,
   "metadata": {},
   "outputs": [],
   "source": [
    "a = 3\n",
    "print(1 < a >= 2) "
   ]
  },
  {
   "cell_type": "markdown",
   "metadata": {},
   "source": [
    "This expression is evaluated in a similar fashion to a regular mathematical expression: \n",
    "- The expression is split into 2 constituent expressions `(1 < a)` and `(a >= 2)` \n",
    "- This expression turns out to be `True` and `True` \n",
    "- Since the Boolean Operator `and` is used here, the first term is evaluated as `True` so the second term is evaluated and returned "
   ]
  },
  {
   "cell_type": "markdown",
   "metadata": {},
   "source": [
    "### Example 2 (Chained Comparison with Boolean Values and Value Comparison Operators):"
   ]
  },
  {
   "cell_type": "code",
   "execution_count": null,
   "metadata": {},
   "outputs": [],
   "source": [
    "a = True\n",
    "print(True == 1.0 == 1)"
   ]
  },
  {
   "cell_type": "markdown",
   "metadata": {},
   "source": [
    "This expression is evaluated from left to right in the following fashion:\n",
    "- `True` == `1.0` is `True`\n",
    "- `True` == 1 is `True` since the boolean operator `True` is expressed in its numeric equivalent (1 == 1)"
   ]
  },
  {
   "cell_type": "markdown",
   "metadata": {},
   "source": [
    "### Problem 2:\n",
    "Peter has 12 bags, and each bag has 7 chocolates.  Amy has 5 bags, and each bag has 9 chocolates. Print `True` if either Peter or Amy have more than 75 chocolates. Otherwise, print `False`."
   ]
  },
  {
   "cell_type": "code",
   "execution_count": null,
   "metadata": {},
   "outputs": [],
   "source": [
    "# Write your code here \n",
    "\n",
    "\n",
    "\n"
   ]
  },
  {
   "cell_type": "markdown",
   "metadata": {},
   "source": [
    "### Problem 3:\n",
    "Peter has 3 bags, and each bag has 5 chocolates.  Amy has 5 bags, and each bag has 6 chocolates. Print `True` if Peter and Amyhave between 50 and 75 chocolates combined. Otherwise, print `False`."
   ]
  },
  {
   "cell_type": "code",
   "execution_count": null,
   "metadata": {},
   "outputs": [],
   "source": [
    "# Write your code here \n",
    "\n",
    "\n",
    "\n"
   ]
  },
  {
   "cell_type": "markdown",
   "metadata": {},
   "source": [
    "# ANSWERS"
   ]
  },
  {
   "cell_type": "markdown",
   "metadata": {},
   "source": [
    "### Problem 1\n",
    "\n",
    "Perform the bitwise `or` operation on 15 and 9. Then perform the boolean `and` operation on 15 and 9. \n",
    "\n",
    "- show your answer to the bitwise or operation as an integer and in binary"
   ]
  },
  {
   "cell_type": "code",
   "execution_count": null,
   "metadata": {},
   "outputs": [],
   "source": [
    "x, y = 15, 9\n",
    "print(\"The value of 15 in binary is\",  bin(15))\n",
    "print(\"The value of 9 in binary is\", bin(9))\n",
    "print(\"The value of x|y is\", x|y)\n",
    "print(\"The value of x|y in binary is\", bin(x|y))\n",
    "print(\"The value of 15 and 9 is\", x and y)\n",
    "print(\"The boolean and operation returns 9 because it evaluates x (15) as true and continues to evaluate y (9) and returns its value\")"
   ]
  },
  {
   "cell_type": "markdown",
   "metadata": {},
   "source": [
    "### Problem 2\n",
    "Peter has 12 bags, and each bag has 7 chocolates.  Amy has 5 bags, and each bag has 9 chocolates. Print `True` if either Peter or Amy have more than 75 chocolates. Otherwise, print `False`."
   ]
  },
  {
   "cell_type": "code",
   "execution_count": null,
   "metadata": {},
   "outputs": [],
   "source": [
    "Peter = 12*7\n",
    "Amy = 5*9\n",
    "print(Peter>75 or Amy>75)"
   ]
  },
  {
   "cell_type": "markdown",
   "metadata": {},
   "source": [
    "### Problem 3\n",
    "Peter has 3 bags, and each bag has 5 chocolates.  Amy has 5 bags, and each bag has 6 chocolates. Print `True` if Peter and Amy have between 50 and 75 chocolates combined. Otherwise, print `False`."
   ]
  },
  {
   "cell_type": "code",
   "execution_count": null,
   "metadata": {},
   "outputs": [],
   "source": [
    "Peter = 3*5\n",
    "Amy = 5*6\n",
    "combined = Peter + Amy\n",
    "print(50 < combined < 75)"
   ]
  },
  {
   "cell_type": "code",
   "execution_count": null,
   "metadata": {},
   "outputs": [],
   "source": []
  }
 ],
 "metadata": {
  "kernelspec": {
   "display_name": "Python 3",
   "language": "python",
   "name": "python3"
  },
  "language_info": {
   "codemirror_mode": {
    "name": "ipython",
    "version": 3
   },
   "file_extension": ".py",
   "mimetype": "text/x-python",
   "name": "python",
   "nbconvert_exporter": "python",
   "pygments_lexer": "ipython3",
   "version": "3.7.3"
  },
  "toc": {
   "base_numbering": 1,
   "nav_menu": {},
   "number_sections": true,
   "sideBar": true,
   "skip_h1_title": false,
   "title_cell": "Table of Contents",
   "title_sidebar": "Contents",
   "toc_cell": false,
   "toc_position": {},
   "toc_section_display": true,
   "toc_window_display": false
  }
 },
 "nbformat": 4,
 "nbformat_minor": 2
}
