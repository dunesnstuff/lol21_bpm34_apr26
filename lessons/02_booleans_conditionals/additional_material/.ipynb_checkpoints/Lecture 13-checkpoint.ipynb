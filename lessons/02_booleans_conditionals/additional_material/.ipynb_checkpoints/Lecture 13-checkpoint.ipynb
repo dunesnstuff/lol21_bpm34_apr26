{
 "cells": [
  {
   "cell_type": "markdown",
   "metadata": {},
   "source": [
    "# Beginner Python and Math for Data Science\n",
    "## Lecture 13\n",
    "### If Statements"
   ]
  },
  {
   "cell_type": "markdown",
   "metadata": {},
   "source": [
    "__Purpose:__\n",
    "The purpose of this lecture is to expand your knowledge of programming from basic and conceptual to intermediate and practical. We will accomplish this by exploring practical concepts that you will use every day as a Data Scientist starting with if statements. \n",
    "\n",
    "__At the end of this lecture you will be able to:__\n",
    "1. Understand if statements and program them in Python \n",
    "2. Work with truth value statements, conditions in if statements and conditional expressions"
   ]
  },
  {
   "cell_type": "markdown",
   "metadata": {},
   "source": [
    "## 1.1 If Statements"
   ]
  },
  {
   "cell_type": "markdown",
   "metadata": {},
   "source": [
    "### 1.1.1 What are If Statements?"
   ]
  },
  {
   "cell_type": "markdown",
   "metadata": {},
   "source": [
    "__Overview:__ \n",
    "- __[If Statements](https://docs.python.org/3/reference/compound_stmts.html#if):__ If statements are a cornerstone of any programming language and allow programmers to replicate decision making in a computer program\n",
    "- If Statements are one type of __[Control Flow](https://en.wikipedia.org/wiki/Control_flow)__ tool in Python \n",
    "\n",
    "__Helpful Points:__ \n",
    "1. If Statements work by evaluating a condition (i.e. `5 > 6`) and then based on whether this condition evaluates as `True` or `False`, performs some action \n",
    "2. The condition that is evaluated must return `True` or `False` (we will see below the various ways that `True` and `False` can be represented in Python)"
   ]
  },
  {
   "cell_type": "markdown",
   "metadata": {},
   "source": [
    "### 1.1.2 General Format of If Statements"
   ]
  },
  {
   "cell_type": "markdown",
   "metadata": {},
   "source": [
    "__Overview:__\n",
    "- The general form of ANY If Statement is the following: `if <condition>`:\n",
    "- If statements in Python do not have parentheses and the statement ends with a colon (this colon is absolutely mandatory for Python's interpreter and you will get an error if it is ommited)\n",
    "- If statements require a 4-space indent within the statement, otherwise it will not get executed (identation indicates the __scope__ of the block of code - which lines are affected by statements)\n",
    "\n",
    "__Helpful Points:__\n",
    "1. If there are more than one if statements, the program will select exactly one statement by evaluating the expressions one by one until one is found to be true\n",
    "2. If you have programmed in other languages before, be careful with the syntax of if statements in Python since they are different than other languages "
   ]
  },
  {
   "cell_type": "markdown",
   "metadata": {},
   "source": [
    "### 1.1.3 Types of If Statements"
   ]
  },
  {
   "cell_type": "markdown",
   "metadata": {},
   "source": [
    "__Overview:__\n",
    "- If Statements can be described as one of the following 4 types:\n",
    "> 1. __Simple If Statement:__ If Statements evaluating one condition and performing one possible action \n",
    "> 2. __If-Else Statement (1 condition):__ If Statements evaluating one condition and performing different actions depending on the result \n",
    "> 3. __If-Else Statement (> 1 condition):__ If Statements evaluating more than one condition and performing different actions depending on the result \n",
    "> 4. __Nested If-Else Statement:__  If Statements evaluating more than one condition in a nested fashion and performing different actions depending on the result\n",
    "\n",
    "__Helpful Points:__\n",
    "1. We will explore each type of If Statement below\n",
    "\n",
    "__Practice:__ Examples of If Statements in Python"
   ]
  },
  {
   "cell_type": "markdown",
   "metadata": {},
   "source": [
    "### 1.1.3.1 Type 1 - Simple If Statement "
   ]
  },
  {
   "cell_type": "markdown",
   "metadata": {},
   "source": [
    "__Overview:__\n",
    "- The general format is described as:<br>\n",
    "\n",
    "`if condition is true`<br>\n",
    ">    `block of code to execute if condition is true`\n",
    "\n",
    "__Helpful Points:__\n",
    "1. It will soon become clear why this simple statement is limiting (Hint: there is no \"otherwise, do this\" clause. If a condition is evaluated as `False`, the program simply ends) \n",
    "2. The control flow is described in the following picture:<br>\n",
    "<img src=\"img11.gif\" width=400 height=400>\n",
    "\n",
    "__Practice:__ Examples of Type 1 - Simple if statement "
   ]
  },
  {
   "cell_type": "markdown",
   "metadata": {},
   "source": [
    "### Example 1.1 (Checking Values of Strings):"
   ]
  },
  {
   "cell_type": "code",
   "execution_count": null,
   "metadata": {},
   "outputs": [],
   "source": [
    "person = \"Clark\"\n",
    "if person == \"Bruce\":\n",
    "    print(\"Bruce is the best\")"
   ]
  },
  {
   "cell_type": "markdown",
   "metadata": {},
   "source": [
    "### Example 1.2 (Checking Values of Ints):"
   ]
  },
  {
   "cell_type": "code",
   "execution_count": null,
   "metadata": {},
   "outputs": [],
   "source": [
    "a = 4\n",
    "if a % 2 == 0:\n",
    "    print(\"a is even\")"
   ]
  },
  {
   "cell_type": "markdown",
   "metadata": {},
   "source": [
    "### 1.1.3.2 Type 2 - If-Else Statement (1 Condition):"
   ]
  },
  {
   "cell_type": "markdown",
   "metadata": {},
   "source": [
    "__Overview:__\n",
    "- The general format is described as:<br>\n",
    "\n",
    "`if condition is true`<br>\n",
    ">    `block of code to execute if condition is true`<br>\n",
    "\n",
    "`else`:<br>\n",
    ">    `block of code to execute if condition is false`<br>  \n",
    "\n",
    "__Helpful Points:__\n",
    "1. Introducing the `else` condition provides more clarity in the program \n",
    "2. The control flow is described in the following picture:<br>\n",
    "<img src=\"img12.png\" width=400 height=400>\n",
    "\n",
    "__Practice:__ Examples of Type 2 - If-else statement (1 condition)  "
   ]
  },
  {
   "cell_type": "markdown",
   "metadata": {},
   "source": [
    "### Example 2.1 (Checking Values of Strings):"
   ]
  },
  {
   "cell_type": "code",
   "execution_count": null,
   "metadata": {},
   "outputs": [],
   "source": [
    "person = \"Clark\"\n",
    "if person == \"Bruce\":\n",
    "    print(\"Bruce is the best\")\n",
    "else:\n",
    "    print(\"Clark is the best\")"
   ]
  },
  {
   "cell_type": "markdown",
   "metadata": {},
   "source": [
    "### Example 2.2 (Checking Values of Ints):"
   ]
  },
  {
   "cell_type": "code",
   "execution_count": null,
   "metadata": {},
   "outputs": [],
   "source": [
    "a = 3\n",
    "if a % 2 == 0:\n",
    "    print(\"a is even\")\n",
    "else:\n",
    "    print(\"a is odd\")"
   ]
  },
  {
   "cell_type": "markdown",
   "metadata": {},
   "source": [
    "### 1.1.3.3 Type 3 - If-Else Statement (>1 Condition):"
   ]
  },
  {
   "cell_type": "markdown",
   "metadata": {},
   "source": [
    "__Overview:__\n",
    "- The general format is described as:<br>\n",
    "\n",
    "`if condition_1 is true`<br>\n",
    ">    `block of code to execute if condition_1 is true`<br>\n",
    "\n",
    "`elif condition_2 is true`:<br>\n",
    ">    `block of code to execute if condition_1 is false AND condition_2 is true`<br>\n",
    "\n",
    "`else`:<br>\n",
    ">    `block of code to execute if condition_1 is false AND condition_2 is false`<br>\n",
    "\n",
    "__Helpful Points:__\n",
    "1. Introducing the `elif` condition provides more flexibility in the program \n",
    "2. The control flow is described in the following picture (the example is not as important to understand as the control flow structure):<br>\n",
    "<img src=\"img13.gif\" width=400 height=400>\n",
    "\n",
    "__Practice:__ Examples of Type 3 - If-else statement (>1 condition)  "
   ]
  },
  {
   "cell_type": "markdown",
   "metadata": {},
   "source": [
    "### Example 3.1 (Checking Values of Strings):"
   ]
  },
  {
   "cell_type": "code",
   "execution_count": null,
   "metadata": {},
   "outputs": [],
   "source": [
    "person = \"Clark\"\n",
    "day = \"Thursday\"\n",
    "if person == \"Bruce\":\n",
    "    print(\"Bruce is the best\")\n",
    "elif day == \"Wednesday\":\n",
    "    print(\"Clark is the best\")\n",
    "else:\n",
    "    print(\"No one is the best\")"
   ]
  },
  {
   "cell_type": "markdown",
   "metadata": {},
   "source": [
    "### Example 3.2 (Checking Values of Ints):"
   ]
  },
  {
   "cell_type": "code",
   "execution_count": null,
   "metadata": {},
   "outputs": [],
   "source": [
    "a = 2\n",
    "if a >= 3:\n",
    "    print(\"a is greater than or equal to 3\")\n",
    "elif a > 2:\n",
    "    print(\"a is greater than 2 but not greater than or equal to 3\")\n",
    "else:\n",
    "    print(\"a is less than or equal to 2\")"
   ]
  },
  {
   "cell_type": "markdown",
   "metadata": {},
   "source": [
    "### Problem 1:\n",
    "\n",
    "Write a program to check if a value is positive, zero, or negative. \n",
    "\n",
    "- The program should print the result (i.e. \"Value is positive\")\n",
    "- Check your program works by creating a positive, zero, and negative variable and ensure the program outputs the correct response every time\n",
    "- Use if statements"
   ]
  },
  {
   "cell_type": "code",
   "execution_count": null,
   "metadata": {},
   "outputs": [],
   "source": [
    "# Write your code here\n",
    "\n",
    "\n",
    "\n"
   ]
  },
  {
   "cell_type": "markdown",
   "metadata": {},
   "source": [
    "### 1.1.3.4 Type 4 - Nested If-Else Statement:"
   ]
  },
  {
   "cell_type": "markdown",
   "metadata": {},
   "source": [
    "__Overview:__\n",
    "- The general format is described as:<br>\n",
    "\n",
    "`if condition_1 is true`:<br>\n",
    ">    `if condition_2 is true`:<br>\n",
    ">>        `block of code to execute if condition_1 is true AND condition_2 is true`\n",
    "\n",
    ">    `else`:<br>\n",
    ">>        `block of code to execute if condition_1 is true AND condition_2 is false`\n",
    "\n",
    "`else`:<br>\n",
    ">    `if condition_3 is true`:<br>\n",
    ">>        `block of code to execute if condition_1 is false AND condition_3 is true`\n",
    "\n",
    ">    `else`:<br>\n",
    ">>        `block of code to execute if condition_1 is false AND condition_3 is false`\n",
    "\n",
    "__Helpful Points:__\n",
    "1. Be careful when using nested if-else statements as they can often get messy and hard to read\n",
    "2. Always ensure you are using the 4-space indent \n",
    "3. The control flow is described in the following picture (this control flow does not include any additional tests if condition 1 is false, unlike the example above):<br>\n",
    "<img src=\"img14.jpg\" width=500 height=500>\n",
    "\n",
    "__Practice:__ Examples of Type 4 - Nested If-else statements  "
   ]
  },
  {
   "cell_type": "markdown",
   "metadata": {},
   "source": [
    "### Example 4.1 (Checking Values of Strings):"
   ]
  },
  {
   "cell_type": "code",
   "execution_count": null,
   "metadata": {},
   "outputs": [],
   "source": [
    "person = \"Clark\"\n",
    "day = \"Monday\"\n",
    "if person == \"Bruce\":\n",
    "    if day in [\"Monday\", \"Tuesday\", \"Wednesday\", \"Friday\", \"Saturday\"]:\n",
    "        print(\"Bruce is the best\")\n",
    "    elif day == \"Thursday\":\n",
    "        print(\"Only Clark is the best on Thursday\")\n",
    "    else:\n",
    "        print(\"No one is the best on Sunday\")\n",
    "else:\n",
    "    if day == \"Thursday\":\n",
    "        print(\"Clark is the best\")\n",
    "    else:\n",
    "        print(\"No one is the best\")"
   ]
  },
  {
   "cell_type": "markdown",
   "metadata": {},
   "source": [
    "### Example 4.2 (Checking Values of Ints):"
   ]
  },
  {
   "cell_type": "code",
   "execution_count": null,
   "metadata": {},
   "outputs": [],
   "source": [
    "a = 2\n",
    "if a >= 3:\n",
    "    if a <= 5:\n",
    "        print(\"a is greater than or equal to 3 and less than or equal to 5\")\n",
    "    else:\n",
    "        print(\"a is greater than 5\")\n",
    "else:\n",
    "    if a >= 1:\n",
    "        print(\"a is greater or equal to 1 and less than 3\")\n",
    "    else:\n",
    "        print(\"a is less than 1\")"
   ]
  },
  {
   "cell_type": "markdown",
   "metadata": {},
   "source": [
    "### Problem 2:\n",
    "\n",
    "Write a program to check if a year is a leap year (see below for the method to determine if a year is a leap year):\n",
    "\n",
    "1. If the year is evenly divisible by 4, go to step 2. Otherwise, go to step 5.\n",
    "2. If the year is evenly divisible by 100, go to step 3. Otherwise, go to step 4.\n",
    "3. If the year is evenly divisible by 400, go to step 4. Otherwise, go to step 5.\n",
    "4. The year is a leap year (it has 366 days).\n",
    "5. The year is not a leap year (it has 365 days).\n",
    "\n",
    "Notes:\n",
    "1. Use nested if-else statements in your answer \n",
    "2. Test your program using the year 2018"
   ]
  },
  {
   "cell_type": "code",
   "execution_count": null,
   "metadata": {},
   "outputs": [],
   "source": [
    "# Write your code here\n",
    "\n",
    "\n",
    "\n"
   ]
  },
  {
   "cell_type": "markdown",
   "metadata": {},
   "source": [
    "### 1.1.4 Conditional Execution in If Statements"
   ]
  },
  {
   "cell_type": "markdown",
   "metadata": {},
   "source": [
    "### 1.1.4.1 Truth Value Testing"
   ]
  },
  {
   "cell_type": "markdown",
   "metadata": {},
   "source": [
    "__Overview:__\n",
    "- The \"condition\" component of if statements are tested for TRUE (otherwise known as __[Truth Value Testing](https://docs.python.org/3/library/stdtypes.html#truth-value-testing)__)\n",
    "- In Python, there are a number of built-in objects that are considered FALSE (and by virtue of that, the opposite would be TRUE):\n",
    "> 1. Constants defined to be false (`None` and `False`)\n",
    "> 2. Zero of any numeric type (`0`, `0.0`, `0j`, `Decimal(0)`, `Fraction(0, 1)`\n",
    "> 3. Empty sequences and collections (`\"\"`, `()`, `[]`, `{}`, `set()`, `range(0)`\n",
    "\n",
    "__Helpful Points:__\n",
    "1. Use these built-in ojbects to represent FALSE to achieve more efficient and clean programs\n",
    "\n",
    "__Practice:__ Examples of Truth Value Testing in Python "
   ]
  },
  {
   "cell_type": "markdown",
   "metadata": {},
   "source": [
    "### Example 1 (Constants):"
   ]
  },
  {
   "cell_type": "code",
   "execution_count": null,
   "metadata": {},
   "outputs": [],
   "source": [
    "clarks_weaknesses = None\n",
    "\n",
    "if (clarks_weaknesses):\n",
    "    print(\"Clark has weaknesses\")\n",
    "else:\n",
    "    print(\"Clark has no weaknesses\")"
   ]
  },
  {
   "cell_type": "code",
   "execution_count": null,
   "metadata": {},
   "outputs": [],
   "source": [
    "clarks_weaknesses = \"kryptonite\"\n",
    "\n",
    "if (clarks_weaknesses):\n",
    "    print(\"Clark has weaknesses\")\n",
    "else:\n",
    "    print(\"Clark has no weaknesses\")"
   ]
  },
  {
   "cell_type": "markdown",
   "metadata": {},
   "source": [
    "### Example 2 (Zero):"
   ]
  },
  {
   "cell_type": "code",
   "execution_count": null,
   "metadata": {
    "scrolled": true
   },
   "outputs": [],
   "source": [
    "clark_salary = 0.0\n",
    "\n",
    "if (clark_salary):\n",
    "    print(\"Clark is rich\")\n",
    "else:\n",
    "    print(\"Clark is poor\")"
   ]
  },
  {
   "cell_type": "code",
   "execution_count": null,
   "metadata": {},
   "outputs": [],
   "source": [
    "clark_salary = 0.1\n",
    "\n",
    "if (clark_salary):\n",
    "    print(\"Clark is rich\")\n",
    "else:\n",
    "    print(\"Clark is poor\")"
   ]
  },
  {
   "cell_type": "markdown",
   "metadata": {},
   "source": [
    "### Example 3 (Empty Sequences and Collections)"
   ]
  },
  {
   "cell_type": "code",
   "execution_count": null,
   "metadata": {},
   "outputs": [],
   "source": [
    "clark_friends = []\n",
    "\n",
    "if (clark_friends):\n",
    "    print(\"Clark has friends!\")\n",
    "else:\n",
    "    print(\"Clark has no friends\")"
   ]
  },
  {
   "cell_type": "code",
   "execution_count": null,
   "metadata": {},
   "outputs": [],
   "source": [
    "clark_friends = [\"Bruce\", \"You?\"]\n",
    "\n",
    "if (clark_friends):\n",
    "    print(\"Clark has friends!\")\n",
    "else:\n",
    "    print(\"Clark has no friends\")"
   ]
  },
  {
   "cell_type": "markdown",
   "metadata": {},
   "source": [
    "### 1.1.4.2 Types of Conditions in If Statements:"
   ]
  },
  {
   "cell_type": "markdown",
   "metadata": {},
   "source": [
    "__Overview:__ \n",
    "- Recall boolean logic in Python \n",
    "- Each of the following expressions yield a Boolean Value which allows the if statement to determine if the condition is TRUE or FALSE:\n",
    "> 1. Explicit Boolean Values \n",
    "> 2. Value Comparisons \n",
    "> 3. Membership Test Operations \n",
    "> 4. Identity Comparisons\n",
    "> 5. Boolean Operations\n",
    "\n",
    "__Helpful Points:__\n",
    "1. It is possible to use any of these expressions in the \"condition\" component of the if statement \n",
    "2. Recall that these expressions are not the ONLY expressions to yield a TRUE or FALSE in Python (the built-in objects above are also valid)\n",
    "\n",
    "__Practice:__ Examples of Types of Conditions in If Statements in Python "
   ]
  },
  {
   "cell_type": "markdown",
   "metadata": {},
   "source": [
    "### Example 1 (Explicit Boolean Values):"
   ]
  },
  {
   "cell_type": "code",
   "execution_count": null,
   "metadata": {},
   "outputs": [],
   "source": [
    "clark_best = True\n",
    "if clark_best:\n",
    "    print(\"clark is the best\")"
   ]
  },
  {
   "cell_type": "markdown",
   "metadata": {},
   "source": [
    "### Example 2 (Value Comparisons):"
   ]
  },
  {
   "cell_type": "code",
   "execution_count": null,
   "metadata": {},
   "outputs": [],
   "source": [
    "a = 1\n",
    "b = 2"
   ]
  },
  {
   "cell_type": "code",
   "execution_count": null,
   "metadata": {},
   "outputs": [],
   "source": [
    "if (a <= b):\n",
    "    print(\"a is less than or equal to b\")\n",
    "else:\n",
    "    print(\"a is greater than b\")"
   ]
  },
  {
   "cell_type": "code",
   "execution_count": null,
   "metadata": {},
   "outputs": [],
   "source": [
    "if (a == b):\n",
    "    print(\"a is equal to b\")\n",
    "else:\n",
    "    print(\"a is not equal to b\")"
   ]
  },
  {
   "cell_type": "code",
   "execution_count": null,
   "metadata": {},
   "outputs": [],
   "source": [
    "if (a != b):\n",
    "    print(\"a is not equal to b\")\n",
    "else:\n",
    "    print(\"a is equal to be\")"
   ]
  },
  {
   "cell_type": "markdown",
   "metadata": {},
   "source": [
    "### Example 3 (Membership Test Operations):"
   ]
  },
  {
   "cell_type": "markdown",
   "metadata": {},
   "source": [
    "### Using `in`"
   ]
  },
  {
   "cell_type": "code",
   "execution_count": null,
   "metadata": {},
   "outputs": [],
   "source": [
    "my_string = \"Superheros are awesome!\""
   ]
  },
  {
   "cell_type": "code",
   "execution_count": null,
   "metadata": {},
   "outputs": [],
   "source": [
    "if \"Superheros\" in my_string:\n",
    "    print(\"Superheros is in the string\")\n",
    "else:\n",
    "    print(\"Superheros is NOT in the string\")"
   ]
  },
  {
   "cell_type": "markdown",
   "metadata": {},
   "source": [
    "### Using `not in`"
   ]
  },
  {
   "cell_type": "code",
   "execution_count": null,
   "metadata": {},
   "outputs": [],
   "source": [
    "superheros = [\"Clark\", \"Bruce\"]"
   ]
  },
  {
   "cell_type": "code",
   "execution_count": null,
   "metadata": {},
   "outputs": [],
   "source": [
    "if \"Lex\" not in superheros:\n",
    "    print(\"Lex is NOT a superhero\")\n",
    "else:\n",
    "    print(\"Lex is a superhero\")"
   ]
  },
  {
   "cell_type": "markdown",
   "metadata": {},
   "source": [
    "### Example 4 (Identity Comparisons):"
   ]
  },
  {
   "cell_type": "markdown",
   "metadata": {},
   "source": [
    "### Using `is`"
   ]
  },
  {
   "cell_type": "code",
   "execution_count": null,
   "metadata": {},
   "outputs": [],
   "source": [
    "num_1 = 5.0\n",
    "num_2 = 5\n",
    "num_3 = \"5\""
   ]
  },
  {
   "cell_type": "code",
   "execution_count": null,
   "metadata": {},
   "outputs": [],
   "source": [
    "if num_1 is num_2:\n",
    "    print(\"numbers are the same object\")\n",
    "else:\n",
    "    print(\"numbers are NOT the same object\")"
   ]
  },
  {
   "cell_type": "markdown",
   "metadata": {},
   "source": [
    "### Using `is not`"
   ]
  },
  {
   "cell_type": "code",
   "execution_count": null,
   "metadata": {},
   "outputs": [],
   "source": [
    "if num_1 is not num_3:\n",
    "    print(\"numbers are NOT the same object\")\n",
    "else:\n",
    "    print(\"numbers are the same object\")"
   ]
  },
  {
   "cell_type": "markdown",
   "metadata": {},
   "source": [
    "### Example 5 (Boolean Operations):"
   ]
  },
  {
   "cell_type": "markdown",
   "metadata": {},
   "source": [
    "### Using `or`"
   ]
  },
  {
   "cell_type": "code",
   "execution_count": null,
   "metadata": {},
   "outputs": [],
   "source": [
    "grade_1 = 90"
   ]
  },
  {
   "cell_type": "code",
   "execution_count": null,
   "metadata": {},
   "outputs": [],
   "source": [
    "if grade_1 > 100 or grade_1 < 0: # returns True if x or y is True \n",
    "    print(\"Error in grade number\")\n",
    "else:\n",
    "    print(\"Valid grade\")"
   ]
  },
  {
   "cell_type": "code",
   "execution_count": null,
   "metadata": {},
   "outputs": [],
   "source": [
    "# less efficient way of above code \n",
    "if grade_1 > 100:\n",
    "    print(\"Error in grade number\")\n",
    "elif grade_1 < 0:\n",
    "    print(\"Error in grade number\")\n",
    "else:\n",
    "    print(\"Valid grade\")"
   ]
  },
  {
   "cell_type": "markdown",
   "metadata": {},
   "source": [
    "### Using `and`"
   ]
  },
  {
   "cell_type": "code",
   "execution_count": null,
   "metadata": {},
   "outputs": [],
   "source": [
    "person = \"Clark\"\n",
    "day = \"Wednesday\""
   ]
  },
  {
   "cell_type": "code",
   "execution_count": null,
   "metadata": {},
   "outputs": [],
   "source": [
    "if person == \"Clark\" and day == \"Thursday\":\n",
    "    print(\"today is Clark's special day\")\n",
    "else:\n",
    "    print(\"today is NOT Clark's special day\")"
   ]
  },
  {
   "cell_type": "markdown",
   "metadata": {},
   "source": [
    "### Using `not`"
   ]
  },
  {
   "cell_type": "code",
   "execution_count": null,
   "metadata": {},
   "outputs": [],
   "source": [
    "x = True\n",
    "y = False"
   ]
  },
  {
   "cell_type": "code",
   "execution_count": null,
   "metadata": {},
   "outputs": [],
   "source": [
    "if ((x or y) and not y):\n",
    "    print(True)\n",
    "else:\n",
    "    print(False)"
   ]
  },
  {
   "cell_type": "markdown",
   "metadata": {},
   "source": [
    "### 1.1.4.3 Conditional Expressions in If Statements: (OPTIONAL)"
   ]
  },
  {
   "cell_type": "markdown",
   "metadata": {},
   "source": [
    "__Overview:__\n",
    "- __[Conditional Expressions](https://docs.python.org/3/reference/expressions.html#conditional-expressions):__ Conditional Expressions are a very useful and efficient way of writing if statements in Python \n",
    "- Conditional Expressions take a regular if statement and transalte it to a one line equivalent \n",
    "- The general syntax is as follows: `(<expression1> if <condition> else <expression2>)` which can be compared to a traditional if statement syntax as follows:"
   ]
  },
  {
   "cell_type": "markdown",
   "metadata": {},
   "source": [
    "`if <condition>:`\n",
    ">    `<expression1>`<br>\n",
    "\n",
    "`else`:<br>\n",
    ">    `<expression2>`"
   ]
  },
  {
   "cell_type": "markdown",
   "metadata": {},
   "source": [
    "__Helpful Points:__\n",
    "1. The conditional expression is evaluated in the following order:\n",
    "> - `<condition>` is evaluated\n",
    "> - if `<condition>` is true, `<expression1>` is evaluated and is the result of the entire expression \n",
    "> - if `<condition>` is false, `<expression2>` is evaluated and is the result of the entire expression\n",
    "2.  See [here](https://www.python.org/dev/peps/pep-0308/) for more detailed information on conditional expressions by Guido van Rossum himself  \n",
    "\n",
    "__Practice:__ Examples of Conditional Expressions in If Statements in Python "
   ]
  },
  {
   "cell_type": "markdown",
   "metadata": {},
   "source": [
    "### Example 1 (Standard If Statement):"
   ]
  },
  {
   "cell_type": "code",
   "execution_count": null,
   "metadata": {},
   "outputs": [],
   "source": [
    "clark_age = 40\n",
    "bruce_age = 20\n",
    "\n",
    "if clark_age > bruce_age:\n",
    "    youngest = \"Bruce\"\n",
    "else:\n",
    "    youngest = \"Clark\"\n",
    "\n",
    "print(youngest)"
   ]
  },
  {
   "cell_type": "markdown",
   "metadata": {},
   "source": [
    "### Example 2 (Conditional Expression Equivalent):"
   ]
  },
  {
   "cell_type": "code",
   "execution_count": null,
   "metadata": {},
   "outputs": [],
   "source": [
    "# conditional expression give us one-line equivalents\n",
    "youngest = \"Bruce\" if clark_age > bruce_age else \"Clark\"\n",
    "print(youngest)"
   ]
  },
  {
   "cell_type": "markdown",
   "metadata": {},
   "source": [
    "### Problem 3:\n",
    "\n",
    "Create the variable `is_today_weekday` that contains the string `\"today is a weekday\"` if today is a weekday or `\"today is not a weekday\"` if it is not:\n",
    "\n",
    "1. create a variable called `weekdays` which is a list containing the weekdays.\n",
    "2. define a variable called `today` with today's weekday\n",
    "3. define the variable `is_today_weekday` using membership test opperations\n",
    "\n",
    "Notes:\n",
    "1. Use condition expressions\n",
    "2. Print your answer"
   ]
  },
  {
   "cell_type": "code",
   "execution_count": null,
   "metadata": {},
   "outputs": [],
   "source": [
    "# Write your code here\n",
    "\n",
    "\n",
    "\n"
   ]
  },
  {
   "cell_type": "markdown",
   "metadata": {},
   "source": [
    "### 1.1.4.4 Switch Statements in Python: "
   ]
  },
  {
   "cell_type": "markdown",
   "metadata": {},
   "source": [
    "__Overview:__\n",
    "- __[Switch Statements](https://en.wikipedia.org/wiki/Switch_statement):__ Switch Statements appear in most programming languages and provide users the ability to perform multiple selections with __case__ statements (i.e. if we are in \"case 1\", then do this. If we are in \"case 2\", then do this. If we are in \"case 3\", then do this, etc.)\n",
    "- Typical Switch Statements operate similar to if statements\n",
    "- However, Switch Statements do not exist in Python in their traditional form\n",
    "\n",
    "__Helpful Points:__\n",
    "1. It is common to use dictionaries as a mechanism to perform \"switch-like\" statements\n",
    "\n",
    "__Practice:__ Examples of using dictionaries to perform switch statements "
   ]
  },
  {
   "cell_type": "markdown",
   "metadata": {},
   "source": [
    "### Example 1 (Switch Statement using If Statement in Python)"
   ]
  },
  {
   "cell_type": "code",
   "execution_count": null,
   "metadata": {},
   "outputs": [],
   "source": [
    "employee = \"Clark\""
   ]
  },
  {
   "cell_type": "code",
   "execution_count": null,
   "metadata": {},
   "outputs": [],
   "source": [
    "# each condition is like the \"case\" part of a switch statement \n",
    "if employee == \"Clark\":\n",
    "    city = \"Clark works in Chicago\"\n",
    "elif employee == \"Bruce\":\n",
    "    city = \"Bruce works in Seattle\"\n",
    "elif employee == \"Paul\":\n",
    "    city = \"Paul works in New York\"\n",
    "else:\n",
    "    print(\"Unknown employee\")\n",
    "\n",
    "print(city)"
   ]
  },
  {
   "cell_type": "markdown",
   "metadata": {},
   "source": [
    "### Example 2 (Switch Statement using Dictionaries in Python)"
   ]
  },
  {
   "cell_type": "code",
   "execution_count": null,
   "metadata": {},
   "outputs": [],
   "source": [
    "# each key is like the \"case\" part of the switch statement\n",
    "employee_city = {\"Clark\":\"Chicago\", \"Bruce\":\"Seattle\", \"Paul\":\"New York\"}\n",
    "print(employee_city)"
   ]
  },
  {
   "cell_type": "code",
   "execution_count": null,
   "metadata": {},
   "outputs": [],
   "source": [
    "employee = \"Clark\"\n",
    "print(\"{0} works in {1}\".format(employee, employee_city[employee]))"
   ]
  },
  {
   "cell_type": "code",
   "execution_count": null,
   "metadata": {},
   "outputs": [],
   "source": [
    "employee = \"Bruce\"\n",
    "print(\"{0} works in {1}\".format(employee, employee_city[employee]))"
   ]
  },
  {
   "cell_type": "markdown",
   "metadata": {},
   "source": [
    "# ANSWERS"
   ]
  },
  {
   "cell_type": "markdown",
   "metadata": {},
   "source": [
    "### Problem 1:\n",
    "\n",
    "Write a program to check if a value is positive, zero, or negative. \n",
    "\n",
    "- The program should print the result (i.e. \"Value is positive\")\n",
    "- Check your program works by creating a positive, zero, and negative variable and ensure the program outputs the correct response every time\n",
    "- Use if statements"
   ]
  },
  {
   "cell_type": "code",
   "execution_count": null,
   "metadata": {},
   "outputs": [],
   "source": [
    "value = 10 # test for positive number \n",
    "# value = -3 # test for negative number \n",
    "# value = 0 # test for 0 \n",
    "\n",
    "if value < 0:\n",
    "    print('value is negative.')\n",
    "elif value == 0:\n",
    "    print('value is zero')\n",
    "else:\n",
    "    print('value is positive')"
   ]
  },
  {
   "cell_type": "markdown",
   "metadata": {},
   "source": [
    "### Problem 2:\n",
    "\n",
    "Write a program to check if a year is a leap year (see below for the method to determine if a year is a leap year):\n",
    "\n",
    "1. If the year is evenly divisible by 4, go to step 2. Otherwise, go to step 5.\n",
    "2. If the year is evenly divisible by 100, go to step 3. Otherwise, go to step 4.\n",
    "3. If the year is evenly divisible by 400, go to step 4. Otherwise, go to step 5.\n",
    "4. The year is a leap year (it has 366 days).\n",
    "5. The year is not a leap year (it has 365 days).\n",
    "\n",
    "Notes:\n",
    "1. Use nested if-else statements in your answer \n",
    "2. Test your program using the year 2018"
   ]
  },
  {
   "cell_type": "code",
   "execution_count": null,
   "metadata": {},
   "outputs": [],
   "source": [
    "year = 2018\n",
    "if (year % 4) == 0:\n",
    "    if (year % 100) == 0:\n",
    "        if (year % 400) == 0:\n",
    "            print(\"{0} is a leap year\".format(year))\n",
    "        else:\n",
    "            print(\"{0} is NOT a leap year\".format(year))\n",
    "    else:\n",
    "        print(\"{0} is a leap year\".format(year))\n",
    "else:\n",
    "    print(\"{0} is NOT a leap year\".format(year))"
   ]
  },
  {
   "cell_type": "markdown",
   "metadata": {},
   "source": [
    "### Problem 3:\n",
    "\n",
    "Create the variable `is_today_weekday` that contains the string `\"today is a weekday\"` if today is a weekday or `\"today is not a weekday\"` if it is not:\n",
    "\n",
    "1. create a variable called `weekdays` which is a list containing the weekdays.\n",
    "2. define a variable called `today` with today's weekday\n",
    "3. define the variable `is_today_weekday` using membership test opperations\n",
    "\n",
    "Notes:\n",
    "1. Use condition expressions\n",
    "2. Print your answer"
   ]
  },
  {
   "cell_type": "code",
   "execution_count": null,
   "metadata": {},
   "outputs": [],
   "source": [
    "weeksdays = [\"Monday\", \"Tuesday\", \"Wednesday\", \"Thursday\", \"Friday\"]\n",
    "today = \"Tuesday\"\n",
    "is_today_weekday = \"today is a weekday\" if today in weeksdays else \"today is not a weekday\"\n",
    "print(is_today_weekday)"
   ]
  },
  {
   "cell_type": "code",
   "execution_count": null,
   "metadata": {},
   "outputs": [],
   "source": []
  }
 ],
 "metadata": {
  "kernelspec": {
   "display_name": "Python 3",
   "language": "python",
   "name": "python3"
  },
  "language_info": {
   "codemirror_mode": {
    "name": "ipython",
    "version": 3
   },
   "file_extension": ".py",
   "mimetype": "text/x-python",
   "name": "python",
   "nbconvert_exporter": "python",
   "pygments_lexer": "ipython3",
   "version": "3.7.3"
  },
  "toc": {
   "base_numbering": 1,
   "nav_menu": {},
   "number_sections": true,
   "sideBar": true,
   "skip_h1_title": false,
   "title_cell": "Table of Contents",
   "title_sidebar": "Contents",
   "toc_cell": false,
   "toc_position": {},
   "toc_section_display": true,
   "toc_window_display": false
  }
 },
 "nbformat": 4,
 "nbformat_minor": 2
}
