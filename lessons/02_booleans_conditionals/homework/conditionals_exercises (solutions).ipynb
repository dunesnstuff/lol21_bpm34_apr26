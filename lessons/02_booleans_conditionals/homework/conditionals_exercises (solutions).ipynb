{
 "cells": [
  {
   "cell_type": "markdown",
   "metadata": {},
   "source": [
    "# Exercises: Conditional Logic"
   ]
  },
  {
   "cell_type": "markdown",
   "metadata": {},
   "source": [
    "## Create a dictionary that contains the following items: bananas: 3, apples: 2, pears: 5, oranges: 0\n",
    "\n",
    "With the help if statements complete the following:\n",
    "\n",
    "A) If there are 3 or more bananas, print __Three or more bananas__; otherwise, print __Less than three bananas__.\n",
    "\n",
    "B) If there are more than five fruits in total, print __More than five fruits__; otherwise, print __No more than five fruits__\n",
    "\n",
    "C) If there are more than 3 apples, check if there are 2 or more pears and print __True__; otherwise, print __False__"
   ]
  },
  {
   "cell_type": "code",
   "execution_count": null,
   "metadata": {},
   "outputs": [],
   "source": [
    "my_dict = {'bananas':3,'apples':2, 'pears':5, 'oranges':0}\n",
    "\n",
    "# A\n",
    "if my_dict['bananas'] >= 3:\n",
    "    print('Three or more bananas')\n",
    "else:\n",
    "    print('Less than three bananas')"
   ]
  },
  {
   "cell_type": "code",
   "execution_count": null,
   "metadata": {},
   "outputs": [],
   "source": [
    "# B\n",
    "if sum(my_dict.values()) > 5:\n",
    "    print('More than five fruits')\n",
    "else:\n",
    "    print('No more than five fuits')"
   ]
  },
  {
   "cell_type": "code",
   "execution_count": null,
   "metadata": {},
   "outputs": [],
   "source": [
    "# C\n",
    "if my_dict['apples'] > 3:\n",
    "    if my_dict['pears'] >= 2:\n",
    "        print(True)\n",
    "    else:\n",
    "        print(False)\n",
    "else:\n",
    "    print(False)"
   ]
  },
  {
   "cell_type": "code",
   "execution_count": null,
   "metadata": {},
   "outputs": [],
   "source": []
  }
 ],
 "metadata": {
  "kernelspec": {
   "display_name": "Python 3",
   "language": "python",
   "name": "python3"
  },
  "language_info": {
   "codemirror_mode": {
    "name": "ipython",
    "version": 3
   },
   "file_extension": ".py",
   "mimetype": "text/x-python",
   "name": "python",
   "nbconvert_exporter": "python",
   "pygments_lexer": "ipython3",
   "version": "3.7.3"
  },
  "toc": {
   "base_numbering": 1,
   "nav_menu": {},
   "number_sections": true,
   "sideBar": true,
   "skip_h1_title": false,
   "title_cell": "Table of Contents",
   "title_sidebar": "Contents",
   "toc_cell": false,
   "toc_position": {
    "height": "calc(100% - 180px)",
    "left": "10px",
    "top": "150px",
    "width": "357.8px"
   },
   "toc_section_display": true,
   "toc_window_display": true
  }
 },
 "nbformat": 4,
 "nbformat_minor": 2
}
