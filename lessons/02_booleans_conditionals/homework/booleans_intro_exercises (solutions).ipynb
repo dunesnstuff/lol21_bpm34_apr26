{
 "cells": [
  {
   "cell_type": "markdown",
   "metadata": {},
   "source": [
    "# Exercises: Boolean Logic\n",
    "\n",
    "In Python, an `assert` statement is one that checks a boolean condition and throws an error (an `AssertionError`, to be precise) that interrupts your code if that condition is not true. This can be a useful tool to make sure that code is working as intended. We will look at more productive ways to work with errors in a later lecture, but for now we can use `assert` statements to make sure code cells execute correctly in these assignments."
   ]
  },
  {
   "cell_type": "markdown",
   "metadata": {},
   "source": [
    "## Boolean Conversion"
   ]
  },
  {
   "cell_type": "code",
   "execution_count": null,
   "metadata": {},
   "outputs": [],
   "source": [
    "# Comment out the False assertions to get this cell to run correctly.\n",
    "# Do not comment out any assertions that pass successfully.\n",
    "\n",
    "assert True\n",
    "#assert False\n",
    "#assert bool(\"\")\n",
    "assert bool(\"False\")\n",
    "#assert bool(0)\n",
    "assert bool(1)\n",
    "assert bool(5)"
   ]
  },
  {
   "cell_type": "markdown",
   "metadata": {},
   "source": [
    "## Boolean Evaluation of Other Types"
   ]
  },
  {
   "cell_type": "code",
   "execution_count": null,
   "metadata": {},
   "outputs": [],
   "source": [
    "assert \"sandwich\"\n",
    "#assert 0\n",
    "assert complex(0, 4)\n",
    "#assert ''"
   ]
  },
  {
   "cell_type": "code",
   "execution_count": null,
   "metadata": {},
   "outputs": [],
   "source": [
    "a = 'c'\n",
    "b = 'c'\n",
    "\n",
    "assert b is a\n",
    "# assert a is 'a'"
   ]
  },
  {
   "cell_type": "code",
   "execution_count": null,
   "metadata": {},
   "outputs": [],
   "source": [
    "assert 1 == True\n",
    "#assert 5 == True\n",
    "assert bool(5) == True\n",
    "assert bool(1) == True"
   ]
  },
  {
   "cell_type": "markdown",
   "metadata": {},
   "source": [
    "## String Comparisons\n",
    "\n",
    "The comparison operators `<`, `>`, `<=`, `>=` also work on strings.\n",
    "\n",
    "Use the following assertion statements to figure out how string comparison works in Python."
   ]
  },
  {
   "cell_type": "code",
   "execution_count": null,
   "metadata": {},
   "outputs": [],
   "source": [
    "# Edit the equality operators to the appropriate comparison operators\n",
    "# to get all of the assertion statements to pass.\n",
    "\n",
    "assert 'a' <= 'c'\n",
    "assert 'cow' <= 'coward'\n",
    "assert 'armored' >= 'armadillo'\n",
    "assert '' == ''\n",
    "assert '' == \"\"\"\"\"\"\n",
    "assert 'Right?' >= 'Right!'"
   ]
  },
  {
   "cell_type": "markdown",
   "metadata": {},
   "source": [
    "*That last one was a dirty trick. You can use the `ord()` function to get the ASCII value of a character, which is used for string comparisons.*\n",
    "\n",
    "*Note that in most cases, you will only be interested in string comparisons that check for equality between string variables. But it is still useful to know how Python executes these operations.*"
   ]
  },
  {
   "cell_type": "markdown",
   "metadata": {},
   "source": [
    "## Is the remainder of 7 divided by 5 greater than 3.2?"
   ]
  },
  {
   "cell_type": "code",
   "execution_count": null,
   "metadata": {},
   "outputs": [],
   "source": [
    "print(7%5>3.2)"
   ]
  },
  {
   "cell_type": "markdown",
   "metadata": {},
   "source": [
    "## Is a 5 foot 3 inch person taller than a 1 meter 77 cms person?\n",
    "\n",
    "Knowing that: \n",
    "- 1 meter is 100 cms\n",
    "- 1 foot is 12 inches\n",
    "- 1 inch is 2.54 cms"
   ]
  },
  {
   "cell_type": "code",
   "execution_count": null,
   "metadata": {},
   "outputs": [],
   "source": [
    "# I'll convert all units to cms and then compare\n",
    "\n",
    "# Person 1\n",
    "# 1) Convert to inches\n",
    "Person1_inch = 5*12+3 # inches\n",
    "# 2) Convert to cms\n",
    "Person1_cms = Person1_inch*2.54 # cms\n",
    "\n",
    "# Person 2\n",
    "# 1) Convert to cms\n",
    "Person2_cms = 1*100+77 # cms\n",
    "\n",
    "print('Person 1 is:', Person1_cms, 'cms tall')\n",
    "print('Person 2 is:', Person2_cms, 'cms tall')\n",
    "print('Is Person 1 taller than Person 2?', Person1_cms>Person2_cms )\n"
   ]
  },
  {
   "cell_type": "markdown",
   "metadata": {},
   "source": [
    "## Is a car that drives at 65mph faster than a car going at 80kmh and slower than a car going at 100kmh?\n",
    "\n",
    "Knowing that:\n",
    "- 1 mile is 1.6kms"
   ]
  },
  {
   "cell_type": "code",
   "execution_count": null,
   "metadata": {},
   "outputs": [],
   "source": [
    "# convert all to kmh\n",
    "Car1_kmh = 65*1.6 # kmh\n",
    "\n",
    "Car2_kmh = 80\n",
    "Car3_kmh = 100\n",
    "\n",
    "print('Car 1 has a speed of',Car1_kmh,'kmh')\n",
    "\n",
    "result = Car2_kmh<Car1_kmh<Car3_kmh\n",
    "print('Is Car 1 faster than 80kmh and slower than 100kmh?',result)"
   ]
  },
  {
   "cell_type": "code",
   "execution_count": null,
   "metadata": {},
   "outputs": [],
   "source": []
  }
 ],
 "metadata": {
  "kernelspec": {
   "display_name": "Python 3",
   "language": "python",
   "name": "python3"
  },
  "language_info": {
   "codemirror_mode": {
    "name": "ipython",
    "version": 3
   },
   "file_extension": ".py",
   "mimetype": "text/x-python",
   "name": "python",
   "nbconvert_exporter": "python",
   "pygments_lexer": "ipython3",
   "version": "3.7.3"
  },
  "toc": {
   "base_numbering": 1,
   "nav_menu": {},
   "number_sections": true,
   "sideBar": true,
   "skip_h1_title": false,
   "title_cell": "Table of Contents",
   "title_sidebar": "Contents",
   "toc_cell": false,
   "toc_position": {},
   "toc_section_display": true,
   "toc_window_display": false
  }
 },
 "nbformat": 4,
 "nbformat_minor": 2
}
