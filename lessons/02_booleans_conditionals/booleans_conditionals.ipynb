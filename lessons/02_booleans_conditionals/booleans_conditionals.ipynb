{
 "cells": [
  {
   "cell_type": "markdown",
   "metadata": {},
   "source": [
    "# Boolean Logic, Boolean Operations and Conditional Logic\n",
    "\n",
    "In this notebook we will: \n",
    "- Understand `Boolean Logic`\n",
    "- Understand `Boolean Operations`\n",
    "- Learn how to use `Conditional Logic`"
   ]
  },
  {
   "cell_type": "markdown",
   "metadata": {},
   "source": [
    "### Boolean Operators"
   ]
  },
  {
   "cell_type": "markdown",
   "metadata": {},
   "source": [
    "Boolean logic refers to answering questions that have only a `True` or `False` answer."
   ]
  },
  {
   "cell_type": "markdown",
   "metadata": {},
   "source": [
    "Boolean operators are examples of boolean questions.  What do you think the output of the following examples would be?"
   ]
  },
  {
   "cell_type": "code",
   "execution_count": null,
   "metadata": {},
   "outputs": [],
   "source": [
    "4<3 # less than"
   ]
  },
  {
   "cell_type": "code",
   "execution_count": null,
   "metadata": {},
   "outputs": [],
   "source": [
    "3>2 # greater than"
   ]
  },
  {
   "cell_type": "code",
   "execution_count": null,
   "metadata": {},
   "outputs": [],
   "source": [
    "3==3 # equal to"
   ]
  },
  {
   "cell_type": "code",
   "execution_count": null,
   "metadata": {},
   "outputs": [],
   "source": [
    "3!=2 # not equal to"
   ]
  },
  {
   "cell_type": "code",
   "execution_count": null,
   "metadata": {},
   "outputs": [],
   "source": [
    "3>=3 # greater or equal than"
   ]
  },
  {
   "cell_type": "code",
   "execution_count": null,
   "metadata": {},
   "outputs": [],
   "source": [
    "2<=1 # less or equal than"
   ]
  },
  {
   "cell_type": "markdown",
   "metadata": {},
   "source": [
    "### Exercise\n",
    "\n",
    "Is $32^3$ greater than $5^6$?"
   ]
  },
  {
   "cell_type": "code",
   "execution_count": null,
   "metadata": {},
   "outputs": [],
   "source": [
    "answer = # Write code here\n",
    "\n",
    "print(f\"The answer is {answer}\")"
   ]
  },
  {
   "cell_type": "markdown",
   "metadata": {},
   "source": [
    "### Membership Test\n",
    "\n",
    "We can also use `in` and `not in` to identify substrings."
   ]
  },
  {
   "cell_type": "code",
   "execution_count": null,
   "metadata": {},
   "outputs": [],
   "source": [
    "'ber' in 'Albert'"
   ]
  },
  {
   "cell_type": "code",
   "execution_count": null,
   "metadata": {},
   "outputs": [],
   "source": [
    "'bar' not in 'Albert'"
   ]
  },
  {
   "cell_type": "markdown",
   "metadata": {},
   "source": [
    "### Logic Gates \n",
    "#### AND, OR and NOT\n",
    "\n",
    "- Below is a Truth Table for the __AND__, __OR__ and __NOT__ operations\n",
    "\n",
    "\n",
    "| A | B | A AND B | A OR B | NOT A |\n",
    "| :---: | :---: | :---: | :---: | :---: |\n",
    "| FALSE | FALSE | FALSE | FALSE | TRUE |\n",
    "| FALSE | TRUE | FALSE | TRUE | TRUE |\n",
    "| TRUE | FALSE | FALSE | TRUE | FALSE |\n",
    "| TRUE | TRUE | TRUE | TRUE | FALSE |"
   ]
  },
  {
   "cell_type": "code",
   "execution_count": null,
   "metadata": {},
   "outputs": [],
   "source": [
    "3>2 and 2>1 # True and True => True"
   ]
  },
  {
   "cell_type": "code",
   "execution_count": null,
   "metadata": {
    "scrolled": true
   },
   "outputs": [],
   "source": [
    "3>1 or 2>10 # True or False => True"
   ]
  },
  {
   "cell_type": "code",
   "execution_count": null,
   "metadata": {
    "scrolled": true
   },
   "outputs": [],
   "source": [
    "not 3>1 # not(True) => False"
   ]
  },
  {
   "cell_type": "markdown",
   "metadata": {},
   "source": [
    "What do you think the output will be for the following cells?"
   ]
  },
  {
   "cell_type": "code",
   "execution_count": null,
   "metadata": {},
   "outputs": [],
   "source": [
    "age = 21\n",
    "weight = 120\n",
    "\n",
    "print(age > 18 and weight > 130)"
   ]
  },
  {
   "cell_type": "code",
   "execution_count": null,
   "metadata": {},
   "outputs": [],
   "source": [
    "print(age > 18 or weight > 130)"
   ]
  },
  {
   "cell_type": "code",
   "execution_count": null,
   "metadata": {},
   "outputs": [],
   "source": [
    "print(age > 18 and not(weight > 130))"
   ]
  },
  {
   "cell_type": "markdown",
   "metadata": {},
   "source": [
    "### Conditional Logic"
   ]
  },
  {
   "cell_type": "markdown",
   "metadata": {},
   "source": [
    "When modeling problems, we often want different behavior depending on the value of a variable. Let's look at an example of a simple `if` statement."
   ]
  },
  {
   "cell_type": "code",
   "execution_count": null,
   "metadata": {},
   "outputs": [],
   "source": [
    "number = 12\n",
    "if number % 2 == 0:\n",
    "    print(f\"{number} is an even number\")"
   ]
  },
  {
   "cell_type": "markdown",
   "metadata": {},
   "source": [
    "In the code above, if the number is divisibe by 2, it will print out `12 is an even number`.  In other cases (i.e. number is an odd number) the program does not print anything out.\n",
    "\n",
    "Python uses _indentation_ to figure out what code belongs to the `if` statement. Let's look at a slightly more involved example before being more formal."
   ]
  },
  {
   "cell_type": "code",
   "execution_count": null,
   "metadata": {},
   "outputs": [],
   "source": [
    "number = 25\n",
    "if number % 2 == 0:\n",
    "    print(f\"{number} is an even number\")\n",
    "    print(f\"{number} is not an odd number\")\n",
    "else:\n",
    "    print(f\"{number} is an odd number\")\n",
    "    print(f\"{number} is not an even number\")\n",
    "print('-'*25)\n",
    "print(f\"{number} is a number\")"
   ]
  },
  {
   "cell_type": "markdown",
   "metadata": {},
   "source": [
    "Okay, lets be a little more formal. We have:\n",
    "\n",
    "```python\n",
    "if (condition):  # note the colon, and the condition should return a True or False\n",
    "    # stuff that is indented\n",
    "    # will only run when \"condition\" is True\n",
    "    # if the condition is False, all this stuff\n",
    "    # is completely ignored\n",
    "    #\n",
    "    # We will call this indented thing a \"block\"\n",
    "else:            # note the colon\n",
    "    # stuff that is indented in this block\n",
    "    # will only run when \"condition\" is False\n",
    "    # if the condition is True, all this stuff is\n",
    "    # completely ignored\n",
    "   \n",
    "# Now we have no indentation any more\n",
    "# This runs regardless of the condition\n",
    "```\n",
    "\n",
    "- A colon indicates that we are about to start a new block\n",
    "- A block continues until we eliminate the indentation\n",
    "\n",
    "**DO NOT RUN THE NEXT CELL**\n",
    "Instead, try to predict what will be printed at the end. It is a silly exercise, but gives us some experience with thinking about `if` statements. Once you have a guess, you can run the cell."
   ]
  },
  {
   "cell_type": "code",
   "execution_count": null,
   "metadata": {},
   "outputs": [],
   "source": [
    "# DO NOT RUN ME\n",
    "\n",
    "test_val = 50\n",
    "\n",
    "if (test_val < 30):\n",
    "    print(\"abc\")\n",
    "else:\n",
    "    print(\"def\")\n",
    "\n",
    "    print(\"ijk\")\n",
    "\n",
    "print(\"xyz\")\n",
    "\n",
    "## What do you think will get printed out?"
   ]
  },
  {
   "cell_type": "code",
   "execution_count": null,
   "metadata": {},
   "outputs": [],
   "source": [
    "# DO NOT RUN ME\n",
    "\n",
    "the_code = 600\n",
    "\n",
    "if (the_code > 1000):\n",
    "    the_code = the_code - 1000\n",
    "    the_code = the_code + 3\n",
    "else:\n",
    "    the_code = 2*the_code \n",
    "\n",
    "    the_code = the_code + 1\n",
    "    print(\"Will this print?\")\n",
    "\n",
    "the_code = the_code + 3\n",
    "\n",
    "# What gets printed out?\n",
    "# Try and reason your way through rather than just running the cell\n",
    "print(the_code)"
   ]
  },
  {
   "cell_type": "markdown",
   "metadata": {},
   "source": [
    "`If-else` statements can also have more than one condition. See example below:"
   ]
  },
  {
   "cell_type": "code",
   "execution_count": null,
   "metadata": {},
   "outputs": [],
   "source": [
    "age = 72\n",
    "\n",
    "if age >= 65:\n",
    "    print(\"You are a senior!\")\n",
    "elif age >= 20:\n",
    "    print(\"You are an adult!\")\n",
    "elif age >= 13:\n",
    "    print(\"You are a teenager!\")\n",
    "else:\n",
    "    print(\"You are a child!\")"
   ]
  },
  {
   "cell_type": "markdown",
   "metadata": {},
   "source": [
    "Note that the order of the statements matter (see example below). Once the code encounters the first condition to that is `True`, it ignores all the remaining conditions."
   ]
  },
  {
   "cell_type": "code",
   "execution_count": null,
   "metadata": {},
   "outputs": [],
   "source": [
    "age = 72\n",
    "\n",
    "if age >= 0:\n",
    "    print(\"You are a child!\")\n",
    "elif age >= 13:\n",
    "    print(\"You are a teenager!\")\n",
    "elif age >= 20:\n",
    "    print(\"You are an adult!\")\n",
    "else:\n",
    "    print(\"You are a senior!\")\n"
   ]
  },
  {
   "cell_type": "markdown",
   "metadata": {},
   "source": [
    "Here is a potential workaround."
   ]
  },
  {
   "cell_type": "code",
   "execution_count": null,
   "metadata": {},
   "outputs": [],
   "source": [
    "age = 72\n",
    "\n",
    "if age >= 0 and age < 13:\n",
    "    print(\"You are a child!\")\n",
    "elif age >= 13 and age < 20:\n",
    "    print(\"You are a teenager!\")\n",
    "elif age >= 20 and age < 65:\n",
    "    print(\"You are an adult!\")\n",
    "else:\n",
    "    print(\"You are a senior!\")"
   ]
  },
  {
   "cell_type": "markdown",
   "metadata": {},
   "source": [
    "We can also have _nested_ `if` statements. What do you think the following prints out?"
   ]
  },
  {
   "cell_type": "code",
   "execution_count": null,
   "metadata": {},
   "outputs": [],
   "source": [
    "name = \"Einstein\"\n",
    "age = 42\n",
    "voting_age = 18\n",
    "\n",
    "if age > voting_age:\n",
    "    if name == \"Einstein\":\n",
    "        print(\"You are a genius and you can vote!\")\n",
    "    else:\n",
    "        print(\"You are not a genius but you still can vote!\")\n",
    "else:\n",
    "    print(\"Sorry! You cannot vote!\")\n",
    "print(\"It's a sunny day!\")"
   ]
  },
  {
   "cell_type": "markdown",
   "metadata": {},
   "source": [
    "## Exercise\n",
    "\n",
    "Given `money` and `cost`, print out\n",
    "- \"you can afford it\" if I have enough `money` to buy something that has a price `cost`\n",
    "- \"you cannot afford it\" if I don't have enough money"
   ]
  },
  {
   "cell_type": "code",
   "execution_count": null,
   "metadata": {},
   "outputs": [],
   "source": [
    "## This cell should do the correct thing, even if I change the values\n",
    "## of `money` and `cost`\n",
    "money = 400\n",
    "cost = 410\n",
    "\n",
    "### Write code here\n",
    "\n",
    "\n"
   ]
  },
  {
   "cell_type": "markdown",
   "metadata": {},
   "source": [
    "### Exercise\n",
    "\n",
    "We want to keep track of a bank account balance. We start with `balance` dollars, and then change it depending on the `transfer` dollars amount. The variable `transfer` can be positive or negative:\n",
    "- If `transfer` is positive, someone is putting money into the account (so balance should increase)\n",
    "- If `transfer` is negative, someone is taking money out of the account (so balance should decrease)\n",
    "\n",
    "Here are some examples:\n",
    "```python\n",
    "# Example 1\n",
    "balance = 30   # set the initial balance\n",
    "transfer = -10 # i.e. we are trying to take $10 out of the account\n",
    ".... do some stuff ....\n",
    "print(balance) # should have $20 left over\n",
    "20\n",
    "\n",
    "\n",
    "# Example 2\n",
    "balance = 100  # set the initial balance\n",
    "transfer = 20.0  # deposit $20 into the account\n",
    "... do some stuff ....\n",
    "print(balance)   # should have $120 in the account \n",
    "120\n",
    "```\n",
    "\n",
    "Goal:\n",
    "- Write the cell below so that we start with a balance and transfer amount, and at the end of the cell we print out the remaining balance."
   ]
  },
  {
   "cell_type": "code",
   "execution_count": null,
   "metadata": {},
   "outputs": [],
   "source": [
    "# Initial values, we can change these values for different examples\n",
    "balance = 30\n",
    "transfer = -10\n",
    "\n",
    "# Here is the work for you to do:\n",
    "# ..............................\n",
    "\n",
    "# Now check the final answer\n",
    "print(balance)"
   ]
  },
  {
   "cell_type": "markdown",
   "metadata": {},
   "source": [
    "### Extension\n",
    "\n",
    "So far so good.\n",
    "\n",
    "What happens if we try to remove more money than we actually have? In this problem, the bank will charge us an overdraft fee of 20 dollars. That is, we should modify our program to make the following examples work:\n",
    "```python\n",
    "# Example 3\n",
    "balance = 30\n",
    "transfer = -40\n",
    "... do stuff ...\n",
    "print(balance)\n",
    "-30\n",
    "```\n",
    "The answer is `-30` because we started with 30, took 40 out (leaving us with -10), and got charged a 20 dollar fee (taking us to -30). Here is another example:\n",
    "```python\n",
    "# Example 4: Withdrawing with a negative balance\n",
    "balance = -10\n",
    "transfer = -40\n",
    "... do stuff ...\n",
    "# Note we are withdrawing on a negative balance\n",
    "# so we get charged another fee\n",
    "print(balance)\n",
    "-70 \n",
    "\n",
    "# Example 5: Payback with a negative balance\n",
    "balance = -10\n",
    "transfer = 5\n",
    "... do stuff\n",
    "# We DON'T get charged a fee for putting money into\n",
    "# the account, even if starting and ending balance is\n",
    "# negative\n",
    "print(balance)\n",
    "-5\n",
    "```\n",
    "We still want examples 1 and 2 to work (because there are no fees):\n",
    "```python\n",
    "# Example 1\n",
    "balance = 30   # set the initial balance\n",
    "transfer = -10 # i.e. we are trying to take $10 out of the account\n",
    ".... do some stuff ....\n",
    "print(balance) # should have $20 left over\n",
    "20\n",
    "\n",
    "# Example 2\n",
    "balance = 100  # set the initial balance\n",
    "transfer = 20.0  # deposit $20 into the account\n",
    "... do some stuff ....\n",
    "print(balance)   # should have $120 in the account \n",
    "120.0\n",
    "```\n",
    "\n",
    "What rule is the bank using?\n",
    "> We will charge you a fee ($20) if you try to withdraw money AND that withdraw leaves you with a negative balance.\n",
    "\n"
   ]
  },
  {
   "cell_type": "code",
   "execution_count": null,
   "metadata": {},
   "outputs": [],
   "source": [
    "# Example 1\n",
    "balance = 30\n",
    "transfer = -10 # expected balance = 20\n",
    "\n",
    "# # Example 2\n",
    "# balance = 100\n",
    "# transfer = 20 # expected balance = 120\n",
    "\n",
    "# # Example 3\n",
    "# balance = 30\n",
    "# transfer = -40 # expected balance = -30\n",
    "\n",
    "# # Example 4\n",
    "# balance = -10\n",
    "# transfer = -40 # expected balance = -70\n",
    "\n",
    "# # Example 5\n",
    "# balance = -10\n",
    "# transfer = 5 # expected balance = -5"
   ]
  },
  {
   "cell_type": "code",
   "execution_count": null,
   "metadata": {},
   "outputs": [],
   "source": [
    "## Write your code here\n",
    "\n",
    "\n",
    "\n",
    "\n",
    "# This should return the correct balance\n",
    "# If balance started at 30 and transfer is -40\n",
    "# then the answer should be -30 (see cell above)\n",
    "print(balance)"
   ]
  },
  {
   "cell_type": "code",
   "execution_count": null,
   "metadata": {},
   "outputs": [],
   "source": [
    "### ANSWER\n",
    "balance += transfer\n",
    "if balance < 0 and transfer < 0:\n",
    "    balance -= 20\n",
    "\n",
    "print(balance)"
   ]
  },
  {
   "cell_type": "markdown",
   "metadata": {},
   "source": [
    "### Truth Value Testing\n",
    "\n",
    "When we write \n",
    "\n",
    "```python\n",
    "x = 'Clark'\n",
    "\n",
    "if (x):\n",
    "    # do stuff\n",
    "```\n",
    "Python will convert `x` to a boolean (bool(x)) behind the scenes (i.e. it will _cast_ `x` to a boolean). Let's have a look at what some different values of `x` get cast to:"
   ]
  },
  {
   "cell_type": "code",
   "execution_count": null,
   "metadata": {},
   "outputs": [],
   "source": [
    "x=5\n",
    "bool(x)"
   ]
  },
  {
   "cell_type": "code",
   "execution_count": null,
   "metadata": {},
   "outputs": [],
   "source": [
    "x='Clark'\n",
    "bool(x)"
   ]
  },
  {
   "cell_type": "code",
   "execution_count": null,
   "metadata": {},
   "outputs": [],
   "source": [
    "# Lets make the output a little more readable\n",
    "x = 5\n",
    "print(f'Casting {x} to a boolean gives {bool(x)}')\n",
    "\n",
    "x = 'Clark'\n",
    "print(f'Casting {x} to a boolean gives {bool(x)}')\n",
    "\n",
    "x = 0\n",
    "print(f'Casting {x} to a boolean gives {bool(x)}')\n",
    "\n",
    "x = ''\n",
    "print(f'Casting {x} to a boolean gives {bool(x)}')\n",
    "\n",
    "x = 'a'\n",
    "print(f'Casting {x} to a boolean gives {bool(x)}')\n",
    "\n",
    "x = -1\n",
    "print(f'Casting {x} to a boolean gives {bool(x)}')\n",
    "\n",
    "x = 0.0\n",
    "print(f'Casting {x} to a boolean gives {bool(x)}')\n",
    "\n",
    "x = None\n",
    "print(f'Casting {x} to a boolean gives {bool(x)}')\n"
   ]
  },
  {
   "cell_type": "markdown",
   "metadata": {},
   "source": [
    "Some rules for types we have seen (integers, floats, and strings):\n",
    "- `0` converts to `False`, all other numbers convert to `True`\n",
    "- `''` converts to `False`, all other strings convert to `True`\n",
    "- `None` converts to `False`"
   ]
  },
  {
   "cell_type": "code",
   "execution_count": null,
   "metadata": {},
   "outputs": [],
   "source": [
    "value = 0 # Here are examples considered False: 0, False, '', None\n",
    "# Here are examples considered True, 1, 42, 33.3, 'a'\n",
    "\n",
    "if value:\n",
    "    print(\"It is considered True\")\n",
    "else:\n",
    "    print(\"It is considered False\")\n"
   ]
  },
  {
   "cell_type": "code",
   "execution_count": null,
   "metadata": {},
   "outputs": [],
   "source": []
  }
 ],
 "metadata": {
  "kernelspec": {
   "display_name": "Python 3",
   "language": "python",
   "name": "python3"
  },
  "language_info": {
   "codemirror_mode": {
    "name": "ipython",
    "version": 3
   },
   "file_extension": ".py",
   "mimetype": "text/x-python",
   "name": "python",
   "nbconvert_exporter": "python",
   "pygments_lexer": "ipython3",
   "version": "3.7.3"
  },
  "toc": {
   "base_numbering": 1,
   "nav_menu": {},
   "number_sections": false,
   "sideBar": true,
   "skip_h1_title": false,
   "title_cell": "Table of Contents",
   "title_sidebar": "Contents",
   "toc_cell": false,
   "toc_position": {},
   "toc_section_display": true,
   "toc_window_display": true
  }
 },
 "nbformat": 4,
 "nbformat_minor": 2
}
