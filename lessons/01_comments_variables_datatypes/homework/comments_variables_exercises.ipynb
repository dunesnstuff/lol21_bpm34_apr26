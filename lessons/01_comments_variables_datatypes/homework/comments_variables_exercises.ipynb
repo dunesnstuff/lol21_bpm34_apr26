{
 "cells": [
  {
   "cell_type": "markdown",
   "metadata": {},
   "source": [
    "# Exercises: Comments and Variables\n",
    "\n",
    "In this exercise, we'll practice writing code to convert temperatures between Celsius and Fahrenheit, using simple assignments, simultaneous assignments, and compound assignments of variables and constants. \n",
    "\n",
    "The formula to convert temperatures from Celsius to Fahrenheit is (0°C × 9/5) + 32 = 32°F.\n",
    "\n",
    "The formula to convert temperatures from Fahrenheit to Celsius is (0°F − 32) × 5/9 = -17.78°C\n",
    "\n",
    "*Note that in other programming languages, \"constant variables\" are variables whose values cannot be changed after they have been initialized. Python does not support this feature, but it is conventional in Python programming to use variable names in all capital letters to indicate that that value should never be changed. It is not enforced by Python, however.*"
   ]
  },
  {
   "cell_type": "markdown",
   "metadata": {},
   "source": [
    "## Conversion Constants\n",
    "\n",
    "Create variables with descriptive names to store the conversion constants. \n",
    "\n",
    "There is a Celsius to Fahrenheit scaler, `9/5`, and an offset, `32`.\n",
    "\n",
    "Give them names in all capital letters to remind other programmers that these values should not be changed.\n",
    "\n",
    "Include a comment to point out that the scaler multiplies Celsius temperatures to convert to Fahrenheit and divides Fahrenheit temperatures to convert to Celsius. Include a similar comment for the offset."
   ]
  },
  {
   "cell_type": "code",
   "execution_count": null,
   "metadata": {
    "ExecuteTime": {
     "end_time": "2019-10-14T21:14:33.327967Z",
     "start_time": "2019-10-14T21:14:33.316805Z"
    }
   },
   "outputs": [],
   "source": []
  },
  {
   "cell_type": "markdown",
   "metadata": {},
   "source": [
    "## Conversion Calculations\n",
    "\n",
    "Create variables to store two temperatures, one in Celsius and one in Fahrenheit, and assign them the values 20 and 60. Hint: simultaneous assignment may be useful here.\n",
    "\n",
    "Print the values and units of the two original temperatures.\n",
    "\n",
    "Use compound assignment operators and the conversion constants to convert 20°C to Fahrenheit.\n",
    "\n",
    "Use compound assignment operators and the conversion constants to convert 60°F to Celsius.\n",
    "\n",
    "Use the simultaneous assignment operator to swap the values of our variables.\n",
    "\n",
    "Print the values and units of the two converted temperatures."
   ]
  },
  {
   "cell_type": "code",
   "execution_count": null,
   "metadata": {
    "ExecuteTime": {
     "end_time": "2019-10-14T21:24:22.025565Z",
     "start_time": "2019-10-14T21:24:22.016092Z"
    }
   },
   "outputs": [],
   "source": []
  },
  {
   "cell_type": "markdown",
   "metadata": {},
   "source": [
    "## Extra: Distance Conversions\n",
    "\n",
    "Do the same exercise to convert between miles and kilometers. Note that 1 miles is 1.6 kilometers."
   ]
  },
  {
   "cell_type": "code",
   "execution_count": null,
   "metadata": {},
   "outputs": [],
   "source": []
  }
 ],
 "metadata": {
  "kernelspec": {
   "display_name": "Python 3",
   "language": "python",
   "name": "python3"
  },
  "language_info": {
   "codemirror_mode": {
    "name": "ipython",
    "version": 3
   },
   "file_extension": ".py",
   "mimetype": "text/x-python",
   "name": "python",
   "nbconvert_exporter": "python",
   "pygments_lexer": "ipython3",
   "version": "3.7.3"
  },
  "toc": {
   "base_numbering": 1,
   "nav_menu": {},
   "number_sections": true,
   "sideBar": true,
   "skip_h1_title": false,
   "title_cell": "Table of Contents",
   "title_sidebar": "Contents",
   "toc_cell": false,
   "toc_position": {},
   "toc_section_display": true,
   "toc_window_display": false
  }
 },
 "nbformat": 4,
 "nbformat_minor": 2
}
