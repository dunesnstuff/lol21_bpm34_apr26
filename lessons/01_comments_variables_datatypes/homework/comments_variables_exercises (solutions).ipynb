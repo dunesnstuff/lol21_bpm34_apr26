{
 "cells": [
  {
   "cell_type": "markdown",
   "metadata": {},
   "source": [
    "# Exercises: Comments and Variables\n",
    "\n",
    "In this exercise, we'll practice writing code to convert temperatures between Celsius and Fahrenheit, using simple assignments, simultaneous assignments, and compound assignments of variables and constants. \n",
    "\n",
    "The formula to convert temperatures from Celsius to Fahrenheit is (0°C × 9/5) + 32 = 32°F.\n",
    "\n",
    "The formula to convert temperatures from Fahrenheit to Celsisu is (0°F − 32) × 5/9 = -17.78°C\n",
    "\n",
    "*Note that in other programming languages, \"constant variables\" are variables whose values cannot be changed after they have been initialized. Python does not support this feature, but it is conventional in Python programming to use variable names in all capital letters to indicate that that value should never be changed. It is not enforced by Python, however.*"
   ]
  },
  {
   "cell_type": "markdown",
   "metadata": {},
   "source": [
    "## Conversion Constants\n",
    "\n",
    "Create variables with descriptive names to store the conversion constants. \n",
    "\n",
    "There is a Celsius to Fahrenheit scaler, `9/5`, and an offset, `32`.\n",
    "\n",
    "Give them names in all capital letters to remind other programmers that these values should not be changed.\n",
    "\n",
    "Include a comment to point out that the scaler multiplies Celsius temperatures to convert to Fahrenheit and divides Fahrenheit temperatures to convert to Celsius. Include a similar comment for the offset."
   ]
  },
  {
   "cell_type": "code",
   "execution_count": null,
   "metadata": {},
   "outputs": [],
   "source": [
    "C_TO_F_SCALER = 9/5  # multiplies C temperatures to convert to F\n",
    "OFFSET = 32   # added to scaled C temperatures to convert to F"
   ]
  },
  {
   "cell_type": "markdown",
   "metadata": {},
   "source": [
    "## Conversion Calculations\n",
    "\n",
    "Create variables to store two temperatures, one in Celsius and one in Fahrenheit, and assign them the values 20 and 60. Hint: simultaneous assignment may be useful here.\n",
    "\n",
    "Print the values and units of the two original temperatures.\n",
    "\n",
    "Use compound assignment operators and the conversion constants to convert 20°C to Fahrenheit.\n",
    "\n",
    "Use compound assignment operators and the conversion constants to convert 60°F to Celsius.\n",
    "\n",
    "Use the simultaneous assignment operator to swap the values of our variables.\n",
    "\n",
    "Print the values and units of the two converted temperatures."
   ]
  },
  {
   "cell_type": "code",
   "execution_count": null,
   "metadata": {},
   "outputs": [],
   "source": [
    "c, f = 20, 60\n",
    "\n",
    "print(\"Temperature 1 (C) = \", c)\n",
    "print(\"Temperature 2 (F) = \", f)\n",
    "\n",
    "c *= C_TO_F_SCALER\n",
    "c += OFFSET\n",
    "\n",
    "f -= OFFSET\n",
    "f /= C_TO_F_SCALER\n",
    "\n",
    "c, f = f, c\n",
    "\n",
    "print(\"Temperature 1 (F) = \", f)\n",
    "print(\"Temperature 2 (C) = \", c)"
   ]
  },
  {
   "cell_type": "markdown",
   "metadata": {},
   "source": [
    "## Extra: Distance Conversions\n",
    "\n",
    "Do the same exercise to convert 100 miles to kilometers, and 100 kilometers to miles."
   ]
  },
  {
   "cell_type": "code",
   "execution_count": null,
   "metadata": {},
   "outputs": [],
   "source": [
    "conversion = 1.6 # 1 mile is 1.6 kms\n",
    "\n",
    "miles_1 = 100\n",
    "kms_1 = miles_1*conversion\n",
    "print(miles_1,'miles is equal to',kms_1,'kms')\n",
    "\n",
    "kms_2 = 100\n",
    "miles_2 = kms_2/conversion\n",
    "print(kms_2,'kms is equal to',miles_2,'miles')"
   ]
  },
  {
   "cell_type": "code",
   "execution_count": null,
   "metadata": {},
   "outputs": [],
   "source": []
  }
 ],
 "metadata": {
  "kernelspec": {
   "display_name": "Python 3",
   "language": "python",
   "name": "python3"
  },
  "language_info": {
   "codemirror_mode": {
    "name": "ipython",
    "version": 3
   },
   "file_extension": ".py",
   "mimetype": "text/x-python",
   "name": "python",
   "nbconvert_exporter": "python",
   "pygments_lexer": "ipython3",
   "version": "3.7.3"
  },
  "toc": {
   "base_numbering": 1,
   "nav_menu": {},
   "number_sections": true,
   "sideBar": true,
   "skip_h1_title": false,
   "title_cell": "Table of Contents",
   "title_sidebar": "Contents",
   "toc_cell": false,
   "toc_position": {},
   "toc_section_display": true,
   "toc_window_display": true
  }
 },
 "nbformat": 4,
 "nbformat_minor": 2
}
