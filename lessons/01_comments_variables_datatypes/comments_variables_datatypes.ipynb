{
 "cells": [
  {
   "cell_type": "markdown",
   "metadata": {},
   "source": [
    "# Comments, Variables and Basic Data Types\n",
    "\n",
    "In this notebook we will: \n",
    "- Write our first code\n",
    "- Understand what `Comments` are\n",
    "- Learn how to use `Variables`\n",
    "- Work with `Basic Data Types`"
   ]
  },
  {
   "cell_type": "markdown",
   "metadata": {},
   "source": [
    "### Our First Code"
   ]
  },
  {
   "cell_type": "markdown",
   "metadata": {},
   "source": [
    "Let's start by writing our first code which prints the string `Hello World!`. "
   ]
  },
  {
   "cell_type": "code",
   "execution_count": null,
   "metadata": {},
   "outputs": [],
   "source": [
    "print('Hello World!')"
   ]
  },
  {
   "cell_type": "markdown",
   "metadata": {},
   "source": [
    "To execute the code in the above cell, select it with a click and then either press the **RUN** button at the top, or use the keyboard shortcut **Shft+Enter**. To edit the code, just click the cell and start editing.\n",
    "\n",
    "Spend a few minutes editing the text above to print anything like your name, a sentence, etc."
   ]
  },
  {
   "cell_type": "markdown",
   "metadata": {},
   "source": [
    "### Comments"
   ]
  },
  {
   "cell_type": "markdown",
   "metadata": {},
   "source": [
    "Comments are lines of code that allow coders to communicate about how things work, or why decisions have been made in certain ways.  Anything after a `#` is a comment and is ignored when the code is run. "
   ]
  },
  {
   "cell_type": "code",
   "execution_count": null,
   "metadata": {},
   "outputs": [],
   "source": [
    "# comments are lines of code that do not get executed \n",
    "# comments guide the code reader in undestanding the code"
   ]
  },
  {
   "cell_type": "markdown",
   "metadata": {},
   "source": [
    "### Variables"
   ]
  },
  {
   "cell_type": "markdown",
   "metadata": {},
   "source": [
    "There are many types of variables such as `integers`, `floats`, `strings`, `complex`, `boolean`, `None`, etc.  These variables get assigned to a variable name using the `=` sign.  Almost any name can be used for variable names; however, it is best practice to use names that are clear to understand."
   ]
  },
  {
   "cell_type": "code",
   "execution_count": null,
   "metadata": {},
   "outputs": [],
   "source": [
    "a = 1 # assign values with the '=' sign\n",
    "type(a) # type is a function that indicates the type of the variable"
   ]
  },
  {
   "cell_type": "markdown",
   "metadata": {},
   "source": [
    "It is preferable to use variable names that are descriptive.  e.g. it is not clear what `a` is supposed to be; however, `age` is more intuitive."
   ]
  },
  {
   "cell_type": "code",
   "execution_count": null,
   "metadata": {},
   "outputs": [],
   "source": [
    "age = 21 # the variable name 'age' is more descriptive\n",
    "type(age)"
   ]
  },
  {
   "cell_type": "markdown",
   "metadata": {},
   "source": [
    "It is best practice to use __ALL CAPS__ for variable names that should not be modified."
   ]
  },
  {
   "cell_type": "code",
   "execution_count": null,
   "metadata": {},
   "outputs": [],
   "source": [
    "PI = 3.14 \n",
    "type(PI)"
   ]
  },
  {
   "cell_type": "markdown",
   "metadata": {},
   "source": [
    "There are several types of variables"
   ]
  },
  {
   "cell_type": "code",
   "execution_count": null,
   "metadata": {},
   "outputs": [],
   "source": [
    "int_example = 1\n",
    "\n",
    "# the code below is known as an f-string formatting that allows you to insert variables within strings\n",
    "print(f\"The value {int_example} is a {type(int_example)}\")"
   ]
  },
  {
   "cell_type": "code",
   "execution_count": null,
   "metadata": {},
   "outputs": [],
   "source": [
    "float_example = 3.2\n",
    "print(f\"The value {float_example} is a {type(float_example)}\")"
   ]
  },
  {
   "cell_type": "code",
   "execution_count": null,
   "metadata": {},
   "outputs": [],
   "source": [
    "complex_example = 3+2j # not commonly used in Data Science\n",
    "print(f\"The value {complex_example} is a {type(complex_example)}\")"
   ]
  },
  {
   "cell_type": "code",
   "execution_count": null,
   "metadata": {},
   "outputs": [],
   "source": [
    "string_example = \"Hello World!\" # you can use single '...' or double \"...\" quotes\n",
    "print(f\"The value {string_example} is a {type(string_example)}\")"
   ]
  },
  {
   "cell_type": "code",
   "execution_count": null,
   "metadata": {},
   "outputs": [],
   "source": [
    "bool_example = True # booleans can only be True or False\n",
    "print(f\"The value {bool_example} is a {type(bool_example)}\")"
   ]
  },
  {
   "cell_type": "code",
   "execution_count": null,
   "metadata": {},
   "outputs": [],
   "source": [
    "none_example = None\n",
    "print(f\"The value {none_example} is a {type(none_example)}\")"
   ]
  },
  {
   "cell_type": "markdown",
   "metadata": {},
   "source": [
    "What do you think the lines below will print?\n"
   ]
  },
  {
   "cell_type": "code",
   "execution_count": null,
   "metadata": {},
   "outputs": [],
   "source": [
    "print(type(10))\n",
    "print(type('10'))"
   ]
  },
  {
   "cell_type": "markdown",
   "metadata": {},
   "source": [
    "Note that there is a difference, if the numbers is inside the `'...'` then Python interprets it as a string."
   ]
  },
  {
   "cell_type": "markdown",
   "metadata": {},
   "source": [
    "We can also do type conversion. Guess what the output would be for each of the examples below?"
   ]
  },
  {
   "cell_type": "code",
   "execution_count": null,
   "metadata": {},
   "outputs": [],
   "source": [
    "print(int(10.7), type(int(10.7)))\n",
    "# print(float(3), type(float(3)))\n",
    "# print(str(3.6), type(str(3.6)))\n",
    "# print(int('a'), type(int('a')))\n",
    "# print(complex(7), type(complex(7)))\n",
    "# print(bool('True'), type(bool('True')))"
   ]
  },
  {
   "cell_type": "markdown",
   "metadata": {},
   "source": [
    "Variables are case sensitive (i.e. `var1` is not the same as `Var1`)"
   ]
  },
  {
   "cell_type": "code",
   "execution_count": null,
   "metadata": {},
   "outputs": [],
   "source": [
    "var1 = 10\n",
    "Var1 = 20\n",
    "print(var1)\n",
    "print(Var1)"
   ]
  },
  {
   "cell_type": "markdown",
   "metadata": {},
   "source": [
    "### Exercise\n",
    "\n",
    "Create the following variables:\n",
    "- `var1 = 10`\n",
    "- `var2 = 20`\n",
    "\n",
    "Swap the values of the variables (the solutions should work for any values of var1 and var2). "
   ]
  },
  {
   "cell_type": "code",
   "execution_count": null,
   "metadata": {},
   "outputs": [],
   "source": [
    "var1 = 10\n",
    "var2 = 20\n",
    "\n",
    "# Write code here\n"
   ]
  },
  {
   "cell_type": "markdown",
   "metadata": {},
   "source": [
    "### Variable Operations\n",
    "\n",
    "You can do many arithmetic operations."
   ]
  },
  {
   "cell_type": "code",
   "execution_count": null,
   "metadata": {},
   "outputs": [],
   "source": [
    "a = 3\n",
    "b = 2\n",
    "\n",
    "print(f\"Addition: {a+b}\")\n",
    "print(f\"Subtraction: {a-b}\")\n",
    "print(f\"Multiplication: {a*b}\")\n",
    "print(f\"Division: {a/b}\")\n",
    "print(f\"Floor Division: {a//b}\")\n",
    "print(f\"Modulus: {a%b}\") # remainder\n",
    "print(f\"Exponentiation: {a**b}\")"
   ]
  },
  {
   "cell_type": "markdown",
   "metadata": {},
   "source": [
    "Python will give an error as necessary (uncomment the code below)"
   ]
  },
  {
   "cell_type": "code",
   "execution_count": null,
   "metadata": {},
   "outputs": [],
   "source": [
    "1/0"
   ]
  },
  {
   "cell_type": "markdown",
   "metadata": {},
   "source": [
    "### Exercise\n",
    "\n",
    "Knowing that 1 kgs is 2.2 lbs.  How many lbs is 78 kgs?\n",
    "\n",
    "Your result should be `171.6 lbs`"
   ]
  },
  {
   "cell_type": "markdown",
   "metadata": {},
   "source": [
    "### Exercise\n",
    "* Create a variable called `PI` that has a value of 3.14.\n",
    "* Create a variable called `radius` that has a value of 5.\n",
    "* Calculate the area of the circle and assign the value to a variable called `area`.\n",
    "\n",
    "Your result should be `78.5`"
   ]
  },
  {
   "cell_type": "code",
   "execution_count": null,
   "metadata": {},
   "outputs": [],
   "source": [
    "# Write code here\n",
    "\n",
    "\n"
   ]
  },
  {
   "cell_type": "code",
   "execution_count": null,
   "metadata": {},
   "outputs": [],
   "source": [
    "# Write code here\n",
    "\n",
    "\n"
   ]
  },
  {
   "cell_type": "code",
   "execution_count": null,
   "metadata": {},
   "outputs": [],
   "source": [
    "print(f\"The area of the circle with a radius of {radius} is equal to {area}\")"
   ]
  },
  {
   "cell_type": "markdown",
   "metadata": {},
   "source": [
    "### Exercise\n",
    "\n",
    "* Calculate the volume of a sphere with radius 5 and assign the value to a variable called `volume`.\n",
    "\n",
    "<center>$V=\\frac{4}{3} \\pi r^3$</center>\n",
    "\n",
    "Your result should be `523.33`"
   ]
  },
  {
   "cell_type": "code",
   "execution_count": null,
   "metadata": {},
   "outputs": [],
   "source": [
    "# Write code here\n",
    "\n",
    "\n"
   ]
  },
  {
   "cell_type": "code",
   "execution_count": null,
   "metadata": {},
   "outputs": [],
   "source": [
    "print(f\"The volume of the sphere with a radius of {radius} is equal to {volume}\")"
   ]
  },
  {
   "cell_type": "markdown",
   "metadata": {},
   "source": [
    "### Exercise\n",
    "\n",
    "Calculate the volume of a rectangle box with a height, width and depth of 5, 3 and 2, respectively.\n",
    "\n",
    "Your result should be `30`"
   ]
  },
  {
   "cell_type": "code",
   "execution_count": null,
   "metadata": {},
   "outputs": [],
   "source": [
    "# Write code here\n",
    "\n",
    "\n"
   ]
  },
  {
   "cell_type": "code",
   "execution_count": null,
   "metadata": {},
   "outputs": [],
   "source": [
    "print(f\"The volume of the rectangle is equal to {volume}\")"
   ]
  },
  {
   "cell_type": "markdown",
   "metadata": {},
   "source": [
    "Python also allows you to do compound assignments.  "
   ]
  },
  {
   "cell_type": "code",
   "execution_count": null,
   "metadata": {},
   "outputs": [],
   "source": [
    "i = 0\n",
    "print(i)"
   ]
  },
  {
   "cell_type": "code",
   "execution_count": null,
   "metadata": {},
   "outputs": [],
   "source": [
    "i += 2 # i = i + 2 Note that i= +2 is assigning the value positive 2 to i\n",
    "print(i)"
   ]
  },
  {
   "cell_type": "code",
   "execution_count": null,
   "metadata": {},
   "outputs": [],
   "source": [
    "i -= 1 # i = i - 1 \n",
    "print(i)"
   ]
  },
  {
   "cell_type": "code",
   "execution_count": null,
   "metadata": {},
   "outputs": [],
   "source": [
    "i *= 4 # i = i * 4\n",
    "print(i)"
   ]
  },
  {
   "cell_type": "code",
   "execution_count": null,
   "metadata": {},
   "outputs": [],
   "source": [
    "i /= 2 # i = i / 2\n",
    "print(i)"
   ]
  },
  {
   "cell_type": "code",
   "execution_count": null,
   "metadata": {},
   "outputs": [],
   "source": [
    "i %= 1 # i = i % 1\n",
    "print(i)"
   ]
  },
  {
   "cell_type": "markdown",
   "metadata": {},
   "source": [
    "### Built in Functions\n",
    "\n",
    "Python comes with a few built in functions"
   ]
  },
  {
   "cell_type": "code",
   "execution_count": null,
   "metadata": {},
   "outputs": [],
   "source": [
    "abs(-3) # gets the absolute value"
   ]
  },
  {
   "cell_type": "markdown",
   "metadata": {},
   "source": [
    "Here are two ways of getting help.  You can also use Google and StackOverflow!"
   ]
  },
  {
   "cell_type": "code",
   "execution_count": null,
   "metadata": {},
   "outputs": [],
   "source": [
    "?abs \n",
    "\n",
    "# help(abs)"
   ]
  },
  {
   "cell_type": "code",
   "execution_count": null,
   "metadata": {},
   "outputs": [],
   "source": [
    "max(1,3,5) # finds the maximum value"
   ]
  },
  {
   "cell_type": "code",
   "execution_count": null,
   "metadata": {},
   "outputs": [],
   "source": [
    "min(10,100,1) # finds the minimum value"
   ]
  },
  {
   "cell_type": "code",
   "execution_count": null,
   "metadata": {},
   "outputs": [],
   "source": [
    "print(round(1.5)) # this round the number, note that you can use a second argument to indicate the number of decimals\n",
    "print(1/3)\n",
    "print(round(1/3,2))"
   ]
  },
  {
   "cell_type": "markdown",
   "metadata": {},
   "source": [
    "### Current variables"
   ]
  },
  {
   "cell_type": "markdown",
   "metadata": {},
   "source": [
    "Using **who** and **whos** you can find out what variables have been created, the type and their values."
   ]
  },
  {
   "cell_type": "code",
   "execution_count": null,
   "metadata": {},
   "outputs": [],
   "source": [
    "%who"
   ]
  },
  {
   "cell_type": "code",
   "execution_count": null,
   "metadata": {},
   "outputs": [],
   "source": [
    "%whos"
   ]
  },
  {
   "cell_type": "code",
   "execution_count": null,
   "metadata": {},
   "outputs": [],
   "source": []
  }
 ],
 "metadata": {
  "kernelspec": {
   "display_name": "Python 3",
   "language": "python",
   "name": "python3"
  },
  "language_info": {
   "codemirror_mode": {
    "name": "ipython",
    "version": 3
   },
   "file_extension": ".py",
   "mimetype": "text/x-python",
   "name": "python",
   "nbconvert_exporter": "python",
   "pygments_lexer": "ipython3",
   "version": "3.7.3"
  },
  "toc": {
   "base_numbering": 1,
   "nav_menu": {},
   "number_sections": false,
   "sideBar": true,
   "skip_h1_title": false,
   "title_cell": "Table of Contents",
   "title_sidebar": "Contents",
   "toc_cell": false,
   "toc_position": {},
   "toc_section_display": true,
   "toc_window_display": true
  }
 },
 "nbformat": 4,
 "nbformat_minor": 2
}
