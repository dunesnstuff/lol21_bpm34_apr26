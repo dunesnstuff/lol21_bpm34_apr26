{
 "cells": [
  {
   "cell_type": "markdown",
   "metadata": {},
   "source": [
    "# Python Comments, Variables and Variable Assignments"
   ]
  },
  {
   "cell_type": "markdown",
   "metadata": {},
   "source": [
    "__Purpose:__\n",
    "The purpose of this lecture is to illustrate some introductory topics in Python programming such as variables and assignments. \n",
    "\n",
    "__At the end of this lecture you will be able to:__\n",
    "1. Write basic Python commands using variable assignments, print statements and comments"
   ]
  },
  {
   "cell_type": "markdown",
   "metadata": {},
   "source": [
    "# Part A:  Introductory Topics for Python Programming"
   ]
  },
  {
   "cell_type": "markdown",
   "metadata": {},
   "source": [
    "## 1.1 Comments"
   ]
  },
  {
   "cell_type": "markdown",
   "metadata": {},
   "source": [
    "__Overview:__\n",
    "- Before we begin writing our first program, it is necessary to highlight an important concept for programming - [Comments](https://en.wikipedia.org/wiki/Comment_(computer_programming))\n",
    "- Comments are the way programmers annotate their programs with the intention of making it easy for other humans (and themselves) to understand\n",
    "- When a computer program is run, comments should be ignored or passed over. Therefore, we need a way of telling the [compiler](https://en.wikipedia.org/wiki/Compiler) or [interpreter](https://en.wikipedia.org/wiki/Interpreter_(computing)) that we are writing a comment and NOT actual code \n",
    "- Every computer programming language has different syntax to denote comments, but in Python the `#` (the hash character or [number sign](https://en.wikipedia.org/wiki/Number_sign)) symbol is used\n",
    "\n",
    "__Helpul Points:__\n",
    "1. There are certain universal guides for commenting that you should follow. In general, comments should explain WHY not WHAT (with some exceptions). For example, here are some uses of commenting:\n",
    "> a. Explaining something to the reader that may not be obvious<br>\n",
    "> b. Clarifying your intention behind a line or block of code<br>\n",
    "> c. Setting a reminder to change or input something in the future<br> \n",
    "2. Additionally, there are guides of how NOT to comment. For example, explaining every variable assignment is considered unnecessary and overkill \n",
    "3. See [this](https://blog.codinghorror.com/code-tells-you-how-comments-tell-you-why/) blogpost for a more philosophical discussion around commenting \n",
    "4. In Python, comments can only extend one line (__Single-Line Comments__). However, in the case of a function, an explanation of the function (\"docstring\") is given as a quasi __Multi-Line Comment__, but technically it is just a multi-line string denoted with triple quotes (`\"\"\"`)\n",
    "\n",
    "__Practice:__\n",
    "See below for some examples of commenting in Python"
   ]
  },
  {
   "cell_type": "markdown",
   "metadata": {},
   "source": [
    "### Example 1 (Single-Line Comment):"
   ]
  },
  {
   "cell_type": "code",
   "execution_count": null,
   "metadata": {},
   "outputs": [],
   "source": [
    "# this is a single-line comment "
   ]
  },
  {
   "cell_type": "markdown",
   "metadata": {},
   "source": [
    "Notice how when running the cell above, there is no output since the line is ignored by the interpreter"
   ]
  },
  {
   "cell_type": "markdown",
   "metadata": {},
   "source": [
    "### Example 2 (Multi-Line String/Comment):"
   ]
  },
  {
   "cell_type": "code",
   "execution_count": null,
   "metadata": {},
   "outputs": [],
   "source": [
    "\"\"\"\n",
    "this is a multi-line \n",
    "string that is used in \n",
    "functions to explain \n",
    "the purpose of the function\n",
    "and is sometimes considered \n",
    "a multi-line comment\n",
    "\"\"\""
   ]
  },
  {
   "cell_type": "markdown",
   "metadata": {},
   "source": [
    "Notice how when running the cell above, there is an output since the line is NOT ignored by the interpreter "
   ]
  },
  {
   "cell_type": "markdown",
   "metadata": {},
   "source": [
    "### Example 3 (Proper and Improper use of Comments):"
   ]
  },
  {
   "cell_type": "markdown",
   "metadata": {},
   "source": [
    "Examples of proper commenting:"
   ]
  },
  {
   "cell_type": "code",
   "execution_count": null,
   "metadata": {},
   "outputs": [],
   "source": [
    "# round the response to the nearest integer because a decimal value will not make sense for the following reason...\n",
    "# an array was chosen here instead of a dataframe for the following reason...\n",
    "# method 1 was chosen instead of method 2 although both were attempted, but in the end of method 1 performed better for the following reasons...\n",
    "# reversing the sentence is necessary because we are reading from right to left "
   ]
  },
  {
   "cell_type": "markdown",
   "metadata": {},
   "source": [
    "Why do you think these are examples of proper commenting? "
   ]
  },
  {
   "cell_type": "markdown",
   "metadata": {},
   "source": [
    "Examples of improper commenting:"
   ]
  },
  {
   "cell_type": "code",
   "execution_count": null,
   "metadata": {},
   "outputs": [],
   "source": [
    "# a is set to the value of 1\n",
    "# the variable gordon is a string \n",
    "# the following loop iterates over 100 values\n",
    "# import this module because we will need the functions it contains"
   ]
  },
  {
   "cell_type": "markdown",
   "metadata": {},
   "source": [
    "Why do you think these are examples of improper commenting? "
   ]
  },
  {
   "cell_type": "markdown",
   "metadata": {},
   "source": [
    "### Example 4 (Ways of Commenting in Python): "
   ]
  },
  {
   "cell_type": "code",
   "execution_count": null,
   "metadata": {},
   "outputs": [],
   "source": [
    "# comment before the line like this\n",
    "a = 1\n",
    "\n",
    "a = 1 # comment at the end of the line like this \n",
    "\n",
    "a = 1\n",
    "# commenting after the line is possible although discouraged "
   ]
  },
  {
   "cell_type": "markdown",
   "metadata": {},
   "source": [
    "You can see that if the line begins with the hash symbol, it is considered a comment. "
   ]
  },
  {
   "cell_type": "markdown",
   "metadata": {},
   "source": [
    "### Example 5 (Hash Symbol Elsewhere):"
   ]
  },
  {
   "cell_type": "code",
   "execution_count": null,
   "metadata": {},
   "outputs": [],
   "source": [
    "a = \"this is called a string and the hash symbol (#) is now inrepreted as part of the string\"\n",
    "print(a)"
   ]
  },
  {
   "cell_type": "markdown",
   "metadata": {},
   "source": [
    "You can see that a hash symbol can also be intepreted as part of the string."
   ]
  },
  {
   "cell_type": "markdown",
   "metadata": {},
   "source": [
    "## 1.2 Variables in Python "
   ]
  },
  {
   "cell_type": "markdown",
   "metadata": {},
   "source": [
    "__Overview:__\n",
    "- A __[Variable](https://en.wikipedia.org/wiki/Variable_(computer_science))__ in programming is used to give a name to a value so that we can refer to it at other points in the program\n",
    "- Variables are most commonly used as part of Variable Assignments (see section below)\n",
    "\n",
    "__Helpful Points:__\n",
    "1. You have the luxury of naming variables according to any name you wish\n",
    "2. However, there are some constraints/rules you must follow:\n",
    ">a. Variable names are case sensitive so the variable `a` is different than the variable `A`<br>\n",
    ">b. There are a list of \"reserved\" names in Python that you should not use to name variables. You can find a complete list of reserved words [here](https://docs.python.org/2.5/ref/keywords.html). You will notice a variable name is a Python keyword because as you type it, the text will turn <font color=\"green\">green</font> <br>\n",
    ">c. Variable names must start with a letter or an underscore but the remainder of the variable can consist of letters, numbers and underscores<br>\n",
    ">d. Multi-variable names can not be separated by a dot (`.`) since this denotes a method \n",
    "3. Additionally, there are some best practices you should follow:\n",
    ">a. Multi-variable names are usually separated by an underscore (`clark_kent` is more readable than `clarkkent` or `ClarkKent`)<br>\n",
    ">b. Variable names should be descriptive and therefore random letters such as a, b, c (with the exception of i and j which are universally understood as rows and columns) should be avoided<br>\n",
    ">c. Avoid misleading letters such as the letter (`l`) since it looks remarkably similar to the number (`1`) and the capital letter (`O`) since it looks remarkably similar to the number (`0`)\n",
    "\n",
    "__Practice:__ Examples of variables in Python "
   ]
  },
  {
   "cell_type": "markdown",
   "metadata": {},
   "source": [
    "### Example 1 (Proper Variable Names):"
   ]
  },
  {
   "cell_type": "code",
   "execution_count": null,
   "metadata": {},
   "outputs": [],
   "source": [
    "# this is a proper variable name (although nothing is assigned to it so we receive an error)\n",
    "b = 2"
   ]
  },
  {
   "cell_type": "code",
   "execution_count": null,
   "metadata": {},
   "outputs": [],
   "source": [
    "# this is another proper variable name (although nothing is assigned to it so we receive an error)\n",
    "_b = 2"
   ]
  },
  {
   "cell_type": "code",
   "execution_count": null,
   "metadata": {},
   "outputs": [],
   "source": [
    "# this is another proper variable name (although nothing is assigned to it so we receive an error)\n",
    "_b123 = 2"
   ]
  },
  {
   "cell_type": "markdown",
   "metadata": {},
   "source": [
    "### Example 2 (Improper Variable Names):"
   ]
  },
  {
   "cell_type": "code",
   "execution_count": null,
   "metadata": {},
   "outputs": [],
   "source": [
    "# this is an improper variable name since it separates works by a dot \n",
    "clark.kent = 2"
   ]
  },
  {
   "cell_type": "code",
   "execution_count": null,
   "metadata": {},
   "outputs": [],
   "source": [
    "# this is another improper variable name since it is a reserved keyword in Python \n",
    "lambda = 2"
   ]
  },
  {
   "cell_type": "code",
   "execution_count": null,
   "metadata": {},
   "outputs": [],
   "source": [
    "# this is another improper variable name since it does not begin with an underscore or letter\n",
    "1a2 = 2"
   ]
  },
  {
   "cell_type": "markdown",
   "metadata": {},
   "source": [
    "### 1.3 Variable Assignment"
   ]
  },
  {
   "cell_type": "markdown",
   "metadata": {},
   "source": [
    "__Overview:__\n",
    "- Variables are best understood through Variable Assignments which is the technical act of assigning a value to the variable \n",
    "- The assignment operator in Python is denoted by the equal sign (`=`) \n",
    "- The variable appears on the left followed by the assignment operator and then the value you wish to assign to the variable (Variable Assingment works left to right)\n",
    "\n",
    "__Helpful Points:__\n",
    "1. When creating new variables and assigning values to the variables, ensure you follow the rules and best practices laid out in the previous section to avoid errors!\n",
    "2. Every variable you wish to work with must be assigned a value (even if the value is empty), otherwise you will receive an error\n",
    "3. To view the value of an assignment, simply type the variable name\n",
    "\n",
    "__Practice:__ Examples of Variables Assignments in Python "
   ]
  },
  {
   "cell_type": "markdown",
   "metadata": {},
   "source": [
    "### Part 1: Simple Examples"
   ]
  },
  {
   "cell_type": "markdown",
   "metadata": {},
   "source": [
    "### Example 1.1 (Non-Empty Variable Assignments with no Errors):"
   ]
  },
  {
   "cell_type": "code",
   "execution_count": null,
   "metadata": {},
   "outputs": [],
   "source": [
    "full_name = \"Clark Kent\"\n",
    "birthday_month = \"April\" # Superman's birthday is April 18, 1938 (unconfirmed)\n",
    "\n",
    "print('full_name is equal to',full_name)\n",
    "print('birthday_month is equal to',birthday_month)"
   ]
  },
  {
   "cell_type": "markdown",
   "metadata": {},
   "source": [
    "We can interpret these variable assignments in the following way:\n",
    "- full_name IS \"Clark Kent\"\n",
    "- birthday_month IS \"April\""
   ]
  },
  {
   "cell_type": "code",
   "execution_count": null,
   "metadata": {},
   "outputs": [],
   "source": [
    "full_name"
   ]
  },
  {
   "cell_type": "code",
   "execution_count": null,
   "metadata": {},
   "outputs": [],
   "source": [
    "birthday_month"
   ]
  },
  {
   "cell_type": "code",
   "execution_count": null,
   "metadata": {},
   "outputs": [],
   "source": [
    "print(full_name,'was born in the month of',birthday_month)"
   ]
  },
  {
   "cell_type": "code",
   "execution_count": null,
   "metadata": {},
   "outputs": [],
   "source": [
    "# change the values of the variables we created above \n",
    "full_name = \"Bruce Wayne\" \n",
    "\n",
    "print('full_name is equal to',full_name)\n",
    "print('birthday_month is STILL equal to',birthday_month)"
   ]
  },
  {
   "cell_type": "markdown",
   "metadata": {},
   "source": [
    "After a variable is assigned to a value, you can always override that value by re-assigning the variable to a NEW value. "
   ]
  },
  {
   "cell_type": "markdown",
   "metadata": {},
   "source": [
    "### Example 1.2 (Non-Empty Variable Assignments with Errors):"
   ]
  },
  {
   "cell_type": "code",
   "execution_count": null,
   "metadata": {},
   "outputs": [],
   "source": [
    "False = \"Clark Kent\""
   ]
  },
  {
   "cell_type": "markdown",
   "metadata": {},
   "source": [
    "Why do we get this error here?"
   ]
  },
  {
   "cell_type": "code",
   "execution_count": null,
   "metadata": {},
   "outputs": [],
   "source": [
    "0 = \"Clark\""
   ]
  },
  {
   "cell_type": "markdown",
   "metadata": {},
   "source": [
    "Why do we get this error here?"
   ]
  },
  {
   "cell_type": "code",
   "execution_count": null,
   "metadata": {},
   "outputs": [],
   "source": [
    "\"\" = \"April\""
   ]
  },
  {
   "cell_type": "markdown",
   "metadata": {},
   "source": [
    "Why do we get this error here?"
   ]
  },
  {
   "cell_type": "markdown",
   "metadata": {},
   "source": [
    "### Example 1.3 (Empty Variable Assignments with no Errors):"
   ]
  },
  {
   "cell_type": "code",
   "execution_count": null,
   "metadata": {},
   "outputs": [],
   "source": [
    "clark_age = \"\""
   ]
  },
  {
   "cell_type": "code",
   "execution_count": null,
   "metadata": {},
   "outputs": [],
   "source": [
    "clark_age"
   ]
  },
  {
   "cell_type": "markdown",
   "metadata": {},
   "source": [
    "A variable MUST have a value assigned to it, but the value CAN be empty."
   ]
  },
  {
   "cell_type": "markdown",
   "metadata": {},
   "source": [
    "### Part 2: Advanced Examples"
   ]
  },
  {
   "cell_type": "markdown",
   "metadata": {},
   "source": [
    "### Example 2.1 (Chained Assignments): "
   ]
  },
  {
   "cell_type": "markdown",
   "metadata": {},
   "source": [
    "__[Chained Assignments](https://en.wikipedia.org/wiki/Assignment_(computer_science)):__ This feature in Python allows one to assign the same value to multiple variables at once.\n",
    "- Chained Assignments are most commonly used to initialize multiple variables all at once (i.e. i = j = k = 1)"
   ]
  },
  {
   "cell_type": "code",
   "execution_count": null,
   "metadata": {},
   "outputs": [],
   "source": [
    "clark = bruce = \"superheroes\""
   ]
  },
  {
   "cell_type": "code",
   "execution_count": null,
   "metadata": {},
   "outputs": [],
   "source": [
    "clark"
   ]
  },
  {
   "cell_type": "code",
   "execution_count": null,
   "metadata": {},
   "outputs": [],
   "source": [
    "bruce"
   ]
  },
  {
   "cell_type": "markdown",
   "metadata": {},
   "source": [
    "### Example 2.2 (Simultaneous Assignments):"
   ]
  },
  {
   "cell_type": "markdown",
   "metadata": {},
   "source": [
    "__[Simultaneous Assignments](https://en.wikipedia.org/wiki/Assignment_(computer_science)):__ This feature in Python allows one to assign multiple values to multiple variables at once \n",
    "- Simultaneous Assignments makes \"trading\" values between variables very efficient "
   ]
  },
  {
   "cell_type": "code",
   "execution_count": null,
   "metadata": {},
   "outputs": [],
   "source": [
    "a, b = 1, 2"
   ]
  },
  {
   "cell_type": "code",
   "execution_count": null,
   "metadata": {},
   "outputs": [],
   "source": [
    "a"
   ]
  },
  {
   "cell_type": "code",
   "execution_count": null,
   "metadata": {},
   "outputs": [],
   "source": [
    "b"
   ]
  },
  {
   "cell_type": "code",
   "execution_count": null,
   "metadata": {},
   "outputs": [],
   "source": [
    "# trading values between variables (without the use of simultaneous assignments)\n",
    "a = 1 \n",
    "b = 2\n",
    "temp = a\n",
    "a = b\n",
    "b = temp "
   ]
  },
  {
   "cell_type": "code",
   "execution_count": null,
   "metadata": {},
   "outputs": [],
   "source": [
    "a"
   ]
  },
  {
   "cell_type": "code",
   "execution_count": null,
   "metadata": {},
   "outputs": [],
   "source": [
    "b"
   ]
  },
  {
   "cell_type": "code",
   "execution_count": null,
   "metadata": {},
   "outputs": [],
   "source": [
    "# trading values between variables (with the use of simultaneous assignments)\n",
    "a = 1 \n",
    "b = 2\n",
    "a,b = b,a"
   ]
  },
  {
   "cell_type": "code",
   "execution_count": null,
   "metadata": {},
   "outputs": [],
   "source": [
    "a"
   ]
  },
  {
   "cell_type": "code",
   "execution_count": null,
   "metadata": {},
   "outputs": [],
   "source": [
    "b"
   ]
  },
  {
   "cell_type": "markdown",
   "metadata": {},
   "source": [
    "Note: there is a lot going in behind the scenes in this \"trading\" example that you will have to wait for a future lecture to understand since it involves the concepts of packing and unpacking. "
   ]
  },
  {
   "cell_type": "markdown",
   "metadata": {},
   "source": [
    "### Example 2.3 (Compound Assignments):"
   ]
  },
  {
   "cell_type": "markdown",
   "metadata": {},
   "source": [
    "__[Compound Assignments](https://en.wikipedia.org/wiki/Assignment_(computer_science)):__ This feature in Python allows one to perform an operation AND assignment in one step.\n",
    "- Compound Assignments are most commonly used in loops to perform increments \n",
    "- The most common Compound Assignments are `+=`, `-=`, `*=`, `/=`, `%=`\n",
    "- The Compound Assignment is read left to right (operation performed first and then the values is assigned using the assignment operator)"
   ]
  },
  {
   "cell_type": "code",
   "execution_count": null,
   "metadata": {},
   "outputs": [],
   "source": [
    "i = 0\n",
    "i += 1 # i = i + 1 \n",
    "i -= 1 # i = i - 1 \n",
    "i *= 1 # i = i * 1\n",
    "i /= 1 # i = i / 1\n",
    "i %= 1 # i = i % 1"
   ]
  },
  {
   "cell_type": "markdown",
   "metadata": {},
   "source": [
    "Take special note of the difference between `+=` and `=+`. The former is a compound assignment, whereas the later is a simple assignment and the addition sign implies the sign of the value that is being assigned to the variable:"
   ]
  },
  {
   "cell_type": "markdown",
   "metadata": {},
   "source": [
    "### Example 2.3.1 (Using compound assignment with `+=`):"
   ]
  },
  {
   "cell_type": "code",
   "execution_count": null,
   "metadata": {},
   "outputs": [],
   "source": [
    "i = 3"
   ]
  },
  {
   "cell_type": "code",
   "execution_count": null,
   "metadata": {},
   "outputs": [],
   "source": [
    "i += 1 # i = i + 1"
   ]
  },
  {
   "cell_type": "code",
   "execution_count": null,
   "metadata": {},
   "outputs": [],
   "source": [
    "i # i has been incremented by 1 "
   ]
  },
  {
   "cell_type": "markdown",
   "metadata": {},
   "source": [
    "### Example 2.3.2 (Using simple assignments with `=+`):"
   ]
  },
  {
   "cell_type": "code",
   "execution_count": null,
   "metadata": {},
   "outputs": [],
   "source": [
    "i = 3"
   ]
  },
  {
   "cell_type": "code",
   "execution_count": null,
   "metadata": {},
   "outputs": [],
   "source": [
    "i =+ 1 # i = +1"
   ]
  },
  {
   "cell_type": "code",
   "execution_count": null,
   "metadata": {
    "scrolled": true
   },
   "outputs": [],
   "source": [
    "i # i has been re-assigned to be 1"
   ]
  },
  {
   "cell_type": "markdown",
   "metadata": {},
   "source": [
    "### Problem 1:\n",
    "Create 4 variables called `a`, `b`, `c`, `d` and assign them values of 10, 20, 30, and 40 respectively\n",
    "\n",
    "- Show the outputs of these 4 variables\n",
    "- __BONUS__: try using simultaneous assignments"
   ]
  },
  {
   "cell_type": "code",
   "execution_count": null,
   "metadata": {},
   "outputs": [],
   "source": [
    "# Write your code here\n",
    "\n",
    "\n",
    "\n"
   ]
  },
  {
   "cell_type": "markdown",
   "metadata": {},
   "source": [
    "### Problem 2:\n",
    "Increment (add to) your variables called `a`, `b`, `c`, `d` by 5 using Compound Assignments\n",
    "\n",
    "- Show the outputs of these 4 variables"
   ]
  },
  {
   "cell_type": "code",
   "execution_count": null,
   "metadata": {},
   "outputs": [],
   "source": [
    "# Write your code here\n",
    "\n",
    "\n",
    "\n"
   ]
  },
  {
   "cell_type": "markdown",
   "metadata": {},
   "source": [
    "# SOLUTIONS"
   ]
  },
  {
   "cell_type": "markdown",
   "metadata": {},
   "source": [
    "### Problem 1:\n",
    "Create 4 variables called `a`, `b`, `c`, `d` and assign them values of 10, 20, 30, and 40 respectively\n",
    "\n",
    "- Show the outputs of these 4 variables\n",
    "- __BONUS__: try using simultaneous assignments"
   ]
  },
  {
   "cell_type": "code",
   "execution_count": null,
   "metadata": {},
   "outputs": [],
   "source": [
    "# Method 1\n",
    "a = 10\n",
    "b = 20 \n",
    "c = 30 \n",
    "d = 40"
   ]
  },
  {
   "cell_type": "code",
   "execution_count": null,
   "metadata": {},
   "outputs": [],
   "source": [
    "print(a,b,c,d)"
   ]
  },
  {
   "cell_type": "code",
   "execution_count": null,
   "metadata": {},
   "outputs": [],
   "source": [
    "# Method 2\n",
    "a, b, c, d = 10, 20, 30, 40"
   ]
  },
  {
   "cell_type": "code",
   "execution_count": null,
   "metadata": {
    "scrolled": true
   },
   "outputs": [],
   "source": [
    "print(\"a is\",a,\", b is\",b,\", c is\",c,\", d is\",d)"
   ]
  },
  {
   "cell_type": "markdown",
   "metadata": {},
   "source": [
    "### Problem 2:\n",
    "Increment (add to) your variables called `a`, `b`, `c`, `d` by 5 using Compound Assignments\n",
    "\n",
    "- Show the outputs of these 4 variables"
   ]
  },
  {
   "cell_type": "code",
   "execution_count": null,
   "metadata": {},
   "outputs": [],
   "source": [
    "a += 5\n",
    "b += 5\n",
    "c += 5\n",
    "d += 5"
   ]
  },
  {
   "cell_type": "code",
   "execution_count": null,
   "metadata": {},
   "outputs": [],
   "source": [
    "print(\"a is now\",a,\", b is now\",b,\", c is now\",c,\", d is now\",d)"
   ]
  },
  {
   "cell_type": "code",
   "execution_count": null,
   "metadata": {},
   "outputs": [],
   "source": []
  }
 ],
 "metadata": {
  "kernelspec": {
   "display_name": "Python 3",
   "language": "python",
   "name": "python3"
  },
  "language_info": {
   "codemirror_mode": {
    "name": "ipython",
    "version": 3
   },
   "file_extension": ".py",
   "mimetype": "text/x-python",
   "name": "python",
   "nbconvert_exporter": "python",
   "pygments_lexer": "ipython3",
   "version": "3.7.3"
  },
  "toc": {
   "base_numbering": 1,
   "nav_menu": {},
   "number_sections": true,
   "sideBar": true,
   "skip_h1_title": false,
   "title_cell": "Table of Contents",
   "title_sidebar": "Contents",
   "toc_cell": false,
   "toc_position": {},
   "toc_section_display": true,
   "toc_window_display": false
  }
 },
 "nbformat": 4,
 "nbformat_minor": 2
}
