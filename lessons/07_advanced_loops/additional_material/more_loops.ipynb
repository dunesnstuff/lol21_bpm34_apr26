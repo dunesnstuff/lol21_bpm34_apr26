{
 "cells": [
  {
   "cell_type": "markdown",
   "metadata": {},
   "source": [
    "# Loops"
   ]
  },
  {
   "cell_type": "markdown",
   "metadata": {},
   "source": [
    "__Purpose:__\n",
    "The purpose of this lecture is to explore loops in Python. \n",
    "\n",
    "__At the end of this lecture you will be able to:__\n",
    "1. Understand the definition of iterables\n",
    "2. Work with __for loops__ and __while loops__\n",
    "3. Other looping concepts such as break, continue, pass and else\n",
    "4. Advanced mechanisms such as enumerate\n",
    "5. OPTIONAL: work with extended functionalities in the itertools library"
   ]
  },
  {
   "cell_type": "markdown",
   "metadata": {},
   "source": [
    "## 1.1 Loops "
   ]
  },
  {
   "cell_type": "markdown",
   "metadata": {},
   "source": [
    "### 1.1.1 What are Loops?"
   ]
  },
  {
   "cell_type": "markdown",
   "metadata": {},
   "source": [
    "__Overview:__\n",
    "- __Loops__: Loops are another cornerstone of programming and allow programmers to repeat steps multiple times until some condition is met or the condition has reached the pre-specified number of iterations \n",
    "- The condition in a loop is important as it determines how long the loop will run for \n",
    "- After each __[iteration](https://en.wikipedia.org/wiki/Iteration)__, the loop checks the condition. If the condition tells the loop to continue, another iteration will commence. If the condition tells the loop to stop, the loop will end. \n",
    "- For example, if you wanted to print \"Hello World\" 10 times, you can easily write 10 statements that look like this: `print(\"Hello World\")`, but this would not be the most efficient way of performing this task\n",
    "- Instead, you can leverage a loop to repeat the statement `print(\"Hello World\")` by enclosing the statemenet in a loop and telling the loop to repeat this task 10 times \n",
    "\n",
    "__Helpful Points:__\n",
    "1. Any time you find yourself having to repeat a step more than once, you should consider using a loop\n",
    "2. Common uses of loops are cycling through the rows and columns of tables, summing numbers, counting items, etc. \n",
    "3. Recall the fourth sequence type (the range type) which is represented as `range()`\n",
    "\n",
    "__Practice:__ Examples of for loops are necessary in Python "
   ]
  },
  {
   "cell_type": "markdown",
   "metadata": {},
   "source": [
    "### Example 1 (Printing Statements):"
   ]
  },
  {
   "cell_type": "code",
   "execution_count": null,
   "metadata": {
    "scrolled": true
   },
   "outputs": [],
   "source": [
    "# print \"Hello World\" 10 times without using a loop\n",
    "print(\"Hello World\")\n",
    "print(\"Hello World\")\n",
    "print(\"Hello World\")\n",
    "print(\"Hello World\")\n",
    "print(\"Hello World\")\n",
    "print(\"Hello World\")\n",
    "print(\"Hello World\")\n",
    "print(\"Hello World\")\n",
    "print(\"Hello World\")\n",
    "print(\"Hello World\")"
   ]
  },
  {
   "cell_type": "code",
   "execution_count": null,
   "metadata": {},
   "outputs": [],
   "source": [
    "# print \"Hello World\" 10 times with using a loop\n",
    "for i in range(10):\n",
    "    print(\"Hello World\")"
   ]
  },
  {
   "cell_type": "markdown",
   "metadata": {},
   "source": [
    "### Example 2 (Summing Numbers):"
   ]
  },
  {
   "cell_type": "code",
   "execution_count": null,
   "metadata": {},
   "outputs": [],
   "source": [
    "# sum the numbers in a list without using a loop\n",
    "my_list = [1, 2, 3]\n",
    "sum_list = 0\n",
    "sum_list += my_list[0]\n",
    "sum_list += my_list[1]\n",
    "sum_list += my_list[2]\n",
    "\n",
    "print(sum_list)"
   ]
  },
  {
   "cell_type": "code",
   "execution_count": null,
   "metadata": {},
   "outputs": [],
   "source": [
    "# sum the numbers in a list with using a loop\n",
    "my_list = [1, 2, 3]\n",
    "sum_list = 0\n",
    "for num in my_list:\n",
    "    sum_list += num\n",
    "\n",
    "print(sum_list)"
   ]
  },
  {
   "cell_type": "markdown",
   "metadata": {},
   "source": [
    "Don't worry about the specific syntax in these 2 examples above, instead observe the use cases of loops and understand why they are beneficial and how they simplify programs substantially "
   ]
  },
  {
   "cell_type": "markdown",
   "metadata": {},
   "source": [
    "### 1.1.2 Types of Loops in Python "
   ]
  },
  {
   "cell_type": "markdown",
   "metadata": {},
   "source": [
    "__Overview:__\n",
    "- Depending on the programming language, there may be different tpes of supported loops (i.e. for, while, do while, for each, etc.) \n",
    "- However, in Python, there are 2 main types of loops that are used: the `for` loop and the `while` loop\n",
    "- Similar to If Statements, Python does not require parentheses `(` and `)` to enclose the sequence\n",
    "- However, Python does require a colon (`:`) similar to If Statements as well as 4-space indentation to denote the code block \n",
    "\n",
    "__Helpful Points:__\n",
    "1. `for` loops are typically used to iterate over a sequence of data \n",
    "2. `while` loop are typically used to repeat a task until the condition is evaluated as `False` \n",
    "3. In most cases, `for` and `while` loops can be used interchangeably, although there is usually a \"better\" choice to make"
   ]
  },
  {
   "cell_type": "markdown",
   "metadata": {},
   "source": [
    "### 1.1.3 Iterable Definition in Python "
   ]
  },
  {
   "cell_type": "markdown",
   "metadata": {},
   "source": [
    "__Overview:__\n",
    "- Before we get into `for` loops, we have to explore the concept of an `iterable` to understand what types of objects can be used in loops to iterate over \n",
    "- __[Iterable](https://docs.python.org/3/glossary.html#term-iterable):__ An Iterable is an object capable of returning its members one at a time\n",
    "- Examples of Iterable objects in Python:\n",
    "> 1. All Sequence Types (`list`, `str`, `tuple`, and `range`)\n",
    "> 2. Some Non-Sequence Types (`dict`)"
   ]
  },
  {
   "cell_type": "markdown",
   "metadata": {},
   "source": [
    "__Helpful Points:__\n",
    "1. Iterables are used in any situation where a sequence is needed such as `for` loops but also `zip()` and `map()` (see future lectures)\n",
    "2. To be used in a `for` loop, the `iterable` has to be passed into the built-in function `iter()`, which returns an iterator for the object (which allows you to pass over the object once)\n",
    "3. However, the `for` loop will take care of making an `iterator` for you and you can just pass in the `iterable` object without calling the `iter()` function "
   ]
  },
  {
   "cell_type": "markdown",
   "metadata": {},
   "source": [
    "### 1.1.4 Iterator Definition in Python "
   ]
  },
  {
   "cell_type": "markdown",
   "metadata": {},
   "source": [
    "__Overview:__\n",
    "- We are almost ready to look at `for` loops, however there is one last concept to cover so we can understand what is happening \"behind the scenes\" in a `for` loop when we pass an `iterable` object and somehow the object is \"magically\" iterated over\n",
    "- The reason this \"magic\" happens is because of the concept of an __[Iterator](https://docs.python.org/3/tutorial/classes.html#iterators)__ \n",
    "- An Iterator is an object as well that has a very special and important method (or capability) - that is, to execute the \"[next](https://docs.python.org/3/library/stdtypes.html#iterator.__next__)\" function \n",
    "- This \"next\" function accesses elements in a sequence, one at a time and when there are no more elements, the function tells the `for` loop to terminate \n",
    "\n",
    "__Helpful Points:__\n",
    "1. The reason why we don't have to worry about the conversion from an `iterable` object into an `iterator`, is because the `for` loop inner structure performs this conversion for us \n",
    "\n",
    "__Practice:__ Examples of Iterable, Iterator and Next Concepts in Python "
   ]
  },
  {
   "cell_type": "markdown",
   "metadata": {},
   "source": [
    "### Example 1 (Iterable Objects):"
   ]
  },
  {
   "cell_type": "code",
   "execution_count": null,
   "metadata": {},
   "outputs": [],
   "source": [
    "# this will allow us to check if an object is iterable (don't worry about this for now - we will cover modules later)\n",
    "from collections import Iterable"
   ]
  },
  {
   "cell_type": "code",
   "execution_count": null,
   "metadata": {},
   "outputs": [],
   "source": [
    "# check if list is iterable\n",
    "my_list = [1, 2, 3]\n",
    "print(isinstance(my_list, Iterable))"
   ]
  },
  {
   "cell_type": "code",
   "execution_count": null,
   "metadata": {},
   "outputs": [],
   "source": [
    "# check if string is iterable\n",
    "my_str = \"Clark\"\n",
    "print(isinstance(my_str, Iterable))"
   ]
  },
  {
   "cell_type": "code",
   "execution_count": null,
   "metadata": {},
   "outputs": [],
   "source": [
    "# check if tuple is iterable\n",
    "my_tuple = (1, 2, 3)\n",
    "print(isinstance(my_tuple, Iterable))"
   ]
  },
  {
   "cell_type": "code",
   "execution_count": null,
   "metadata": {},
   "outputs": [],
   "source": [
    "# check if range is iterable\n",
    "my_range = range(10)\n",
    "print(isinstance(my_range, Iterable))"
   ]
  },
  {
   "cell_type": "code",
   "execution_count": null,
   "metadata": {},
   "outputs": [],
   "source": [
    "# check if dict is iterable\n",
    "my_dict = {\"name\":\"Clark\", \"title\":\"Superhero\"}\n",
    "print(isinstance(my_dict, Iterable))"
   ]
  },
  {
   "cell_type": "code",
   "execution_count": null,
   "metadata": {},
   "outputs": [],
   "source": [
    "# check if set is iterable\n",
    "my_set = {1, 2, 3}\n",
    "print(isinstance(my_set, Iterable))"
   ]
  },
  {
   "cell_type": "markdown",
   "metadata": {},
   "source": [
    "### Example 2 (Iterator Object):"
   ]
  },
  {
   "cell_type": "code",
   "execution_count": null,
   "metadata": {},
   "outputs": [],
   "source": [
    "my_str = \"Clark\"\n",
    "my_str_iter = iter(my_str)\n",
    "print(my_str_iter)"
   ]
  },
  {
   "cell_type": "markdown",
   "metadata": {},
   "source": [
    "### Example 3 (Using Next Method on Iterator Object):"
   ]
  },
  {
   "cell_type": "code",
   "execution_count": null,
   "metadata": {},
   "outputs": [],
   "source": [
    "# access first element\n",
    "print(next(my_str_iter))"
   ]
  },
  {
   "cell_type": "code",
   "execution_count": null,
   "metadata": {},
   "outputs": [],
   "source": [
    "# access second element\n",
    "print(next(my_str_iter))"
   ]
  },
  {
   "cell_type": "code",
   "execution_count": null,
   "metadata": {},
   "outputs": [],
   "source": [
    "# access third element\n",
    "print(next(my_str_iter))"
   ]
  },
  {
   "cell_type": "code",
   "execution_count": null,
   "metadata": {},
   "outputs": [],
   "source": [
    "# access fourth element\n",
    "print(next(my_str_iter))"
   ]
  },
  {
   "cell_type": "code",
   "execution_count": null,
   "metadata": {},
   "outputs": [],
   "source": [
    "# access fifth element\n",
    "print(next(my_str_iter))"
   ]
  },
  {
   "cell_type": "code",
   "execution_count": null,
   "metadata": {},
   "outputs": [],
   "source": [
    "# access last element\n",
    "print(next(my_str_iter))"
   ]
  },
  {
   "cell_type": "markdown",
   "metadata": {},
   "source": [
    "We can see that by making the `str` object into an `iterator` object, we can perform the `next` method on it which accesses the elements (letter) of the string one at a time. "
   ]
  },
  {
   "cell_type": "markdown",
   "metadata": {},
   "source": [
    "### 1.1.5 For Loop in Detail"
   ]
  },
  {
   "cell_type": "markdown",
   "metadata": {},
   "source": [
    "__Overview:__\n",
    "- __[For Loop](https://en.wikipedia.org/wiki/For_loop):__ For loops are the most common type of loop used in Python and is used for repeating a task `n` number of times \n",
    "- The general format of a `for` loop is as follows:\n",
    "\n",
    "`for i in <sequence>:`<br>\n",
    " >    `<statement>` \n",
    " \n",
    "- The `for` loop can be expressed simply as: \"for each element in the sequence, execute this statement. Once the last item of the sequence is reached, exit the loop\"\n",
    "- For loops can also be expressed visually: <img src=\"img15.jpg\" width=250 height=250>"
   ]
  },
  {
   "cell_type": "markdown",
   "metadata": {},
   "source": [
    "- The `i` variable is assigned each element of the sequence, therefore it changes at each iteration\n",
    "- The `i` variables can be called any name you like, however by convention it is used for iterations like this (see [this](https://softwareengineering.stackexchange.com/questions/86904/why-do-most-of-us-use-i-as-a-loop-counter-variable) post for an interesting discussions of the reasons behind using variables like `i` and `j` in loops \n",
    "- The `i` variable DOES NOT need to be assigned outside the loop and it also exists after the loop is complete as whatever the last element of the sequence was (see examples below) \n",
    "- Recall that the `<sequence>` should be an `iterable` object\n",
    "\n",
    "__Helpful Points:__\n",
    "1. The `for` loop will continue iterating until the \"next\" method realizes that all the elements in the object have been accessed\n",
    "2. Therefore, the number of iterations of a `for` loop is known ahead of time and is equal to the number of elements in the sequence (or the output of the `len()` function)\n",
    "3. It is also possible (and common) to have a `for` loop inside another `for` loop - known as a __Nested Loop__\n",
    "\n",
    "__Practice:__ Examples of For Loops in Python "
   ]
  },
  {
   "cell_type": "markdown",
   "metadata": {},
   "source": [
    "### Example 1 (Loops with Strings):"
   ]
  },
  {
   "cell_type": "code",
   "execution_count": null,
   "metadata": {
    "scrolled": true
   },
   "outputs": [],
   "source": [
    "my_str = \"Clark\"\n",
    "num_letters = 0\n",
    "\n",
    "# for loop to print every letter in the string \n",
    "for letter in my_str:\n",
    "    print(letter)\n",
    "    # increment the counter to track the number of iterations\n",
    "    num_letters += 1\n",
    "    \n",
    "print(\"There are {} letters in {}\".format(num_letters, my_str))\n",
    "print(\"The last letter is '{}'\".format(letter))"
   ]
  },
  {
   "cell_type": "markdown",
   "metadata": {},
   "source": [
    "Interpretation:\n",
    "- The `for` loop in Example 1 can be interpreted as follows:\n",
    "> 1. Begin at the __0th__ element of the string __(\"C\")__, print this letter\n",
    "> 2. Increment `num_letters` by 1 (now, __`num_letters` = 1__)\n",
    "> 3. Return to the top of the `for` loop to check if all the elements have been accessed, they have not, so continue to the __1st__ element of the string __(\"l\")__, print this ltter\n",
    "> 4. Increment `num_letters` by 1 (now, __`num_letters` = 2__)\n",
    "> 5. Return to the top of the `for` loop to check if all the elements have been accessed, they have not, so continue to the __2nd__ element of the string __(\"a\")__, print this ltter\n",
    "> 6. Increment `num_letters` by 1 (now, __`num_letters` = 3__)\n",
    "> 7. Return to the top of the `for` loop to check if all the elements have been accessed, they have not, so continue to the __3rd__ element of the string __(\"r\")__, print this ltter\n",
    "> 8. Increment `num_letters` by 1 (now, __`num_letters` = 4__)\n",
    "> 9. Return to the top of the `for` loop to check if all the elements have been accessed, they have not, so continue to the __4th__ element of the string __(\"k\")__, print this ltter\n",
    "> 10. Increment `num_letters` by 1 (now, __`num_letters` = 5__)\n",
    "> 11. Return to the top of the `for` loop to check if all the elements have been accessed, they have , so exit the loop"
   ]
  },
  {
   "cell_type": "markdown",
   "metadata": {},
   "source": [
    "Notes:\n",
    "1. Recall that the `letter` variable can be defined with any name \n",
    "2. The `letter` variable is assigned a different value after each iteration (i.e. after the first iteration, it is assigned \"C\", after the second iteration, it is assigned \"l\", etc.) \n",
    "3. The `num_letters` was used as a __counter__ variable to keep track of the number of iterations. After each iteration, it is incremented by 1 "
   ]
  },
  {
   "cell_type": "code",
   "execution_count": null,
   "metadata": {},
   "outputs": [],
   "source": [
    "my_str_1 = \"Clark and Bruce are both superheroes\"\n",
    "\n",
    "# for loop to print every word in a sentence\n",
    "for word in my_str_1.split():\n",
    "    print(word)"
   ]
  },
  {
   "cell_type": "markdown",
   "metadata": {},
   "source": [
    "### Example 2 (Loops with Lists):"
   ]
  },
  {
   "cell_type": "code",
   "execution_count": null,
   "metadata": {},
   "outputs": [],
   "source": [
    "my_list = [1, 54, 2, 500]\n",
    "my_sum = 0\n",
    "\n",
    "# for loop to calculate the sum of all numbers in a list \n",
    "for num in my_list:\n",
    "    my_sum += num\n",
    "    \n",
    "print(my_sum)"
   ]
  },
  {
   "cell_type": "code",
   "execution_count": null,
   "metadata": {},
   "outputs": [],
   "source": [
    "my_list_1 = [2, 4, 5, 6, 8, 9, 10]\n",
    "even_nums = 0\n",
    "odd_nums = 0\n",
    "\n",
    "# for loop to calculate the number of even and odd numbers in a list\n",
    "for num in my_list_1:\n",
    "    if num % 2: # recall the ways that Python interprets False (in this case, if the remainder is 0, this is considered false)\n",
    "        odd_nums += 1\n",
    "    else:\n",
    "        even_nums += 1\n",
    "\n",
    "print(\"The number of even numbers are {} and the number of odd numbers are {}\".format(even_nums, odd_nums))"
   ]
  },
  {
   "cell_type": "markdown",
   "metadata": {},
   "source": [
    "### Example 3 (Loops with Ranges):"
   ]
  },
  {
   "cell_type": "code",
   "execution_count": null,
   "metadata": {},
   "outputs": [],
   "source": [
    "# for loop to print all the even numbers from 0 to 20\n",
    "for i in range(0, 21, 2):\n",
    "    print(i)"
   ]
  },
  {
   "cell_type": "code",
   "execution_count": null,
   "metadata": {},
   "outputs": [],
   "source": [
    "int_sum = 0\n",
    "\n",
    "# for loop to calculate the sum of integers from 1 to 999\n",
    "for i in range(1, 1000):\n",
    "    int_sum += i\n",
    "\n",
    "print(int_sum)"
   ]
  },
  {
   "cell_type": "markdown",
   "metadata": {},
   "source": [
    "### Example 4 (Loops with Dictionaries):\n",
    "\n",
    "- Recall that although dictionaries are unordered (they are not sequences), we can still access their keys, values and items\n",
    "- Therefore, we can easily loop through dictionaries keys, values and items "
   ]
  },
  {
   "cell_type": "code",
   "execution_count": null,
   "metadata": {},
   "outputs": [],
   "source": [
    "my_dict = {\"First_Name\":\"Clark\", \"Last_Name\":\"Kent\", \"City\":\"Metropolis\", \"Country\":\"United States\"}"
   ]
  },
  {
   "cell_type": "markdown",
   "metadata": {},
   "source": [
    "### Example 4.1 (Loops with Dictionary Keys):"
   ]
  },
  {
   "cell_type": "code",
   "execution_count": null,
   "metadata": {},
   "outputs": [],
   "source": [
    "# using the keys method directly \n",
    "for key in my_dict.keys():\n",
    "    print(key)"
   ]
  },
  {
   "cell_type": "code",
   "execution_count": null,
   "metadata": {},
   "outputs": [],
   "source": [
    "# using the keys method indirectly \n",
    "for key in my_dict:\n",
    "    print(key)"
   ]
  },
  {
   "cell_type": "markdown",
   "metadata": {},
   "source": [
    "### Example 4.2 (Loops with Dictionary Values):"
   ]
  },
  {
   "cell_type": "code",
   "execution_count": null,
   "metadata": {},
   "outputs": [],
   "source": [
    "for value in my_dict.values():\n",
    "    print(value)"
   ]
  },
  {
   "cell_type": "markdown",
   "metadata": {},
   "source": [
    "### Example 4.3 (Loops with Dictionary Items):"
   ]
  },
  {
   "cell_type": "code",
   "execution_count": null,
   "metadata": {},
   "outputs": [],
   "source": [
    "for item in my_dict.items():\n",
    "    print(item)"
   ]
  },
  {
   "cell_type": "code",
   "execution_count": null,
   "metadata": {},
   "outputs": [],
   "source": [
    "# We can use unpacking of items into two variables (key, value) to iterate over the items and extract the keys and values at every iteration\n",
    "for key, value in my_dict.items():\n",
    "    print(\"{} : {}\".format(key, value))"
   ]
  },
  {
   "cell_type": "markdown",
   "metadata": {},
   "source": [
    "### Example 5 (Nested For Loop):"
   ]
  },
  {
   "cell_type": "code",
   "execution_count": null,
   "metadata": {},
   "outputs": [],
   "source": [
    "# use a nested for loop to extract every element of a nested list \n",
    "my_nested_list = [[\"a\", \"b\", \"c\"], [1, 2, 3], [\"d\", \"e\", \"f\"]]\n",
    "for interior_list in my_nested_list:\n",
    "    for element in interior_list:\n",
    "        print(element)"
   ]
  },
  {
   "cell_type": "markdown",
   "metadata": {},
   "source": [
    "### Problem 1\n",
    "\n",
    "Write a program to calculate the maximum value of a list: `[3, 36, 154, 2, 145]` \n",
    "\n",
    "- You should use a `for` loop in your answer\n",
    "- You should use an `if` statement in your answer\n",
    "- Do not use any built-in Python functions\n",
    "- Print the maximum value of the list at the end of your program"
   ]
  },
  {
   "cell_type": "code",
   "execution_count": null,
   "metadata": {},
   "outputs": [],
   "source": [
    "# Write your code here\n",
    "\n",
    "\n",
    "\n"
   ]
  },
  {
   "cell_type": "markdown",
   "metadata": {},
   "source": [
    "### 1.1.6 While Loop in Detail "
   ]
  },
  {
   "cell_type": "markdown",
   "metadata": {},
   "source": [
    "__Overview:__\n",
    "- __[While Loop](https://en.wikipedia.org/wiki/While_loop):__ While loops are not quite as common as `for` loops but are still helpful for executing a task repeatedly until the condition is evaluated as `False` \n",
    "- The general format of a `while` loop is as follows:\n",
    "\n",
    "`while <condition is True>:`<br>\n",
    " >    `<statement>` \n",
    " \n",
    "- The `while` loop can be expressed simply as: \"while the condition is TRUE, execute the statement. If the condition is evaluated as FALSE, exit the loop\"\n",
    "- Unlike `for` loops, a sequence is not required to iterate over (making `while` loops more general and less restrictive than `for` loops)\n",
    "- In `while` loops, you wish to repeat a task until an exit condition is met \n",
    "- While loops can also be expressed visually: <img src=\"img16.jpg\" width=400 height=400>"
   ]
  },
  {
   "cell_type": "markdown",
   "metadata": {},
   "source": [
    "- Any condition in Python that can be interpreted as Boolean Value can be used in the `<condition>` part of the statement \n",
    "- Recall the possible objects that Python interprets as `False` and therefore, the converse being interpreted as `True`\n",
    "\n",
    "__Helpful Points:__\n",
    "1. The `while` loop will continue iterating until the `<condition>` is evaluated as `False` \n",
    "2. Therefore, the number of iterations of a `while` loop is not always known ahead of time, but it is equal to the number of iterations until the exit condition was met \n",
    "3. Be careful of an __[Infinite Loop](https://en.wikipedia.org/wiki/Infinite_loop)__ which is a loop that never reaches its stopping condition (see example 4 below)\n",
    "\n",
    "__Practice:__ Examples of While Loops in Python "
   ]
  },
  {
   "cell_type": "markdown",
   "metadata": {},
   "source": [
    "### Example 1 (Illustrative Example of While Loop in Python)\n",
    "\n",
    "- Suppose you were living in Chicago and getting ready to brace the cold winter. One would say: \"While the internal body temperature is \"low\", add a layer to increase internal temperature.\"\n",
    "- We can express this scenario in the `while` loop fashion:\n",
    "\n",
    "`while internal temperature is low`:\n",
    ">    `add a layer to increase internal temperature`\n",
    "\n",
    "- We can make this example concrete and numerical and assume that internal temperature should be maintained at 98 degrees F and every layer we add, we increase our body temperature by 1 degree "
   ]
  },
  {
   "cell_type": "code",
   "execution_count": null,
   "metadata": {},
   "outputs": [],
   "source": [
    "internal_temperature = 93\n",
    "layers = 0\n",
    "while internal_temperature < 98:\n",
    "    print(\"internal temperature is at {}, so add a layer\".format(internal_temperature))\n",
    "    internal_temperature += 1\n",
    "    layers += 1\n",
    "\n",
    "print(\"internal temperature is now at {} and we added {} layers\".format(internal_temperature, layers))"
   ]
  },
  {
   "cell_type": "markdown",
   "metadata": {},
   "source": [
    "Interpretation:\n",
    "- The `while` loop in Example 1 can be interpreted as follows:\n",
    "> 1. Check if `internal_temperature` is < 98. This is true, so print statement, increment `internal_temperature` (now, `internal_temperature` = __94__, increment layers (now, `layers` = __1__)\n",
    "> 2. Check if `internal_temperature` is < 98. This is true, so print statement, increment `internal_temperature` (now, `internal_temperature` = __95__, increment layers (now, `layers` = __2__)\n",
    "> 3. Check if `internal_temperature` is < 98. This is true, so print statement, increment `internal_temperature` (now, `internal_temperature` = __96__, increment layers (now, `layers` = __3__)\n",
    "> 4. Check if `internal_temperature` is < 98. This is true, so print statement, increment `internal_temperature` (now, `internal_temperature` = __97__, increment layers (now, `layers` = __4__)\n",
    "> 5. Check if `internal_temperature` is < 98. This is true, so print statement, increment `internal_temperature` (now, `internal_temperature` = __98__, increment layers (now, `layers` = __5__)\n",
    "> 6. Check if `internal_temperature` is < 98. This is false, so exit the loop."
   ]
  },
  {
   "cell_type": "markdown",
   "metadata": {},
   "source": [
    "Notes:\n",
    "1. Unlike `for` loops, `while` loops do not increment variables for you\n",
    "2. If you would like to increment a variable, you must do it manually like the example above "
   ]
  },
  {
   "cell_type": "markdown",
   "metadata": {},
   "source": [
    "### Example 2 (While Loop - Known Iterations):"
   ]
  },
  {
   "cell_type": "code",
   "execution_count": null,
   "metadata": {},
   "outputs": [],
   "source": [
    "# using an empty list to define the stopping condition\n",
    "my_list = [\"C\", \"l\", \"a\", \"r\", \"k\"]\n",
    "while my_list:\n",
    "    list_len = len(my_list)\n",
    "    del my_list[list_len-1:]\n",
    "    print(my_list)"
   ]
  },
  {
   "cell_type": "code",
   "execution_count": null,
   "metadata": {},
   "outputs": [],
   "source": [
    "# using a zero to define the stopping condition\n",
    "start = 10\n",
    "while start:\n",
    "    start -= 1\n",
    "    print(start)"
   ]
  },
  {
   "cell_type": "markdown",
   "metadata": {},
   "source": [
    "### Example 3 (While Loop - Unknown Iterations):"
   ]
  },
  {
   "cell_type": "code",
   "execution_count": null,
   "metadata": {},
   "outputs": [],
   "source": [
    "# ignore this for now, we will explore modules below. We are just loading some additional capabilities in that is not built in Python\n",
    "import random"
   ]
  },
  {
   "cell_type": "code",
   "execution_count": null,
   "metadata": {},
   "outputs": [],
   "source": [
    "# keep choosing a number randomly from a range of 0 - 9 until you get a 2\n",
    "num_save = int()\n",
    "num_iter = 0\n",
    "goal = 2\n",
    "\n",
    "while num_save != goal:\n",
    "    num_save = random.sample(range(10), 1)[0] # randomly select a number and save as int \n",
    "    print(num_save)\n",
    "    num_iter += 1\n",
    "\n",
    "print(\"It took {} iteration(s) to get a {}\".format(num_iter, goal))"
   ]
  },
  {
   "cell_type": "markdown",
   "metadata": {},
   "source": [
    "Interpretation:\n",
    "- At each iteration, we check if the number chosen is equal to a 2\n",
    "- If the number randomly chosen is not equal to a 2, print the number and increment the number of iterations\n",
    "- If the number randomly chosen is equal to a 2, exit the loop"
   ]
  },
  {
   "cell_type": "markdown",
   "metadata": {},
   "source": [
    "Notes:\n",
    "1. Try running the cell above multiple times and you will notice you get a different number of iterations every time. Therefore, we don't know ahead of time how many iterations this `while` loop will have "
   ]
  },
  {
   "cell_type": "markdown",
   "metadata": {},
   "source": [
    "### Example 4 (Infinite Loop):"
   ]
  },
  {
   "cell_type": "code",
   "execution_count": null,
   "metadata": {},
   "outputs": [],
   "source": [
    "# if you run this, it will never end \n",
    "#a = 1\n",
    "#while a > 0:\n",
    "#    print(\"a is still greater than 0\")"
   ]
  },
  {
   "cell_type": "markdown",
   "metadata": {},
   "source": [
    "In the above example, the stopping condition (`a > 0`) is never met since `a = 1`. Therefore, the `while` loop will continue iterating forever...\n",
    "\n",
    "- Run this cell above, but stop it after a few seconds by clicking the \"stop\" button which interrupts the Kernel"
   ]
  },
  {
   "cell_type": "markdown",
   "metadata": {},
   "source": [
    "### 1.1.7 Other Concepts in Loops:"
   ]
  },
  {
   "cell_type": "markdown",
   "metadata": {},
   "source": [
    "__Overview:__\n",
    "- The last concept required to program loops in Python are the built-in statements that allow more advanced control of loops (both `for` and `while` loops)\n",
    "- There are 4 \"advanced control statements\" in Python:\n",
    "> 1. __[break](https://docs.python.org/2/reference/simple_stmts.html#break):__ Break statements allow you to \"exit\" the loop before the condition is actually met. The `break` statement will break out of the innermost enclosing `for` or `while` loop, skipping the optional `else` clause (if present)\n",
    "> 2. __[continue](https://docs.python.org/2/reference/simple_stmts.html#continue):__ Continue statements continues to the next iteration of the loop \n",
    "> 3. __[pass](https://docs.python.org/2/reference/simple_stmts.html#pass):__ Pass statements don't do anything, but are used when a statement is used syntactically (required for the program to run), but the program requires no action. Pass statements are also used as placeholders \n",
    "> 4. __[else](https://docs.python.org/2/reference/compound_stmts.html#else):__ Else statements can be used in loops in a slightly similar fashion as they are used in If Statements. A loop's `else` clause runs when no `break` occurs. Therefore, an `else` clause actually resembles more of a `try` and `except` clause which will be discussed later. \n",
    "\n",
    "__Helpful Points:__\n",
    "1. These statements allow you to have more control over the body of your loops (i.e. stop the loop pre-maturely, skip over an iteration, etc.)\n",
    "2. These statements work in both `for` and `while` loops\n",
    "\n",
    "__Practice:__ Examples of using Advanced Control Statements in Python "
   ]
  },
  {
   "cell_type": "markdown",
   "metadata": {},
   "source": [
    "### Example 1 (Using `break` statements):\n",
    "\n",
    "- See a visual representation of a `break` statement <img src=\"img17.jpg\" width=300 height=300>"
   ]
  },
  {
   "cell_type": "code",
   "execution_count": null,
   "metadata": {},
   "outputs": [],
   "source": [
    "# loop to find the first even number in a list \n",
    "my_list = [1,3,5,7,9,10,11,12]\n",
    "i = 0\n",
    "for num in my_list:\n",
    "    if num % 2 == 0:\n",
    "        print(\"First even number is: {}\".format(num))\n",
    "        break # exits the entire for loop and prints the statement outside the loop\n",
    "    i += 1\n",
    "print(\"The first even number occurred at the index {}\".format(i)) "
   ]
  },
  {
   "cell_type": "markdown",
   "metadata": {},
   "source": [
    "In the above example, the loop terminates as soon as it finds an even number, which happens to be at the 5th index. Therefore, the remaining elements of the list are not reached (i.e. 6th and 7th elements) "
   ]
  },
  {
   "cell_type": "code",
   "execution_count": null,
   "metadata": {},
   "outputs": [],
   "source": [
    "# loop to find the non-prime numbers and print their first divisible number \n",
    "for i in range(2, 10):\n",
    "    for x in range(2, i):\n",
    "        if i % x == 0:\n",
    "            print(\"{} is non-prime since it is divisible by {} (i.e. {} equals {} * {})\".format(i, x, i, x, int(i/x)))\n",
    "            break # exits the innermost loop and continues the next iteration of the outermost loop"
   ]
  },
  {
   "cell_type": "markdown",
   "metadata": {},
   "source": [
    "In the above example, the `break` is executed when a number is divisible by another number. However, it only exits the innermost loop and does not exit the outermost loop. Therefore, the outer loop (`for i in range(2,10)`) is still executed for the remaining iterations. "
   ]
  },
  {
   "cell_type": "markdown",
   "metadata": {},
   "source": [
    "### Example 2 (Using `continue` statements):\n",
    "\n",
    "- See a visual representation of a `continue` statement <img src=\"img18.jpg\" width=300 height=300>"
   ]
  },
  {
   "cell_type": "code",
   "execution_count": null,
   "metadata": {},
   "outputs": [],
   "source": [
    "# loop to count the number of 2's in a list \n",
    "my_list = [2,2,4,4,2,2,2,4,5,5]\n",
    "counter = 0\n",
    "i = 0\n",
    "for num in my_list:\n",
    "    i += 1\n",
    "    if num == 2:\n",
    "        counter += 1\n",
    "        print(\"2 was found at iteration {}\".format(i))\n",
    "        continue # continue to the next iteration\n",
    "    print(\"2 was not found at iteration {}\".format(i))\n",
    "\n",
    "print(\"\\n\")\n",
    "print(\"In total, there were {} 2's found\".format(counter))"
   ]
  },
  {
   "cell_type": "markdown",
   "metadata": {},
   "source": [
    "In the above example, the `continue` statement is executed which forces the program to immediately return to the top of the loop and peform the next iteration without executing any additional statements below it. "
   ]
  },
  {
   "cell_type": "code",
   "execution_count": null,
   "metadata": {},
   "outputs": [],
   "source": [
    "# loop to decrement and print all numbers, indicating if the number is even or not \n",
    "start = 11\n",
    "while start:\n",
    "    start -= 1\n",
    "    if start % 2 == 0:\n",
    "        print(\"{} is even\".format(start))\n",
    "        continue # continue to the next iteration \n",
    "    print(start)"
   ]
  },
  {
   "cell_type": "markdown",
   "metadata": {},
   "source": [
    "### Example 3 (Using `pass` statements):"
   ]
  },
  {
   "cell_type": "code",
   "execution_count": null,
   "metadata": {},
   "outputs": [],
   "source": [
    "a = 2\n",
    "while a > 3:\n",
    "    pass # does nothing "
   ]
  },
  {
   "cell_type": "markdown",
   "metadata": {},
   "source": [
    "In the above example, the `pass` statement does nothing, but is syntactically required, otherwise the program can not be interpreted. "
   ]
  },
  {
   "cell_type": "code",
   "execution_count": null,
   "metadata": {},
   "outputs": [],
   "source": [
    "a = 2\n",
    "while a > 3:\n",
    "    # write code here!\n",
    "    pass # acts as a placeholder"
   ]
  },
  {
   "cell_type": "markdown",
   "metadata": {},
   "source": [
    "In the above example, the `pass` statement does nothing. Instead, it is acting as a placeholder for the programmer to return to the program at a later time and implement some code. "
   ]
  },
  {
   "cell_type": "markdown",
   "metadata": {},
   "source": [
    "### Example 4 (Using `else` statements) (OPTIONAL):"
   ]
  },
  {
   "cell_type": "code",
   "execution_count": null,
   "metadata": {},
   "outputs": [],
   "source": [
    "# loop to find the prime and non-prime numbers \n",
    "for i in range(2, 10):\n",
    "    for x in range(2, i):\n",
    "        if i % x == 0:\n",
    "            print(\"{} is non-prime since it is divisible by {} (i.e. {} equals {} * {})\".format(i, x, i, x, i/x))\n",
    "            break # exits the innermost loop and continues the next iteration of the outermost loop\n",
    "    else:\n",
    "        print(\"{} is a prime number\".format(i))"
   ]
  },
  {
   "cell_type": "markdown",
   "metadata": {},
   "source": [
    "In the above example, the `else` clause of the innermost `for` loop is only executed if the `break` statement is NOT executed in the `if i % x == 0` statement. Since the `break` statement is only NOT executed (and consequently, the else statement IS executed) if the innermost loop completes the sequence without any number from `2` to `i` being divisible by, we know the number `i` has to be a prime number. "
   ]
  },
  {
   "cell_type": "markdown",
   "metadata": {},
   "source": [
    "### Problem 2\n",
    "\n",
    "Write a program to find and print the duplicates in the following list `[1,3,3,4,5,6,6]`. Store the duplicate values in a new list and print this new list. \n",
    "- You may need to use an \"If-Else Statement\" in your answer\n",
    "- You may want to leverage the `set()` type (recall its purpose from Lecture 2)\n",
    "- Ensure your program works properly by changing the list with one that has only unique elements"
   ]
  },
  {
   "cell_type": "code",
   "execution_count": null,
   "metadata": {},
   "outputs": [],
   "source": [
    "# Write your code here\n",
    "\n",
    "\n",
    "\n"
   ]
  },
  {
   "cell_type": "markdown",
   "metadata": {},
   "source": [
    "### 1.1.8 Advanced Mechanisms for Loops in Python: "
   ]
  },
  {
   "cell_type": "markdown",
   "metadata": {},
   "source": [
    "__Overview:__\n",
    "- You now know everything you need to in order to perform all looping tasks in Python \n",
    "- However, there exists some additional functionality in Python that allows loops to be written in a cleaner and more efficient fashion\n",
    "- Python has 2 additional ways to perform loops:\n",
    "> 1. Using the built-in function `enumerate`\n",
    "> 2. Using the external set of functions `itertools`\n",
    "\n",
    "__Helpful Points:__\n",
    "1. These methods are not required and are advanced, so they are by no means necessary to understand and use on Day 1, so don't worry if you are still just getting used to the basic mechanisms for loops in Python explained above "
   ]
  },
  {
   "cell_type": "markdown",
   "metadata": {},
   "source": [
    "### 1.1.8.1 Using Built-In Functions (`enumerate`)"
   ]
  },
  {
   "cell_type": "markdown",
   "metadata": {},
   "source": [
    "__Overview:__\n",
    "- The __[`enumerate`](https://docs.python.org/3/library/functions.html#enumerate)__ function's main benefit is that it allows you to loop over a sequence and have an automatic counter\n",
    "- Recall all the times in the above examples when we had to manually define counters outside the loop and then increment the counter in the loop. Enumerate function aims to fix this \n",
    "\n",
    "__Helpful Points:__\n",
    "1. The function accepts two parameters: `enumerate(iterable, start=0)`, therfore the first argument is required to be an `iterable` object and the second argument indicates what the counter should begin at \n",
    "2. The `enumerate` function outputs a `tuple` object which contains 2 elements: 1. the `count` and 2. the value \n",
    "\n",
    "__Practice:__ Examples of using Enumerate function in Python "
   ]
  },
  {
   "cell_type": "markdown",
   "metadata": {},
   "source": [
    "### Example 1 (Perform Similar Action without Enumerate):\n",
    "\n",
    "- Without using `enumerate`, we choose one of two options: \n",
    "> 1. Iterate based on contents of the sequence -> returns the contents \n",
    "> 2. Iterate based on an integer and index the sequence by the integer to access the contents -> returns the index \n",
    "\n",
    "- BUT, if we wanted to iterate and return BOTH 1 (the contents) and 2 (index), we would need to MANUALLY return both (see example 1.3)"
   ]
  },
  {
   "cell_type": "markdown",
   "metadata": {},
   "source": [
    "### Example 1.1 (Iterate based on Contents):"
   ]
  },
  {
   "cell_type": "code",
   "execution_count": null,
   "metadata": {},
   "outputs": [],
   "source": [
    "our_list = ['Clark', 'Kent', 'Bruce', 'Wayne','Lex']\n",
    "for content in our_list:\n",
    "    print(content)"
   ]
  },
  {
   "cell_type": "markdown",
   "metadata": {},
   "source": [
    "This method gives us the contents BUT does not return the index (0, 1, 2, 3, 4)"
   ]
  },
  {
   "cell_type": "markdown",
   "metadata": {},
   "source": [
    "### Example 1.2 (Iterate based on Index):"
   ]
  },
  {
   "cell_type": "code",
   "execution_count": null,
   "metadata": {},
   "outputs": [],
   "source": [
    "our_list = ['Clark', 'Kent', 'Bruce', 'Wayne','Lex']\n",
    "for i in range(len(our_list)):\n",
    "    print(i)"
   ]
  },
  {
   "cell_type": "markdown",
   "metadata": {},
   "source": [
    "### Example 1.3 (Return both Contents and Index):"
   ]
  },
  {
   "cell_type": "code",
   "execution_count": null,
   "metadata": {},
   "outputs": [],
   "source": [
    "our_list = ['Clark', 'Kent', 'Bruce', 'Wayne','Lex']\n",
    "for i in range(len(our_list)):\n",
    "    print(i, our_list[i])"
   ]
  },
  {
   "cell_type": "markdown",
   "metadata": {},
   "source": [
    "### Example 2 (Perform Action with Enumerate):\n",
    "\n",
    "- By using `enumerate`, we are able to return BOTH the contents and the index "
   ]
  },
  {
   "cell_type": "code",
   "execution_count": null,
   "metadata": {},
   "outputs": [],
   "source": [
    "our_list = ['Clark', 'Kent', 'Bruce', 'Wayne','Lex']\n",
    "for counter, value in enumerate(our_list): # start counter at default value of 0\n",
    "    print(\"The counter is {} and the value is {}\".format(counter, value))"
   ]
  },
  {
   "cell_type": "code",
   "execution_count": null,
   "metadata": {},
   "outputs": [],
   "source": [
    "our_list = ['Clark', 'Kent', 'Bruce', 'Wayne','Lex']\n",
    "for counter, value in enumerate(our_list, 10): # start counter at value of 10\n",
    "    print(\"The counter is {} and the value is {}\".format(counter, value))"
   ]
  },
  {
   "cell_type": "markdown",
   "metadata": {},
   "source": [
    "### 1.1.8.2 Using External Functions (`itertools` Module) (OPTIONAL)"
   ]
  },
  {
   "cell_type": "markdown",
   "metadata": {},
   "source": [
    "__Overview:__\n",
    "- The [`itertools`](https://docs.python.org/3/library/itertools.html) suite of functions allows us to perform advanced iteration in an efficient manner\n",
    "- The `itertools` suite does not come built-into Python, so we have to \"load\" in the suite of functions using an `import` command (explained later)\n",
    "- The function implements a number of `iterators` for our use \n",
    "- The `iterators` can be broken down into 3 categories:\n",
    "> 1. __Infinite Iterators__ (`count()`, `cycle()`, `repeat()`). Infinite iterators refer to iterators that when you use them, you will need to manually exit them using a `break` statement, otherwise you will end up in an __infinite loop__ \n",
    "> 2. __Finite Iterators__ (`accumulate()`, `groupby()`, `chain()`, `islice()`, etc.) Finite iterators refer to iterators that when you use them, you will not need to manually exit them using a `break` statement. They will terminate on the shortest input sequence\n",
    "> 3. __Combinatoric Iterators__ (`combinations()`, `permutations()`, etc.) \n",
    "\n",
    "__Helpful Points:__\n",
    "1. These tools are intended for advanced iteration so ensure you understand the basic concepts of loops first \n",
    "2. See [this](https://www.blog.pythonlibrary.org/2016/04/20/python-201-an-intro-to-itertools/) helpful post which covers many examples of using `itertools()` functions in practice\n",
    "\n",
    "__Practice:__ Examples of using functions in `itertools()` module in Python "
   ]
  },
  {
   "cell_type": "markdown",
   "metadata": {},
   "source": [
    "### Part 1 (Infinite Iterators):"
   ]
  },
  {
   "cell_type": "markdown",
   "metadata": {},
   "source": [
    "### Example 1.1 (Using [`count()`](https://docs.python.org/3/library/itertools.html#itertools.count)):\n",
    "- `count` iterator will return evenly spaced values starting with the number you pass in as the `start` parameter\n",
    "- Operates very similar to `range()`, but without the `stop` parameter\n",
    "- The general format is `count(start=0, step=1)`"
   ]
  },
  {
   "cell_type": "code",
   "execution_count": null,
   "metadata": {},
   "outputs": [],
   "source": [
    "# since the suite of functions are external, we have to \"load\" them in \n",
    "from itertools import count \n",
    "for i in count(10,2): # iterator starts at 10 with no end point (infinite iterator)\n",
    "    # manual stopping condition\n",
    "    if i == 20:\n",
    "        break\n",
    "    else:\n",
    "        print(i)"
   ]
  },
  {
   "cell_type": "markdown",
   "metadata": {},
   "source": [
    "### Example 1.2 (Using [`cycle()`](https://docs.python.org/3/library/itertools.html#itertools.cycle)):\n",
    "- `cycle` iterator cycles through a series of values indefinitely\n",
    "- The `cycle` iterator operates on an `iterable`"
   ]
  },
  {
   "cell_type": "code",
   "execution_count": null,
   "metadata": {},
   "outputs": [],
   "source": [
    "# since the suite of functions are external, we have to \"load\" them in \n",
    "from itertools import cycle\n",
    "num_iter = 0\n",
    "for sign in cycle([-1,1]): # iterator will cycle between -1 and 1 \n",
    "    # manual stopping condition \n",
    "    if num_iter > 10:\n",
    "        break\n",
    "    print(2 * sign)\n",
    "    num_iter += 1"
   ]
  },
  {
   "cell_type": "markdown",
   "metadata": {},
   "source": [
    "### Example 1.3 (Using [`repeat()`](https://docs.python.org/3/library/itertools.html#itertools.repeat)):\n",
    "- `repeat` iterator will return an object over and over again unless you specify the number of times to repeat for\n",
    "- The general format is `repeat(object, times)`"
   ]
  },
  {
   "cell_type": "code",
   "execution_count": null,
   "metadata": {},
   "outputs": [],
   "source": [
    "# since the suite of functions are external, we have to \"load\" them in \n",
    "from itertools import repeat\n",
    "num_iter = 0\n",
    "for num in repeat(5):\n",
    "    # manual stopping condition \n",
    "    if num_iter == 5:\n",
    "        break\n",
    "    print(num)\n",
    "    num_iter += 1"
   ]
  },
  {
   "cell_type": "code",
   "execution_count": null,
   "metadata": {},
   "outputs": [],
   "source": [
    "for num in repeat(5,5):\n",
    "    print(num)"
   ]
  },
  {
   "cell_type": "markdown",
   "metadata": {},
   "source": [
    "### Part 2 (Finite Iterators):"
   ]
  },
  {
   "cell_type": "markdown",
   "metadata": {},
   "source": [
    "### Example 2.1 (Using [`accumulate()`](https://docs.python.org/3/library/itertools.html#itertools.accumulate)):\n",
    "- `accumulate` iterator returns accumulated sums or whatever the function that is passed in \n",
    "- Functions that can be used include `min()`, `max()`, `mul()`, `sum()`, etc. "
   ]
  },
  {
   "cell_type": "code",
   "execution_count": null,
   "metadata": {},
   "outputs": [],
   "source": [
    "# since the suite of functions are external, we have to \"load\" them in \n",
    "from itertools import accumulate\n",
    "import operator\n",
    "data = [5,6,1,2,3,0]"
   ]
  },
  {
   "cell_type": "code",
   "execution_count": null,
   "metadata": {},
   "outputs": [],
   "source": [
    "# accumulated sum (5, 5+6=11, 11+1=12, 12+2=14, 14+3=17, 17+0=17)\n",
    "list(accumulate(data))"
   ]
  },
  {
   "cell_type": "code",
   "execution_count": null,
   "metadata": {},
   "outputs": [],
   "source": [
    "# accumulated product (5, 5*6=30, 30*1=30, 30*2=60, 60*3=180, 180*0=0)\n",
    "list(accumulate(data, operator.mul))"
   ]
  },
  {
   "cell_type": "code",
   "execution_count": null,
   "metadata": {},
   "outputs": [],
   "source": [
    "# accumulated max\n",
    "list(accumulate(data, max))"
   ]
  },
  {
   "cell_type": "code",
   "execution_count": null,
   "metadata": {},
   "outputs": [],
   "source": [
    "# accumulated min\n",
    "list(accumulate(data, min))"
   ]
  },
  {
   "cell_type": "markdown",
   "metadata": {},
   "source": [
    "### Example 2.2 (Using [`chain`](https://docs.python.org/3/library/itertools.html#itertools.chain)):\n",
    "- `chain` iterator returns elements from the first iterable until it is exhausted, then proceeds to the next iterable, until all of the iterables are exhausted \n",
    "- `chain` is used to trest consecutive sequences as a single sequence "
   ]
  },
  {
   "cell_type": "code",
   "execution_count": null,
   "metadata": {},
   "outputs": [],
   "source": [
    "# since the suite of functions are external, we have to \"load\" them in \n",
    "from itertools import chain"
   ]
  },
  {
   "cell_type": "code",
   "execution_count": null,
   "metadata": {},
   "outputs": [],
   "source": [
    "list(chain([1,2,3], [\"a\", \"b\", \"c\"]))"
   ]
  },
  {
   "cell_type": "markdown",
   "metadata": {},
   "source": [
    "The `chain` function essentially \"flattened\" the sequence of sequences that was passed in. First, it returned elements from the first iterable (a list containing `[1,2,3]`), then proceeded to the next iterable (a list containing `[\"a\", \"b\", \"c\"]`). It then stopped there since all of the iterables were exhausted. "
   ]
  },
  {
   "cell_type": "markdown",
   "metadata": {},
   "source": [
    "### Example 2.3 (Using [`islice`](https://docs.python.org/3/library/itertools.html#itertools.islice)):\n",
    "- `islice` iterator returns selected elements from the iterable that is passed in \n",
    "- The general form is `islice(iterable, start, stop, step)`\n",
    "- Notice, similar to slicing with sequences in Python, some of the arguments can be ommitted and Python will infer what to do\n",
    "- Notice, similar to slicing with sequences in Python, `start` is set to default 0 and `step` is set to default 1\n",
    "- If no `stop` is given, the __next__ method will continue until the end of the sequence "
   ]
  },
  {
   "cell_type": "code",
   "execution_count": null,
   "metadata": {},
   "outputs": [],
   "source": [
    "# since the suite of functions are external, we have to \"load\" them in \n",
    "from itertools import islice\n",
    "my_string = \"Clark\""
   ]
  },
  {
   "cell_type": "code",
   "execution_count": null,
   "metadata": {},
   "outputs": [],
   "source": [
    "for i in islice(my_string, 3): # start = 0, stop = 3, step = 1\n",
    "    print(i)"
   ]
  },
  {
   "cell_type": "code",
   "execution_count": null,
   "metadata": {},
   "outputs": [],
   "source": [
    "for i in islice(my_string, 0, None, 2): # start = 0, stop = None, step = 2\n",
    "    print(i)"
   ]
  },
  {
   "cell_type": "code",
   "execution_count": null,
   "metadata": {},
   "outputs": [],
   "source": [
    "for i in islice(my_string, 2, 4): # start = 2, stop = 4, step = 1\n",
    "    print(i)"
   ]
  },
  {
   "cell_type": "markdown",
   "metadata": {},
   "source": [
    "### Part 3 (Combinatoric Iterators):"
   ]
  },
  {
   "cell_type": "markdown",
   "metadata": {},
   "source": [
    "### Example 3.1 (Using [`combinations`](https://docs.python.org/3/library/itertools.html#itertools.combinations)):\n",
    "- `combinations` iterator allows you to generate all the possible __[combinations](https://en.wikipedia.org/wiki/Combination)__ of `n` sequences of the iterable that is passed in \n",
    "- The output of the `combinations` iterator is a `tuple`"
   ]
  },
  {
   "cell_type": "code",
   "execution_count": null,
   "metadata": {},
   "outputs": [],
   "source": [
    "# since the suite of functions are external, we have to \"load\" them in \n",
    "from itertools import combinations"
   ]
  },
  {
   "cell_type": "code",
   "execution_count": null,
   "metadata": {},
   "outputs": [],
   "source": [
    "for combo in combinations(\"KENT\", 2):\n",
    "    print(combo)"
   ]
  },
  {
   "cell_type": "markdown",
   "metadata": {},
   "source": [
    "### Example 3.2 (Using [`permutations`](https://docs.python.org/3/library/itertools.html#itertools.permutations)):\n",
    "- `permutations` iterator allows you to generate all the possible __[permutations](https://en.wikipedia.org/wiki/Permutation)__ of `n` sequences of the iterable that is passed in \n",
    "- The output of the `permutation` iterator is a tuple "
   ]
  },
  {
   "cell_type": "code",
   "execution_count": null,
   "metadata": {},
   "outputs": [],
   "source": [
    "# since the suite of functions are external, we have to \"load\" them in \n",
    "from itertools import permutations"
   ]
  },
  {
   "cell_type": "code",
   "execution_count": null,
   "metadata": {},
   "outputs": [],
   "source": [
    "for combo in permutations(\"KENT\", 2):\n",
    "    print(combo)"
   ]
  },
  {
   "cell_type": "markdown",
   "metadata": {},
   "source": [
    "# ANSWERS"
   ]
  },
  {
   "cell_type": "markdown",
   "metadata": {},
   "source": [
    "### Problem 1\n",
    "\n",
    "Write a program to calculate the maximum value of a list: `[3, 36, 154, 2, 145]` \n",
    "\n",
    "- You should use a `for` loop in your answer\n",
    "- You should use an `if` statement in your answer\n",
    "- Do not use any built-in Python functions\n",
    "- Print the maximum value of the list at the end of your program"
   ]
  },
  {
   "cell_type": "code",
   "execution_count": null,
   "metadata": {},
   "outputs": [],
   "source": [
    "my_list = [3, 36, 154, 2, 145]\n",
    "\n",
    "max_num = my_list[0]\n",
    "for num in my_list:\n",
    "    if num > max_num:\n",
    "        max_num = num\n",
    "        \n",
    "print(max_num)"
   ]
  },
  {
   "cell_type": "markdown",
   "metadata": {},
   "source": [
    "### Problem 2\n",
    "\n",
    "Write a program to find and print the duplicates in the following list `[1,3,3,4,5,6,6]`. Store the duplicate values in a new list and print this new list. \n",
    "- You may need to use an \"If-Else Statement\" in your answer\n",
    "- You may want to leverage the `set()` type \n",
    "- Ensure your program works properly by changing the list with one that has only unique elements"
   ]
  },
  {
   "cell_type": "code",
   "execution_count": null,
   "metadata": {},
   "outputs": [],
   "source": [
    "my_list = [1,3,3,4,5,6,6] # test 1\n",
    "# my_list = [1,3,4,5,6] # test 2\n",
    "new_list = set()\n",
    "\n",
    "for i in my_list:\n",
    "    if my_list.count(i) >= 2:\n",
    "        print(\"{} is a duplicate\".format(i))\n",
    "        new_list.add(i)\n",
    "    else:\n",
    "        print(\"{} is not a duplicate\".format(i))\n",
    "\n",
    "print(list(new_list))"
   ]
  },
  {
   "cell_type": "code",
   "execution_count": null,
   "metadata": {},
   "outputs": [],
   "source": []
  }
 ],
 "metadata": {
  "kernelspec": {
   "display_name": "Python 3",
   "language": "python",
   "name": "python3"
  },
  "language_info": {
   "codemirror_mode": {
    "name": "ipython",
    "version": 3
   },
   "file_extension": ".py",
   "mimetype": "text/x-python",
   "name": "python",
   "nbconvert_exporter": "python",
   "pygments_lexer": "ipython3",
   "version": "3.8.6"
  },
  "toc": {
   "base_numbering": 1,
   "nav_menu": {},
   "number_sections": false,
   "sideBar": true,
   "skip_h1_title": false,
   "title_cell": "Table of Contents",
   "title_sidebar": "Contents",
   "toc_cell": false,
   "toc_position": {},
   "toc_section_display": true,
   "toc_window_display": true
  }
 },
 "nbformat": 4,
 "nbformat_minor": 2
}
