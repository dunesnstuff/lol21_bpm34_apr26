{
 "cells": [
  {
   "cell_type": "markdown",
   "metadata": {},
   "source": [
    "# Exercises: Loops"
   ]
  },
  {
   "cell_type": "markdown",
   "metadata": {},
   "source": [
    "## For the following list [3, 5, 7, 9, 2, 8]\n",
    "\n",
    "A) Using for loops write code that calculates the product of each element with its index and adds it together.  For example, $3*0 + 5*1 + 7*2 ... = 94$\n",
    "\n",
    "B) Using a while loop, keep looping through the list until it finds the element that squared is equal to 81.\n",
    "\n",
    "C) Repeat B using for loops.\n",
    "\n",
    "D) Using for loop create a new list that contains the same elements in the list plus 2.  It should produce a new list with [5, 7, 9, 11, 4, 10]"
   ]
  },
  {
   "cell_type": "code",
   "execution_count": null,
   "metadata": {},
   "outputs": [],
   "source": [
    "my_list = [3, 5, 7, 9, 2, 8]\n",
    "\n",
    "# A\n",
    "result = 0\n",
    "\n",
    "for i, val in enumerate(my_list):\n",
    "    product = i*val\n",
    "    result += product\n",
    "    \n",
    "print(result)"
   ]
  },
  {
   "cell_type": "code",
   "execution_count": null,
   "metadata": {},
   "outputs": [],
   "source": [
    "# B\n",
    "value = my_list[0]**2\n",
    "index = 0\n",
    "\n",
    "while value != 81:\n",
    "    index += 1\n",
    "    value = my_list[index]**2\n",
    "\n",
    "print(index, my_list[index])"
   ]
  },
  {
   "cell_type": "code",
   "execution_count": null,
   "metadata": {},
   "outputs": [],
   "source": [
    "# C\n",
    "for i, val in enumerate(my_list):\n",
    "    if val**2 == 81:\n",
    "        break\n",
    "        \n",
    "print(i,val)"
   ]
  },
  {
   "cell_type": "code",
   "execution_count": null,
   "metadata": {},
   "outputs": [],
   "source": [
    "# D\n",
    "new_list = []\n",
    "\n",
    "for i in my_list:\n",
    "    new_list.append(i+2)\n",
    "    \n",
    "print(new_list)"
   ]
  },
  {
   "cell_type": "markdown",
   "metadata": {},
   "source": [
    "## Fix the following codes:"
   ]
  },
  {
   "cell_type": "code",
   "execution_count": null,
   "metadata": {},
   "outputs": [],
   "source": [
    "#### A - creates all pairs of combinations for the numbers 0 thru 4.  i.e. (0,1),(0,2),(0,3),(0,4),(1,2)...\n",
    "for i in range(5):\n",
    "    for j in range(i+1,5):\n",
    "        print((i,j))"
   ]
  },
  {
   "cell_type": "code",
   "execution_count": null,
   "metadata": {},
   "outputs": [],
   "source": [
    "#### B - add all the elements in the list and prints out the total (in this example it prints 6)\n",
    "my_list = ['1','2','3']\n",
    "temp = 0\n",
    "\n",
    "for i in my_list:\n",
    "    temp += int(i)\n",
    "\n",
    "print(temp)"
   ]
  },
  {
   "cell_type": "code",
   "execution_count": null,
   "metadata": {},
   "outputs": [],
   "source": []
  }
 ],
 "metadata": {
  "kernelspec": {
   "display_name": "Python 3",
   "language": "python",
   "name": "python3"
  },
  "language_info": {
   "codemirror_mode": {
    "name": "ipython",
    "version": 3
   },
   "file_extension": ".py",
   "mimetype": "text/x-python",
   "name": "python",
   "nbconvert_exporter": "python",
   "pygments_lexer": "ipython3",
   "version": "3.7.3"
  },
  "toc": {
   "base_numbering": 1,
   "nav_menu": {},
   "number_sections": true,
   "sideBar": true,
   "skip_h1_title": false,
   "title_cell": "Table of Contents",
   "title_sidebar": "Contents",
   "toc_cell": false,
   "toc_position": {},
   "toc_section_display": true,
   "toc_window_display": true
  }
 },
 "nbformat": 4,
 "nbformat_minor": 2
}
