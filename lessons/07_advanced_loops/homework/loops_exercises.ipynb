{
 "cells": [
  {
   "cell_type": "markdown",
   "metadata": {},
   "source": [
    "# Exercises: Loops"
   ]
  },
  {
   "cell_type": "markdown",
   "metadata": {},
   "source": [
    "## For the following list [3, 5, 7, 9, 2, 8]\n",
    "\n",
    "A) Using for loops write code that calculates the product of each element with its index and adds it together.  For example, $3*0 + 5*1 + 7*2 ... = 94$\n",
    "\n",
    "B) Using a while loop, keep looping through the list until it finds the element that squared is equal to 81.\n",
    "\n",
    "C) Repeat B using for loops.\n",
    "\n",
    "D) Using for loop create a new list that contains the same elements in the list plus 2.  It should produce a new list with [5, 7, 9, 11, 4, 10]"
   ]
  },
  {
   "cell_type": "code",
   "execution_count": null,
   "metadata": {},
   "outputs": [],
   "source": [
    "\n",
    "# A\n"
   ]
  },
  {
   "cell_type": "code",
   "execution_count": null,
   "metadata": {},
   "outputs": [],
   "source": [
    "# B\n"
   ]
  },
  {
   "cell_type": "code",
   "execution_count": null,
   "metadata": {},
   "outputs": [],
   "source": [
    "# C\n"
   ]
  },
  {
   "cell_type": "code",
   "execution_count": null,
   "metadata": {},
   "outputs": [],
   "source": [
    "# D\n"
   ]
  },
  {
   "cell_type": "markdown",
   "metadata": {},
   "source": [
    "## Fix the following codes:"
   ]
  },
  {
   "cell_type": "code",
   "execution_count": null,
   "metadata": {},
   "outputs": [],
   "source": [
    "#### A - creates all pairs of combinations for the numbers 0 thru 4.  i.e. (0,1),(0,2),(0,3),(0,4),(1,2)...\n",
    "for i in range(5)\n",
    "    for j in range(i+1,5)\n",
    "        print()"
   ]
  },
  {
   "cell_type": "code",
   "execution_count": null,
   "metadata": {},
   "outputs": [],
   "source": [
    "#### B - add all the elements in the list and prints out the total (in this example it prints 6)\n",
    "my_list = ['1','2','3']\n",
    "temp = 0\n",
    "\n",
    "for i in my_list:\n",
    "    pass\n",
    "\n",
    "print(temp)"
   ]
  }
 ],
 "metadata": {
  "kernelspec": {
   "display_name": "Python 3",
   "language": "python",
   "name": "python3"
  },
  "language_info": {
   "codemirror_mode": {
    "name": "ipython",
    "version": 3
   },
   "file_extension": ".py",
   "mimetype": "text/x-python",
   "name": "python",
   "nbconvert_exporter": "python",
   "pygments_lexer": "ipython3",
   "version": "3.6.8"
  },
  "toc": {
   "base_numbering": 1,
   "nav_menu": {},
   "number_sections": true,
   "sideBar": true,
   "skip_h1_title": false,
   "title_cell": "Table of Contents",
   "title_sidebar": "Contents",
   "toc_cell": false,
   "toc_position": {},
   "toc_section_display": true,
   "toc_window_display": true
  }
 },
 "nbformat": 4,
 "nbformat_minor": 2
}
