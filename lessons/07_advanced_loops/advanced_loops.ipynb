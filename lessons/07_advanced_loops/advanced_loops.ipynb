{
 "cells": [
  {
   "cell_type": "markdown",
   "metadata": {},
   "source": [
    "# Advanced Loops\n",
    "\n",
    "In this notebook we will: \n",
    "- Understand another type of `Loops` known as `while loops`\n",
    "- Work with `loop` operations such as _break_, _continue_ and _pass_"
   ]
  },
  {
   "cell_type": "markdown",
   "metadata": {},
   "source": [
    "### While loops\n",
    "\n",
    "What do you think the following code does?"
   ]
  },
  {
   "cell_type": "code",
   "execution_count": null,
   "metadata": {},
   "outputs": [],
   "source": [
    "number = 0\n",
    "while number<10:\n",
    "    number+=1\n",
    "    print(number)"
   ]
  },
  {
   "cell_type": "markdown",
   "metadata": {},
   "source": [
    "`While loops` and `for loops` are similar.  The difference is that in `for loops` we indicate _a priori_ the number of times the loop must occur, but in `while loops` we do not know the number of loops ahead of time."
   ]
  },
  {
   "cell_type": "markdown",
   "metadata": {},
   "source": [
    "With `while loops`, we need to be careful of creating __infinite__ loops as observed in the example below!"
   ]
  },
  {
   "cell_type": "code",
   "execution_count": null,
   "metadata": {},
   "outputs": [],
   "source": [
    "i = 0\n",
    "\n",
    "# the while loop below will never end\n",
    "\n",
    "# while i < 1:\n",
    "#     print(i)"
   ]
  },
  {
   "cell_type": "markdown",
   "metadata": {},
   "source": [
    "So when would we use a `for loop` versus a `while loop`?  Let's work through an example. "
   ]
  },
  {
   "cell_type": "markdown",
   "metadata": {},
   "source": [
    "### Exercise\n",
    "\n",
    "An investment pays 10% interest per year.  If I start with $10,\n",
    "\n",
    "1) How much money would I have after 20 years?\n",
    "\n",
    "2) In how many years would I have at least $30?\n",
    "\n",
    "__Note:__ Assume you reinvest the interest!\n",
    "\n",
    "For the two questions above, which one would require a `for loop` and a `while loop`?"
   ]
  },
  {
   "cell_type": "markdown",
   "metadata": {},
   "source": [
    "#### Part 1\n",
    "\n",
    "__How much money would I have after 20 years?__\n",
    "\n",
    "For the first question we want to apply a 10% interest 20 times.  Since we know that there are exactly 20 years, we can use a `for loop`."
   ]
  },
  {
   "cell_type": "code",
   "execution_count": null,
   "metadata": {},
   "outputs": [],
   "source": [
    "balance = 10\n",
    "\n",
    "for year in range(20):\n",
    "    balance *= 1.1\n",
    "    print(f'Year {year+1} we have ${round(balance,2)}')"
   ]
  },
  {
   "cell_type": "markdown",
   "metadata": {},
   "source": [
    "#### Part 2\n",
    "\n",
    "__In how many years would I have at least $30?__\n",
    "\n",
    "In the second question we want to keep applying the 10% interest as many times until we reach the $30 threshold.  In this case, we use a `while loop`."
   ]
  },
  {
   "cell_type": "code",
   "execution_count": null,
   "metadata": {
    "scrolled": true
   },
   "outputs": [],
   "source": [
    "balance = 10\n",
    "threshold = 30\n",
    "year = 0\n",
    "\n",
    "while balance < threshold:\n",
    "    balance *= 1.1\n",
    "    year +=1\n",
    "    print(f'Year {year} we have ${round(balance,2)}')"
   ]
  },
  {
   "cell_type": "markdown",
   "metadata": {},
   "source": [
    "### Break, Continue and Pass\n",
    "\n",
    "Both the `for loops` and `while loops` have statements that allows you to influence the way the program runs.  For example, when certain conditions are met you may want to exit a loop completely, skip part of the loop before continuing, or ignore a specific case.\n",
    "\n",
    "- `Break` statements allow you to \"exit\" the loop early. \n",
    "- `Continue` statements continues to the next iteration of the loop while skipping the next steps.\n",
    "- `Pass` statements do nothing, and are used as placeholders."
   ]
  },
  {
   "cell_type": "markdown",
   "metadata": {},
   "source": [
    "### Break Example\n",
    "\n",
    "Return the string once it encounters the first space (\" \"). For example \"Hello World\" should return \"Hello\"."
   ]
  },
  {
   "cell_type": "code",
   "execution_count": null,
   "metadata": {},
   "outputs": [],
   "source": [
    "text = \"Hello World\"\n",
    "new_text = \"\"\n",
    "\n",
    "for c in text:\n",
    "    if c == \" \":\n",
    "        break # breaks out of the for loop completely\n",
    "    new_text += c\n",
    "\n",
    "print(new_text)"
   ]
  },
  {
   "cell_type": "markdown",
   "metadata": {},
   "source": [
    "### Continue Example\n",
    "\n",
    "Remove the vowels from a string.  For example \"Hello World\" should return \"Hll Wrld\"."
   ]
  },
  {
   "cell_type": "code",
   "execution_count": null,
   "metadata": {},
   "outputs": [],
   "source": [
    "text = \"Hello World\"\n",
    "new_text = \"\"\n",
    "\n",
    "for c in text:\n",
    "    if c in 'aeiou':\n",
    "        continue # skips the rest of the for loop and continues with the next character\n",
    "    new_text += c\n",
    "\n",
    "print(new_text)"
   ]
  },
  {
   "cell_type": "markdown",
   "metadata": {},
   "source": [
    "### Pass Example"
   ]
  },
  {
   "cell_type": "code",
   "execution_count": null,
   "metadata": {},
   "outputs": [],
   "source": [
    "text = \"Hello World\"\n",
    "for c in text:\n",
    "    pass # need to write the code here.  If you comment out this line it errors."
   ]
  },
  {
   "cell_type": "markdown",
   "metadata": {},
   "source": [
    "### Exercise\n",
    "Below is a solution to our previous bank problem.  Let's add another feature: \n",
    "- If the balance goes below `$-75`, the bank does not let you do the transfer, and exits the loop."
   ]
  },
  {
   "cell_type": "code",
   "execution_count": null,
   "metadata": {},
   "outputs": [],
   "source": [
    "balance = 50\n",
    "list_transfers = [10, -100, -15, 30, 25]\n",
    "\n",
    "### Modify the code below\n",
    "for transfer in list_transfers:\n",
    "    balance += transfer\n",
    "    if balance < 0 and transfer < 0:\n",
    "        balance -= 20\n",
    "    print(f\"For a transfer of {transfer} the balance is {balance}\")\n",
    "\n",
    "print(f'The final balance is {balance}')"
   ]
  },
  {
   "cell_type": "code",
   "execution_count": null,
   "metadata": {},
   "outputs": [],
   "source": [
    "### ANSWER\n",
    "balance = 50\n",
    "list_transfers = [10, -100, -15, 30, 25]\n",
    "balance_limit = -75 # we add this variable\n",
    "\n",
    "for transfer in list_transfers:\n",
    "    balance += transfer    \n",
    "    if balance < 0 and transfer < 0:\n",
    "        balance -= 20\n",
    "    print(f\"For a transfer of {transfer} the balance is {balance}\")\n",
    "\n",
    "    #### if we go below the limit we re-add the transfer and if need be the fee\n",
    "    if balance < balance_limit:\n",
    "        balance -= transfer\n",
    "        if balance < 0 and transfer < 0:\n",
    "            balance += 20\n",
    "        print(f\"You have gone below the {balance_limit} limit\")\n",
    "        break\n",
    "    \n",
    "print(f'The final balance is {balance}')"
   ]
  },
  {
   "cell_type": "markdown",
   "metadata": {},
   "source": [
    "### Exercise\n",
    "Below is a solution to our previous bank problem.  Now let's add another feature: \n",
    "- The bank does not allow you to withdraw more than __$50__ per transfer.  If this occurs, the bank skips that transfer and continues with the remaining transfers."
   ]
  },
  {
   "cell_type": "code",
   "execution_count": null,
   "metadata": {},
   "outputs": [],
   "source": [
    "balance = 50\n",
    "list_transfers = [10, -100, -15, 30, 25]\n",
    "balance_limit = -75\n",
    "\n",
    "### Modify code below\n",
    "for transfer in list_transfers:\n",
    "    balance += transfer    \n",
    "    if balance < 0 and transfer < 0:\n",
    "        balance -= 20\n",
    "    print(f\"For a transfer of {transfer} the balance is {balance}\")\n",
    "\n",
    "    # if we go below the limit we re-add the transfer and if need be the fee\n",
    "    if balance < balance_limit:\n",
    "        balance -= transfer\n",
    "        if balance < 0 and transfer < 0:\n",
    "            balance += 20\n",
    "        print(f\"You have gone below the {balance_limit} limit\")\n",
    "        break\n",
    "    \n",
    "print(f'The final balance is {balance}')"
   ]
  },
  {
   "cell_type": "code",
   "execution_count": null,
   "metadata": {},
   "outputs": [],
   "source": [
    "### ANSWER\n",
    "balance = 50\n",
    "list_transfers = [10, -100, -15, 30, 25]\n",
    "balance_limit = -75\n",
    "withdrawal_limit = -50 # we add this variable\n",
    "\n",
    "for transfer in list_transfers:\n",
    "    #### we first check that the transfer is valid\n",
    "    if transfer < withdrawal_limit:\n",
    "        print(f\"Skipping the transfer of {transfer}\")\n",
    "        continue\n",
    "    \n",
    "    balance += transfer    \n",
    "    if balance < 0 and transfer < 0:\n",
    "        balance -= 20\n",
    "    print(f\"For a transfer of {transfer} the balance is {balance}\")\n",
    "\n",
    "    # if we go below the limit we re-add the transfer and if need be the fee\n",
    "    if balance < balance_limit:\n",
    "        balance -= transfer\n",
    "        if balance < 0 and transfer < 0:\n",
    "            balance += 20\n",
    "        print(f\"You have gone below the {balance_limit} limit\")\n",
    "        break\n",
    "    \n",
    "print(f'The final balance is {balance}')"
   ]
  },
  {
   "cell_type": "code",
   "execution_count": null,
   "metadata": {},
   "outputs": [],
   "source": []
  }
 ],
 "metadata": {
  "kernelspec": {
   "display_name": "Python 3",
   "language": "python",
   "name": "python3"
  },
  "language_info": {
   "codemirror_mode": {
    "name": "ipython",
    "version": 3
   },
   "file_extension": ".py",
   "mimetype": "text/x-python",
   "name": "python",
   "nbconvert_exporter": "python",
   "pygments_lexer": "ipython3",
   "version": "3.7.3"
  },
  "toc": {
   "base_numbering": 1,
   "nav_menu": {},
   "number_sections": false,
   "sideBar": true,
   "skip_h1_title": false,
   "title_cell": "Table of Contents",
   "title_sidebar": "Contents",
   "toc_cell": false,
   "toc_position": {},
   "toc_section_display": true,
   "toc_window_display": true
  }
 },
 "nbformat": 4,
 "nbformat_minor": 2
}
